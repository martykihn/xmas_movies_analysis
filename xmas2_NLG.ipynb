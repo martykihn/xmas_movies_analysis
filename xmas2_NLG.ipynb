{
 "cells": [
  {
   "cell_type": "code",
   "execution_count": 73,
   "metadata": {},
   "outputs": [],
   "source": [
    "import markovify\n",
    "# https://github.com/jsvine/markovify"
   ]
  },
  {
   "cell_type": "code",
   "execution_count": 74,
   "metadata": {},
   "outputs": [],
   "source": [
    "with open('text_newlines.txt') as f:\n",
    "    text = f.read()"
   ]
  },
  {
   "cell_type": "code",
   "execution_count": 75,
   "metadata": {},
   "outputs": [],
   "source": [
    "text_model = markovify.NewlineText(text)"
   ]
  },
  {
   "cell_type": "code",
   "execution_count": 77,
   "metadata": {},
   "outputs": [
    {
     "name": "stdout",
     "output_type": "stream",
     "text": [
      "Katie, a former professional ice skater, is hired to decorate it — Dave. The deal is off, but Dave convinces Noelle to let the life and rediscovers the true meaning of faith, family and old flame Clay, a local shop keeper, and handsome admirer Deputy Strode. Settling in nicely with her ex-boyfriend Jack, the show’s producer, the magic of Christmas. \n",
      "\n",
      "A wealthy and successful career woman gets a taste of small-town life and sets out to impress Victoria, the store’s owner, by creating the best place for a beloved neonatal intensive care unit supervisor, is forced together with Ben to care for a tropical Christmas get delayed when she unexpectedly finds herself drawn to Robert—even as Kip pursues her. \n",
      "\n",
      "Erin is planning the town’s Twelve Day Festival, that he might just be the man who is poised to play Scrooge by closing one of his mother’s popular annual Christmas scavenger hunt. \n",
      "\n",
      "Two separate stories mesh - in the millions, thanks to a remote town in love with Holly and learns a surprising lesson about love. \n",
      "\n",
      "Andy is forced together with Ben to care for a couple or risk being exposed as a venue. Elizabeth persuades the reluctant Darcy to let him carry on the Cookie Crawl competition. Eventually, she begins to open his heart and of family - single father Mark Green and his team to turn her luck around, rekindle her holiday single, she returns home for the Holidays on one amazing Christmas. \n",
      "\n"
     ]
    }
   ],
   "source": [
    "for i in range(5):\n",
    "    print(text_model.make_sentence(), \"\\n\")"
   ]
  },
  {
   "cell_type": "code",
   "execution_count": 78,
   "metadata": {},
   "outputs": [
    {
     "name": "stdout",
     "output_type": "stream",
     "text": [
      "An out-of-work New York unexpectedly falls in love all those years ago.\n",
      "A successful businesswoman, Mackenzie, inherits her beloved hometown, however, when the store owner who hosts the tree this Christmas, trying to avoid anything that will prove miracles really do happen.\n",
      "When architect and Christmas tree lot, she discovers a newfound fondness for the holidays. Eric turns to his widowed father.\n"
     ]
    }
   ],
   "source": [
    "for i in range(3):\n",
    "    print(text_model.make_short_sentence(280))"
   ]
  },
  {
   "cell_type": "code",
   "execution_count": 79,
   "metadata": {},
   "outputs": [
    {
     "name": "stdout",
     "output_type": "stream",
     "text": [
      "World-traveler Harper returns to her late mother’s house, she finds out that his interest is not jeopardized. \n",
      "\n",
      "A teenager has his Sitka Spruce tree chosen to be his girlfriend over Christmas so he can get any money. \n",
      "\n",
      "As Christina prepares her restaurant for its value, he sees this as the site of its Christmas Eve parade. This year’s audience for the job by Christmas Eve. With the Christmas Comet appears for the paper about the famous family in order to save the school and the unexpected power of love. \n",
      "\n",
      "When a driven doctor doesn't get the scoop on the prize of the Blues and dreams of making music again. \n",
      "\n",
      "Newly widowed Kathy plans to sell it right before Christmas, which would devastate an entire business around helping clients find the spirit of giving. But Santa Claus, as a fraud. \n",
      "\n"
     ]
    }
   ],
   "source": [
    "for i in range(5):\n",
    "    print(text_model.make_sentence(max_overlap_total=10),'\\n')"
   ]
  },
  {
   "cell_type": "code",
   "execution_count": 80,
   "metadata": {},
   "outputs": [
    {
     "name": "stdout",
     "output_type": "stream",
     "text": [
      "Sisters separated by a lifetime of misunderstanding and the triumph of love over wickedness. The story follows a young man abandoned by his death that they are a couple weeks before Christmas, Emily thinks this is her big city dreams of making music again. \n",
      "\n",
      "World-traveler Harper returns to Memphis to secure one of his secret. This is a high-heeled, high-maintenance Scrooge. This insensitive, self-centered and stingy woman is granted a wish by a new family and Luke, she starts to fall on her wedding with her high school sweetheart who helps Mackenzie rediscover the meaning of Christmas. \n",
      "\n",
      "Dr. Sharon Hayes searches for the possibility of holiday traditions together and find ways to make amends with his dads recent passing in a UFO. After an attack, he ends up providing some inspiration for the holidays, their lives are transformed by the king of San Senova, Alexander, to help the town of Angel Falls find its Christmas Eve day program. \n",
      "\n",
      "Eric Randall, an author of bachelor lifestyle books, is left in charge of his family’s sprawling, royal castle, she must live there for days through the holidays. \n",
      "\n",
      "Burned out from the man she loves. \n",
      "\n"
     ]
    }
   ],
   "source": [
    "for i in range(5):\n",
    "    print(text_model.make_sentence(max_overlap_ratio=0.5), '\\n')"
   ]
  },
  {
   "cell_type": "code",
   "execution_count": 83,
   "metadata": {},
   "outputs": [],
   "source": [
    "from keras.models import Sequential"
   ]
  },
  {
   "cell_type": "code",
   "execution_count": 84,
   "metadata": {},
   "outputs": [],
   "source": [
    "from keras.layers import Dense\n",
    "from keras.layers import Dropout\n",
    "from keras.layers import LSTM\n",
    "from keras.utils import np_utils"
   ]
  },
  {
   "cell_type": "code",
   "execution_count": 87,
   "metadata": {},
   "outputs": [],
   "source": [
    "text2 = text"
   ]
  },
  {
   "cell_type": "code",
   "execution_count": 91,
   "metadata": {},
   "outputs": [],
   "source": [
    "text2 = text2.lower()"
   ]
  },
  {
   "cell_type": "code",
   "execution_count": 92,
   "metadata": {},
   "outputs": [],
   "source": [
    "chars = sorted(list(set(text2)))"
   ]
  },
  {
   "cell_type": "code",
   "execution_count": 95,
   "metadata": {},
   "outputs": [],
   "source": [
    "import unicodedata\n",
    "import re"
   ]
  },
  {
   "cell_type": "code",
   "execution_count": 96,
   "metadata": {},
   "outputs": [],
   "source": [
    "text = (unicodedata.normalize('NFKD', text2)\n",
    "           .encode('ascii', 'ignore')\n",
    "           .decode('utf-8', 'ignore')\n",
    "           .lower())\n",
    "words = re.sub(r'[^\\w\\s]', '', text).split()"
   ]
  },
  {
   "cell_type": "code",
   "execution_count": 98,
   "metadata": {},
   "outputs": [],
   "source": [
    "words_joined = \" \".join(words)"
   ]
  },
  {
   "cell_type": "code",
   "execution_count": 99,
   "metadata": {},
   "outputs": [],
   "source": [
    "with open(\"text.txt\", \"w\") as text_file:\n",
    "    print(words_joined, file=text_file)"
   ]
  },
  {
   "cell_type": "code",
   "execution_count": 101,
   "metadata": {},
   "outputs": [],
   "source": [
    "text = text.replace(\"\\n\",\" \")"
   ]
  },
  {
   "cell_type": "code",
   "execution_count": 105,
   "metadata": {},
   "outputs": [],
   "source": [
    "text2 = text.split()"
   ]
  },
  {
   "cell_type": "code",
   "execution_count": 106,
   "metadata": {},
   "outputs": [],
   "source": [
    "text2 = \" \".join(text2)"
   ]
  },
  {
   "cell_type": "code",
   "execution_count": 108,
   "metadata": {},
   "outputs": [],
   "source": [
    "with open (\"text.txt\", \"w\") as text_file:\n",
    "    print(text2, file=text_file)"
   ]
  },
  {
   "cell_type": "code",
   "execution_count": 109,
   "metadata": {},
   "outputs": [],
   "source": [
    "text = text2"
   ]
  },
  {
   "cell_type": "code",
   "execution_count": 117,
   "metadata": {},
   "outputs": [],
   "source": [
    "text = (unicodedata.normalize('NFKD', text)\n",
    "           .encode('ascii', 'ignore')\n",
    "           .decode('utf-8', 'ignore')\n",
    "           .lower())\n",
    "words = re.sub(r'[^\\w\\s]', '', text).split()"
   ]
  },
  {
   "cell_type": "code",
   "execution_count": 118,
   "metadata": {},
   "outputs": [],
   "source": [
    "text = \" \".join(words)"
   ]
  },
  {
   "cell_type": "code",
   "execution_count": 119,
   "metadata": {},
   "outputs": [],
   "source": [
    "chars = sorted(list(set(text)))"
   ]
  },
  {
   "cell_type": "code",
   "execution_count": null,
   "metadata": {},
   "outputs": [],
   "source": [
    "###"
   ]
  },
  {
   "cell_type": "code",
   "execution_count": 122,
   "metadata": {},
   "outputs": [],
   "source": [
    "with open (\"text_nopunc.txt\", \"w\") as text_file:\n",
    "    print(text, file=text_file)"
   ]
  },
  {
   "cell_type": "code",
   "execution_count": 124,
   "metadata": {},
   "outputs": [],
   "source": [
    "n_to_char = {n:char for n, char in enumerate(chars)}\n",
    "char_to_n = {char:n for n, char in enumerate(chars)}"
   ]
  },
  {
   "cell_type": "code",
   "execution_count": 136,
   "metadata": {},
   "outputs": [],
   "source": [
    "X = []\n",
    "Y = []\n",
    "length = len(text)\n",
    "seq_length = 100"
   ]
  },
  {
   "cell_type": "code",
   "execution_count": 137,
   "metadata": {},
   "outputs": [],
   "source": [
    "for i in range(0, length - seq_length, 1):\n",
    "    sequence = text[i:i + seq_length]\n",
    "    label = text[i + seq_length]\n",
    "    X.append([char_to_n[char] for char in sequence])\n",
    "    Y.append(char_to_n[label])"
   ]
  },
  {
   "cell_type": "code",
   "execution_count": 138,
   "metadata": {},
   "outputs": [],
   "source": [
    "## check on Y - not sure"
   ]
  },
  {
   "cell_type": "code",
   "execution_count": 140,
   "metadata": {},
   "outputs": [],
   "source": [
    "X_modified = np.reshape(X, (len(X), seq_length, 1))"
   ]
  },
  {
   "cell_type": "code",
   "execution_count": 141,
   "metadata": {},
   "outputs": [],
   "source": [
    "X_modified = X_modified / float(len(chars))"
   ]
  },
  {
   "cell_type": "code",
   "execution_count": 143,
   "metadata": {},
   "outputs": [],
   "source": [
    "Y_modified = np_utils.to_categorical(Y)"
   ]
  },
  {
   "cell_type": "code",
   "execution_count": 145,
   "metadata": {},
   "outputs": [],
   "source": [
    "model = Sequential()"
   ]
  },
  {
   "cell_type": "code",
   "execution_count": 147,
   "metadata": {},
   "outputs": [],
   "source": [
    "model.add(LSTM(400, input_shape=(X_modified.shape[1], X_modified.shape[2]), return_sequences=True))"
   ]
  },
  {
   "cell_type": "code",
   "execution_count": 148,
   "metadata": {},
   "outputs": [],
   "source": [
    "model.add(Dropout(0.2))\n",
    "model.add(LSTM(400))\n",
    "model.add(Dropout(0.2))\n",
    "model.add(Dense(Y_modified.shape[1], activation='softmax'))"
   ]
  },
  {
   "cell_type": "code",
   "execution_count": 149,
   "metadata": {},
   "outputs": [],
   "source": [
    "model.compile(loss='categorical_crossentropy', optimizer='adam')"
   ]
  },
  {
   "cell_type": "code",
   "execution_count": 153,
   "metadata": {},
   "outputs": [],
   "source": [
    "## this all predicts the same letter 'm'"
   ]
  },
  {
   "cell_type": "code",
   "execution_count": 154,
   "metadata": {},
   "outputs": [
    {
     "name": "stdout",
     "output_type": "stream",
     "text": [
      "893/893 [==============================] - 884s 988ms/step - loss: 2.8533\n"
     ]
    }
   ],
   "source": [
    "model.fit(X_modified, Y_modified, epochs=1, batch_size=100)\n",
    "model.save_weights('baseline.h5')"
   ]
  },
  {
   "cell_type": "code",
   "execution_count": 155,
   "metadata": {},
   "outputs": [],
   "source": [
    "model.load_weights('baseline.h5')"
   ]
  },
  {
   "cell_type": "code",
   "execution_count": 158,
   "metadata": {},
   "outputs": [],
   "source": [
    "string_mapped = X[98]\n",
    "full_string = [n_to_char[value] for value in string_mapped]\n",
    "\n",
    "for i in range(400):\n",
    "    x = np.reshape(string_mapped,(1,len(string_mapped), 1))\n",
    "    x = x / float(len(chars))\n",
    "    \n",
    "    pred_index = np.argmax(model.predict(x, verbose=0))\n",
    "    seq = [n_to_char[value] for value in string_mapped]\n",
    "    full_string.append(n_to_char[pred_index])\n",
    "    \n",
    "    string_mapped.append(pred_index)\n",
    "    string_mapped = string_mapped[1:len(string_mapped)]"
   ]
  },
  {
   "cell_type": "code",
   "execution_count": 159,
   "metadata": {},
   "outputs": [
    {
     "data": {
      "text/plain": [
       "100"
      ]
     },
     "execution_count": 159,
     "metadata": {},
     "output_type": "execute_result"
    }
   ],
   "source": [
    "len(string_mapped)"
   ]
  },
  {
   "cell_type": "code",
   "execution_count": 160,
   "metadata": {},
   "outputs": [],
   "source": [
    "txt = \"\"\n",
    "for char in full_string:\n",
    "    txt = txt + char"
   ]
  },
  {
   "cell_type": "code",
   "execution_count": 161,
   "metadata": {},
   "outputs": [
    {
     "data": {
      "text/plain": [
       "' for an elderly widow while struggling to balance his career and family life he has recurring dreams the toe the toe the toe the toe the toe the toe the toe the toe the toe the toe the toe the toe the toe the toe the toe the toe the toe the toe the toe the toe the toe the toe the toe the toe the toe the toe the toe the toe the toe the toe the toe the toe the toe the toe the toe the toe the toe the toe the toe the toe the toe the toe the toe the toe the toe the toe the toe the toe the toe the toe'"
      ]
     },
     "execution_count": 161,
     "metadata": {},
     "output_type": "execute_result"
    }
   ],
   "source": [
    "txt"
   ]
  },
  {
   "cell_type": "code",
   "execution_count": 162,
   "metadata": {},
   "outputs": [],
   "source": [
    "#repetition due to complexities of model"
   ]
  },
  {
   "cell_type": "code",
   "execution_count": 165,
   "metadata": {},
   "outputs": [],
   "source": [
    "# this would take 100 x 20 mins = 33 hrs to run\n",
    "#model.fit(X_modified, Y_modified, epochs=100, batch_size=50)\n",
    "#model.save_weights('baseline2.h5')"
   ]
  },
  {
   "cell_type": "code",
   "execution_count": 166,
   "metadata": {},
   "outputs": [],
   "source": [
    "# explore more with topic modeling and sentiment\n",
    "# then markov chains\n",
    "# then AWS"
   ]
  },
  {
   "cell_type": "code",
   "execution_count": 167,
   "metadata": {},
   "outputs": [],
   "source": [
    "# compare text to normal movie summaries from previous proj?"
   ]
  },
  {
   "cell_type": "code",
   "execution_count": 168,
   "metadata": {},
   "outputs": [
    {
     "name": "stdout",
     "output_type": "stream",
     "text": [
      "Epoch 1/6\n",
      "1785/1785 [==============================] - 5803s 3s/step - loss: 2.2094\n",
      "Epoch 2/6\n",
      "1785/1785 [==============================] - 1087s 609ms/step - loss: 2.0262\n",
      "Epoch 3/6\n",
      "1785/1785 [==============================] - 1131s 634ms/step - loss: 1.8880\n",
      "Epoch 4/6\n",
      "1785/1785 [==============================] - 1062s 595ms/step - loss: 1.7785\n",
      "Epoch 5/6\n",
      "1785/1785 [==============================] - 1100s 616ms/step - loss: 1.6857\n",
      "Epoch 6/6\n",
      "1785/1785 [==============================] - 1087s 609ms/step - loss: 1.6000\n"
     ]
    }
   ],
   "source": [
    "model.fit(X_modified, Y_modified, epochs=6, batch_size=50)\n",
    "model.save_weights('baseline2.h5')"
   ]
  },
  {
   "cell_type": "code",
   "execution_count": 173,
   "metadata": {},
   "outputs": [],
   "source": [
    "model.load_weights('baseline2.h5')"
   ]
  },
  {
   "cell_type": "code",
   "execution_count": 174,
   "metadata": {},
   "outputs": [],
   "source": [
    "string_mapped = X[98]\n",
    "full_string = [n_to_char[value] for value in string_mapped]\n",
    "\n",
    "for i in range(400):\n",
    "    x = np.reshape(string_mapped,(1,len(string_mapped), 1))\n",
    "    x = x / float(len(chars))\n",
    "    \n",
    "    pred_index = np.argmax(model.predict(x, verbose=0))\n",
    "    seq = [n_to_char[value] for value in string_mapped]\n",
    "    full_string.append(n_to_char[pred_index])\n",
    "    \n",
    "    string_mapped.append(pred_index)\n",
    "    string_mapped = string_mapped[1:len(string_mapped)]"
   ]
  },
  {
   "cell_type": "code",
   "execution_count": 175,
   "metadata": {},
   "outputs": [],
   "source": [
    "txt = \"\"\n",
    "for char in full_string:\n",
    "    txt = txt + char"
   ]
  },
  {
   "cell_type": "code",
   "execution_count": 176,
   "metadata": {},
   "outputs": [
    {
     "data": {
      "text/plain": [
       "' for an elderly widow while struggling to balance his career and family life he has recurring dreams to be a seal east and the town of her life and the sown of her life and the sown of her life and the sown of her life and the sown of her life and the sown of her life and the sown of her life and the sown of her life and the sown of her life and the sown of her life and the sown of her life and the sown of her life and the sown of her life and the sown of her life and the sown of her life and the '"
      ]
     },
     "execution_count": 176,
     "metadata": {},
     "output_type": "execute_result"
    }
   ],
   "source": [
    "txt"
   ]
  },
  {
   "cell_type": "code",
   "execution_count": 179,
   "metadata": {},
   "outputs": [],
   "source": [
    "text_list = text.split()"
   ]
  },
  {
   "cell_type": "code",
   "execution_count": 181,
   "metadata": {},
   "outputs": [],
   "source": [
    "#latent dirichlet allocation topic modeling\n",
    "#this is 3 level hierarchical Bayesian model"
   ]
  },
  {
   "cell_type": "code",
   "execution_count": 2,
   "metadata": {},
   "outputs": [],
   "source": [
    "import numpy as np"
   ]
  },
  {
   "cell_type": "code",
   "execution_count": 3,
   "metadata": {},
   "outputs": [],
   "source": [
    "import pandas as pd"
   ]
  },
  {
   "cell_type": "code",
   "execution_count": 4,
   "metadata": {},
   "outputs": [],
   "source": [
    "import gensim"
   ]
  },
  {
   "cell_type": "code",
   "execution_count": 11,
   "metadata": {},
   "outputs": [],
   "source": [
    "f = open(\"text_nopunc.txt\", \"r+\")\n",
    "lines = f.readlines()"
   ]
  },
  {
   "cell_type": "code",
   "execution_count": 14,
   "metadata": {},
   "outputs": [],
   "source": [
    "lines = \"\".join(lines)"
   ]
  },
  {
   "cell_type": "code",
   "execution_count": 17,
   "metadata": {},
   "outputs": [],
   "source": [
    "text_list = lines.split()"
   ]
  },
  {
   "cell_type": "code",
   "execution_count": 19,
   "metadata": {},
   "outputs": [],
   "source": [
    "from gensim import corpora"
   ]
  },
  {
   "cell_type": "code",
   "execution_count": 21,
   "metadata": {},
   "outputs": [
    {
     "data": {
      "text/plain": [
       "list"
      ]
     },
     "execution_count": 21,
     "metadata": {},
     "output_type": "execute_result"
    }
   ],
   "source": [
    "type(text_list)"
   ]
  },
  {
   "cell_type": "code",
   "execution_count": 22,
   "metadata": {},
   "outputs": [],
   "source": [
    "import nltk"
   ]
  },
  {
   "cell_type": "code",
   "execution_count": 23,
   "metadata": {},
   "outputs": [],
   "source": [
    "from nltk.tokenize import sent_tokenize, word_tokenize"
   ]
  },
  {
   "cell_type": "code",
   "execution_count": 24,
   "metadata": {},
   "outputs": [],
   "source": [
    "from nltk.stem.wordnet import WordNetLemmatizer"
   ]
  },
  {
   "cell_type": "code",
   "execution_count": 25,
   "metadata": {},
   "outputs": [
    {
     "name": "stdout",
     "output_type": "stream",
     "text": [
      "[nltk_data] Downloading package wordnet to\n",
      "[nltk_data]     /Users/martinkihn/nltk_data...\n",
      "[nltk_data]   Package wordnet is already up-to-date!\n",
      "[nltk_data] Downloading package stopwords to\n",
      "[nltk_data]     /Users/martinkihn/nltk_data...\n",
      "[nltk_data]   Package stopwords is already up-to-date!\n"
     ]
    }
   ],
   "source": [
    "wordnet_lemmatizer = WordNetLemmatizer()\n",
    "nltk.download('wordnet')\n",
    "from nltk.corpus import stopwords\n",
    "nltk.download('stopwords')\n",
    "stop = set(stopwords.words('english'))"
   ]
  },
  {
   "cell_type": "code",
   "execution_count": 26,
   "metadata": {},
   "outputs": [],
   "source": [
    "import string\n",
    "exclude = set(string.punctuation)"
   ]
  },
  {
   "cell_type": "code",
   "execution_count": 27,
   "metadata": {},
   "outputs": [],
   "source": [
    "text = \" \".join(text_list)"
   ]
  },
  {
   "cell_type": "code",
   "execution_count": 29,
   "metadata": {},
   "outputs": [],
   "source": [
    "# remove stopwords & lemmatize\n",
    "stop_free = \" \".join([i for i in text.split() if i not in stop])"
   ]
  },
  {
   "cell_type": "code",
   "execution_count": 31,
   "metadata": {},
   "outputs": [],
   "source": [
    "# lemmatize\n",
    "normalized = \" \".join(wordnet_lemmatizer.lemmatize(word) for word in stop_free.split())"
   ]
  },
  {
   "cell_type": "code",
   "execution_count": 32,
   "metadata": {},
   "outputs": [],
   "source": [
    "doc_clean = normalized.split()"
   ]
  },
  {
   "cell_type": "code",
   "execution_count": 34,
   "metadata": {},
   "outputs": [
    {
     "data": {
      "text/plain": [
       "list"
      ]
     },
     "execution_count": 34,
     "metadata": {},
     "output_type": "execute_result"
    }
   ],
   "source": [
    "type(doc_clean)"
   ]
  },
  {
   "cell_type": "code",
   "execution_count": 35,
   "metadata": {},
   "outputs": [
    {
     "data": {
      "text/plain": [
       "8883"
      ]
     },
     "execution_count": 35,
     "metadata": {},
     "output_type": "execute_result"
    }
   ],
   "source": [
    "len(doc_clean)"
   ]
  },
  {
   "cell_type": "code",
   "execution_count": 39,
   "metadata": {},
   "outputs": [],
   "source": [
    "string_clean = \" \".join(doc_clean)"
   ]
  },
  {
   "cell_type": "code",
   "execution_count": 41,
   "metadata": {},
   "outputs": [],
   "source": [
    "string_clean_tokenized = word_tokenize(string_clean)"
   ]
  },
  {
   "cell_type": "code",
   "execution_count": 45,
   "metadata": {},
   "outputs": [],
   "source": [
    "doc_clean = string_clean_tokenized"
   ]
  },
  {
   "cell_type": "code",
   "execution_count": 36,
   "metadata": {},
   "outputs": [],
   "source": [
    "# this is the LDA analysis starting here using lemmatized list"
   ]
  },
  {
   "cell_type": "code",
   "execution_count": 47,
   "metadata": {},
   "outputs": [],
   "source": [
    "# didn't work because I didn't keep plots as separate docs\n",
    "# try again - assuming all above libraries are imported"
   ]
  },
  {
   "cell_type": "code",
   "execution_count": 48,
   "metadata": {},
   "outputs": [],
   "source": [
    "data = []\n",
    "with open('text_newlines.txt',\"r\") as myfile:\n",
    "    for line in myfile:\n",
    "        line = line.replace('\\n', '')\n",
    "        if line == '':\n",
    "            continue\n",
    "        else:\n",
    "            data.append(str(line))\n",
    "myfile.close()"
   ]
  },
  {
   "cell_type": "code",
   "execution_count": 49,
   "metadata": {},
   "outputs": [],
   "source": [
    "import string\n",
    "exclude = set(string.punctuation)"
   ]
  },
  {
   "cell_type": "code",
   "execution_count": 50,
   "metadata": {},
   "outputs": [],
   "source": [
    "def clean(doc):\n",
    "        stop_free = \" \".join([i for i in doc.lower().split() if i not in stop])\n",
    "        punc_free = \"\".join(ch for ch in stop_free if ch not in exclude)\n",
    "        normalized = \" \".join(wordnet_lemmatizer.lemmatize(word) for word in punc_free.split())\n",
    "        return normalized"
   ]
  },
  {
   "cell_type": "code",
   "execution_count": 51,
   "metadata": {},
   "outputs": [],
   "source": [
    "doc_clean = [clean(line).split() for line in data]"
   ]
  },
  {
   "cell_type": "code",
   "execution_count": 53,
   "metadata": {},
   "outputs": [],
   "source": [
    "import gensim\n",
    "from gensim import corpora\n",
    "dictionary = corpora.Dictionary(doc_clean)"
   ]
  },
  {
   "cell_type": "code",
   "execution_count": 55,
   "metadata": {},
   "outputs": [],
   "source": [
    "doc_term_matrix = [dictionary.doc2bow(doc) for doc in doc_clean]"
   ]
  },
  {
   "cell_type": "code",
   "execution_count": 57,
   "metadata": {},
   "outputs": [],
   "source": [
    "Lda = gensim.models.ldamodel.LdaModel"
   ]
  },
  {
   "cell_type": "code",
   "execution_count": 58,
   "metadata": {},
   "outputs": [],
   "source": [
    "#fit model with matrix for 20 topics\n",
    "ldamodel = Lda(doc_term_matrix, num_topics=20, id2word=dictionary, passes=50)"
   ]
  },
  {
   "cell_type": "code",
   "execution_count": 59,
   "metadata": {},
   "outputs": [
    {
     "name": "stdout",
     "output_type": "stream",
     "text": [
      "Topic: 0 Word: 0.018*\"christmas\" + 0.011*\"family\" + 0.011*\"get\" + 0.007*\"life\" + 0.007*\"town\" + 0.007*\"dad\" + 0.007*\"holiday\" + 0.007*\"farm\" + 0.007*\"laura\" + 0.006*\"take\"\n",
      "Topic: 1 Word: 0.034*\"christmas\" + 0.015*\"family\" + 0.013*\"help\" + 0.008*\"town\" + 0.007*\"new\" + 0.007*\"day\" + 0.007*\"two\" + 0.007*\"get\" + 0.007*\"find\" + 0.007*\"santa\"\n",
      "Topic: 2 Word: 0.027*\"christmas\" + 0.009*\"holiday\" + 0.008*\"time\" + 0.008*\"season\" + 0.007*\"life\" + 0.007*\"new\" + 0.007*\"help\" + 0.006*\"father\" + 0.006*\"family\" + 0.006*\"find\"\n",
      "Topic: 3 Word: 0.028*\"christmas\" + 0.015*\"holiday\" + 0.011*\"family\" + 0.011*\"jack\" + 0.007*\"new\" + 0.006*\"life\" + 0.006*\"spirit\" + 0.006*\"home\" + 0.006*\"meet\" + 0.006*\"young\"\n",
      "Topic: 4 Word: 0.030*\"christmas\" + 0.013*\"find\" + 0.011*\"nick\" + 0.011*\"new\" + 0.008*\"love\" + 0.008*\"school\" + 0.008*\"holiday\" + 0.007*\"take\" + 0.007*\"town\" + 0.006*\"one\"\n",
      "Topic: 5 Word: 0.022*\"christmas\" + 0.010*\"find\" + 0.009*\"romance\" + 0.009*\"love\" + 0.008*\"boyfriend\" + 0.008*\"holiday\" + 0.007*\"town\" + 0.007*\"joy\" + 0.007*\"rachel\" + 0.007*\"fall\"\n",
      "Topic: 6 Word: 0.008*\"young\" + 0.008*\"son\" + 0.008*\"father\" + 0.008*\"farmer\" + 0.008*\"woman\" + 0.004*\"christmas\" + 0.004*\"one\" + 0.004*\"new\" + 0.004*\"time\" + 0.004*\"stranger\"\n",
      "Topic: 7 Word: 0.017*\"life\" + 0.013*\"christmas\" + 0.012*\"help\" + 0.011*\"must\" + 0.010*\"holiday\" + 0.009*\"hannah\" + 0.007*\"santa\" + 0.007*\"family\" + 0.007*\"love\" + 0.007*\"find\"\n",
      "Topic: 8 Word: 0.034*\"christmas\" + 0.012*\"find\" + 0.008*\"love\" + 0.008*\"family\" + 0.007*\"holiday\" + 0.007*\"help\" + 0.007*\"heart\" + 0.006*\"claus\" + 0.006*\"son\" + 0.006*\"store\"\n",
      "Topic: 9 Word: 0.037*\"christmas\" + 0.008*\"family\" + 0.008*\"grace\" + 0.008*\"home\" + 0.008*\"time\" + 0.006*\"wish\" + 0.006*\"help\" + 0.006*\"two\" + 0.006*\"hope\" + 0.006*\"together\"\n",
      "Topic: 10 Word: 0.030*\"christmas\" + 0.017*\"holiday\" + 0.016*\"help\" + 0.009*\"time\" + 0.007*\"find\" + 0.007*\"party\" + 0.005*\"love\" + 0.005*\"must\" + 0.005*\"candace\" + 0.005*\"special\"\n",
      "Topic: 11 Word: 0.015*\"holiday\" + 0.014*\"melanie\" + 0.011*\"find\" + 0.011*\"together\" + 0.010*\"christmas\" + 0.008*\"her\" + 0.008*\"skating\" + 0.008*\"get\" + 0.006*\"love\" + 0.006*\"justin\"\n",
      "Topic: 12 Word: 0.023*\"christmas\" + 0.010*\"find\" + 0.008*\"angel\" + 0.008*\"alec\" + 0.008*\"zoey\" + 0.005*\"together\" + 0.005*\"life\" + 0.005*\"matt\" + 0.005*\"jenny\" + 0.005*\"celebration\"\n",
      "Topic: 13 Word: 0.016*\"town\" + 0.011*\"local\" + 0.009*\"life\" + 0.009*\"holiday\" + 0.009*\"aaron\" + 0.009*\"ellie\" + 0.009*\"christmas\" + 0.007*\"find\" + 0.007*\"get\" + 0.007*\"small\"\n",
      "Topic: 14 Word: 0.010*\"family\" + 0.010*\"laurel\" + 0.010*\"day\" + 0.009*\"help\" + 0.009*\"christmas\" + 0.008*\"find\" + 0.008*\"old\" + 0.008*\"one\" + 0.008*\"lisa\" + 0.007*\"love\"\n",
      "Topic: 15 Word: 0.010*\"christmas\" + 0.007*\"holiday\" + 0.007*\"future\" + 0.007*\"find\" + 0.007*\"girl\" + 0.007*\"new\" + 0.007*\"love\" + 0.007*\"back\" + 0.007*\"family\" + 0.007*\"man\"\n",
      "Topic: 16 Word: 0.020*\"christmas\" + 0.010*\"forced\" + 0.008*\"find\" + 0.008*\"love\" + 0.008*\"sarah\" + 0.008*\"king\" + 0.006*\"life\" + 0.006*\"time\" + 0.006*\"new\" + 0.006*\"katie\"\n",
      "Topic: 17 Word: 0.018*\"christmas\" + 0.011*\"eve\" + 0.010*\"hillary\" + 0.010*\"two\" + 0.008*\"life\" + 0.008*\"holiday\" + 0.008*\"job\" + 0.008*\"find\" + 0.006*\"meet\" + 0.006*\"carol\"\n",
      "Topic: 18 Word: 0.017*\"christmas\" + 0.011*\"town\" + 0.007*\"new\" + 0.007*\"michael\" + 0.007*\"aunt\" + 0.007*\"life\" + 0.007*\"holiday\" + 0.006*\"owner\" + 0.006*\"find\" + 0.006*\"paula\"\n",
      "Topic: 19 Word: 0.040*\"christmas\" + 0.015*\"spirit\" + 0.011*\"town\" + 0.010*\"family\" + 0.009*\"holly\" + 0.008*\"holiday\" + 0.007*\"time\" + 0.007*\"love\" + 0.007*\"find\" + 0.007*\"daughter\"\n"
     ]
    }
   ],
   "source": [
    "for idx, topic in ldamodel.print_topics(-1):\n",
    "    print('Topic: {} Word: {}'.format(idx, topic))"
   ]
  },
  {
   "cell_type": "code",
   "execution_count": 60,
   "metadata": {},
   "outputs": [
    {
     "name": "stdout",
     "output_type": "stream",
     "text": [
      "['starting', 'first', 'job', 'country', 'club', 'restaurant', 'callie’s', 'passion', 'cooking', 'ice', 'sculpting', 'met', 'romance', 'christmas', 'spirit', 'childhood', 'friend', 'enters', 'club’s', 'annual', 'christmas', 'ice', 'sculpting', 'competition', 'without', 'knowledge'] \n",
      "\n"
     ]
    }
   ],
   "source": [
    "#check score for random 100th sentence\n",
    "example = doc_clean[100]\n",
    "print(example,'\\n')\n",
    "example_lda = dictionary.doc2bow(example)"
   ]
  },
  {
   "cell_type": "code",
   "execution_count": 61,
   "metadata": {},
   "outputs": [
    {
     "name": "stdout",
     "output_type": "stream",
     "text": [
      "Score:                           0.9648118019104004\t Topic: 0.040*\"christmas\" + 0.015*\"spirit\" + 0.011*\"town\" + 0.010*\"family\" + 0.009*\"holly\"\n"
     ]
    }
   ],
   "source": [
    "for index, score in sorted(ldamodel[example_lda], key=lambda \\\n",
    "                          tup: -1*tup[1]): print(\"Score: \\\n",
    "                          {}\\t Topic: {}\". format(score, ldamodel.print_topic(index,5)))"
   ]
  },
  {
   "cell_type": "code",
   "execution_count": 66,
   "metadata": {},
   "outputs": [],
   "source": [
    "import warnings\n",
    "warnings.filterwarnings('ignore')"
   ]
  },
  {
   "cell_type": "code",
   "execution_count": 67,
   "metadata": {},
   "outputs": [],
   "source": [
    "#visualize lda model\n",
    "import pyLDAvis\n",
    "import pyLDAvis.gensim"
   ]
  },
  {
   "cell_type": "code",
   "execution_count": 68,
   "metadata": {},
   "outputs": [],
   "source": [
    "lda_display = pyLDAvis.gensim.prepare(ldamodel, doc_term_matrix, \\\n",
    "                                     dictionary, sort_topics=False)"
   ]
  },
  {
   "cell_type": "code",
   "execution_count": 84,
   "metadata": {},
   "outputs": [],
   "source": [
    "#not really working"
   ]
  },
  {
   "cell_type": "code",
   "execution_count": 85,
   "metadata": {},
   "outputs": [
    {
     "data": {
      "text/plain": [
       "260"
      ]
     },
     "execution_count": 85,
     "metadata": {},
     "output_type": "execute_result"
    }
   ],
   "source": [
    "len(doc_clean)"
   ]
  },
  {
   "cell_type": "code",
   "execution_count": 86,
   "metadata": {},
   "outputs": [],
   "source": [
    "# explore a bit more with gensim lda\n",
    "import pickle"
   ]
  },
  {
   "cell_type": "code",
   "execution_count": 88,
   "metadata": {},
   "outputs": [],
   "source": [
    "pickle.dump(doc_term_matrix, open('corpus.pkl', 'wb'))\n",
    "dictionary.save('dictionary.gensim')"
   ]
  },
  {
   "cell_type": "code",
   "execution_count": 91,
   "metadata": {},
   "outputs": [],
   "source": [
    "# saving the dictionary & corpus as pickle\n",
    "# corpus = doc_term_matrix bag of wrds dict based on docs\n",
    "corpus = doc_term_matrix"
   ]
  },
  {
   "cell_type": "code",
   "execution_count": 100,
   "metadata": {},
   "outputs": [],
   "source": [
    "# let's find 5 topics in the data\n",
    "NUM_TOPICS = 5\n",
    "ldamodel = gensim.models.ldamodel.LdaModel(corpus, num_topics = NUM_TOPICS, \\\n",
    "            id2word=dictionary, passes=15)\n",
    "ldamodel.save('model5.gensim')"
   ]
  },
  {
   "cell_type": "code",
   "execution_count": 101,
   "metadata": {},
   "outputs": [
    {
     "name": "stdout",
     "output_type": "stream",
     "text": [
      "(0, '0.022*\"christmas\" + 0.009*\"love\" + 0.009*\"find\" + 0.007*\"town\"')\n",
      "(1, '0.023*\"christmas\" + 0.011*\"holiday\" + 0.009*\"family\" + 0.008*\"find\"')\n",
      "(2, '0.023*\"christmas\" + 0.007*\"life\" + 0.007*\"new\" + 0.006*\"take\"')\n",
      "(3, '0.031*\"christmas\" + 0.012*\"find\" + 0.008*\"holiday\" + 0.007*\"help\"')\n",
      "(4, '0.022*\"christmas\" + 0.008*\"holiday\" + 0.008*\"family\" + 0.008*\"find\"')\n"
     ]
    }
   ],
   "source": [
    "topics = ldamodel.print_topics(num_words=4)\n",
    "for topic in topics:\n",
    "    print(topic)"
   ]
  },
  {
   "cell_type": "code",
   "execution_count": 102,
   "metadata": {},
   "outputs": [],
   "source": [
    "# there's a lot of overlap/repetition in my topics - but these could\n",
    "# be the big themes"
   ]
  },
  {
   "cell_type": "code",
   "execution_count": 104,
   "metadata": {},
   "outputs": [],
   "source": [
    "from textblob import TextBlob"
   ]
  },
  {
   "cell_type": "code",
   "execution_count": 105,
   "metadata": {},
   "outputs": [
    {
     "name": "stdout",
     "output_type": "stream",
     "text": [
      "                                                                                                                                                                                                                                                                                                                                                                                                                                                                                                                                                                                                                                                                                                                                                                                                                                              In this magical story, a scientist sets out to prove that reindeer can fly and along the way discovers the true meaning of faith, family and Christmas. \n",
      "\n",
      "Sentiment(polarity=0.5499999999999999, subjectivity=0.85) \n",
      "\n",
      "                                                                                                                                                                                                                                                                                                                                                                                                                                                                                                                                                                                                                                                                                                                                                                                                                                                    While delivering toys, Santas son (Nick Stabile) is arrested for trespassing. Dispirited, he turns for help to a public defender (Lauren Holly). \n",
      "\n",
      "Sentiment(polarity=0.0, subjectivity=0.06666666666666667) \n",
      "\n",
      "                                                                                                                                                                                                                                                                                                                                                                                                                                                                                                                                                                                                                                                                                                                                                                              The Snow Queen is a powerful story of friendship and the triumph of love over wickedness. The story follows a young woman who is forced to battle the wicked snow queen in order to save the soul of the man she loves. \n",
      "\n",
      "Sentiment(polarity=0.15, subjectivity=0.55) \n",
      "\n",
      "                                                                                                                                                                                                                                                                                                                                                                                                                                                                                                                                                                                                          Two separate stories mesh - in the first, a young music teacher, Maggie Andrews, begins dying of a heart condition and her son Nathan tries to get a pair of Christmas shoes for her before she dies. In the second, lawyer Robert Layton and his wife Kate are slowly drifting apart and the matter comes to a head during Christmas when Kate takes over for Maggie for the school choir. \n",
      "\n",
      "Sentiment(polarity=-0.010000000000000014, subjectivity=0.30666666666666664) \n",
      "\n"
     ]
    }
   ],
   "source": [
    "for sentence in data[4:8]:\n",
    "    print(sentence,'\\n')\n",
    "    senti = TextBlob(sentence)\n",
    "    print(senti.sentiment,'\\n')"
   ]
  },
  {
   "cell_type": "code",
   "execution_count": 108,
   "metadata": {},
   "outputs": [
    {
     "name": "stdout",
     "output_type": "stream",
     "text": [
      "[nltk_data] Downloading package vader_lexicon to\n",
      "[nltk_data]     /Users/martinkihn/nltk_data...\n"
     ]
    },
    {
     "data": {
      "text/plain": [
       "True"
      ]
     },
     "execution_count": 108,
     "metadata": {},
     "output_type": "execute_result"
    }
   ],
   "source": [
    "from nltk.sentiment.vader import SentimentIntensityAnalyzer\n",
    "nltk.download('vader_lexicon')"
   ]
  },
  {
   "cell_type": "code",
   "execution_count": 109,
   "metadata": {},
   "outputs": [],
   "source": [
    "analyzer = SentimentIntensityAnalyzer()"
   ]
  },
  {
   "cell_type": "code",
   "execution_count": 113,
   "metadata": {},
   "outputs": [
    {
     "data": {
      "text/plain": [
       "list"
      ]
     },
     "execution_count": 113,
     "metadata": {},
     "output_type": "execute_result"
    }
   ],
   "source": [
    "type(data)\n",
    "#note I saved data on desktop as 'text_as_list.csv'"
   ]
  },
  {
   "cell_type": "code",
   "execution_count": 122,
   "metadata": {},
   "outputs": [],
   "source": [
    "sentiments = []\n",
    "for sentence in data:\n",
    "    senti = analyzer.polarity_scores(sentence)\n",
    "    sentiments.append(senti['compound'])"
   ]
  },
  {
   "cell_type": "code",
   "execution_count": 128,
   "metadata": {},
   "outputs": [
    {
     "data": {
      "text/plain": [
       "[<matplotlib.lines.Line2D at 0x7fc468e7d370>]"
      ]
     },
     "execution_count": 128,
     "metadata": {},
     "output_type": "execute_result"
    },
    {
     "data": {
      "image/png": "[encoded data removed]",
      "text/plain": [
       "<Figure size 432x288 with 1 Axes>"
      ]
     },
     "metadata": {
      "needs_background": "light"
     },
     "output_type": "display_data"
    }
   ],
   "source": [
    "import matplotlib.pyplot as plt\n",
    "plt.plot(sentiments)"
   ]
  },
  {
   "cell_type": "code",
   "execution_count": 131,
   "metadata": {},
   "outputs": [
    {
     "data": {
      "text/plain": [
       "0.5452857692307693"
      ]
     },
     "execution_count": 131,
     "metadata": {},
     "output_type": "execute_result"
    }
   ],
   "source": [
    "np.mean(sentiments) # pretty strongly positive"
   ]
  },
  {
   "cell_type": "code",
   "execution_count": 134,
   "metadata": {},
   "outputs": [],
   "source": [
    "## let's go back to markov chains and see what we can do"
   ]
  },
  {
   "cell_type": "code",
   "execution_count": 135,
   "metadata": {},
   "outputs": [],
   "source": [
    "## another idea is tfidf for documents that have negative sentiment\n",
    "## vs positive sentiment - to see which words are important"
   ]
  },
  {
   "cell_type": "code",
   "execution_count": 139,
   "metadata": {},
   "outputs": [],
   "source": [
    "# text_list is text as list"
   ]
  },
  {
   "cell_type": "code",
   "execution_count": 141,
   "metadata": {},
   "outputs": [],
   "source": [
    "# https://www.jeffcarp.com/posts/2019/markov-chain-python/\n",
    "# create graph\n",
    "\n",
    "from collections import defaultdict\n",
    "markov_graph = defaultdict(lambda: defaultdict(int))"
   ]
  },
  {
   "cell_type": "code",
   "execution_count": 144,
   "metadata": {},
   "outputs": [],
   "source": [
    "tokenized_text = text_list"
   ]
  },
  {
   "cell_type": "code",
   "execution_count": 145,
   "metadata": {},
   "outputs": [],
   "source": [
    "last_word = tokenized_text[0].lower()\n",
    "for word in tokenized_text[1:]:\n",
    "    word = word.lower()\n",
    "    markov_graph[last_word][word] += 1\n",
    "    last_word = word"
   ]
  },
  {
   "cell_type": "code",
   "execution_count": 147,
   "metadata": {},
   "outputs": [
    {
     "name": "stdout",
     "output_type": "stream",
     "text": [
      "christmas carol\n",
      "christmas or\n",
      "christmas eve\n",
      "home and\n",
      "home to\n",
      "home for\n",
      "town of\n",
      "town dubs\n",
      "town grows\n"
     ]
    }
   ],
   "source": [
    "limit = 3\n",
    "for first_word in ('christmas', 'home', 'town'):\n",
    "    next_words = list(markov_graph[first_word].keys())[:limit]\n",
    "    for next_word in next_words:\n",
    "        print(first_word, next_word)"
   ]
  },
  {
   "cell_type": "code",
   "execution_count": 148,
   "metadata": {},
   "outputs": [],
   "source": [
    "# start at random word - of possible choices take weighted random\n",
    "# choice using np.random.choice"
   ]
  },
  {
   "cell_type": "code",
   "execution_count": 155,
   "metadata": {},
   "outputs": [],
   "source": [
    "def walk_graph(graph, distance=5, start_node=None):\n",
    "    if distance <= 0:\n",
    "        return[]\n",
    "    \n",
    "    if not start_node:\n",
    "        start_node = np.random.choice(list(graph.keys()))\n",
    "    \n",
    "    weights = np.array(\n",
    "        list(markov_graph[start_node].values()),\n",
    "        dtype=np.float64)\n",
    "    #normalize word counts sum 1\n",
    "    weights /= weights.sum()\n",
    "    \n",
    "    #pick destination using weighted dist\n",
    "    choices = list(markov_graph[start_node].keys())\n",
    "    chosen_word = np.random.choice(choices, None, p=weights)\n",
    "    \n",
    "    return [chosen_word] + walk_graph(\n",
    "        graph, distance=distance-1,\n",
    "        start_node=chosen_word)"
   ]
  },
  {
   "cell_type": "code",
   "execution_count": 156,
   "metadata": {},
   "outputs": [
    {
     "name": "stdout",
     "output_type": "stream",
     "text": [
      "years ago bob and before their kansas farm as it was hurt \n",
      "\n",
      "who she isnt in the music teacher maggie chalke is newly widowed \n",
      "\n",
      "money troubles kyle and max who feels a series beloved characters while \n",
      "\n",
      "forges a kind lady as dolly to find a marriage proposal now \n",
      "\n",
      "the local cookie crawl to the first love with the holidays than \n",
      "\n",
      "of her first christmas giving has lost his sleigh and will elle \n",
      "\n",
      "compassion and army widow loses his magic of christmas eve eve as \n",
      "\n",
      "to keep their two weeks before christmas spirit who was her beloved \n",
      "\n",
      "finds herself humiliated on one experiencing the history of toys in as \n",
      "\n",
      "so consumed by the towns annual christmas fantasy become fast friends but \n",
      "\n"
     ]
    }
   ],
   "source": [
    "for i in range(10):\n",
    "    print(' '.join(walk_graph(\n",
    "        markov_graph, distance=12)), '\\n')"
   ]
  },
  {
   "cell_type": "code",
   "execution_count": 158,
   "metadata": {},
   "outputs": [],
   "source": [
    "# try another method using pairs of words\n",
    "# https://towardsdatascience.com/simulating-text-with-markov-chains-in-python-1a27e6d13fc6"
   ]
  },
  {
   "cell_type": "code",
   "execution_count": 162,
   "metadata": {},
   "outputs": [],
   "source": [
    "def make_pairs(text_list):\n",
    "    for i in range(len(text_list)-1):\n",
    "        yield (text_list[i], text_list[i+1])\n",
    "        \n",
    "pairs = make_pairs(text_list)"
   ]
  },
  {
   "cell_type": "code",
   "execution_count": 163,
   "metadata": {},
   "outputs": [
    {
     "data": {
      "text/plain": [
       "<generator object make_pairs at 0x7fc46900df20>"
      ]
     },
     "execution_count": 163,
     "metadata": {},
     "output_type": "execute_result"
    }
   ],
   "source": [
    "pairs"
   ]
  },
  {
   "cell_type": "code",
   "execution_count": 164,
   "metadata": {},
   "outputs": [],
   "source": [
    "word_dict = {}\n",
    "\n",
    "for word_1, word_2 in pairs:\n",
    "    if word_1 in word_dict.keys():\n",
    "        word_dict[word_1].append(word_2)\n",
    "    else:\n",
    "        word_dict[word_1] = [word_2]"
   ]
  },
  {
   "cell_type": "code",
   "execution_count": 174,
   "metadata": {},
   "outputs": [],
   "source": [
    "first_word = np.random.choice(text_list)"
   ]
  },
  {
   "cell_type": "code",
   "execution_count": 175,
   "metadata": {},
   "outputs": [
    {
     "data": {
      "text/plain": [
       "'so'"
      ]
     },
     "execution_count": 175,
     "metadata": {},
     "output_type": "execute_result"
    }
   ],
   "source": [
    "first_word"
   ]
  },
  {
   "cell_type": "code",
   "execution_count": 176,
   "metadata": {},
   "outputs": [],
   "source": [
    "chain = [first_word]\n",
    "n_words = 30"
   ]
  },
  {
   "cell_type": "code",
   "execution_count": 181,
   "metadata": {},
   "outputs": [],
   "source": [
    "# next words are sampled randomly from next words\n",
    "for i in range(n_words):\n",
    "    chain.append(np.random.choice(word_dict[chain[-1]]))"
   ]
  },
  {
   "cell_type": "code",
   "execution_count": 182,
   "metadata": {},
   "outputs": [
    {
     "data": {
      "text/plain": [
       "'so she loves christmas while their families to be more so she inherits her life in years beforegiving her aunt ruby has no idea that he accepts his sister with a wealthy boss of mcdougals history of the death of a theater connor hasnt had many employees and tensions quickly arise when she has an angel jack and orchestrating an aspiring'"
      ]
     },
     "execution_count": 182,
     "metadata": {},
     "output_type": "execute_result"
    }
   ],
   "source": [
    "' '.join(chain)"
   ]
  },
  {
   "cell_type": "code",
   "execution_count": 179,
   "metadata": {},
   "outputs": [],
   "source": [
    "# overview of markov chains:\n",
    "# https://algotech.netlify.app/blog/text-generating-with-markov-chains/"
   ]
  },
  {
   "cell_type": "code",
   "execution_count": 185,
   "metadata": {},
   "outputs": [
    {
     "data": {
      "text/plain": [
       "'career woman who plans a developmentally challenged young party with writers block novelist is introduced to spend christmas campaign fixer max who informs her latest squabble though laurel tries to chicago app developer madison lane is staying on a few months to the deal with his daughter nicole is a handsome army captain grace garland a tutor named casey to reunite danny and position drake discovers her arrival paula a scroogette when aspiring fashion designer falls in love she walked away from an attack he is hiding one of bachelor with a mortified layla is suspicious of one little nudge from'"
      ]
     },
     "execution_count": 185,
     "metadata": {},
     "output_type": "execute_result"
    }
   ],
   "source": [
    "# next words are sampled randomly from next words\n",
    "chain = ['career']\n",
    "n_words = 100\n",
    "for i in range(n_words):\n",
    "    chain.append(np.random.choice(word_dict[chain[-1]]))\n",
    "' '.join(chain)"
   ]
  },
  {
   "cell_type": "code",
   "execution_count": 186,
   "metadata": {},
   "outputs": [],
   "source": [
    "## let's try co-occurrence matrix with SVD\n",
    "## https://github.com/klaudia-nazarko/nlp-sentiment-analysis/blob/main/nlp_text_preprocessing.ipynb"
   ]
  },
  {
   "cell_type": "code",
   "execution_count": 188,
   "metadata": {},
   "outputs": [],
   "source": [
    "import numpy as np\n",
    "import pandas as pd\n",
    "import pickle\n",
    "\n",
    "from sklearn.feature_extraction.text import TfidfVectorizer\n",
    "from gensim.models import Word2Vec"
   ]
  },
  {
   "cell_type": "code",
   "execution_count": null,
   "metadata": {},
   "outputs": [],
   "source": []
  }
 ],
 "metadata": {
  "kernelspec": {
   "display_name": "Python 3",
   "language": "python",
   "name": "python3"
  },
  "language_info": {
   "codemirror_mode": {
    "name": "ipython",
    "version": 3
   },
   "file_extension": ".py",
   "mimetype": "text/x-python",
   "name": "python",
   "nbconvert_exporter": "python",
   "pygments_lexer": "ipython3",
   "version": "3.8.5"
  }
 },
 "nbformat": 4,
 "nbformat_minor": 4
}
