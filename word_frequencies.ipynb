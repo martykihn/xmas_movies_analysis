{
  "nbformat": 4,
  "nbformat_minor": 0,
  "metadata": {
    "colab": {
      "name": "newtests.ipynb",
      "provenance": [],
      "collapsed_sections": [],
      "authorship_tag": "ABX9TyMS7zxYfrsVIBTYYE3MVBg2",
      "include_colab_link": true
    },
    "kernelspec": {
      "name": "python3",
      "display_name": "Python 3"
    }
  },
  "cells": [
    {
      "cell_type": "markdown",
      "metadata": {
        "id": "view-in-github",
        "colab_type": "text"
      },
      "source": [
        "<a href=\"https://colab.research.google.com/github/martykihn/xmas_movies_analysis/blob/main/newtests.ipynb\" target=\"_parent\"><img src=\"https://colab.research.google.com/assets/colab-badge.svg\" alt=\"Open In Colab\"/></a>"
      ]
    },
    {
      "cell_type": "code",
      "metadata": {
        "colab": {
          "base_uri": "https://localhost:8080/"
        },
        "id": "pZ4omNEBJPWl",
        "outputId": "ba64106f-9ff7-4f86-f019-e66070a85142"
      },
      "source": [
        "from google.colab import drive\n",
        "drive.mount('/content/drive')"
      ],
      "execution_count": null,
      "outputs": [
        {
          "output_type": "stream",
          "text": [
            "Drive already mounted at /content/drive; to attempt to forcibly remount, call drive.mount(\"/content/drive\", force_remount=True).\n"
          ],
          "name": "stdout"
        }
      ]
    },
    {
      "cell_type": "code",
      "metadata": {
        "colab": {
          "base_uri": "https://localhost:8080/"
        },
        "id": "ngXMuORPJZ3m",
        "outputId": "986fadf5-d6f9-43a6-d6be-006028e425f1"
      },
      "source": [
        "cd /content/drive/MyDrive/Colab Notebooks/TextFiles"
      ],
      "execution_count": null,
      "outputs": [
        {
          "output_type": "stream",
          "text": [
            "/content/drive/MyDrive/Colab Notebooks/TextFiles\n"
          ],
          "name": "stdout"
        }
      ]
    },
    {
      "cell_type": "code",
      "metadata": {
        "colab": {
          "base_uri": "https://localhost:8080/"
        },
        "id": "hi56oKfwJjnt",
        "outputId": "de05cfcf-dc5a-460b-9edd-6f9324c214ad"
      },
      "source": [
        "ls t*"
      ],
      "execution_count": null,
      "outputs": [
        {
          "output_type": "stream",
          "text": [
            "text_as_list.csv               text_as_string_train.csv\n",
            "text_as_list_test.csv          text_newlines_original_2.txt\n",
            "text_as_list_test_TOKENS.txt   text_newlines_original.txt\n",
            "text_as_list_train.csv         text_newlines.txt\n",
            "text_as_list_train_TOKENS.txt  text_nopunc.txt\n",
            "text_as_string_test.csv        text.txt\n",
            "\n",
            "transformers:\n",
            "CODE_OF_CONDUCT.md  hubconf.py   \u001b[0m\u001b[01;34mmodel_cards\u001b[0m/    setup.cfg   \u001b[01;34mutils\u001b[0m/\n",
            "CONTRIBUTING.md     ISSUES.md    \u001b[01;34mnotebooks\u001b[0m/      setup.py    valohai.yaml\n",
            "\u001b[01;34mdocker\u001b[0m/             LICENSE      pyproject.toml  \u001b[01;34msrc\u001b[0m/\n",
            "\u001b[01;34mdocs\u001b[0m/               Makefile     README.md       \u001b[01;34mtemplates\u001b[0m/\n",
            "\u001b[01;34mexamples\u001b[0m/           MANIFEST.in  \u001b[01;34mscripts\u001b[0m/        \u001b[01;34mtests\u001b[0m/\n"
          ],
          "name": "stdout"
        }
      ]
    },
    {
      "cell_type": "code",
      "metadata": {
        "id": "HF5pVm1UJ0uY"
      },
      "source": [
        "plots = []\n",
        "with open('/content/drive/MyDrive/Colab Notebooks/TextFiles/text_newlines_original_2.txt') as myfile:\n",
        "  for plot in myfile:\n",
        "    plot = plot.replace('\\n', '')\n",
        "    if plot == '':\n",
        "      continue\n",
        "    else:\n",
        "      plots.append(str(plot))\n",
        "myfile.close()"
      ],
      "execution_count": null,
      "outputs": []
    },
    {
      "cell_type": "code",
      "metadata": {
        "colab": {
          "base_uri": "https://localhost:8080/"
        },
        "id": "clTSGVQoKGoC",
        "outputId": "13161c46-fb69-4671-aa81-d8e4b387014c"
      },
      "source": [
        "type(plots), len(plots)"
      ],
      "execution_count": null,
      "outputs": [
        {
          "output_type": "execute_result",
          "data": {
            "text/plain": [
              "(list, 259)"
            ]
          },
          "metadata": {
            "tags": []
          },
          "execution_count": 50
        }
      ]
    },
    {
      "cell_type": "code",
      "metadata": {
        "colab": {
          "base_uri": "https://localhost:8080/"
        },
        "id": "awUqecSLKIu5",
        "outputId": "d3d59341-2d4b-4d69-dcfa-c87e21e84ced"
      },
      "source": [
        "plots[3:6]"
      ],
      "execution_count": null,
      "outputs": [
        {
          "output_type": "execute_result",
          "data": {
            "text/plain": [
              "['A miracle occurs for a homeless family consisting of two wayward <CHILD> and their protective aunt with the help of an <SPIRIT>. When a young womans niece and nephew are threatened with foster care after her <SIBLING> is hospitalized following yet another overdose she flees with them until they land in the sleepy town of <SMALLTOWN> just before <CHRISTMAS> and a series of kindnesses and coincidences gives the trio a chance at happiness.',\n",
              " 'In this magical story a scientist sets out to prove that reindeer can fly and along the way discovers the true meaning of faith family and <CHRISTMAS>.',\n",
              " 'While delivering toys <SANTA> <CHILD> <MAN> is arrested for trespassing. Dispirited he turns for help to a public defender <WOMAN>.']"
            ]
          },
          "metadata": {
            "tags": []
          },
          "execution_count": 9
        }
      ]
    },
    {
      "cell_type": "code",
      "metadata": {
        "id": "dCwmt3NEKsh5"
      },
      "source": [
        "# plots is a list of strings w/ tokens"
      ],
      "execution_count": null,
      "outputs": []
    },
    {
      "cell_type": "code",
      "metadata": {
        "id": "p9GZDqzuK1F9"
      },
      "source": [
        "import re\n",
        "import unicodedata\n",
        "import nltk\n",
        "from nltk.corpus import stopwords\n",
        "import matplotlib\n",
        "import matplotlib.pyplot as plt\n",
        "%matplotlib inline"
      ],
      "execution_count": null,
      "outputs": []
    },
    {
      "cell_type": "code",
      "metadata": {
        "colab": {
          "base_uri": "https://localhost:8080/"
        },
        "id": "xkHBLyvzMX0d",
        "outputId": "d3500355-4029-4bd6-f06e-00ca782d5751"
      },
      "source": [
        "nltk.download('stopwords')\n",
        "nltk.download('wordnet')"
      ],
      "execution_count": null,
      "outputs": [
        {
          "output_type": "stream",
          "text": [
            "[nltk_data] Downloading package stopwords to /root/nltk_data...\n",
            "[nltk_data]   Package stopwords is already up-to-date!\n",
            "[nltk_data] Downloading package wordnet to /root/nltk_data...\n",
            "[nltk_data]   Unzipping corpora/wordnet.zip.\n"
          ],
          "name": "stdout"
        },
        {
          "output_type": "execute_result",
          "data": {
            "text/plain": [
              "True"
            ]
          },
          "metadata": {
            "tags": []
          },
          "execution_count": 23
        }
      ]
    },
    {
      "cell_type": "code",
      "metadata": {
        "id": "fwEd_w_JLtxq"
      },
      "source": [
        "def basic_clean(text):\n",
        "    additional_stopwords = []\n",
        "    wnl = nltk.stem.WordNetLemmatizer()\n",
        "    stopwords = nltk.corpus.stopwords.words('english') + additional_stopwords\n",
        "    text = (unicodedata.normalize('NFKD', text)\n",
        "           .encode('ascii', 'ignore')\n",
        "           .decode('utf-8', 'ignore')\n",
        "           .lower())\n",
        "    words = re.sub(r'[^\\w\\s]', '', text).split()\n",
        "    return [wnl.lemmatize(word) for word in words if word not in stopwords]"
      ],
      "execution_count": null,
      "outputs": []
    },
    {
      "cell_type": "code",
      "metadata": {
        "id": "jl6kLYP2cvwb"
      },
      "source": [
        "def basic_clean2(text):\n",
        "    additional_stopwords = ['man', 'woman', 'christmas', 'mr', 'find', 'holiday']\n",
        "    wnl = nltk.stem.WordNetLemmatizer()\n",
        "    stopwords = nltk.corpus.stopwords.words('english') + additional_stopwords\n",
        "    text = (unicodedata.normalize('NFKD', text)\n",
        "           .encode('ascii', 'ignore')\n",
        "           .decode('utf-8', 'ignore')\n",
        "           .lower())\n",
        "    words = re.sub(r'[^\\w\\s]', '', text).split()\n",
        "    return [wnl.lemmatize(word) for word in words if word not in stopwords]"
      ],
      "execution_count": null,
      "outputs": []
    },
    {
      "cell_type": "code",
      "metadata": {
        "id": "BC1bLQZZL4hG"
      },
      "source": [
        "plots_string = ' '.join(plots)"
      ],
      "execution_count": null,
      "outputs": []
    },
    {
      "cell_type": "code",
      "metadata": {
        "colab": {
          "base_uri": "https://localhost:8080/"
        },
        "id": "bRJL_IMqMBWT",
        "outputId": "96840ffc-6f33-4c22-8598-ccb2c74d664c"
      },
      "source": [
        "len(plots_string)"
      ],
      "execution_count": null,
      "outputs": [
        {
          "output_type": "execute_result",
          "data": {
            "text/plain": [
              "93673"
            ]
          },
          "metadata": {
            "tags": []
          },
          "execution_count": 70
        }
      ]
    },
    {
      "cell_type": "code",
      "metadata": {
        "id": "0Yia6JR8MDKF"
      },
      "source": [
        "text_clean_withstopwords = basic_clean(plots_string)"
      ],
      "execution_count": null,
      "outputs": []
    },
    {
      "cell_type": "code",
      "metadata": {
        "colab": {
          "base_uri": "https://localhost:8080/"
        },
        "id": "Xx52LYstMUpt",
        "outputId": "2a0d00ee-ba0c-4b3e-c058-1a6e8d2b3eef"
      },
      "source": [
        "text_clean_withstopwords[4:5]"
      ],
      "execution_count": null,
      "outputs": [
        {
          "output_type": "execute_result",
          "data": {
            "text/plain": [
              "['wife']"
            ]
          },
          "metadata": {
            "tags": []
          },
          "execution_count": 72
        }
      ]
    },
    {
      "cell_type": "code",
      "metadata": {
        "id": "wq3se3rdMuNY"
      },
      "source": [
        "from nltk import FreqDist"
      ],
      "execution_count": null,
      "outputs": []
    },
    {
      "cell_type": "code",
      "metadata": {
        "colab": {
          "base_uri": "https://localhost:8080/",
          "height": 325
        },
        "id": "nK98pKR0MwUf",
        "outputId": "d8a84395-4f9c-4202-8520-e51710da3199"
      },
      "source": [
        "fdist1 = FreqDist(text_clean_withstopwords)\n",
        "fdist1.plot(25)"
      ],
      "execution_count": null,
      "outputs": [
        {
          "output_type": "display_data",
          "data": {
            "image/png": "[encoded data removed]",
            "text/plain": [
              "<Figure size 432x288 with 1 Axes>"
            ]
          },
          "metadata": {
            "tags": [],
            "needs_background": "light"
          }
        }
      ]
    },
    {
      "cell_type": "code",
      "metadata": {
        "id": "sZOa6Cj0M2mw"
      },
      "source": [
        "# remove woman christmas man find holiday - generic terms"
      ],
      "execution_count": null,
      "outputs": []
    },
    {
      "cell_type": "code",
      "metadata": {
        "colab": {
          "base_uri": "https://localhost:8080/",
          "height": 325
        },
        "id": "rIB66M_8M9fD",
        "outputId": "15321999-703b-4745-bcbc-20c96512d0e9"
      },
      "source": [
        "text_clean_withoutstopwords = basic_clean2(plots_string)\n",
        "fdist2 = FreqDist(text_clean_withoutstopwords)\n",
        "fdist2.plot(25)"
      ],
      "execution_count": null,
      "outputs": [
        {
          "output_type": "display_data",
          "data": {
            "image/png": "[encoded data removed]",
            "text/plain": [
              "<Figure size 432x288 with 1 Axes>"
            ]
          },
          "metadata": {
            "tags": [],
            "needs_background": "light"
          }
        }
      ]
    },
    {
      "cell_type": "code",
      "metadata": {
        "id": "Y4xE_HNsNNi0"
      },
      "source": [
        "import pandas as pd\n",
        "bigrams = (pd.Series(nltk.ngrams(text_clean_withoutstopwords, 2)).value_counts())[:25]"
      ],
      "execution_count": null,
      "outputs": []
    },
    {
      "cell_type": "code",
      "metadata": {
        "colab": {
          "base_uri": "https://localhost:8080/"
        },
        "id": "s455Eu78NpEU",
        "outputId": "ec96a1b1-25fe-4a17-ce6c-fe4bac3603ba"
      },
      "source": [
        "bigrams"
      ],
      "execution_count": null,
      "outputs": [
        {
          "output_type": "execute_result",
          "data": {
            "text/plain": [
              "(return, hometown)      11\n",
              "(fall, love)            11\n",
              "(high, school)          11\n",
              "(true, meaning)          8\n",
              "(department, store)      7\n",
              "(school, sweetheart)     7\n",
              "(true, love)             6\n",
              "(best, friend)           6\n",
              "(work, together)         6\n",
              "(must, decide)           6\n",
              "(mr, claus)              5\n",
              "(two, child)             5\n",
              "(young, child)           5\n",
              "(falling, love)          5\n",
              "(first, time)            5\n",
              "(hometown, holiday)      5\n",
              "(stranded, mixup)        5\n",
              "(important, life)        4\n",
              "(spend, time)            4\n",
              "(niece, nephew)          4\n",
              "(must, work)             4\n",
              "(shop, owner)            4\n",
              "(back, hometown)         4\n",
              "(along, way)             4\n",
              "(love, life)             4\n",
              "dtype: int64"
            ]
          },
          "metadata": {
            "tags": []
          },
          "execution_count": 78
        }
      ]
    },
    {
      "cell_type": "code",
      "metadata": {
        "id": "cMoUwfh-NrM9"
      },
      "source": [
        "trigrams = (pd.Series(nltk.ngrams(text_clean_withoutstopwords, 3)).value_counts())[:20]"
      ],
      "execution_count": null,
      "outputs": []
    },
    {
      "cell_type": "code",
      "metadata": {
        "colab": {
          "base_uri": "https://localhost:8080/"
        },
        "id": "xUBPYIUPN48o",
        "outputId": "a788c255-d6ba-4723-aa0c-c3b9622ee2b3"
      },
      "source": [
        "trigrams"
      ],
      "execution_count": null,
      "outputs": [
        {
          "output_type": "execute_result",
          "data": {
            "text/plain": [
              "(high, school, sweetheart)       7\n",
              "(first, time, since)             3\n",
              "(old, high, school)              3\n",
              "(department, store, santa)       2\n",
              "(ice, sculpting, competition)    2\n",
              "(return, hometown, two)          2\n",
              "(spend, time, together)          2\n",
              "(wish, come, true)               2\n",
              "(real, estate, bigcorp)          2\n",
              "(thing, get, complicated)        2\n",
              "(take, unexpected, turn)         2\n",
              "(miracle, really, happen)        2\n",
              "(recently, divorced, setback)    2\n",
              "(annual, ice, sculpting)         2\n",
              "(unexpectedly, fall, love)       2\n",
              "(hometown, first, time)          2\n",
              "(make, end, meet)                2\n",
              "(reconnects, high, school)       2\n",
              "(get, stranded, mixup)           2\n",
              "(find, stranded, mixup)          2\n",
              "dtype: int64"
            ]
          },
          "metadata": {
            "tags": []
          },
          "execution_count": 48
        }
      ]
    },
    {
      "cell_type": "code",
      "metadata": {
        "colab": {
          "base_uri": "https://localhost:8080/",
          "height": 585
        },
        "id": "XRoSveTxN59l",
        "outputId": "78e586d5-afa3-4741-e62d-5b8ff5b12902"
      },
      "source": [
        "bigrams[:15].sort_values().plot.barh(color='blue',\n",
        "                                    width=.9, figsize=(12,12))\n",
        "plt.rcParams.update({'axes.labelsize' : 'large'})\n",
        "plt.ylabel('Bigrams', fontsize=14)\n",
        "plt.xlabel('# of Occurrences', fontsize=14)\n",
        "plt.xticks(fontsize=20)\n",
        "plt.yticks(fontsize=20)\n",
        "plt.title('Hallmark Xmas Movie Bigrams', fontsize=18)"
      ],
      "execution_count": null,
      "outputs": [
        {
          "output_type": "execute_result",
          "data": {
            "text/plain": [
              "Text(0.5, 1.0, 'Hallmark Xmas Movie Bigrams')"
            ]
          },
          "metadata": {
            "tags": []
          },
          "execution_count": 53
        },
        {
          "output_type": "display_data",
          "data": {
            "image/png": "[encoded data removed]",
            "text/plain": [
              "<Figure size 864x864 with 1 Axes>"
            ]
          },
          "metadata": {
            "tags": [],
            "needs_background": "light"
          }
        }
      ]
    },
    {
      "cell_type": "code",
      "metadata": {
        "colab": {
          "base_uri": "https://localhost:8080/",
          "height": 544
        },
        "id": "_P9mFEz5Y_K1",
        "outputId": "74f66d88-4561-401d-a00b-e049be3de366"
      },
      "source": [
        "trigrams[:12].sort_values().plot.barh(color='blue',\n",
        "                                    width=.9, figsize=(12,12))\n",
        "plt.rcParams.update({'axes.labelsize' : 'large'})\n",
        "plt.ylabel('Trigrams', fontsize=14)\n",
        "plt.xlabel('# of Occurrences', fontsize=14)\n",
        "plt.xticks(fontsize=20)\n",
        "plt.yticks(fontsize=20)\n",
        "plt.title('Hallmark Xmas Movie Trigrams', fontsize=18)"
      ],
      "execution_count": null,
      "outputs": [
        {
          "output_type": "execute_result",
          "data": {
            "text/plain": [
              "Text(0.5, 1.0, 'Hallmark Xmas Movie Trigrams')"
            ]
          },
          "metadata": {
            "tags": []
          },
          "execution_count": 119
        },
        {
          "output_type": "display_data",
          "data": {
            "image/png": "[encoded data removed]",
            "text/plain": [
              "<Figure size 864x864 with 1 Axes>"
            ]
          },
          "metadata": {
            "tags": [],
            "needs_background": "light"
          }
        }
      ]
    },
    {
      "cell_type": "code",
      "metadata": {
        "id": "uwS34_SLODAE"
      },
      "source": [
        "# now lets try topics"
      ],
      "execution_count": null,
      "outputs": []
    },
    {
      "cell_type": "code",
      "metadata": {
        "id": "Mh2FhAxyPTLt"
      },
      "source": [
        "text = text_clean_withoutstopwords.copy()"
      ],
      "execution_count": null,
      "outputs": []
    },
    {
      "cell_type": "code",
      "metadata": {
        "colab": {
          "base_uri": "https://localhost:8080/"
        },
        "id": "IneF6kXmPuQg",
        "outputId": "5e174ec6-8880-4649-af60-6314bd8d4195"
      },
      "source": [
        "type(text), len(text)"
      ],
      "execution_count": null,
      "outputs": [
        {
          "output_type": "execute_result",
          "data": {
            "text/plain": [
              "(list, 7758)"
            ]
          },
          "metadata": {
            "tags": []
          },
          "execution_count": 80
        }
      ]
    },
    {
      "cell_type": "code",
      "metadata": {
        "colab": {
          "base_uri": "https://localhost:8080/"
        },
        "id": "VqBx_k-CPuyO",
        "outputId": "ff16ad1b-9b28-4d3f-d29f-8792bdadf083"
      },
      "source": [
        "text[15:20]"
      ],
      "execution_count": null,
      "outputs": [
        {
          "output_type": "execute_result",
          "data": {
            "text/plain": [
              "['life', 'recurring', 'dream', 'spirit', 'treat']"
            ]
          },
          "metadata": {
            "tags": []
          },
          "execution_count": 81
        }
      ]
    },
    {
      "cell_type": "code",
      "metadata": {
        "id": "pp1RdKzwP1iU"
      },
      "source": [
        "# plots is a list of strings with formats (each is a plot)\n",
        "# loop through and use 'basic_clean' function to normalize\n",
        "\n",
        "x = [basic_clean2(plots[i]) for i in range(0, len(plots))]"
      ],
      "execution_count": null,
      "outputs": []
    },
    {
      "cell_type": "code",
      "metadata": {
        "colab": {
          "base_uri": "https://localhost:8080/"
        },
        "id": "FNkHnvgzQaiA",
        "outputId": "ae7d0db0-9faf-4474-e466-488fde399ec1"
      },
      "source": [
        "# x is list of lists -- words in plots\n",
        "len(x)"
      ],
      "execution_count": null,
      "outputs": [
        {
          "output_type": "execute_result",
          "data": {
            "text/plain": [
              "259"
            ]
          },
          "metadata": {
            "tags": []
          },
          "execution_count": 113
        }
      ]
    },
    {
      "cell_type": "code",
      "metadata": {
        "id": "WeCCYW_Ae_Mh"
      },
      "source": [
        "import gensim\n",
        "from gensim import corpora\n",
        "dictionary = corpora.Dictionary(x)\n",
        "doc_term_matrix = [dictionary.doc2bow(doc) for doc in x]"
      ],
      "execution_count": null,
      "outputs": []
    },
    {
      "cell_type": "code",
      "metadata": {
        "id": "ZjZq5c4yfnhM"
      },
      "source": [
        "Lda = gensim.models.ldamodel.LdaModel"
      ],
      "execution_count": null,
      "outputs": []
    },
    {
      "cell_type": "code",
      "metadata": {
        "id": "8LkT_6XOfqYh"
      },
      "source": [
        "#fit model to matrix for 8 topics\n",
        "ldamodel = Lda(doc_term_matrix, num_topics=8, id2word=dictionary, passes=100)"
      ],
      "execution_count": null,
      "outputs": []
    },
    {
      "cell_type": "code",
      "metadata": {
        "colab": {
          "base_uri": "https://localhost:8080/"
        },
        "id": "eJgvAJ_Df3Ix",
        "outputId": "59f3bd38-2ee6-42ec-cf7a-02d93505b13f"
      },
      "source": [
        "for idx, topic in ldamodel.print_topics(-1):\n",
        "  print('Topics: {}  Words: {}'.format(idx, topic))"
      ],
      "execution_count": null,
      "outputs": [
        {
          "output_type": "stream",
          "text": [
            "Topics: 0  Words: 0.009*\"get\" + 0.009*\"hometown\" + 0.007*\"spirit\" + 0.007*\"setback\" + 0.006*\"young\" + 0.006*\"take\" + 0.006*\"must\" + 0.006*\"romance\" + 0.006*\"new\" + 0.005*\"grandparent\"\n",
            "Topics: 1  Words: 0.014*\"help\" + 0.011*\"love\" + 0.008*\"plan\" + 0.008*\"child\" + 0.007*\"life\" + 0.007*\"time\" + 0.007*\"family\" + 0.006*\"new\" + 0.006*\"party\" + 0.005*\"true\"\n",
            "Topics: 2  Words: 0.009*\"life\" + 0.008*\"help\" + 0.008*\"spirit\" + 0.008*\"holiday\" + 0.007*\"find\" + 0.007*\"bigcity\" + 0.007*\"sibling\" + 0.006*\"get\" + 0.006*\"year\" + 0.006*\"time\"\n",
            "Topics: 3  Words: 0.009*\"bigcity\" + 0.008*\"spirit\" + 0.007*\"parent\" + 0.007*\"life\" + 0.006*\"child\" + 0.006*\"love\" + 0.006*\"hometown\" + 0.005*\"santa\" + 0.004*\"altlife\" + 0.004*\"show\"\n",
            "Topics: 4  Words: 0.011*\"parent\" + 0.009*\"smalltown\" + 0.008*\"family\" + 0.008*\"new\" + 0.007*\"find\" + 0.007*\"familybiz\" + 0.007*\"takeover\" + 0.007*\"town\" + 0.007*\"bigcorp\" + 0.006*\"love\"\n",
            "Topics: 5  Words: 0.011*\"child\" + 0.008*\"parent\" + 0.006*\"love\" + 0.006*\"work\" + 0.006*\"family\" + 0.006*\"spirit\" + 0.006*\"santa\" + 0.005*\"must\" + 0.005*\"one\" + 0.005*\"forced\"\n",
            "Topics: 6  Words: 0.013*\"family\" + 0.012*\"child\" + 0.010*\"help\" + 0.008*\"parent\" + 0.008*\"hometown\" + 0.007*\"time\" + 0.006*\"otherman\" + 0.006*\"town\" + 0.005*\"two\" + 0.005*\"stranger\"\n",
            "Topics: 7  Words: 0.012*\"family\" + 0.009*\"smalltown\" + 0.009*\"love\" + 0.008*\"child\" + 0.007*\"life\" + 0.007*\"parent\" + 0.006*\"find\" + 0.006*\"one\" + 0.006*\"new\" + 0.005*\"way\"\n"
          ],
          "name": "stdout"
        }
      ]
    },
    {
      "cell_type": "code",
      "metadata": {
        "colab": {
          "base_uri": "https://localhost:8080/"
        },
        "id": "lZa4RbsviXZ_",
        "outputId": "a4b6114d-08c5-40fc-db09-1740edfbdbab"
      },
      "source": [
        "!pip install pyLDAvis"
      ],
      "execution_count": null,
      "outputs": [
        {
          "output_type": "stream",
          "text": [
            "Collecting pyLDAvis\n",
            "\u001b[?25l  Downloading https://files.pythonhosted.org/packages/24/38/6d81eff34c84c9158d3b7c846bff978ac88b0c2665548941946d3d591158/pyLDAvis-3.2.2.tar.gz (1.7MB)\n",
            "\u001b[K     |████████████████████████████████| 1.7MB 13.2MB/s \n",
            "\u001b[?25hRequirement already satisfied: wheel>=0.23.0 in /usr/local/lib/python3.7/dist-packages (from pyLDAvis) (0.36.2)\n",
            "Requirement already satisfied: numpy>=1.9.2 in /usr/local/lib/python3.7/dist-packages (from pyLDAvis) (1.19.5)\n",
            "Requirement already satisfied: scipy>=0.18.0 in /usr/local/lib/python3.7/dist-packages (from pyLDAvis) (1.4.1)\n",
            "Requirement already satisfied: joblib>=0.8.4 in /usr/local/lib/python3.7/dist-packages (from pyLDAvis) (1.0.1)\n",
            "Requirement already satisfied: jinja2>=2.7.2 in /usr/local/lib/python3.7/dist-packages (from pyLDAvis) (2.11.3)\n",
            "Requirement already satisfied: numexpr in /usr/local/lib/python3.7/dist-packages (from pyLDAvis) (2.7.3)\n",
            "Requirement already satisfied: future in /usr/local/lib/python3.7/dist-packages (from pyLDAvis) (0.16.0)\n",
            "Collecting funcy\n",
            "  Downloading https://files.pythonhosted.org/packages/66/89/479de0afbbfb98d1c4b887936808764627300208bb771fcd823403645a36/funcy-1.15-py2.py3-none-any.whl\n",
            "Requirement already satisfied: pandas>=0.17.0 in /usr/local/lib/python3.7/dist-packages (from pyLDAvis) (1.1.5)\n",
            "Requirement already satisfied: MarkupSafe>=0.23 in /usr/local/lib/python3.7/dist-packages (from jinja2>=2.7.2->pyLDAvis) (1.1.1)\n",
            "Requirement already satisfied: python-dateutil>=2.7.3 in /usr/local/lib/python3.7/dist-packages (from pandas>=0.17.0->pyLDAvis) (2.8.1)\n",
            "Requirement already satisfied: pytz>=2017.2 in /usr/local/lib/python3.7/dist-packages (from pandas>=0.17.0->pyLDAvis) (2018.9)\n",
            "Requirement already satisfied: six>=1.5 in /usr/local/lib/python3.7/dist-packages (from python-dateutil>=2.7.3->pandas>=0.17.0->pyLDAvis) (1.15.0)\n",
            "Building wheels for collected packages: pyLDAvis\n",
            "  Building wheel for pyLDAvis (setup.py) ... \u001b[?25l\u001b[?25hdone\n",
            "  Created wheel for pyLDAvis: filename=pyLDAvis-3.2.2-py2.py3-none-any.whl size=135593 sha256=66b4581b12b309328085e29fcc36efb457c4eb3387f98eb5ef5f5e17006ca79f\n",
            "  Stored in directory: /root/.cache/pip/wheels/74/df/b6/97234c8446a43be05c9a8687ee0db1f1b5ade5f27729187eae\n",
            "Successfully built pyLDAvis\n",
            "Installing collected packages: funcy, pyLDAvis\n",
            "Successfully installed funcy-1.15 pyLDAvis-3.2.2\n"
          ],
          "name": "stdout"
        }
      ]
    },
    {
      "cell_type": "code",
      "metadata": {
        "colab": {
          "base_uri": "https://localhost:8080/",
          "height": 915
        },
        "id": "2NJJf1FJiAR-",
        "outputId": "16462b40-43a0-45e4-81ef-7994226be64d"
      },
      "source": [
        "import pyLDAvis.gensim\n",
        "pyLDAvis.enable_notebook()\n",
        "pyLDAvis.gensim.prepare(ldamodel, doc_term_matrix, dictionary)"
      ],
      "execution_count": null,
      "outputs": [
        {
          "output_type": "stream",
          "text": [
            "/usr/local/lib/python3.7/dist-packages/past/types/oldstr.py:5: DeprecationWarning: Using or importing the ABCs from 'collections' instead of from 'collections.abc' is deprecated since Python 3.3,and in 3.9 it will stop working\n",
            "  from collections import Iterable\n"
          ],
          "name": "stderr"
        },
        {
          "output_type": "execute_result",
          "data": {
            "text/html": [
              "\n",
              "<link rel=\"stylesheet\" type=\"text/css\" href=\"https://cdn.jsdelivr.net/gh/bmabey/pyLDAvis@3.2.2/pyLDAvis/js/ldavis.v1.0.0.css\">\n",
              "\n",
              "\n",
              "<div id=\"ldavis_el581402583887751202607686492\"></div>\n",
              "<script type=\"text/javascript\">\n",
              "\n",
              "var ldavis_el581402583887751202607686492_data = {\"mdsDat\": {\"x\": [0.07627735442986612, 0.042844812468980885, 0.032449802707639946, 0.0847613286105646, -0.11401482698166876, -0.054360825909383, -0.03260599317447411, -0.03535165215152569], \"y\": [0.001368812907596946, 0.09246482129664246, -0.07735494269861491, 0.014991165224098808, 0.03154974418339303, 0.06394233137122476, -0.08806021026042007, -0.038901722023920976], \"topics\": [1, 2, 3, 4, 5, 6, 7, 8], \"cluster\": [1, 1, 1, 1, 1, 1, 1, 1], \"Freq\": [19.67088456576473, 14.933715164315561, 12.077948713031963, 11.554794277968282, 10.741190198995195, 10.450057585886748, 10.358800307004042, 10.212609187033472]}, \"tinfo\": {\"Term\": [\"familybiz\", \"takeover\", \"plan\", \"grandparent\", \"hometown\", \"help\", \"bigcorp\", \"heart\", \"store\", \"party\", \"resort\", \"nick\", \"sibling\", \"bigcity\", \"unexpected\", \"otherman\", \"child\", \"determined\", \"time\", \"stranger\", \"joy\", \"romance\", \"school\", \"approaching\", \"tree\", \"new\", \"bos\", \"true\", \"forced\", \"get\", \"morning\", \"chris\", \"joe\", \"drake\", \"demi\", \"river\", \"rebecca\", \"importance\", \"taking\", \"seem\", \"prince\", \"painter\", \"trust\", \"chapter\", \"president\", \"drew\", \"coma\", \"drive\", \"prestigious\", \"blizzard\", \"passerby\", \"personality\", \"jordan\", \"green\", \"crawl\", \"repair\", \"risk\", \"worried\", \"befriends\", \"art\", \"jack\", \"happiness\", \"festival\", \"offer\", \"promotion\", \"face\", \"doesnt\", \"task\", \"realize\", \"family\", \"still\", \"show\", \"smalltown\", \"never\", \"shes\", \"secret\", \"real\", \"estate\", \"gift\", \"way\", \"love\", \"day\", \"one\", \"find\", \"life\", \"child\", \"together\", \"parent\", \"two\", \"new\", \"santa\", \"town\", \"school\", \"must\", \"imposter\", \"setback\", \"hometown\", \"spirit\", \"holiday\", \"take\", \"help\", \"get\", \"work\", \"meet\", \"nick\", \"fox\", \"scotty\", \"workaholic\", \"maybe\", \"candy\", \"cane\", \"mia\", \"wonderland\", \"mias\", \"training\", \"deliver\", \"recruit\", \"aside\", \"responsible\", \"majestic\", \"playhouse\", \"cafe\", \"oliver\", \"shane\", \"case\", \"campaign\", \"piano\", \"playing\", \"charity\", \"forward\", \"team\", \"much\", \"night\", \"duty\", \"shop\", \"forced\", \"work\", \"set\", \"child\", \"business\", \"owner\", \"joy\", \"school\", \"old\", \"parent\", \"whose\", \"interest\", \"santa\", \"plan\", \"falling\", \"must\", \"job\", \"familybiz\", \"one\", \"bigcorp\", \"bring\", \"together\", \"love\", \"meet\", \"spirit\", \"day\", \"family\", \"help\", \"takeover\", \"life\", \"take\", \"town\", \"find\", \"hometown\", \"bigcity\", \"inspire\", \"carnival\", \"homeless\", \"sleepy\", \"jim\", \"trisha\", \"rossmans\", \"dolly\", \"board\", \"favorite\", \"colleague\", \"oldest\", \"american\", \"ceramic\", \"rome\", \"questioning\", \"cut\", \"planner\", \"consisting\", \"flees\", \"foster\", \"hospitalized\", \"kindness\", \"occurs\", \"overdose\", \"protective\", \"wayward\", \"integrity\", \"journalistic\", \"relearn\", \"party\", \"cash\", \"guide\", \"soul\", \"five\", \"look\", \"possibly\", \"second\", \"close\", \"executive\", \"lost\", \"sell\", \"plan\", \"help\", \"company\", \"store\", \"true\", \"love\", \"heart\", \"tour\", \"time\", \"turn\", \"bos\", \"child\", \"new\", \"life\", \"unexpected\", \"dream\", \"job\", \"come\", \"nephew\", \"sibling\", \"wedding\", \"toy\", \"aunt\", \"like\", \"mixup\", \"family\", \"take\", \"smalltown\", \"year\", \"santa\", \"one\", \"get\", \"town\", \"bigcity\", \"holiday\", \"lodge\", \"cowboy\", \"evergreen\", \"filled\", \"resort\", \"reunited\", \"display\", \"gala\", \"julia\", \"mcdougal\", \"victoria\", \"allow\", \"practice\", \"san\", \"changed\", \"liz\", \"senova\", \"longer\", \"christmasthemed\", \"lot\", \"factory\", \"ski\", \"meeting\", \"determined\", \"clean\", \"grew\", \"indescribable\", \"instruction\", \"loaded\", \"maine\", \"forever\", \"vermont\", \"attend\", \"king\", \"mistletoe\", \"elf\", \"familybiz\", \"takeover\", \"cookie\", \"manager\", \"bigcorp\", \"parent\", \"smalltown\", \"land\", \"special\", \"new\", \"town\", \"find\", \"inn\", \"turn\", \"store\", \"heart\", \"romance\", \"family\", \"return\", \"plan\", \"two\", \"love\", \"bos\", \"hometown\", \"holiday\", \"help\", \"life\", \"bigcity\", \"child\", \"must\", \"go\", \"otherman\", \"aaron\", \"approval\", \"george\", \"marry\", \"told\", \"krissy\", \"act\", \"desperately\", \"cody\", \"picturesque\", \"matchmaker\", \"burn\", \"hillary\", \"julie\", \"adopted\", \"grand\", \"cape\", \"cod\", \"discovered\", \"gesture\", \"liver\", \"match\", \"month\", \"plight\", \"transplant\", \"continue\", \"scientist\", \"bravery\", \"dub\", \"hank\", \"stranger\", \"card\", \"newspaper\", \"recent\", \"movie\", \"living\", \"happy\", \"renewed\", \"valley\", \"searching\", \"california\", \"marketing\", \"otherman\", \"dog\", \"book\", \"child\", \"family\", \"help\", \"time\", \"hometown\", \"friend\", \"realizes\", \"tree\", \"parent\", \"town\", \"two\", \"way\", \"discovers\", \"sibling\", \"meet\", \"feel\", \"without\", \"magical\", \"fall\", \"three\", \"spirit\", \"grandparent\", \"young\", \"one\", \"together\", \"smalltown\", \"life\", \"love\", \"singleparent\", \"faith\", \"old\", \"charles\", \"christine\", \"emily\", \"heather\", \"swap\", \"stand\", \"club\", \"hanna\", \"skating\", \"north\", \"float\", \"cooking\", \"knowledge\", \"starting\", \"channel\", \"hour\", \"initiative\", \"sideline\", \"sit\", \"speak\", \"facing\", \"overcome\", \"checkbook\", \"greed\", \"maude\", \"poorly\", \"shown\", \"triumph\", \"wicked\", \"wickedness\", \"sculpting\", \"choir\", \"storm\", \"chronicle\", \"sending\", \"cast\", \"pole\", \"assignment\", \"ice\", \"surprise\", \"boyfriend\", \"death\", \"last\", \"bigcity\", \"big\", \"altlife\", \"news\", \"finally\", \"queen\", \"give\", \"spirit\", \"season\", \"life\", \"show\", \"santa\", \"parent\", \"first\", \"hometown\", \"wish\", \"love\", \"child\", \"young\", \"time\", \"whose\", \"make\", \"romance\", \"family\", \"year\", \"find\", \"need\", \"order\", \"singleparent\", \"past\", \"novelist\", \"cancelled\", \"leap\", \"column\", \"master\", \"winning\", \"lasting\", \"message\", \"shortly\", \"bookstore\", \"critic\", \"reconnect\", \"dancing\", \"mexico\", \"salsa\", \"studio\", \"eve\", \"burdened\", \"economic\", \"hardship\", \"sacrifice\", \"flowing\", \"freely\", \"lady\", \"merkle\", \"dose\", \"higher\", \"embarks\", \"married\", \"quest\", \"grandparent\", \"writer\", \"kind\", \"top\", \"money\", \"decorating\", \"lucky\", \"dy\", \"torn\", \"losing\", \"buy\", \"divorced\", \"interior\", \"get\", \"setback\", \"romance\", \"young\", \"back\", \"hometown\", \"unexpected\", \"decides\", \"must\", \"take\", \"spirit\", \"joy\", \"go\", \"local\", \"new\", \"wish\", \"also\", \"heart\", \"recently\", \"love\", \"come\", \"present\", \"home\", \"true\", \"find\", \"help\", \"time\", \"bos\", \"family\", \"holiday\", \"decorator\", \"klaus\", \"plaza\", \"investigative\", \"film\", \"themed\", \"lack\", \"window\", \"captivating\", \"celebrity\", \"wisconsin\", \"nilson\", \"bay\", \"approaching\", \"alice\", \"planted\", \"sitka\", \"escapedyears\", \"hamlet\", \"outofwork\", \"montana\", \"resistant\", \"citywide\", \"game\", \"incompatible\", \"humanitarian\", \"powerhouse\", \"reignite\", \"stockbroker\", \"compete\", \"actress\", \"12\", \"sweetheart\", \"ranch\", \"duo\", \"designer\", \"bride\", \"ornament\", \"hoping\", \"star\", \"fast\", \"flight\", \"beautiful\", \"handsome\", \"writing\", \"sibling\", \"holiday\", \"year\", \"high\", \"life\", \"bigcity\", \"spirit\", \"find\", \"help\", \"get\", \"time\", \"tree\", \"meet\", \"hometown\", \"rival\", \"smalltown\", \"new\", \"spark\", \"family\", \"back\", \"romance\", \"day\", \"setback\", \"together\", \"parent\", \"former\", \"school\"], \"Freq\": [14.0, 14.0, 23.0, 7.0, 40.0, 50.0, 15.0, 13.0, 13.0, 9.0, 5.0, 6.0, 23.0, 30.0, 14.0, 14.0, 54.0, 7.0, 31.0, 8.0, 9.0, 21.0, 18.0, 5.0, 10.0, 34.0, 19.0, 16.0, 11.0, 30.0, 3.361737441291763, 3.361737441291763, 3.3617271371505484, 2.546770831925907, 2.546770831925907, 2.546770831925907, 2.5467596394966567, 2.5465064774064747, 4.991698729925404, 4.17655837141976, 4.176726790831333, 1.7318044002176582, 1.731804222560051, 1.731804222560051, 1.7318040449024439, 1.7318040449024439, 1.7318040449024439, 1.7318040449024439, 1.7318040449024439, 1.7318040449024439, 1.7318040449024439, 1.7318040449024439, 1.7318040449024439, 1.7318040449024439, 1.7318040449024439, 1.7318040449024439, 1.7318040449024439, 1.7317923195003724, 1.7313694943953668, 3.3617452582264775, 4.991689491729832, 3.361557651793332, 3.361560138999832, 4.176788970993834, 3.3617402838134773, 3.3615487689129746, 3.337855639793663, 2.546787887056193, 2.546782202012764, 18.80405572741433, 4.952262649606528, 7.4283143838017915, 13.263807512374074, 4.176743845961619, 3.361706884183334, 3.36172145210712, 5.8066120420091165, 4.17677866685262, 4.176495125311616, 8.073815533603133, 13.091365932574663, 7.195739967766306, 8.843119874150103, 9.881584017087183, 10.696409210997752, 11.511201715908605, 7.563546643730283, 10.5717774251724, 7.436671397641901, 8.515210832968364, 7.110477107684328, 7.619595486893306, 5.806585748683259, 6.579174267755914, 5.713337179160105, 6.27842196840239, 7.436360141514183, 6.932880614755993, 6.4166445611743494, 6.092480542351232, 6.5813260566936576, 5.806676354062903, 5.256393286017526, 5.26868363927983, 5.525829459150049, 2.4235605023876428, 2.4235605023876428, 2.4221769663469477, 1.6480211146488253, 1.6480211146488253, 1.6480211146488253, 1.6480211146488253, 1.6480211146488253, 1.6480211146488253, 1.6480211146488253, 1.6480211146488253, 1.6480211146488253, 1.6480209797749668, 1.6480209797749668, 1.6480209797749668, 1.6480209797749668, 1.6480209797749668, 1.6480207100272497, 1.6480207100272497, 1.6480207100272497, 1.6480207100272497, 1.6479975117235843, 1.6479975117235843, 1.647950170999244, 1.6479304794159, 4.749229018766258, 4.088387574177315, 2.423583700691308, 2.4235818124572885, 3.9747420517454692, 6.30148794050594, 7.197644885045061, 4.725516036456759, 12.966792179918977, 4.750206584492808, 5.374239874100859, 3.9746616669257917, 5.80280479651979, 3.974828640762639, 9.629661169118737, 3.1991685409204464, 2.4235742595212115, 6.412034870912153, 5.868410678276374, 3.9747420517454692, 6.341731602411046, 4.835056268382981, 4.575340468940289, 6.321052742422806, 4.575311336186849, 3.1991901207378097, 5.563614640362059, 7.463172668799084, 5.484493858486368, 6.434728206851243, 4.750238954218853, 7.126645127938557, 5.953488568735162, 3.974677042545663, 5.525600173590566, 4.691811598708122, 4.767305352780501, 4.750111093800976, 4.750025853522391, 4.544174357208992, 1.5659230785709835, 1.5659230785709835, 1.5659229694889816, 1.5659229694889816, 1.5659229694889816, 1.5659229694889816, 1.5659229694889816, 1.5659229694889816, 1.5659227513249776, 1.5659227513249776, 1.5659227513249776, 1.5659227513249776, 1.5659227513249776, 1.5659227513249776, 1.5659227513249776, 1.5657990523348229, 1.5651159808389246, 3.0397530225457863, 0.8290181421277566, 0.8290181421277566, 0.8290181421277566, 0.8290181421277566, 0.8290181421277566, 0.8290181421277566, 0.8290181421277566, 0.8290181421277566, 0.8290181421277566, 0.8290181421277566, 0.8290181421277566, 0.8290181421277566, 5.25053693532367, 1.5659339867711735, 1.565950567235462, 1.565937695559238, 1.5659259147030329, 1.5659304961471125, 1.565930168901107, 1.5659640934036978, 1.5659512217274736, 3.039330657034429, 3.03947420894893, 2.302882283310155, 7.8021835600990785, 13.356869478040753, 4.5136142730551345, 4.513606419150998, 5.057145017826956, 10.679291172695727, 4.513646561327698, 2.3028678844859045, 6.586864325377301, 3.776732189291306, 4.651683289812174, 7.4612429635521975, 5.9874473804079935, 6.699360593936887, 3.7766684854021966, 3.039818035418919, 4.027929713890943, 3.7767867302922564, 2.3029184985347864, 4.51359158399874, 3.5099904794209036, 3.372062614774323, 3.039772002814117, 2.30275967514002, 3.6374637068413733, 6.21802098907238, 4.513609473447051, 4.980026660451623, 3.7767077549228807, 3.7767112455469416, 3.776716045155025, 3.7766087084651554, 3.776588201048798, 3.3245563121268056, 3.3290164570204976, 2.278393578691025, 2.278393578691025, 2.278393578691025, 2.278393578691025, 4.4657134357652595, 1.5493075875927589, 1.5493075875927589, 1.5493075875927589, 1.5493075875927589, 1.5493073788784943, 1.5493073788784943, 1.5493073788784943, 1.5493073788784943, 1.5493073788784943, 1.549307274521362, 1.549307274521362, 1.549307274521362, 1.549182776462565, 1.549182776462565, 3.001390018049995, 3.0075180775710986, 2.278423007402325, 2.278415284974537, 4.4405909171713365, 0.8202216486730588, 0.8202216486730588, 0.8202216486730588, 0.8202216486730588, 0.8202216486730588, 0.8202216486730588, 1.5493162492347372, 1.5493081093784202, 1.548538892956465, 2.2784363651152555, 1.549321988877012, 1.5492443471706039, 6.653043937266985, 6.653009290699072, 2.278400048833226, 3.0075072244293426, 5.923905245816923, 9.93648623812849, 8.364076381665404, 3.0074544197204145, 3.007265742025272, 6.76000832812865, 6.473507092054246, 6.653157477826894, 3.0075328962838808, 3.665248731551944, 3.7365885194566566, 3.665210328127269, 4.4306961913181135, 7.1695403617203315, 3.8970960503143983, 4.359184422859421, 4.344005051828094, 5.194812888933588, 3.7367033123021525, 4.5446637806120895, 4.220744668619823, 4.64677264282354, 4.465588207206537, 3.666721419402525, 3.290609966134272, 3.137973676335056, 3.007545836568282, 3.007526008713151, 2.240997326001118, 2.2409971319829847, 2.2409971319829847, 1.5238779799019018, 1.5238779799019018, 1.5238779799019018, 1.5238777858837689, 1.5238777858837689, 1.5238777858837689, 1.5238777858837689, 1.5238777858837689, 1.5238777858837689, 1.5238777858837689, 1.5238777858837689, 1.5238777858837689, 1.5238777858837689, 1.5238777858837689, 1.5238777858837689, 0.8067590218389518, 0.8067590218389518, 0.8067590218389518, 0.8067590218389518, 0.8067590218389518, 0.8067590218389518, 0.8067590218389518, 0.8067590218389518, 0.8067589248298853, 0.8067589248298853, 0.8067589248298853, 0.8067589248298853, 4.317833969516206, 1.5238887479082817, 1.5238858376362872, 1.523885643618154, 1.523882636337093, 1.5238899120170795, 1.5238877778176168, 1.523885643618154, 2.9580986284139676, 1.5238863226816195, 1.523883994464024, 1.523743234308555, 5.109722859590049, 2.241041756153568, 2.9581752655764904, 10.129625412558568, 10.710899082497185, 8.15652386214338, 5.826836385145276, 6.543906450638717, 3.675418201226407, 2.2410524271508807, 2.958208830713494, 6.543913435291504, 5.1097053979580815, 4.392521249802454, 4.177917016853397, 2.5907540083216762, 3.6753169237609975, 3.67539026261526, 2.2410076089621653, 2.2411181992979574, 2.241058053676737, 2.958300407272255, 2.241031279174387, 3.6752560020672456, 2.24101381754242, 2.9581430585664177, 2.958139760258157, 2.4285876382244305, 2.5039336100721066, 2.450198153947001, 2.381690933250201, 2.2411273181502067, 2.241084052106555, 2.241082305943358, 2.930522216629542, 2.220092788555082, 2.2200925997956777, 1.5096631717212172, 1.5096631717212172, 1.5096629829618131, 1.5096629829618131, 1.5096629829618131, 2.2201090218638417, 2.2201058129539706, 2.2201329943081736, 0.7992334605076508, 0.7992334605076508, 0.7992334605076508, 0.7992334605076508, 0.7992334605076508, 0.7992334605076508, 0.7992334605076508, 0.7992334605076508, 0.7992334605076508, 0.7992334605076508, 0.7992334605076508, 0.7992333661279486, 0.7992333661279486, 0.7992333661279486, 0.7992333661279486, 0.7992333661279486, 0.7992333661279486, 0.7992333661279486, 0.7992333661279486, 1.5096802544472963, 1.5096687401236408, 1.509667890706322, 1.5096715715147038, 1.5096533562321997, 1.5096956383387377, 1.5096707220973848, 2.220113174570734, 2.22012921912009, 2.930566575089526, 2.930625845542441, 2.2201373357744703, 2.2201590431059515, 7.193494802306289, 2.220150171413955, 3.641215719110461, 1.509675818601298, 1.509652789953987, 1.5096580752173043, 2.8443346726774976, 6.4828352765181245, 3.64105791624856, 5.772337706298752, 3.641074904594937, 4.351635142936499, 5.772364887652955, 2.930571294074631, 5.0618318306655965, 2.9306445327234556, 5.061835228334871, 5.061868449990008, 3.640990340381861, 3.6409318249665628, 2.220158099308931, 2.930544301479832, 2.930623580429591, 3.6407562787206684, 2.93052391546418, 2.930475781816112, 2.2202285065666927, 2.220203967844148, 2.220181882993858, 2.220175276414712, 2.921785414966561, 2.213456239131006, 1.5051623337234445, 1.5051623337234445, 1.5051621466124208, 1.5051621466124208, 1.5051621466124208, 1.5051621466124208, 1.5051621466124208, 1.5051621466124208, 1.5051621466124208, 1.5051453066202753, 1.5051283730726182, 1.5051283730726182, 1.5051283730726182, 1.5051283730726182, 2.1255192970364085, 0.7968507463241303, 0.7968507463241303, 0.7968507463241303, 0.7968507463241303, 0.7968507463241303, 0.7968507463241303, 0.7968507463241303, 0.7968507463241303, 0.7968507463241303, 0.7968507463241303, 0.7968507463241303, 0.7968507463241303, 0.7968507463241303, 4.338406718654951, 2.92186437581862, 2.2135080688846087, 2.213497777778298, 2.9213919204834324, 1.505171969941172, 1.505191523043163, 1.5051740281624342, 1.5051803899372447, 1.5051679470541597, 1.5050794435398849, 1.505197136373878, 1.505159433502575, 7.17203065829831, 5.552842211760177, 4.983151639259283, 5.192773241929719, 4.294582697318054, 7.0952784647645775, 3.6302300383038233, 2.921933232675392, 5.046913088630079, 5.130528140296096, 5.722425423327981, 2.9218488456036416, 3.6301881254344837, 3.5869535038226728, 4.616578690240261, 2.92188289980998, 2.921895436248577, 2.9218252696146383, 2.2135714995216897, 4.338328880469035, 2.9219049789107925, 2.1880257927703317, 2.577397284488741, 2.92188533225329, 3.630118894355664, 3.630022719289412, 3.067932970798814, 2.7892039696955426, 3.1512703497054573, 2.921795518961848, 1.4968705488303016, 1.4968705488303016, 1.4968705488303016, 1.4968703643599282, 1.4968703643599282, 1.4968703643599282, 1.4968703643599282, 1.4968701798895547, 1.4968701798895547, 1.4968701798895547, 1.4968567135522934, 1.4968429705094721, 1.4968429705094721, 3.6102128617321556, 2.2012718688708928, 0.7924608353877188, 0.7924608353877188, 0.7924608353877188, 0.7924608353877188, 0.7924608353877188, 0.7924608353877188, 0.7924608353877188, 0.7924608353877188, 0.7924608353877188, 0.7924608353877188, 0.7924608353877188, 0.7924608353877188, 0.7924608353877188, 0.7924608353877188, 0.7924607431525321, 1.496877281998932, 1.496872670239596, 2.8609890225881394, 2.905793924770901, 1.4968752528248244, 2.201032979737287, 1.4968856754009237, 1.49688493751943, 1.496876267411878, 2.905756292814719, 2.2013187243457466, 2.201298801545415, 2.200993134136624, 4.314732150576562, 2.201292898493465, 5.655006076098647, 6.3715985819439975, 5.019033395439561, 2.860979614599094, 7.13231455641262, 5.6686236790660365, 6.427881968643731, 5.723531285720649, 6.427898939918087, 5.01916252470097, 5.018985433142467, 2.905856460227497, 4.269643532959448, 5.018645638714589, 2.9058638390424347, 4.882750741889817, 4.389717881617203, 2.200668835220115, 4.899861475848679, 2.905785254663349, 2.9692598499309195, 2.90572954461057, 2.9056837959579567, 2.905720321091898, 2.9056247654384557, 2.256138154161855, 2.2670905291737737], \"Total\": [14.0, 14.0, 23.0, 7.0, 40.0, 50.0, 15.0, 13.0, 13.0, 9.0, 5.0, 6.0, 23.0, 30.0, 14.0, 14.0, 54.0, 7.0, 31.0, 8.0, 9.0, 21.0, 18.0, 5.0, 10.0, 34.0, 19.0, 16.0, 11.0, 30.0, 3.9969625306677514, 3.9969625327736034, 3.996962735158103, 3.181995909772497, 3.181995909772497, 3.181995909772497, 3.181995574688858, 3.181968854174526, 6.355984786360728, 5.529030298987036, 5.587470193040589, 2.3670294780642482, 2.367029300406641, 2.367029300406641, 2.367029122749034, 2.367029122749034, 2.367029122749034, 2.367029122749034, 2.367029122749034, 2.367029122749034, 2.367029122749034, 2.367029122749034, 2.367029122749034, 2.367029122749034, 2.367029122749034, 2.367029128812101, 2.3670291638334007, 2.367028988069179, 2.3669849566352292, 4.705275228557244, 7.0523290241628995, 4.733849287046084, 4.772478602578671, 7.0287915355374135, 5.548041894859804, 5.548017923732755, 5.508242241397136, 3.8903101583885125, 3.9575362654518336, 61.721049392917585, 10.04884520648988, 18.21003354607418, 42.121838607804044, 8.397159341260544, 6.15472231631232, 6.171262680084417, 13.747947046049738, 8.48302736099983, 8.498648525189765, 22.78565756710205, 50.411651328418685, 19.88695189969136, 28.156776489655968, 36.678096743965085, 45.48082958260366, 54.14301619088261, 25.00353163724893, 50.15770913948416, 25.57112874156792, 34.9086633531314, 26.46644553460812, 33.672633936860585, 18.334178222986004, 27.08284680130128, 18.93888182434893, 24.595500008895684, 40.54282530475805, 39.88686834026508, 31.92787547111991, 28.38086138107317, 50.972748913936016, 30.235295321403857, 19.79451209469471, 26.817146172119152, 6.980832780273545, 3.0637140051448135, 3.0637140051448135, 3.063784691171341, 2.2881746174059963, 2.2881746174059963, 2.2881746174059963, 2.2881746174059963, 2.2881746174059963, 2.2881746174059963, 2.2881746174059963, 2.2881746174059963, 2.2881746174059963, 2.288174482532138, 2.288174482532138, 2.288174482532138, 2.288174482532138, 2.288174482532138, 2.288174212784421, 2.288174212784421, 2.288174212784421, 2.288174212784421, 2.288172619956789, 2.2881726316512276, 2.2881691973177585, 2.2881701160488217, 6.831613549049389, 6.238942853746243, 3.7681258930331882, 3.8786795175146143, 6.779252813981172, 11.458191556607643, 19.79451209469471, 11.1001003089085, 54.14301619088261, 12.233201641616533, 14.90915209928867, 9.610623084459963, 18.334178222986004, 10.440079438627537, 50.15770913948416, 7.383270206485723, 4.503230074946236, 26.46644553460812, 23.122553783098432, 11.396588184938407, 27.08284680130128, 16.531955919680023, 14.942586829495351, 28.156776489655968, 15.843446222767108, 8.328116853040143, 25.00353163724893, 50.411651328418685, 26.817146172119152, 39.88686834026508, 19.88695189969136, 61.721049392917585, 50.972748913936016, 14.990734241737783, 45.48082958260366, 28.38086138107317, 33.672633936860585, 36.678096743965085, 40.54282530475805, 30.91893855369857, 2.210905880922478, 2.210905880922478, 2.2109057718404763, 2.2109057718404763, 2.2109057718404763, 2.2109057718404763, 2.2109057718404763, 2.2109057718404763, 2.210905553676472, 2.210905553676472, 2.210905553676472, 2.210905553676472, 2.210905553676472, 2.210905553676472, 2.210905553676472, 2.210902655226357, 2.2108745989491534, 5.204093806262855, 1.4740009444792512, 1.4740009444792512, 1.4740009444792512, 1.4740009444792512, 1.4740009444792512, 1.4740009444792512, 1.4740009444792512, 1.4740009444792512, 1.4740009444792512, 1.4740009444792512, 1.4740009444792512, 1.4740009444792512, 9.67530476647526, 2.9153159935186643, 2.9213363481667414, 2.921335993181671, 2.9213355378897172, 2.986444914131327, 2.9864448566330384, 3.0258683250891325, 3.0258697548502833, 6.68692161395286, 6.70039074872685, 5.0815630914465935, 23.122553783098432, 50.972748913936016, 12.704534598159055, 13.148767001750118, 16.29493309937299, 50.411651328418685, 13.985963589505957, 5.183633712495848, 31.49985567407785, 12.552361541995438, 19.49052258092722, 54.14301619088261, 34.9086633531314, 45.48082958260366, 14.016175648695075, 9.03432109246171, 16.531955919680023, 15.544699996747653, 5.188208802234765, 23.37468579389029, 13.336208106900727, 12.223608824448394, 9.858028308535655, 5.392708015543377, 15.734509462557149, 61.721049392917585, 28.38086138107317, 42.121838607804044, 22.084768505679033, 26.46644553460812, 28.156776489655968, 30.235295321403857, 33.672633936860585, 30.91893855369857, 31.92787547111991, 2.9243537625505858, 2.9243537625505858, 2.9243537625505858, 2.9243537625505858, 5.848515109410904, 2.195267771452319, 2.195267771452319, 2.195267771452319, 2.195267771452319, 2.1952675627380547, 2.1952675627380547, 2.1952675627380547, 2.1952675627380547, 2.1952675627380547, 2.1952674583809224, 2.1952674583809224, 2.1952674583809224, 2.195264319362742, 2.195264319362742, 4.429351718190274, 4.468401677790777, 3.699891203969365, 3.699891911157734, 7.357089196423418, 1.4661818325326195, 1.4661818325326195, 1.4661818325326195, 1.4661818325326195, 1.4661818325326195, 1.4661818325326195, 2.903579600497539, 2.903579412859735, 2.903553492268307, 4.417010861615053, 2.9056976857650167, 2.9057048731834842, 14.942586829495351, 14.990734241737783, 4.55428632291301, 6.611099949700848, 15.843446222767108, 50.15770913948416, 42.121838607804044, 7.337022852216935, 7.438203955395997, 34.9086633531314, 33.672633936860585, 36.678096743965085, 8.058553495896668, 12.552361541995438, 13.148767001750118, 13.985963589505957, 21.220421446135923, 61.721049392917585, 16.358058796191003, 23.122553783098432, 25.57112874156792, 50.411651328418685, 19.49052258092722, 40.54282530475805, 31.92787547111991, 50.972748913936016, 45.48082958260366, 30.91893855369857, 54.14301619088261, 27.08284680130128, 16.016121437213336, 14.798413247198557, 2.8884533582155054, 2.8884531641973723, 2.8884531757267706, 2.171334012116289, 2.171334012116289, 2.171334012116289, 2.1713338180981565, 2.1713338180981565, 2.1713338180981565, 2.1713338180981565, 2.1713338180981565, 2.1713338180981565, 2.1713338180981565, 2.1713338180981565, 2.1713338180981565, 2.1713338180981565, 2.1713338180981565, 2.1713338180981565, 1.4542150540533396, 1.4542150540533396, 1.4542150540533396, 1.4542150540533396, 1.4542150540533396, 1.4542150540533396, 1.4542150540533396, 1.4542150540533396, 1.454214957044273, 1.454214957044273, 1.454214957044273, 1.454214957044273, 8.655687089383271, 2.875744085183468, 2.8757438413022722, 2.8757441084600726, 2.8757439604697996, 2.8796459307473032, 2.881764024288048, 2.881763966442031, 6.050471804338995, 2.9468727566640007, 2.9468727213020003, 2.9863029348505976, 14.798413247198557, 5.070575142386254, 7.964543772642486, 54.14301619088261, 61.721049392917585, 50.972748913936016, 31.49985567407785, 40.54282530475805, 14.815542206390436, 5.962804513191471, 10.273078231941053, 50.15770913948416, 33.672633936860585, 25.57112874156792, 22.78565756710205, 8.197288842870654, 23.37468579389029, 26.817146172119152, 6.592174166047241, 6.63670660305709, 6.636631196906249, 15.563180108081456, 6.856631917913881, 39.88686834026508, 7.9532843175714465, 22.83598968075251, 28.156776489655968, 25.00353163724893, 42.121838607804044, 45.48082958260366, 50.411651328418685, 13.135351050911881, 8.890096378858756, 10.440079438627537, 3.5788144289523696, 2.8683850008779093, 2.868384812118505, 2.1579553840440444, 2.1579553840440444, 2.1579551952846403, 2.1579551952846403, 2.1579551952846403, 3.5974706520678668, 3.6439233018381674, 3.683345889422264, 1.4475256728304784, 1.4475256728304784, 1.4475256728304784, 1.4475256728304784, 1.4475256728304784, 1.4475256728304784, 1.4475256728304784, 1.4475256728304784, 1.4475256728304784, 1.4475256728304784, 1.4475256728304784, 1.4475255784507761, 1.4475255784507761, 1.4475255784507761, 1.4475255784507761, 1.4475255784507761, 1.4475255784507761, 1.4475255784507761, 1.4475255784507761, 2.8662775108110368, 2.866267020070579, 2.8750742833955747, 2.8870407676108183, 2.894863595043752, 2.9334917317239046, 2.933493943120569, 5.014093437282433, 5.0348796268284355, 7.282184256578205, 7.921586556094775, 5.769858881677308, 5.917029858334397, 30.91893855369857, 5.990972699128731, 12.32393120321982, 3.5922059068515733, 3.6031759830697117, 3.6161271419102765, 9.75094734318649, 39.88686834026508, 17.535110458121224, 45.48082958260366, 18.21003354607418, 26.46644553460812, 50.15770913948416, 12.08513562372334, 40.54282530475805, 12.246257773957847, 50.411651328418685, 54.14301619088261, 22.83598968075251, 31.49985567407785, 7.383270206485723, 19.47579431577146, 21.220421446135923, 61.721049392917585, 22.084768505679033, 36.678096743965085, 11.795294589749634, 8.197455937276471, 13.135351050911881, 10.905794866200802, 3.5703423693772915, 2.862033613062958, 2.1537192881341753, 2.1537192881341753, 2.1537191010231513, 2.1537191010231513, 2.1537191010231513, 2.1537191010231513, 2.1537191010231513, 2.1537191010231513, 2.1537191125525497, 2.153719203481867, 2.153719252737965, 2.153719252737965, 2.153719252737965, 2.153719252737965, 3.60248727042282, 1.4454077007348614, 1.4454077007348614, 1.4454077007348614, 1.4454077007348614, 1.4454077007348614, 1.4454077007348614, 1.4454077007348614, 1.4454077007348614, 1.4454077007348614, 1.4454077007348614, 1.4454077007348614, 1.4454077007348614, 1.4454077007348614, 7.9532843175714465, 5.748561321252515, 4.28355984396063, 4.303346487201155, 5.859153620868009, 2.8708384967876706, 2.8828045087704557, 2.882804939989616, 2.8906237095803786, 2.890624083832517, 2.8906266808597945, 2.929255611657448, 2.9292573256238805, 30.235295321403857, 24.595500008895684, 21.220421446135923, 22.83598968075251, 16.887157287134702, 40.54282530475805, 14.016175648695075, 9.528203778054003, 27.08284680130128, 28.38086138107317, 39.88686834026508, 9.610623084459963, 16.016121437213336, 17.01052856924193, 34.9086633531314, 12.246257773957847, 12.293662209231984, 13.985963589505957, 6.571538724495298, 50.411651328418685, 15.544699996747653, 6.676436670357098, 10.969677818840129, 16.29493309937299, 36.678096743965085, 50.972748913936016, 31.49985567407785, 19.49052258092722, 61.721049392917585, 31.92787547111991, 2.145915266639201, 2.145915266639201, 2.145915266639201, 2.1459150821688278, 2.1459150821688278, 2.1459150821688278, 2.1459150821688278, 2.145914897698454, 2.145914897698454, 2.145914897698454, 2.1459155978418982, 2.1459160538913866, 2.145916066936028, 5.74297434173338, 3.5872303862680566, 1.4415055531966183, 1.4415055531966183, 1.4415055531966183, 1.4415055531966183, 1.4415055531966183, 1.4415055531966183, 1.4415055531966183, 1.4415055531966183, 1.4415055531966183, 1.4415055531966183, 1.4415055531966183, 1.4415055531966183, 1.4415055531966183, 1.4415055531966183, 1.4415054609614315, 2.8563448566955336, 2.856355207140588, 5.790001569681344, 5.913750025918854, 2.8828198620343626, 4.440815625542099, 2.9214530397309515, 2.9214531110926094, 2.921454017029012, 6.775167054882842, 5.005970855345504, 5.034563830616652, 5.217160227512548, 13.316148112372408, 5.713152657938713, 23.37468579389029, 31.92787547111991, 22.084768505679033, 9.010443874187004, 45.48082958260366, 30.91893855369857, 39.88686834026508, 36.678096743965085, 50.972748913936016, 30.235295321403857, 31.49985567407785, 10.273078231941053, 26.817146172119152, 40.54282530475805, 10.921560565013259, 42.121838607804044, 34.9086633531314, 5.953274703697298, 61.721049392917585, 16.887157287134702, 21.220421446135923, 19.88695189969136, 24.595500008895684, 25.00353163724893, 50.15770913948416, 10.267851869874962, 18.334178222986004], \"Category\": [\"Default\", \"Default\", \"Default\", \"Default\", \"Default\", \"Default\", \"Default\", \"Default\", \"Default\", \"Default\", \"Default\", \"Default\", \"Default\", \"Default\", \"Default\", \"Default\", \"Default\", \"Default\", \"Default\", \"Default\", \"Default\", \"Default\", \"Default\", \"Default\", \"Default\", \"Default\", \"Default\", \"Default\", \"Default\", \"Default\", \"Topic1\", \"Topic1\", \"Topic1\", \"Topic1\", \"Topic1\", \"Topic1\", \"Topic1\", \"Topic1\", \"Topic1\", \"Topic1\", \"Topic1\", \"Topic1\", \"Topic1\", \"Topic1\", \"Topic1\", \"Topic1\", \"Topic1\", \"Topic1\", \"Topic1\", \"Topic1\", \"Topic1\", \"Topic1\", \"Topic1\", \"Topic1\", \"Topic1\", \"Topic1\", \"Topic1\", \"Topic1\", \"Topic1\", \"Topic1\", \"Topic1\", \"Topic1\", \"Topic1\", \"Topic1\", \"Topic1\", \"Topic1\", \"Topic1\", \"Topic1\", \"Topic1\", \"Topic1\", \"Topic1\", \"Topic1\", \"Topic1\", \"Topic1\", \"Topic1\", \"Topic1\", \"Topic1\", \"Topic1\", \"Topic1\", \"Topic1\", \"Topic1\", \"Topic1\", \"Topic1\", \"Topic1\", \"Topic1\", \"Topic1\", \"Topic1\", \"Topic1\", \"Topic1\", \"Topic1\", \"Topic1\", \"Topic1\", \"Topic1\", \"Topic1\", \"Topic1\", \"Topic1\", \"Topic1\", \"Topic1\", \"Topic1\", \"Topic1\", \"Topic1\", \"Topic1\", \"Topic1\", \"Topic1\", \"Topic2\", \"Topic2\", \"Topic2\", \"Topic2\", \"Topic2\", \"Topic2\", \"Topic2\", \"Topic2\", \"Topic2\", \"Topic2\", \"Topic2\", \"Topic2\", \"Topic2\", \"Topic2\", \"Topic2\", \"Topic2\", \"Topic2\", \"Topic2\", \"Topic2\", \"Topic2\", \"Topic2\", \"Topic2\", \"Topic2\", \"Topic2\", \"Topic2\", \"Topic2\", \"Topic2\", \"Topic2\", \"Topic2\", \"Topic2\", \"Topic2\", \"Topic2\", \"Topic2\", \"Topic2\", \"Topic2\", \"Topic2\", \"Topic2\", \"Topic2\", \"Topic2\", \"Topic2\", \"Topic2\", \"Topic2\", \"Topic2\", \"Topic2\", \"Topic2\", \"Topic2\", \"Topic2\", \"Topic2\", \"Topic2\", \"Topic2\", \"Topic2\", \"Topic2\", \"Topic2\", \"Topic2\", \"Topic2\", \"Topic2\", \"Topic2\", \"Topic2\", \"Topic2\", \"Topic2\", \"Topic2\", \"Topic2\", \"Topic2\", \"Topic2\", \"Topic2\", \"Topic2\", \"Topic3\", \"Topic3\", \"Topic3\", \"Topic3\", \"Topic3\", \"Topic3\", \"Topic3\", \"Topic3\", \"Topic3\", \"Topic3\", \"Topic3\", \"Topic3\", \"Topic3\", \"Topic3\", \"Topic3\", \"Topic3\", \"Topic3\", \"Topic3\", \"Topic3\", \"Topic3\", \"Topic3\", \"Topic3\", \"Topic3\", \"Topic3\", \"Topic3\", \"Topic3\", \"Topic3\", \"Topic3\", \"Topic3\", \"Topic3\", \"Topic3\", \"Topic3\", \"Topic3\", \"Topic3\", \"Topic3\", \"Topic3\", \"Topic3\", \"Topic3\", \"Topic3\", \"Topic3\", \"Topic3\", \"Topic3\", \"Topic3\", \"Topic3\", \"Topic3\", \"Topic3\", \"Topic3\", \"Topic3\", \"Topic3\", \"Topic3\", \"Topic3\", \"Topic3\", \"Topic3\", \"Topic3\", \"Topic3\", \"Topic3\", \"Topic3\", \"Topic3\", \"Topic3\", \"Topic3\", \"Topic3\", \"Topic3\", \"Topic3\", \"Topic3\", \"Topic3\", \"Topic3\", \"Topic3\", \"Topic3\", \"Topic3\", \"Topic3\", \"Topic3\", \"Topic3\", \"Topic3\", \"Topic3\", \"Topic3\", \"Topic3\", \"Topic3\", \"Topic4\", \"Topic4\", \"Topic4\", \"Topic4\", \"Topic4\", \"Topic4\", \"Topic4\", \"Topic4\", \"Topic4\", \"Topic4\", \"Topic4\", \"Topic4\", \"Topic4\", \"Topic4\", \"Topic4\", \"Topic4\", \"Topic4\", \"Topic4\", \"Topic4\", \"Topic4\", \"Topic4\", \"Topic4\", \"Topic4\", \"Topic4\", \"Topic4\", \"Topic4\", \"Topic4\", \"Topic4\", \"Topic4\", \"Topic4\", \"Topic4\", \"Topic4\", \"Topic4\", \"Topic4\", \"Topic4\", \"Topic4\", \"Topic4\", \"Topic4\", \"Topic4\", \"Topic4\", \"Topic4\", \"Topic4\", \"Topic4\", \"Topic4\", \"Topic4\", \"Topic4\", \"Topic4\", \"Topic4\", \"Topic4\", \"Topic4\", \"Topic4\", \"Topic4\", \"Topic4\", \"Topic4\", \"Topic4\", \"Topic4\", \"Topic4\", \"Topic4\", \"Topic4\", \"Topic4\", \"Topic4\", \"Topic4\", \"Topic4\", \"Topic4\", \"Topic4\", \"Topic4\", \"Topic4\", \"Topic4\", \"Topic5\", \"Topic5\", \"Topic5\", \"Topic5\", \"Topic5\", \"Topic5\", \"Topic5\", \"Topic5\", \"Topic5\", \"Topic5\", \"Topic5\", \"Topic5\", \"Topic5\", \"Topic5\", \"Topic5\", \"Topic5\", \"Topic5\", \"Topic5\", \"Topic5\", \"Topic5\", \"Topic5\", \"Topic5\", \"Topic5\", \"Topic5\", \"Topic5\", \"Topic5\", \"Topic5\", \"Topic5\", \"Topic5\", \"Topic5\", \"Topic5\", \"Topic5\", \"Topic5\", \"Topic5\", \"Topic5\", \"Topic5\", \"Topic5\", \"Topic5\", \"Topic5\", \"Topic5\", \"Topic5\", \"Topic5\", \"Topic5\", \"Topic5\", \"Topic5\", \"Topic5\", \"Topic5\", \"Topic5\", \"Topic5\", \"Topic5\", \"Topic5\", \"Topic5\", \"Topic5\", \"Topic5\", \"Topic5\", \"Topic5\", \"Topic5\", \"Topic5\", \"Topic5\", \"Topic5\", \"Topic5\", \"Topic5\", \"Topic5\", \"Topic5\", \"Topic5\", \"Topic5\", \"Topic5\", \"Topic5\", \"Topic5\", \"Topic5\", \"Topic5\", \"Topic5\", \"Topic5\", \"Topic5\", \"Topic5\", \"Topic5\", \"Topic6\", \"Topic6\", \"Topic6\", \"Topic6\", \"Topic6\", \"Topic6\", \"Topic6\", \"Topic6\", \"Topic6\", \"Topic6\", \"Topic6\", \"Topic6\", \"Topic6\", \"Topic6\", \"Topic6\", \"Topic6\", \"Topic6\", \"Topic6\", \"Topic6\", \"Topic6\", \"Topic6\", \"Topic6\", \"Topic6\", \"Topic6\", \"Topic6\", \"Topic6\", \"Topic6\", \"Topic6\", \"Topic6\", \"Topic6\", \"Topic6\", \"Topic6\", \"Topic6\", \"Topic6\", \"Topic6\", \"Topic6\", \"Topic6\", \"Topic6\", \"Topic6\", \"Topic6\", \"Topic6\", \"Topic6\", \"Topic6\", \"Topic6\", \"Topic6\", \"Topic6\", \"Topic6\", \"Topic6\", \"Topic6\", \"Topic6\", \"Topic6\", \"Topic6\", \"Topic6\", \"Topic6\", \"Topic6\", \"Topic6\", \"Topic6\", \"Topic6\", \"Topic6\", \"Topic6\", \"Topic6\", \"Topic6\", \"Topic6\", \"Topic6\", \"Topic6\", \"Topic6\", \"Topic6\", \"Topic6\", \"Topic6\", \"Topic6\", \"Topic6\", \"Topic6\", \"Topic6\", \"Topic7\", \"Topic7\", \"Topic7\", \"Topic7\", \"Topic7\", \"Topic7\", \"Topic7\", \"Topic7\", \"Topic7\", \"Topic7\", \"Topic7\", \"Topic7\", \"Topic7\", \"Topic7\", \"Topic7\", \"Topic7\", \"Topic7\", \"Topic7\", \"Topic7\", \"Topic7\", \"Topic7\", \"Topic7\", \"Topic7\", \"Topic7\", \"Topic7\", \"Topic7\", \"Topic7\", \"Topic7\", \"Topic7\", \"Topic7\", \"Topic7\", \"Topic7\", \"Topic7\", \"Topic7\", \"Topic7\", \"Topic7\", \"Topic7\", \"Topic7\", \"Topic7\", \"Topic7\", \"Topic7\", \"Topic7\", \"Topic7\", \"Topic7\", \"Topic7\", \"Topic7\", \"Topic7\", \"Topic7\", \"Topic7\", \"Topic7\", \"Topic7\", \"Topic7\", \"Topic7\", \"Topic7\", \"Topic7\", \"Topic7\", \"Topic7\", \"Topic7\", \"Topic7\", \"Topic7\", \"Topic7\", \"Topic7\", \"Topic7\", \"Topic7\", \"Topic7\", \"Topic7\", \"Topic7\", \"Topic7\", \"Topic7\", \"Topic7\", \"Topic7\", \"Topic7\", \"Topic7\", \"Topic8\", \"Topic8\", \"Topic8\", \"Topic8\", \"Topic8\", \"Topic8\", \"Topic8\", \"Topic8\", \"Topic8\", \"Topic8\", \"Topic8\", \"Topic8\", \"Topic8\", \"Topic8\", \"Topic8\", \"Topic8\", \"Topic8\", \"Topic8\", \"Topic8\", \"Topic8\", \"Topic8\", \"Topic8\", \"Topic8\", \"Topic8\", \"Topic8\", \"Topic8\", \"Topic8\", \"Topic8\", \"Topic8\", \"Topic8\", \"Topic8\", \"Topic8\", \"Topic8\", \"Topic8\", \"Topic8\", \"Topic8\", \"Topic8\", \"Topic8\", \"Topic8\", \"Topic8\", \"Topic8\", \"Topic8\", \"Topic8\", \"Topic8\", \"Topic8\", \"Topic8\", \"Topic8\", \"Topic8\", \"Topic8\", \"Topic8\", \"Topic8\", \"Topic8\", \"Topic8\", \"Topic8\", \"Topic8\", \"Topic8\", \"Topic8\", \"Topic8\", \"Topic8\", \"Topic8\", \"Topic8\", \"Topic8\", \"Topic8\", \"Topic8\", \"Topic8\", \"Topic8\", \"Topic8\", \"Topic8\", \"Topic8\", \"Topic8\", \"Topic8\", \"Topic8\"], \"logprob\": [30.0, 29.0, 28.0, 27.0, 26.0, 25.0, 24.0, 23.0, 22.0, 21.0, 20.0, 19.0, 18.0, 17.0, 16.0, 15.0, 14.0, 13.0, 12.0, 11.0, 10.0, 9.0, 8.0, 7.0, 6.0, 5.0, 4.0, 3.0, 2.0, 1.0, -6.118, -6.118, -6.118, -6.3956, -6.3956, -6.3956, -6.3956, -6.3957, -5.7227, -5.901, -5.9009, -6.7813, -6.7813, -6.7813, -6.7813, -6.7813, -6.7813, -6.7813, -6.7813, -6.7813, -6.7813, -6.7813, -6.7813, -6.7813, -6.7813, -6.7813, -6.7813, -6.7813, -6.7815, -6.118, -5.7227, -6.118, -6.118, -5.9009, -6.118, -6.118, -6.1251, -6.3956, -6.3956, -4.3964, -5.7306, -5.3252, -4.7454, -5.9009, -6.118, -6.118, -5.5715, -5.9009, -5.901, -5.2418, -4.7585, -5.357, -5.1508, -5.0398, -4.9605, -4.8871, -5.3071, -4.9723, -5.324, -5.1886, -5.3689, -5.2997, -5.5715, -5.4465, -5.5876, -5.4933, -5.3241, -5.3942, -5.4716, -5.5234, -5.4462, -5.5714, -5.671, -5.6687, -5.3455, -6.1697, -6.1697, -6.1703, -6.5554, -6.5554, -6.5554, -6.5554, -6.5554, -6.5554, -6.5554, -6.5554, -6.5554, -6.5554, -6.5554, -6.5554, -6.5554, -6.5554, -6.5554, -6.5554, -6.5554, -6.5554, -6.5554, -6.5554, -6.5554, -6.5554, -5.4969, -5.6468, -6.1697, -6.1697, -5.675, -5.2141, -5.0812, -5.502, -4.4925, -5.4967, -5.3733, -5.675, -5.2966, -5.6749, -4.7901, -5.892, -6.1697, -5.1968, -5.2853, -5.675, -5.2078, -5.479, -5.5342, -5.211, -5.5343, -5.892, -5.3387, -5.045, -5.353, -5.1932, -5.4967, -5.0911, -5.271, -5.675, -5.3455, -5.5091, -5.4931, -5.4968, -5.4968, -5.5411, -6.3942, -6.3942, -6.3942, -6.3942, -6.3942, -6.3942, -6.3942, -6.3942, -6.3942, -6.3942, -6.3942, -6.3942, -6.3942, -6.3942, -6.3942, -6.3943, -6.3947, -5.7309, -7.0302, -7.0302, -7.0302, -7.0302, -7.0302, -7.0302, -7.0302, -7.0302, -7.0302, -7.0302, -7.0302, -7.0302, -5.1844, -6.3942, -6.3942, -6.3942, -6.3942, -6.3942, -6.3942, -6.3942, -6.3942, -5.7311, -5.731, -6.0085, -4.7883, -4.2507, -5.3356, -5.3356, -5.2219, -4.4744, -5.3356, -6.0085, -4.9576, -5.5138, -5.3055, -4.833, -5.053, -4.9407, -5.5138, -5.7309, -5.4494, -5.5138, -6.0085, -5.3356, -5.5871, -5.6272, -5.7309, -6.0086, -5.5514, -5.0152, -5.3356, -5.2373, -5.5138, -5.5138, -5.5138, -5.5139, -5.5139, -5.6414, -5.64, -5.9749, -5.9749, -5.9749, -5.9749, -5.302, -6.3606, -6.3606, -6.3606, -6.3606, -6.3606, -6.3606, -6.3606, -6.3606, -6.3606, -6.3606, -6.3606, -6.3606, -6.3607, -6.3607, -5.6993, -5.6973, -5.9749, -5.9749, -5.3076, -6.9966, -6.9966, -6.9966, -6.9966, -6.9966, -6.9966, -6.3606, -6.3606, -6.3611, -5.9749, -6.3606, -6.3606, -4.9033, -4.9033, -5.9749, -5.6973, -5.0194, -4.5022, -4.6745, -5.6973, -5.6974, -4.8874, -4.9307, -4.9033, -5.6973, -5.4995, -5.4802, -5.4995, -5.3099, -4.8286, -5.4382, -5.3261, -5.3296, -5.1507, -5.4802, -5.2845, -5.3584, -5.2622, -5.302, -5.4991, -5.6073, -5.6548, -5.6973, -5.6973, -5.9185, -5.9185, -5.9185, -6.3041, -6.3041, -6.3041, -6.3041, -6.3041, -6.3041, -6.3041, -6.3041, -6.3041, -6.3041, -6.3041, -6.3041, -6.3041, -6.3041, -6.3041, -6.9401, -6.9401, -6.9401, -6.9401, -6.9401, -6.9401, -6.9401, -6.9401, -6.9401, -6.9401, -6.9401, -6.9401, -5.2626, -6.3041, -6.3041, -6.3041, -6.3041, -6.3041, -6.3041, -6.3041, -5.6408, -6.3041, -6.3041, -6.3042, -5.0943, -5.9185, -5.6408, -4.4099, -4.3541, -4.6266, -4.9629, -4.8469, -5.4237, -5.9184, -5.6408, -4.8469, -5.0943, -5.2455, -5.2956, -5.7734, -5.4238, -5.4237, -5.9185, -5.9184, -5.9184, -5.6408, -5.9185, -5.4238, -5.9185, -5.6408, -5.6408, -5.8381, -5.8075, -5.8292, -5.8576, -5.9184, -5.9184, -5.9184, -5.6227, -5.9004, -5.9004, -6.286, -6.286, -6.286, -6.286, -6.286, -5.9004, -5.9004, -5.9004, -6.922, -6.922, -6.922, -6.922, -6.922, -6.922, -6.922, -6.922, -6.922, -6.922, -6.922, -6.922, -6.922, -6.922, -6.922, -6.922, -6.922, -6.922, -6.922, -6.286, -6.286, -6.286, -6.286, -6.286, -6.286, -6.286, -5.9004, -5.9004, -5.6227, -5.6227, -5.9003, -5.9003, -4.7247, -5.9003, -5.4056, -6.286, -6.286, -6.286, -5.6526, -4.8288, -5.4056, -4.9448, -5.4056, -5.2274, -4.9448, -5.6227, -5.0762, -5.6227, -5.0762, -5.0762, -5.4057, -5.4057, -5.9003, -5.6227, -5.6227, -5.4057, -5.6227, -5.6228, -5.9003, -5.9003, -5.9003, -5.9003, -5.617, -5.8946, -6.2802, -6.2802, -6.2802, -6.2802, -6.2802, -6.2802, -6.2802, -6.2802, -6.2802, -6.2803, -6.2803, -6.2803, -6.2803, -6.2803, -5.9351, -6.9162, -6.9162, -6.9162, -6.9162, -6.9162, -6.9162, -6.9162, -6.9162, -6.9162, -6.9162, -6.9162, -6.9162, -6.9162, -5.2216, -5.6169, -5.8946, -5.8946, -5.6171, -6.2802, -6.2802, -6.2802, -6.2802, -6.2802, -6.2803, -6.2802, -6.2802, -4.719, -4.9748, -5.0831, -5.0419, -5.2318, -4.7297, -5.3999, -5.6169, -5.0704, -5.0539, -4.9448, -5.6169, -5.3999, -5.4118, -5.1595, -5.6169, -5.6169, -5.6169, -5.8945, -5.2217, -5.6169, -5.9061, -5.7424, -5.6169, -5.3999, -5.3999, -5.5681, -5.6634, -5.5413, -5.6169, -6.2716, -6.2716, -6.2716, -6.2716, -6.2716, -6.2716, -6.2716, -6.2716, -6.2716, -6.2716, -6.2716, -6.2716, -6.2716, -5.3912, -5.8859, -6.9075, -6.9075, -6.9075, -6.9075, -6.9075, -6.9075, -6.9075, -6.9075, -6.9075, -6.9075, -6.9075, -6.9075, -6.9075, -6.9075, -6.9075, -6.2716, -6.2716, -5.6238, -5.6082, -6.2716, -5.886, -6.2715, -6.2715, -6.2716, -5.6082, -5.8859, -5.8859, -5.886, -5.2129, -5.8859, -4.9424, -4.8231, -5.0617, -5.6238, -4.7103, -4.94, -4.8143, -4.9303, -4.8143, -5.0617, -5.0617, -5.6082, -5.2234, -5.0618, -5.6082, -5.0892, -5.1957, -5.8862, -5.0857, -5.6082, -5.5866, -5.6082, -5.6083, -5.6083, -5.6083, -5.8613, -5.8564], \"loglift\": [30.0, 29.0, 28.0, 27.0, 26.0, 25.0, 24.0, 23.0, 22.0, 21.0, 20.0, 19.0, 18.0, 17.0, 16.0, 15.0, 14.0, 13.0, 12.0, 11.0, 10.0, 9.0, 8.0, 7.0, 6.0, 5.0, 4.0, 3.0, 2.0, 1.0, 1.453, 1.453, 1.453, 1.4033, 1.4033, 1.4033, 1.4033, 1.4033, 1.3844, 1.3455, 1.335, 1.3136, 1.3136, 1.3136, 1.3136, 1.3136, 1.3136, 1.3136, 1.3136, 1.3136, 1.3136, 1.3136, 1.3136, 1.3136, 1.3136, 1.3136, 1.3136, 1.3136, 1.3133, 1.2898, 1.2804, 1.2837, 1.2756, 1.1056, 1.125, 1.125, 1.1251, 1.2024, 1.1852, 0.4375, 0.9184, 0.7294, 0.4705, 0.9277, 1.0213, 1.0186, 0.7641, 0.9175, 0.9156, 0.5885, 0.2778, 0.6095, 0.4679, 0.3145, 0.1786, 0.0777, 0.4304, 0.069, 0.391, 0.2151, 0.3117, 0.1401, 0.4763, 0.211, 0.4276, 0.2606, -0.0699, -0.1237, 0.0214, 0.0874, -0.421, -0.024, 0.3001, -0.0012, 1.6678, 1.6672, 1.6672, 1.6666, 1.5734, 1.5734, 1.5734, 1.5734, 1.5734, 1.5734, 1.5734, 1.5734, 1.5734, 1.5734, 1.5734, 1.5734, 1.5734, 1.5734, 1.5734, 1.5734, 1.5734, 1.5734, 1.5734, 1.5734, 1.5733, 1.5733, 1.538, 1.4789, 1.4602, 1.4313, 1.3676, 1.3036, 0.8899, 1.0476, 0.4723, 0.9556, 0.8812, 1.0186, 0.7511, 0.9359, 0.2512, 1.0652, 1.282, 0.4838, 0.5303, 0.8482, 0.4498, 0.6721, 0.718, 0.4076, 0.6595, 0.9448, 0.3988, -0.0087, 0.3144, 0.0772, 0.4697, -0.2572, -0.2458, 0.5741, -0.2064, 0.1017, -0.0534, -0.1425, -0.2427, -0.016, 1.7689, 1.7689, 1.7689, 1.7689, 1.7689, 1.7689, 1.7689, 1.7689, 1.7689, 1.7689, 1.7689, 1.7689, 1.7689, 1.7689, 1.7689, 1.7688, 1.7684, 1.5761, 1.5383, 1.5383, 1.5383, 1.5383, 1.5383, 1.5383, 1.5383, 1.5383, 1.5383, 1.5383, 1.5383, 1.5383, 1.5025, 1.4923, 1.4902, 1.4902, 1.4902, 1.4682, 1.4682, 1.4551, 1.4551, 1.3253, 1.3233, 1.3223, 1.0274, 0.7745, 1.0789, 1.0446, 0.9437, 0.5619, 0.9828, 1.3024, 0.5489, 0.9127, 0.6811, 0.1319, 0.3507, 0.1985, 0.8024, 1.0246, 0.7017, 0.6989, 1.3016, 0.4692, 0.7789, 0.8259, 0.9373, 1.2628, 0.6492, -0.1814, 0.2752, -0.0213, 0.3478, 0.1668, 0.1049, 0.0336, -0.0741, -0.1162, -0.147, 1.9085, 1.9085, 1.9085, 1.9085, 1.8883, 1.8096, 1.8096, 1.8096, 1.8096, 1.8096, 1.8096, 1.8096, 1.8096, 1.8096, 1.8096, 1.8096, 1.8096, 1.8095, 1.8095, 1.7689, 1.7622, 1.6732, 1.6732, 1.6532, 1.5772, 1.5772, 1.5772, 1.5772, 1.5772, 1.5772, 1.5299, 1.5299, 1.5294, 1.4961, 1.5292, 1.5292, 1.3489, 1.3457, 1.4655, 1.3704, 1.1743, 0.5391, 0.5414, 1.2662, 1.2525, 0.5164, 0.5091, 0.451, 1.1725, 0.9271, 0.8999, 0.8189, 0.5917, 0.0053, 0.7236, 0.4895, 0.3854, -0.1145, 0.5063, -0.0303, 0.1346, -0.237, -0.1628, 0.026, -0.6425, 0.0027, 0.4856, 0.5647, 1.9773, 1.9773, 1.9773, 1.877, 1.877, 1.877, 1.877, 1.877, 1.877, 1.877, 1.877, 1.877, 1.877, 1.877, 1.877, 1.877, 1.877, 1.877, 1.6419, 1.6419, 1.6419, 1.6419, 1.6419, 1.6419, 1.6419, 1.6419, 1.6419, 1.6419, 1.6419, 1.6419, 1.5356, 1.596, 1.596, 1.596, 1.596, 1.5947, 1.5939, 1.5939, 1.5155, 1.5716, 1.5716, 1.5582, 1.1677, 1.4146, 1.2407, 0.5549, 0.4797, 0.3986, 0.5436, 0.4073, 0.8371, 1.2525, 0.9861, 0.1944, 0.3455, 0.4695, 0.5348, 1.0792, 0.3811, 0.2437, 1.1521, 1.1454, 1.1454, 0.5708, 1.1128, -0.1533, 0.9644, 0.1873, -0.0221, -0.1006, -0.5916, -0.69, -0.8213, 0.4628, 0.8531, 0.6924, 2.0587, 2.0024, 2.0024, 1.9013, 1.9013, 1.9013, 1.9013, 1.9013, 1.7759, 1.7631, 1.7523, 1.6646, 1.6646, 1.6646, 1.6646, 1.6646, 1.6646, 1.6646, 1.6646, 1.6646, 1.6646, 1.6646, 1.6646, 1.6646, 1.6646, 1.6646, 1.6646, 1.6646, 1.6646, 1.6646, 1.6174, 1.6174, 1.6144, 1.6102, 1.6075, 1.5943, 1.5943, 1.4439, 1.4397, 1.3483, 1.2642, 1.3035, 1.2783, 0.8004, 1.2659, 1.0393, 1.3917, 1.3886, 1.385, 1.0265, 0.4417, 0.6866, 0.1943, 0.6489, 0.4532, 0.0965, 0.8418, 0.1779, 0.8286, -0.0399, -0.1113, 0.4225, 0.1008, 1.0569, 0.3646, 0.2788, -0.5719, 0.2389, -0.2685, 0.5885, 0.9523, 0.4808, 0.6669, 2.0669, 2.0104, 1.909, 1.909, 1.909, 1.909, 1.909, 1.909, 1.909, 1.909, 1.909, 1.909, 1.909, 1.909, 1.909, 1.909, 1.7397, 1.6719, 1.6719, 1.6719, 1.6719, 1.6719, 1.6719, 1.6719, 1.6719, 1.6719, 1.6719, 1.6719, 1.6719, 1.6719, 1.6613, 1.5906, 1.6071, 1.6025, 1.5714, 1.6216, 1.6175, 1.6175, 1.6148, 1.6148, 1.6147, 1.6015, 1.6015, 0.8285, 0.7791, 0.8184, 0.7863, 0.8981, 0.5244, 0.9164, 1.0853, 0.5872, 0.5568, 0.3257, 1.0767, 0.783, 0.7108, 0.2443, 0.8343, 0.8305, 0.7015, 1.1792, -0.1854, 0.5958, 1.1517, 0.819, 0.5487, -0.0456, -0.3747, -0.0616, 0.3232, -0.7075, -0.1239, 1.9214, 1.9214, 1.9214, 1.9214, 1.9214, 1.9214, 1.9214, 1.9214, 1.9214, 1.9214, 1.9213, 1.9213, 1.9213, 1.8173, 1.7932, 1.6832, 1.6832, 1.6832, 1.6832, 1.6832, 1.6832, 1.6832, 1.6832, 1.6832, 1.6832, 1.6832, 1.6832, 1.6832, 1.6832, 1.6832, 1.6354, 1.6354, 1.5766, 1.571, 1.6262, 1.5796, 1.6129, 1.6129, 1.6128, 1.435, 1.46, 1.4543, 1.4185, 1.1546, 1.3278, 0.8624, 0.6699, 0.7999, 1.1343, 0.4289, 0.5851, 0.4561, 0.424, 0.2109, 0.4858, 0.4448, 1.0187, 0.444, 0.1923, 0.9575, 0.1267, 0.2081, 1.2864, -0.2519, 0.5217, 0.3149, 0.3582, 0.1457, 0.1292, -0.567, 0.7662, 0.1913]}, \"token.table\": {\"Topic\": [6, 8, 5, 5, 6, 8, 5, 3, 8, 4, 2, 3, 4, 5, 6, 7, 8, 1, 2, 3, 5, 6, 7, 8, 3, 2, 7, 8, 5, 1, 7, 2, 4, 6, 7, 4, 7, 1, 2, 3, 4, 8, 1, 2, 3, 5, 6, 7, 8, 8, 1, 3, 8, 1, 1, 2, 5, 6, 1, 2, 3, 4, 5, 6, 7, 8, 1, 2, 3, 4, 6, 1, 3, 1, 5, 6, 7, 8, 7, 1, 2, 3, 4, 6, 7, 2, 4, 5, 6, 7, 8, 5, 2, 8, 1, 2, 4, 5, 7, 8, 7, 5, 1, 2, 3, 4, 3, 7, 2, 2, 5, 2, 7, 2, 2, 5, 8, 5, 8, 3, 2, 3, 8, 2, 6, 8, 3, 4, 6, 1, 2, 6, 6, 1, 2, 3, 4, 5, 6, 7, 8, 6, 7, 1, 6, 4, 4, 6, 8, 4, 1, 3, 6, 5, 5, 3, 7, 1, 1, 2, 3, 4, 6, 7, 8, 1, 2, 3, 4, 6, 8, 3, 5, 1, 4, 6, 4, 1, 7, 3, 7, 1, 2, 3, 5, 6, 8, 2, 5, 6, 8, 1, 2, 3, 4, 5, 7, 8, 5, 7, 8, 2, 1, 1, 2, 8, 5, 1, 4, 5, 6, 5, 1, 2, 4, 5, 6, 7, 4, 2, 7, 1, 2, 3, 3, 5, 7, 3, 7, 1, 1, 2, 3, 4, 6, 1, 1, 5, 3, 8, 1, 2, 4, 7, 7, 4, 6, 7, 6, 8, 1, 2, 4, 7, 3, 7, 4, 1, 3, 4, 1, 2, 6, 1, 4, 1, 2, 3, 5, 6, 7, 8, 1, 2, 3, 4, 5, 6, 7, 8, 1, 2, 3, 4, 7, 8, 1, 2, 3, 4, 5, 6, 7, 8, 1, 2, 3, 4, 6, 3, 6, 7, 8, 3, 1, 2, 5, 8, 1, 2, 4, 8, 3, 6, 7, 1, 2, 3, 4, 5, 6, 7, 8, 1, 2, 5, 6, 8, 3, 6, 3, 3, 6, 8, 1, 6, 7, 1, 2, 3, 4, 6, 4, 7, 1, 2, 4, 5, 6, 7, 8, 2, 3, 2, 7, 1, 2, 4, 5, 6, 7, 8, 4, 8, 5, 5, 1, 2, 3, 4, 5, 6, 7, 8, 1, 2, 3, 4, 7, 1, 2, 3, 4, 6, 1, 2, 3, 4, 5, 6, 7, 8, 5, 1, 5, 7, 6, 1, 4, 3, 6, 8, 1, 2, 3, 4, 5, 7, 8, 5, 6, 1, 3, 5, 6, 7, 1, 3, 4, 6, 7, 6, 1, 2, 3, 4, 5, 6, 7, 8, 1, 2, 4, 8, 7, 5, 1, 2, 3, 4, 5, 6, 7, 8, 1, 2, 4, 6, 7, 8, 3, 1, 2, 4, 5, 6, 7, 8, 2, 8, 3, 6, 8, 4, 6, 7, 1, 1, 2, 3, 4, 5, 6, 7, 8, 8, 4, 6, 2, 3, 4, 7, 8, 3, 4, 3, 2, 4, 6, 2, 7, 8, 1, 5, 7, 3, 1, 2, 3, 4, 5, 6, 7, 8, 1, 1, 3, 2, 4, 7, 8, 4, 5, 5, 7, 8, 3, 2, 4, 5, 8, 6, 5, 8, 7, 2, 3, 4, 5, 1, 2, 4, 6, 7, 7, 1, 2, 3, 4, 5, 6, 7, 8, 1, 3, 5, 5, 7, 4, 4, 1, 2, 3, 5, 6, 7, 8, 4, 4, 2, 3, 3, 7, 1, 2, 3, 5, 6, 2, 4, 1, 2, 3, 4, 5, 6, 7, 8, 4, 7, 2, 3, 4, 5, 4, 2, 1, 2, 3, 4, 5, 6, 7, 8, 2, 3, 4, 7, 1, 5, 7, 5, 7, 5, 5, 6, 2, 4, 1, 2, 3, 4, 5, 6, 7, 8, 2, 4, 7, 7, 7, 2, 2, 4, 6, 1, 2, 3, 4, 5, 6, 8, 1, 3, 7, 8, 5, 1, 5, 8, 1, 2, 1, 2, 3, 4, 6, 7, 8, 1, 2, 3, 4, 5, 6, 7, 8, 1, 3, 5, 7, 1, 4, 6, 7, 1, 2, 3, 4, 5, 6, 7, 8, 5, 6, 5, 8, 1, 2, 2, 8, 8, 2, 6, 7, 3, 1, 2, 3, 8, 1, 2, 3, 5, 6, 7, 8, 3, 2, 1, 2, 3, 4, 5, 6, 7, 8, 1, 3, 4, 6, 7, 8, 2, 8, 1, 2, 4, 5, 6, 7, 8, 6, 3, 1, 2, 3, 4, 5, 6, 7, 8, 1, 1, 2, 3, 4, 5, 6, 7, 8, 1, 3, 4, 6, 1, 1, 2, 4, 5, 6, 7, 8, 1, 2, 5, 1, 2, 3, 4, 5, 7, 8, 1, 3, 8, 8, 2, 2, 8, 5, 2, 6, 6, 2, 3, 8, 4, 1, 2, 3, 6, 7, 1, 1, 1, 2, 1, 2, 3, 4, 6, 7, 3, 1, 4, 8, 1, 2, 3, 4, 7, 8, 1, 2, 1, 2, 5, 7, 1, 5, 8, 2, 3, 5, 7, 8, 7, 2, 8, 3, 5, 6, 1, 8, 3, 4, 2, 1, 2, 3, 4, 5, 6, 7, 8, 4, 1, 1, 2, 4, 5, 6, 7, 8, 1, 1, 2, 3, 4, 5, 6, 7, 8, 3, 3, 7, 7, 4, 1, 2, 3, 4, 5, 6, 7, 8, 1, 2, 4, 7, 8, 5, 2, 6, 7, 2, 5, 2, 3, 4, 5, 6, 7, 8, 1, 3, 1, 3, 4, 7, 1, 5, 3, 5, 7, 3, 6, 4, 2, 4, 5, 6, 7, 8, 1, 2, 3, 4, 6, 7, 8, 2, 1, 3, 6, 2, 3, 5, 6, 7, 1, 2, 3, 5, 6, 7, 6, 1, 3, 4, 5, 6, 7, 8, 6, 1, 2, 3, 4, 5, 6, 7, 8, 6, 8, 4, 6, 2, 4, 3, 1, 2, 3, 4, 5, 6, 7, 8, 3, 6, 1, 2, 3, 8, 6, 1, 2, 4, 6, 7, 1, 2, 3, 4, 5, 6, 7, 8, 6, 1, 2, 8, 6, 1, 2, 3, 5, 6, 7, 8, 1, 3, 4, 7, 8, 5, 6, 3, 4, 5, 6, 7, 7, 2, 3, 5, 6, 6, 2, 4, 8, 1, 2, 3, 4, 5, 6, 7, 8, 1, 2, 3, 4, 6, 1, 4, 1, 7, 2, 3, 8, 8, 1, 5, 7, 1, 2, 3, 4, 5, 6, 7, 8, 1, 2, 3, 4, 5, 6, 8, 5, 3, 7, 8, 3, 7, 1, 3, 6, 1, 2, 3, 4, 5, 6, 7, 8, 1, 2, 3, 6, 7, 2, 5, 1, 2, 5, 7, 8, 3, 6, 1, 2, 3, 5, 7, 8, 1, 1, 3, 4, 5, 7, 8, 1, 2, 3, 4, 5, 6, 8, 1, 3, 4, 6, 7, 1, 5, 4, 7, 4, 1, 2, 3, 4, 5, 6, 7, 8, 3, 1, 2, 3, 4, 5, 6, 7, 8, 2, 6, 7, 8, 6, 6, 8, 7, 8, 2, 3, 4, 5, 6, 7, 8, 1, 2, 3, 5, 6, 2, 1, 2, 4, 5, 6, 7, 8, 2, 1, 3, 7, 8, 4, 5, 7, 8, 1, 2, 3, 5, 6, 7, 8, 1, 2, 3, 4, 5, 6, 7], \"Freq\": [0.3500965137319424, 0.3500965137319424, 0.6924120807807005, 0.9210928247558795, 0.3500977823654271, 0.3500977823654271, 0.9210928247558795, 0.27876659492738665, 0.5575331898547733, 0.9110506773513719, 0.16268545254953323, 0.08134272627476662, 0.16268545254953323, 0.16268545254953323, 0.08134272627476662, 0.24402817882429986, 0.16268545254953323, 0.08114293917339739, 0.08114293917339739, 0.16228587834679478, 0.16228587834679478, 0.32457175669358956, 0.16228587834679478, 0.08114293917339739, 0.9046067104378288, 0.1741257997155136, 0.1741257997155136, 0.6965031988620544, 0.6924121272901959, 0.6375822569936841, 0.21252741899789468, 0.874059218502761, 0.19943784704219347, 0.39887569408438694, 0.39887569408438694, 0.6888111430788777, 0.34440557153943885, 0.30432048946364104, 0.10144016315454701, 0.30432048946364104, 0.10144016315454701, 0.10144016315454701, 0.11843319547474568, 0.17764979321211852, 0.11843319547474568, 0.05921659773737284, 0.11843319547474568, 0.23686639094949136, 0.17764979321211852, 0.4660014505729553, 0.38335031181389756, 0.19167515590694878, 0.38335031181389756, 0.8449567853794415, 0.3338356057424299, 0.16691780287121494, 0.16691780287121494, 0.3338356057424299, 0.12937054721503413, 0.16171318401879267, 0.09702791041127559, 0.12937054721503413, 0.06468527360751707, 0.22639845762630972, 0.03234263680375853, 0.19405582082255118, 0.1893527429461013, 0.31558790491016886, 0.12623516196406753, 0.3787054858922026, 0.06311758098203377, 0.8449410194316613, 0.9046067104378288, 0.12555646984261834, 0.37666940952785505, 0.2511129396852367, 0.12555646984261834, 0.12555646984261834, 0.928626207126953, 0.15392096274194828, 0.2052279503225977, 0.2565349379032471, 0.2052279503225977, 0.05130698758064942, 0.15392096274194828, 0.12623733805327317, 0.12623733805327317, 0.12623733805327317, 0.3787120141598195, 0.25247467610654634, 0.12623733805327317, 0.6876562472115705, 0.34229542162762067, 0.34229542162762067, 0.24015032873486983, 0.36022549310230473, 0.12007516436743491, 0.12007516436743491, 0.12007516436743491, 0.12007516436743491, 0.691846320931865, 0.9210928247558795, 0.24523424757376686, 0.4087237459562781, 0.16348949838251123, 0.16348949838251123, 0.3459457447831201, 0.6918914895662402, 0.874059218502761, 0.339342786259929, 0.678685572519858, 0.8740593215436385, 0.6988038123911456, 0.8740591669823314, 0.8740591669823314, 0.9210928247558795, 0.4660017044816289, 0.6954721772025841, 0.34773608860129207, 0.904606576542969, 0.8740593215436385, 0.6860319788477145, 0.34301598942385725, 0.3408906829992451, 0.6817813659984902, 0.4660017044816289, 0.9046067104378288, 0.9110507206602797, 0.6908340340828699, 0.8449409560145337, 0.8740612374051898, 0.8382664313997955, 0.6908340791257428, 0.22163523283766992, 0.24010483557414242, 0.12928721915530744, 0.05540880820941748, 0.18469602736472493, 0.09234801368236246, 0.036939205472944985, 0.036939205472944985, 0.6977716960755289, 0.34888584803776446, 0.7505699579120689, 0.6972564698908522, 0.9110520233757433, 0.3463754343959451, 0.6927508687918902, 0.693719145085806, 0.6820436441178943, 0.33048349103495334, 0.6609669820699067, 0.926803301741487, 0.9210928247558795, 0.9210928247558795, 0.9046067104378288, 0.9286261264496793, 0.8449410194316613, 0.1929918236201198, 0.12866121574674655, 0.2573224314934931, 0.12866121574674655, 0.12866121574674655, 0.1929918236201198, 0.06433060787337327, 0.15742410590072375, 0.15742410590072375, 0.3935602647518094, 0.15742410590072375, 0.15742410590072375, 0.6937191894736469, 0.6784256168528368, 0.6876562013387881, 0.43914674181502955, 0.43914674181502955, 0.6908340340828699, 0.6839117844127122, 0.8449410194316613, 0.9286262021557842, 0.9046193759476979, 0.9286261417115783, 0.35198958771095723, 0.25142113407925515, 0.1508526804475531, 0.050284226815851034, 0.050284226815851034, 0.1508526804475531, 0.17331446409817536, 0.17331446409817536, 0.3466289281963507, 0.17331446409817536, 0.10495157568977134, 0.10495157568977134, 0.10495157568977134, 0.10495157568977134, 0.10495157568977134, 0.31485472706931406, 0.10495157568977134, 0.34833028786500936, 0.6966605757300187, 0.4660016243633598, 0.8740591669823314, 0.9428044802906396, 0.22518385907497074, 0.22518385907497074, 0.4503677181499415, 0.9210928247558795, 0.13592332147966085, 0.5436932859186434, 0.13592332147966085, 0.13592332147966085, 0.6876562013387881, 0.2439831068950852, 0.1219915534475426, 0.1219915534475426, 0.3659746603426278, 0.1219915534475426, 0.1219915534475426, 0.9110505907335685, 0.34138365939125886, 0.6827673187825177, 0.5446383562170762, 0.18154611873902543, 0.18154611873902543, 0.3944325729997532, 0.3944325729997532, 0.1972162864998766, 0.9046066211745845, 0.691846320931865, 0.9428044802906396, 0.2213780072161495, 0.2213780072161495, 0.33206701082422424, 0.2213780072161495, 0.11068900360807475, 0.8449410194316613, 0.8449410194316613, 0.6876562472115705, 0.34688258297704216, 0.34688258297704216, 0.25781970268087046, 0.5156394053617409, 0.346884378519069, 0.693768757038138, 0.691846320931865, 0.6883011480132888, 0.3441505740066444, 0.691846320931865, 0.6972565157751126, 0.693719145085806, 0.47152977702155496, 0.11788244425538874, 0.23576488851077748, 0.11788244425538874, 0.27758599127058986, 0.5551719825411797, 0.6839117844127122, 0.1495456441291925, 0.4486369323875775, 0.299091288258385, 0.5407336532145833, 0.3604891021430555, 0.6908340340828699, 0.2237936676486099, 0.6713810029458297, 0.11248471978077391, 0.22496943956154783, 0.11248471978077391, 0.22496943956154783, 0.11248471978077391, 0.11248471978077391, 0.11248471978077391, 0.1285084401845009, 0.19276266027675135, 0.1285084401845009, 0.1285084401845009, 0.19276266027675135, 0.06425422009225044, 0.06425422009225044, 0.06425422009225044, 0.2632366767419712, 0.35098223565596165, 0.08774555891399041, 0.17549111782798082, 0.08774555891399041, 0.08774555891399041, 0.30783663250839394, 0.11341349618730302, 0.09721156816054545, 0.11341349618730302, 0.17822120829433333, 0.06480771210703029, 0.048605784080272725, 0.08100964013378788, 0.06692281673920664, 0.3346140836960331, 0.13384563347841327, 0.4684597171744464, 0.06692281673920664, 0.1997614506549063, 0.1997614506549063, 0.1997614506549063, 0.3995229013098126, 0.9046067104378288, 0.15169502121932163, 0.15169502121932163, 0.30339004243864326, 0.30339004243864326, 0.628604180305604, 0.20953472676853468, 0.6839117844127122, 0.46600166442249086, 0.27753293336176543, 0.5550658667235309, 0.27753293336176543, 0.2726422821174704, 0.1363211410587352, 0.054528456423494076, 0.19084959748222927, 0.027264228211747038, 0.08179268463524111, 0.10905691284698815, 0.16358536927048223, 0.3309851146517485, 0.16549255732587426, 0.16549255732587426, 0.24823883598881138, 0.08274627866293713, 0.6846183788407745, 0.34230918942038724, 0.6784256168528368, 0.3972538768576964, 0.1986269384288482, 0.3972538768576964, 0.271492287181547, 0.542984574363094, 0.691846320931865, 0.17454761426524168, 0.523642842795725, 0.08727380713262084, 0.08727380713262084, 0.17454761426524168, 0.6888049494690253, 0.34440247473451263, 0.19478270872487327, 0.09739135436243664, 0.19478270872487327, 0.09739135436243664, 0.09739135436243664, 0.19478270872487327, 0.19478270872487327, 0.8740608864578524, 0.6784256168528368, 0.6528024471740682, 0.691846320931865, 0.20249005795454453, 0.13499337196969635, 0.06749668598484818, 0.2699867439393927, 0.13499337196969635, 0.06749668598484818, 0.13499337196969635, 0.9110505907335685, 0.693719145085806, 0.6924121245263999, 0.6876562013387881, 0.19844357186590939, 0.09922178593295469, 0.13229571457727293, 0.06614785728863647, 0.06614785728863647, 0.06614785728863647, 0.23151750051022763, 0.16536964322159114, 0.4706630693273299, 0.11766576733183247, 0.23533153466366494, 0.11766576733183247, 0.11766576733183247, 0.2051082761099625, 0.2051082761099625, 0.2051082761099625, 0.10255413805498124, 0.3076624141649437, 0.12487417804868882, 0.06243708902434441, 0.06243708902434441, 0.18731126707303322, 0.12487417804868882, 0.12487417804868882, 0.24974835609737764, 0.12487417804868882, 0.9210928247558795, 0.12573421998641088, 0.25146843997282176, 0.5029368799456435, 0.6908340791257428, 0.8449410194316613, 0.6820436441178943, 0.6846181889514646, 0.3423090944757323, 0.693719145085806, 0.15019358324362161, 0.2252903748654324, 0.07509679162181081, 0.15019358324362161, 0.07509679162181081, 0.07509679162181081, 0.30038716648724323, 0.6876562472115705, 0.926803301741487, 0.6337337371955067, 0.2112445790651689, 0.6940193517385964, 0.3470096758692982, 0.691846320931865, 0.1430005152809531, 0.3575012882023827, 0.2860010305619062, 0.07150025764047654, 0.21450077292142963, 0.9268032206726937, 0.13732828127082217, 0.11770995537499042, 0.2550382366458126, 0.09809162947915868, 0.1569466071666539, 0.039236651791663475, 0.07847330358332695, 0.11770995537499042, 0.33294697152427294, 0.22196464768284863, 0.22196464768284863, 0.33294697152427294, 0.691846320931865, 0.9210928247558795, 0.18792355931816537, 0.12528237287877692, 0.09396177965908269, 0.12528237287877692, 0.06264118643938846, 0.06264118643938846, 0.09396177965908269, 0.18792355931816537, 0.09116038014193331, 0.18232076028386662, 0.2734811404257999, 0.18232076028386662, 0.2734811404257999, 0.09116038014193331, 0.9046066211745845, 0.17265693615038935, 0.12332638296456383, 0.12332638296456383, 0.17265693615038935, 0.12332638296456383, 0.17265693615038935, 0.12332638296456383, 0.3422953071214022, 0.3422953071214022, 0.6784256168528368, 0.6908340340828699, 0.693719145085806, 0.3972289604190274, 0.3972289604190274, 0.1986144802095137, 0.9428124967547072, 0.31680856640047517, 0.21120571093365012, 0.10560285546682506, 0.10560285546682506, 0.05280142773341253, 0.10560285546682506, 0.10560285546682506, 0.05280142773341253, 0.693719145085806, 0.6820436441178943, 0.6908340340828699, 0.24818349856688043, 0.12409174928344022, 0.3722752478503207, 0.12409174928344022, 0.12409174928344022, 0.904606576542969, 0.6820436441178943, 0.6784256168528368, 0.4441256535230166, 0.2220628267615083, 0.2220628267615083, 0.34138345964092365, 0.6827669192818473, 0.46600166442249086, 0.7089856390518439, 0.14179712781036877, 0.14179712781036877, 0.9046066211745845, 0.12097782075617282, 0.30244455189043207, 0.24195564151234564, 0.12097782075617282, 0.06048891037808641, 0.06048891037808641, 0.06048891037808641, 0.06048891037808641, 0.75056991990728, 0.8449410194316613, 0.6784256168528368, 0.4162061049369274, 0.2081030524684637, 0.31215457870269553, 0.10405152623423185, 0.9110505907335685, 0.9210928247558795, 0.23345068971311214, 0.4669013794262243, 0.23345068971311214, 0.6784256168528368, 0.22639745097533132, 0.45279490195066263, 0.22639745097533132, 0.4660016243633598, 0.6908340340828699, 0.9210927424522316, 0.46600166442249086, 0.691846320931865, 0.13629506410735012, 0.27259012821470024, 0.40888519232205034, 0.27259012821470024, 0.16900371029756694, 0.16900371029756694, 0.3380074205951339, 0.3380074205951339, 0.928626207126953, 0.9286261264496793, 0.24186014417396381, 0.13192371500398026, 0.15391100083797699, 0.08794914333598684, 0.04397457166799342, 0.13192371500398026, 0.06596185750199013, 0.15391100083797699, 0.5563067741389139, 0.37087118275927594, 0.6876562013387881, 0.6945298304368189, 0.34726491521840946, 0.9110507206602797, 0.6820436441178943, 0.17636136277531875, 0.17636136277531875, 0.11757424185021251, 0.11757424185021251, 0.11757424185021251, 0.23514848370042502, 0.11757424185021251, 0.6839117844127122, 0.9110520233757433, 0.33484629007157557, 0.6696925801431511, 0.34594605559162017, 0.6918921111832403, 0.14924502726800096, 0.14924502726800096, 0.44773508180400284, 0.14924502726800096, 0.14924502726800096, 0.22576667278266532, 0.6773000183479959, 0.2578768926911045, 0.1388567883721332, 0.2182035245847807, 0.09918342026580941, 0.03967336810632377, 0.09918342026580941, 0.07934673621264754, 0.03967336810632377, 0.34688443040714884, 0.6937688608142977, 0.30135771307170506, 0.15067885653585253, 0.30135771307170506, 0.30135771307170506, 0.6820436441178943, 0.874059218502761, 0.20538315075348726, 0.20538315075348726, 0.10269157537674363, 0.10269157537674363, 0.051345787688371815, 0.15403736306511545, 0.10269157537674363, 0.051345787688371815, 0.15126075957227814, 0.3025215191445563, 0.4537822787168344, 0.15126075957227814, 0.33486220983472637, 0.6697244196694527, 0.691846320931865, 0.9210927424522316, 0.928626207126953, 0.6876562013387881, 0.9210928247558795, 0.6908340791257428, 0.8740591669823314, 0.9110506773513719, 0.1864478780817597, 0.1864478780817597, 0.07457915123270387, 0.07457915123270387, 0.14915830246540773, 0.07457915123270387, 0.11186872684905581, 0.14915830246540773, 0.2702781659605536, 0.5405563319211072, 0.691846320931865, 0.928626207126953, 0.9286261417115783, 0.8740591669823314, 0.8740591669823314, 0.6883028505676897, 0.34415142528384485, 0.25421828430804644, 0.12710914215402322, 0.25421828430804644, 0.06355457107701161, 0.06355457107701161, 0.12710914215402322, 0.12710914215402322, 0.17067311504487473, 0.34134623008974946, 0.5120193451346242, 0.693719145085806, 0.6876562013387881, 0.7505699583075165, 0.6954722073634356, 0.3477361036817178, 0.32056712922111114, 0.6411342584422223, 0.25846618161513446, 0.22154244138440096, 0.073847480461467, 0.11077122069220048, 0.073847480461467, 0.18461870115366746, 0.073847480461467, 0.08477956971664122, 0.2543387091499236, 0.08477956971664122, 0.08477956971664122, 0.08477956971664122, 0.16955913943328244, 0.16955913943328244, 0.08477956971664122, 0.19274474835501237, 0.38548949671002475, 0.19274474835501237, 0.19274474835501237, 0.47635156574265247, 0.23817578287132624, 0.11908789143566312, 0.23817578287132624, 0.257815657647994, 0.028646184183110445, 0.17187710509866266, 0.20052328928177313, 0.05729236836622089, 0.05729236836622089, 0.14323092091555223, 0.11458473673244178, 0.5567609574343474, 0.5567609574343474, 0.6954722361830065, 0.34773611809150323, 0.14324938463299144, 0.8594963077979486, 0.5307678290945002, 0.2653839145472501, 0.46600145340569504, 0.2744294863438955, 0.548858972687791, 0.8402555524453064, 0.6784256168528368, 0.5690878694831236, 0.1422719673707809, 0.1422719673707809, 0.1422719673707809, 0.09578471178103037, 0.3831388471241215, 0.09578471178103037, 0.19156942356206075, 0.09578471178103037, 0.09578471178103037, 0.09578471178103037, 0.9046067104378288, 0.8740593215436385, 0.31963886218674054, 0.21309257479116037, 0.14206171652744023, 0.07103085826372012, 0.10654628739558018, 0.07103085826372012, 0.03551542913186006, 0.03551542913186006, 0.3659672004283712, 0.12198906680945708, 0.12198906680945708, 0.24397813361891416, 0.12198906680945708, 0.12198906680945708, 0.34229541326644974, 0.34229541326644974, 0.20272443740330884, 0.13514962493553923, 0.20272443740330884, 0.33787406233884804, 0.13514962493553923, 0.06757481246776961, 0.693719145085806, 0.6908340340828699, 0.6784256168528368, 0.06707289544974934, 0.33536447724874674, 0.13414579089949868, 0.20121868634924805, 0.13414579089949868, 0.06707289544974934, 0.06707289544974934, 0.06707289544974934, 0.8449408925974153, 0.21930826165545103, 0.19937114695950092, 0.05981134408785028, 0.19937114695950092, 0.13955980287165065, 0.11962268817570056, 0.03987422939190019, 0.05981134408785028, 0.2067118347455018, 0.5167795868637545, 0.1033559173727509, 0.2067118347455018, 0.8449410194316613, 0.0916943709531156, 0.0916943709531156, 0.1833887419062312, 0.1833887419062312, 0.1833887419062312, 0.1833887419062312, 0.0916943709531156, 0.8449410194316613, 0.8740599299880484, 0.9210928247558795, 0.08649563619836455, 0.25948690859509366, 0.3459825447934582, 0.1729912723967291, 0.043247818099182274, 0.043247818099182274, 0.043247818099182274, 0.19215641324461757, 0.5764692397338528, 0.19215641324461757, 0.693719145085806, 0.874059218502761, 0.8740599255208852, 0.4660016243633598, 0.6876562013387881, 0.3408904260208657, 0.6817808520417314, 0.6908340791257428, 0.33484629651840103, 0.6696925930368021, 0.693719145085806, 0.9110506773513719, 0.1497804965993205, 0.299560993198641, 0.1497804965993205, 0.1497804965993205, 0.299560993198641, 0.8449410194316613, 0.8449410194316613, 0.715887487862066, 0.1789718719655165, 0.5407313168956899, 0.36048754459712656, 0.6784256168528368, 0.5530778984014009, 0.5530778984014009, 0.691846320931865, 0.9046078963595237, 0.3381948833201228, 0.1690974416600614, 0.5072923249801842, 0.4364287976890345, 0.14547626589634483, 0.07273813294817241, 0.14547626589634483, 0.14547626589634483, 0.07273813294817241, 0.7580473806871075, 0.25268246022903584, 0.16770631970035357, 0.33541263940070715, 0.33541263940070715, 0.16770631970035357, 0.9428045795737305, 0.6954721715733521, 0.34773608578667603, 0.3043427245654103, 0.15217136228270514, 0.15217136228270514, 0.3043427245654103, 0.15217136228270514, 0.9286261629494909, 0.8740591669823314, 0.693719145085806, 0.6784256168528368, 0.6940193656697357, 0.3470096828348678, 0.8449410172673728, 0.693719145085806, 0.17098357126424962, 0.6839342850569985, 0.874059218502761, 0.24452779207098863, 0.061131948017747156, 0.061131948017747156, 0.24452779207098863, 0.12226389603549431, 0.061131948017747156, 0.12226389603549431, 0.12226389603549431, 0.9110505907335685, 0.8449410047660767, 0.09156200655091876, 0.1831240131018375, 0.09156200655091876, 0.1831240131018375, 0.1831240131018375, 0.1831240131018375, 0.2746860196527563, 0.9428044802906396, 0.14137325253482547, 0.047124417511608487, 0.047124417511608487, 0.18849767004643395, 0.047124417511608487, 0.14137325253482547, 0.23562208755804245, 0.14137325253482547, 0.9046067104378288, 0.9046066211745845, 0.691846320931865, 0.9286261417115783, 0.9110506773513719, 0.26448583701376305, 0.2267021460117969, 0.1511347640078646, 0.03778369100196615, 0.03778369100196615, 0.1511347640078646, 0.03778369100196615, 0.0755673820039323, 0.3272576456400786, 0.3272576456400786, 0.1636288228200393, 0.0545429409400131, 0.1090858818800262, 0.6876562472115705, 0.6528024471740682, 0.6977691421910098, 0.3488845710955049, 0.33934278218787, 0.67868556437574, 0.2281137612194189, 0.11405688060970945, 0.17108532091456416, 0.11405688060970945, 0.2281137612194189, 0.057028440304854724, 0.11405688060970945, 0.33048364719259327, 0.6609672943851865, 0.48612417839244576, 0.16204139279748192, 0.16204139279748192, 0.16204139279748192, 0.7234541653231369, 0.18086354133078422, 0.3935796848348586, 0.1967898424174293, 0.3935796848348586, 0.3454394195678454, 0.6908788391356908, 0.9110507206602797, 0.45044637983921626, 0.09008927596784326, 0.18017855193568652, 0.09008927596784326, 0.18017855193568652, 0.09008927596784326, 0.24394706339899266, 0.08131568779966422, 0.12197353169949633, 0.12197353169949633, 0.08131568779966422, 0.24394706339899266, 0.12197353169949633, 0.8740593215436385, 0.4874306013853584, 0.1624768671284528, 0.3249537342569056, 0.5900355260023069, 0.14750888150057673, 0.14750888150057673, 0.14750888150057673, 0.928626207126953, 0.38440346539114967, 0.10982956154032847, 0.10982956154032847, 0.10982956154032847, 0.21965912308065694, 0.10982956154032847, 0.6908340791257428, 0.12834397118544988, 0.21390661864241647, 0.08556264745696658, 0.17112529491393316, 0.08556264745696658, 0.08556264745696658, 0.25668794237089976, 0.6908340340828699, 0.07613043580822898, 0.15226087161645796, 0.07613043580822898, 0.15226087161645796, 0.15226087161645796, 0.15226087161645796, 0.15226087161645796, 0.07613043580822898, 0.6908340340828699, 0.693719145085806, 0.27797308073248317, 0.5559461614649663, 0.27027821762087684, 0.5405564352417537, 0.9046066211745845, 0.3086285031629994, 0.07122196226838447, 0.11870327044730745, 0.18992523271569192, 0.07122196226838447, 0.04748130817892298, 0.07122196226838447, 0.11870327044730745, 0.6846182721425925, 0.34230913607129626, 0.16797477854985376, 0.33594955709970753, 0.16797477854985376, 0.33594955709970753, 0.6908340340828699, 0.13444105673850965, 0.2688821134770193, 0.40332317021552894, 0.13444105673850965, 0.13444105673850965, 0.17549635484753323, 0.15042544701217134, 0.05014181567072378, 0.05014181567072378, 0.10028363134144756, 0.15042544701217134, 0.15042544701217134, 0.15042544701217134, 0.926803301741487, 0.4427935098423749, 0.14759783661412498, 0.4427935098423749, 0.6908340340828699, 0.4975696109609523, 0.19902784438438093, 0.09951392219219046, 0.09951392219219046, 0.09951392219219046, 0.09951392219219046, 0.693719145085806, 0.07605275839680624, 0.38026379198403115, 0.30421103358722495, 0.15210551679361248, 0.15210551679361248, 0.347817100161656, 0.695634200323312, 0.11553097861249641, 0.23106195722499281, 0.46212391444998563, 0.11553097861249641, 0.11553097861249641, 0.9286261417115783, 0.1373214360920175, 0.274642872184035, 0.1373214360920175, 0.4119643082760525, 0.9268032206726937, 0.17271152485283964, 0.3454230497056793, 0.518134574558519, 0.21141007383240745, 0.1761750615270062, 0.1761750615270062, 0.10570503691620373, 0.03523501230540124, 0.07047002461080248, 0.1761750615270062, 0.07047002461080248, 0.13341574653705238, 0.26683149307410475, 0.13341574653705238, 0.4669551128796833, 0.06670787326852619, 0.7866601585846259, 0.1573320317169252, 0.7711467409690268, 0.2570489136563423, 0.7318915164186569, 0.1463783032837314, 0.1463783032837314, 0.46600166442249086, 0.4375326014164612, 0.2916884009443075, 0.14584420047215374, 0.12698470879953005, 0.06349235439976503, 0.22222324039917757, 0.06349235439976503, 0.19047706319929508, 0.12698470879953005, 0.09523853159964754, 0.15873088599941257, 0.3199548014282121, 0.23996610107115907, 0.07998870035705302, 0.11998305053557953, 0.07998870035705302, 0.07998870035705302, 0.11998305053557953, 0.9210927424522316, 0.23237729124860404, 0.4647545824972081, 0.23237729124860404, 0.3459461003816254, 0.6918922007632508, 0.1929148654136895, 0.385829730827379, 0.385829730827379, 0.23758165206205034, 0.14848853253878147, 0.11879082603102517, 0.17818623904653777, 0.14848853253878147, 0.059395413015512585, 0.059395413015512585, 0.059395413015512585, 0.24542670197361938, 0.3272356026314925, 0.24542670197361938, 0.08180890065787312, 0.08180890065787312, 0.8740591669823314, 0.6876562013387881, 0.09734180714119359, 0.19468361428238717, 0.2920254214235808, 0.09734180714119359, 0.2920254214235808, 0.9046066211745845, 0.6908340791257428, 0.1841063097163275, 0.12273753981088499, 0.3068438495272125, 0.12273753981088499, 0.1841063097163275, 0.061368769905442495, 0.8449409560145337, 0.15933256808360394, 0.3186651361672079, 0.3186651361672079, 0.15933256808360394, 0.07966628404180197, 0.07966628404180197, 0.27374622648631614, 0.11731981135127834, 0.11731981135127834, 0.15642641513503777, 0.15642641513503777, 0.07821320756751889, 0.03910660378375944, 0.2140384135582165, 0.28538455141095537, 0.14269227570547768, 0.14269227570547768, 0.28538455141095537, 0.49582910176502265, 0.49582910176502265, 0.6888049939816181, 0.34440249699080905, 0.9110506773513719, 0.35109805264301025, 0.17554902632150512, 0.04388725658037628, 0.08777451316075256, 0.17554902632150512, 0.08777451316075256, 0.04388725658037628, 0.04388725658037628, 0.6784256168528368, 0.22495149865332942, 0.07498383288444314, 0.2999353315377726, 0.07498383288444314, 0.1499676657688863, 0.1499676657688863, 0.07498383288444314, 0.07498383288444314, 0.4063240157951547, 0.2708826771967698, 0.1354413385983849, 0.1354413385983849, 0.6908340791257428, 0.6908340791257428, 0.4660017044816289, 0.928626207126953, 0.46600155244021657, 0.08165759846461339, 0.16331519692922677, 0.08165759846461339, 0.16331519692922677, 0.24497279539384015, 0.24497279539384015, 0.08165759846461339, 0.15067714452517253, 0.15067714452517253, 0.15067714452517253, 0.30135428905034506, 0.30135428905034506, 0.8740591669823314, 0.2525952635801562, 0.3536333690122187, 0.10103810543206247, 0.050519052716031236, 0.10103810543206247, 0.050519052716031236, 0.050519052716031236, 0.6527873860598746, 0.8449410675073439, 0.34791313656270323, 0.5218697048440548, 0.17395656828135161, 0.1750347067324465, 0.1750347067324465, 0.350069413464893, 0.350069413464893, 0.13584022849180233, 0.18112030465573645, 0.18112030465573645, 0.09056015232786822, 0.13584022849180233, 0.09056015232786822, 0.22640038081967057, 0.13137157801961058, 0.13137157801961058, 0.13137157801961058, 0.08758105201307372, 0.13137157801961058, 0.17516210402614743, 0.21895263003268428], \"Term\": [\"12\", \"12\", \"aaron\", \"act\", \"actress\", \"actress\", \"adopted\", \"alice\", \"alice\", \"allow\", \"also\", \"also\", \"also\", \"also\", \"also\", \"also\", \"also\", \"altlife\", \"altlife\", \"altlife\", \"altlife\", \"altlife\", \"altlife\", \"altlife\", \"american\", \"approaching\", \"approaching\", \"approaching\", \"approval\", \"art\", \"art\", \"aside\", \"assignment\", \"assignment\", \"assignment\", \"attend\", \"attend\", \"aunt\", \"aunt\", \"aunt\", \"aunt\", \"aunt\", \"back\", \"back\", \"back\", \"back\", \"back\", \"back\", \"back\", \"bay\", \"beautiful\", \"beautiful\", \"beautiful\", \"befriends\", \"big\", \"big\", \"big\", \"big\", \"bigcity\", \"bigcity\", \"bigcity\", \"bigcity\", \"bigcity\", \"bigcity\", \"bigcity\", \"bigcity\", \"bigcorp\", \"bigcorp\", \"bigcorp\", \"bigcorp\", \"bigcorp\", \"blizzard\", \"board\", \"book\", \"book\", \"book\", \"book\", \"book\", \"bookstore\", \"bos\", \"bos\", \"bos\", \"bos\", \"bos\", \"bos\", \"boyfriend\", \"boyfriend\", \"boyfriend\", \"boyfriend\", \"boyfriend\", \"boyfriend\", \"bravery\", \"bride\", \"bride\", \"bring\", \"bring\", \"bring\", \"bring\", \"bring\", \"bring\", \"burdened\", \"burn\", \"business\", \"business\", \"business\", \"business\", \"buy\", \"buy\", \"cafe\", \"california\", \"california\", \"campaign\", \"cancelled\", \"candy\", \"cane\", \"cape\", \"captivating\", \"card\", \"card\", \"carnival\", \"case\", \"cash\", \"cash\", \"cast\", \"cast\", \"celebrity\", \"ceramic\", \"changed\", \"channel\", \"chapter\", \"charity\", \"charles\", \"checkbook\", \"child\", \"child\", \"child\", \"child\", \"child\", \"child\", \"child\", \"child\", \"choir\", \"choir\", \"chris\", \"christine\", \"christmasthemed\", \"chronicle\", \"chronicle\", \"citywide\", \"clean\", \"close\", \"close\", \"club\", \"cod\", \"cody\", \"colleague\", \"column\", \"coma\", \"come\", \"come\", \"come\", \"come\", \"come\", \"come\", \"come\", \"company\", \"company\", \"company\", \"company\", \"company\", \"compete\", \"consisting\", \"continue\", \"cookie\", \"cookie\", \"cooking\", \"cowboy\", \"crawl\", \"critic\", \"cut\", \"dancing\", \"day\", \"day\", \"day\", \"day\", \"day\", \"day\", \"death\", \"death\", \"death\", \"death\", \"decides\", \"decides\", \"decides\", \"decides\", \"decides\", \"decides\", \"decides\", \"decorating\", \"decorating\", \"decorator\", \"deliver\", \"demi\", \"designer\", \"designer\", \"designer\", \"desperately\", \"determined\", \"determined\", \"determined\", \"determined\", \"discovered\", \"discovers\", \"discovers\", \"discovers\", \"discovers\", \"discovers\", \"discovers\", \"display\", \"divorced\", \"divorced\", \"doesnt\", \"doesnt\", \"doesnt\", \"dog\", \"dog\", \"dog\", \"dolly\", \"dose\", \"drake\", \"dream\", \"dream\", \"dream\", \"dream\", \"dream\", \"drew\", \"drive\", \"dub\", \"duo\", \"duo\", \"duty\", \"duty\", \"dy\", \"dy\", \"economic\", \"elf\", \"elf\", \"embarks\", \"emily\", \"escapedyears\", \"estate\", \"estate\", \"estate\", \"estate\", \"eve\", \"eve\", \"evergreen\", \"executive\", \"executive\", \"executive\", \"face\", \"face\", \"facing\", \"factory\", \"factory\", \"faith\", \"faith\", \"faith\", \"faith\", \"faith\", \"faith\", \"faith\", \"fall\", \"fall\", \"fall\", \"fall\", \"fall\", \"fall\", \"fall\", \"fall\", \"falling\", \"falling\", \"falling\", \"falling\", \"falling\", \"falling\", \"family\", \"family\", \"family\", \"family\", \"family\", \"family\", \"family\", \"family\", \"familybiz\", \"familybiz\", \"familybiz\", \"familybiz\", \"familybiz\", \"fast\", \"fast\", \"fast\", \"fast\", \"favorite\", \"feel\", \"feel\", \"feel\", \"feel\", \"festival\", \"festival\", \"filled\", \"film\", \"finally\", \"finally\", \"finally\", \"find\", \"find\", \"find\", \"find\", \"find\", \"find\", \"find\", \"find\", \"first\", \"first\", \"first\", \"first\", \"first\", \"five\", \"five\", \"flees\", \"flight\", \"flight\", \"flight\", \"float\", \"float\", \"flowing\", \"forced\", \"forced\", \"forced\", \"forced\", \"forced\", \"forever\", \"forever\", \"former\", \"former\", \"former\", \"former\", \"former\", \"former\", \"former\", \"forward\", \"foster\", \"fox\", \"freely\", \"friend\", \"friend\", \"friend\", \"friend\", \"friend\", \"friend\", \"friend\", \"gala\", \"game\", \"george\", \"gesture\", \"get\", \"get\", \"get\", \"get\", \"get\", \"get\", \"get\", \"get\", \"gift\", \"gift\", \"gift\", \"gift\", \"gift\", \"give\", \"give\", \"give\", \"give\", \"give\", \"go\", \"go\", \"go\", \"go\", \"go\", \"go\", \"go\", \"go\", \"grand\", \"grandparent\", \"grandparent\", \"grandparent\", \"greed\", \"green\", \"grew\", \"guide\", \"guide\", \"hamlet\", \"handsome\", \"handsome\", \"handsome\", \"handsome\", \"handsome\", \"handsome\", \"handsome\", \"hank\", \"hanna\", \"happiness\", \"happiness\", \"happy\", \"happy\", \"hardship\", \"heart\", \"heart\", \"heart\", \"heart\", \"heart\", \"heather\", \"help\", \"help\", \"help\", \"help\", \"help\", \"help\", \"help\", \"help\", \"high\", \"high\", \"high\", \"high\", \"higher\", \"hillary\", \"holiday\", \"holiday\", \"holiday\", \"holiday\", \"holiday\", \"holiday\", \"holiday\", \"holiday\", \"home\", \"home\", \"home\", \"home\", \"home\", \"home\", \"homeless\", \"hometown\", \"hometown\", \"hometown\", \"hometown\", \"hometown\", \"hometown\", \"hometown\", \"hoping\", \"hoping\", \"hospitalized\", \"hour\", \"humanitarian\", \"ice\", \"ice\", \"ice\", \"importance\", \"imposter\", \"imposter\", \"imposter\", \"imposter\", \"imposter\", \"imposter\", \"imposter\", \"imposter\", \"incompatible\", \"indescribable\", \"initiative\", \"inn\", \"inn\", \"inn\", \"inn\", \"inn\", \"inspire\", \"instruction\", \"integrity\", \"interest\", \"interest\", \"interest\", \"interior\", \"interior\", \"investigative\", \"jack\", \"jack\", \"jack\", \"jim\", \"job\", \"job\", \"job\", \"job\", \"job\", \"job\", \"job\", \"job\", \"joe\", \"jordan\", \"journalistic\", \"joy\", \"joy\", \"joy\", \"joy\", \"julia\", \"julie\", \"kind\", \"kind\", \"kind\", \"kindness\", \"king\", \"king\", \"king\", \"klaus\", \"knowledge\", \"krissy\", \"lack\", \"lady\", \"land\", \"land\", \"land\", \"land\", \"last\", \"last\", \"last\", \"last\", \"lasting\", \"leap\", \"life\", \"life\", \"life\", \"life\", \"life\", \"life\", \"life\", \"life\", \"like\", \"like\", \"liver\", \"living\", \"living\", \"liz\", \"loaded\", \"local\", \"local\", \"local\", \"local\", \"local\", \"local\", \"local\", \"lodge\", \"longer\", \"look\", \"look\", \"losing\", \"losing\", \"lost\", \"lost\", \"lost\", \"lost\", \"lost\", \"lot\", \"lot\", \"love\", \"love\", \"love\", \"love\", \"love\", \"love\", \"love\", \"love\", \"lucky\", \"lucky\", \"magical\", \"magical\", \"magical\", \"magical\", \"maine\", \"majestic\", \"make\", \"make\", \"make\", \"make\", \"make\", \"make\", \"make\", \"make\", \"manager\", \"manager\", \"manager\", \"manager\", \"marketing\", \"marketing\", \"married\", \"marry\", \"master\", \"match\", \"matchmaker\", \"maude\", \"maybe\", \"mcdougal\", \"meet\", \"meet\", \"meet\", \"meet\", \"meet\", \"meet\", \"meet\", \"meet\", \"meeting\", \"meeting\", \"merkle\", \"message\", \"mexico\", \"mia\", \"mias\", \"mistletoe\", \"mistletoe\", \"mixup\", \"mixup\", \"mixup\", \"mixup\", \"mixup\", \"mixup\", \"mixup\", \"money\", \"money\", \"money\", \"montana\", \"month\", \"morning\", \"movie\", \"movie\", \"much\", \"much\", \"must\", \"must\", \"must\", \"must\", \"must\", \"must\", \"must\", \"need\", \"need\", \"need\", \"need\", \"need\", \"need\", \"need\", \"need\", \"nephew\", \"nephew\", \"nephew\", \"nephew\", \"never\", \"never\", \"never\", \"never\", \"new\", \"new\", \"new\", \"new\", \"new\", \"new\", \"new\", \"new\", \"news\", \"news\", \"newspaper\", \"newspaper\", \"nick\", \"nick\", \"night\", \"night\", \"nilson\", \"north\", \"north\", \"novelist\", \"occurs\", \"offer\", \"offer\", \"offer\", \"offer\", \"old\", \"old\", \"old\", \"old\", \"old\", \"old\", \"old\", \"oldest\", \"oliver\", \"one\", \"one\", \"one\", \"one\", \"one\", \"one\", \"one\", \"one\", \"order\", \"order\", \"order\", \"order\", \"order\", \"order\", \"ornament\", \"ornament\", \"otherman\", \"otherman\", \"otherman\", \"otherman\", \"otherman\", \"otherman\", \"outofwork\", \"overcome\", \"overdose\", \"owner\", \"owner\", \"owner\", \"owner\", \"owner\", \"owner\", \"owner\", \"owner\", \"painter\", \"parent\", \"parent\", \"parent\", \"parent\", \"parent\", \"parent\", \"parent\", \"parent\", \"party\", \"party\", \"party\", \"party\", \"passerby\", \"past\", \"past\", \"past\", \"past\", \"past\", \"past\", \"past\", \"personality\", \"piano\", \"picturesque\", \"plan\", \"plan\", \"plan\", \"plan\", \"plan\", \"plan\", \"plan\", \"planner\", \"planner\", \"planner\", \"planted\", \"playhouse\", \"playing\", \"plaza\", \"plight\", \"pole\", \"pole\", \"poorly\", \"possibly\", \"possibly\", \"powerhouse\", \"practice\", \"present\", \"present\", \"present\", \"present\", \"present\", \"president\", \"prestigious\", \"prince\", \"prince\", \"promotion\", \"promotion\", \"protective\", \"queen\", \"queen\", \"quest\", \"questioning\", \"ranch\", \"ranch\", \"ranch\", \"real\", \"real\", \"real\", \"real\", \"real\", \"real\", \"realize\", \"realize\", \"realizes\", \"realizes\", \"realizes\", \"realizes\", \"rebecca\", \"recent\", \"recent\", \"recently\", \"recently\", \"recently\", \"recently\", \"recently\", \"reconnect\", \"recruit\", \"reignite\", \"relearn\", \"renewed\", \"renewed\", \"repair\", \"resistant\", \"resort\", \"resort\", \"responsible\", \"return\", \"return\", \"return\", \"return\", \"return\", \"return\", \"return\", \"return\", \"reunited\", \"risk\", \"rival\", \"rival\", \"rival\", \"rival\", \"rival\", \"rival\", \"rival\", \"river\", \"romance\", \"romance\", \"romance\", \"romance\", \"romance\", \"romance\", \"romance\", \"romance\", \"rome\", \"rossmans\", \"sacrifice\", \"salsa\", \"san\", \"santa\", \"santa\", \"santa\", \"santa\", \"santa\", \"santa\", \"santa\", \"santa\", \"school\", \"school\", \"school\", \"school\", \"school\", \"scientist\", \"scotty\", \"sculpting\", \"sculpting\", \"searching\", \"searching\", \"season\", \"season\", \"season\", \"season\", \"season\", \"season\", \"season\", \"second\", \"second\", \"secret\", \"secret\", \"secret\", \"secret\", \"seem\", \"seem\", \"sell\", \"sell\", \"sell\", \"sending\", \"sending\", \"senova\", \"set\", \"set\", \"set\", \"set\", \"set\", \"set\", \"setback\", \"setback\", \"setback\", \"setback\", \"setback\", \"setback\", \"setback\", \"shane\", \"shes\", \"shes\", \"shes\", \"shop\", \"shop\", \"shop\", \"shop\", \"shortly\", \"show\", \"show\", \"show\", \"show\", \"show\", \"show\", \"shown\", \"sibling\", \"sibling\", \"sibling\", \"sibling\", \"sibling\", \"sibling\", \"sibling\", \"sideline\", \"singleparent\", \"singleparent\", \"singleparent\", \"singleparent\", \"singleparent\", \"singleparent\", \"singleparent\", \"singleparent\", \"sit\", \"sitka\", \"skating\", \"skating\", \"ski\", \"ski\", \"sleepy\", \"smalltown\", \"smalltown\", \"smalltown\", \"smalltown\", \"smalltown\", \"smalltown\", \"smalltown\", \"smalltown\", \"soul\", \"soul\", \"spark\", \"spark\", \"spark\", \"spark\", \"speak\", \"special\", \"special\", \"special\", \"special\", \"special\", \"spirit\", \"spirit\", \"spirit\", \"spirit\", \"spirit\", \"spirit\", \"spirit\", \"spirit\", \"stand\", \"star\", \"star\", \"star\", \"starting\", \"still\", \"still\", \"still\", \"still\", \"still\", \"still\", \"stockbroker\", \"store\", \"store\", \"store\", \"store\", \"store\", \"storm\", \"storm\", \"stranger\", \"stranger\", \"stranger\", \"stranger\", \"stranger\", \"studio\", \"surprise\", \"surprise\", \"surprise\", \"surprise\", \"swap\", \"sweetheart\", \"sweetheart\", \"sweetheart\", \"take\", \"take\", \"take\", \"take\", \"take\", \"take\", \"take\", \"take\", \"takeover\", \"takeover\", \"takeover\", \"takeover\", \"takeover\", \"taking\", \"taking\", \"task\", \"task\", \"team\", \"team\", \"team\", \"themed\", \"three\", \"three\", \"three\", \"time\", \"time\", \"time\", \"time\", \"time\", \"time\", \"time\", \"time\", \"together\", \"together\", \"together\", \"together\", \"together\", \"together\", \"together\", \"told\", \"top\", \"top\", \"top\", \"torn\", \"torn\", \"tour\", \"tour\", \"tour\", \"town\", \"town\", \"town\", \"town\", \"town\", \"town\", \"town\", \"town\", \"toy\", \"toy\", \"toy\", \"toy\", \"toy\", \"training\", \"transplant\", \"tree\", \"tree\", \"tree\", \"tree\", \"tree\", \"trisha\", \"triumph\", \"true\", \"true\", \"true\", \"true\", \"true\", \"true\", \"trust\", \"turn\", \"turn\", \"turn\", \"turn\", \"turn\", \"turn\", \"two\", \"two\", \"two\", \"two\", \"two\", \"two\", \"two\", \"unexpected\", \"unexpected\", \"unexpected\", \"unexpected\", \"unexpected\", \"valley\", \"valley\", \"vermont\", \"vermont\", \"victoria\", \"way\", \"way\", \"way\", \"way\", \"way\", \"way\", \"way\", \"way\", \"wayward\", \"wedding\", \"wedding\", \"wedding\", \"wedding\", \"wedding\", \"wedding\", \"wedding\", \"wedding\", \"whose\", \"whose\", \"whose\", \"whose\", \"wicked\", \"wickedness\", \"window\", \"winning\", \"wisconsin\", \"wish\", \"wish\", \"wish\", \"wish\", \"wish\", \"wish\", \"wish\", \"without\", \"without\", \"without\", \"without\", \"without\", \"wonderland\", \"work\", \"work\", \"work\", \"work\", \"work\", \"work\", \"work\", \"workaholic\", \"worried\", \"writer\", \"writer\", \"writer\", \"writing\", \"writing\", \"writing\", \"writing\", \"year\", \"year\", \"year\", \"year\", \"year\", \"year\", \"year\", \"young\", \"young\", \"young\", \"young\", \"young\", \"young\", \"young\"]}, \"R\": 30, \"lambda.step\": 0.01, \"plot.opts\": {\"xlab\": \"PC1\", \"ylab\": \"PC2\"}, \"topic.order\": [8, 6, 2, 5, 7, 4, 1, 3]};\n",
              "\n",
              "function LDAvis_load_lib(url, callback){\n",
              "  var s = document.createElement('script');\n",
              "  s.src = url;\n",
              "  s.async = true;\n",
              "  s.onreadystatechange = s.onload = callback;\n",
              "  s.onerror = function(){console.warn(\"failed to load library \" + url);};\n",
              "  document.getElementsByTagName(\"head\")[0].appendChild(s);\n",
              "}\n",
              "\n",
              "if(typeof(LDAvis) !== \"undefined\"){\n",
              "   // already loaded: just create the visualization\n",
              "   !function(LDAvis){\n",
              "       new LDAvis(\"#\" + \"ldavis_el581402583887751202607686492\", ldavis_el581402583887751202607686492_data);\n",
              "   }(LDAvis);\n",
              "}else if(typeof define === \"function\" && define.amd){\n",
              "   // require.js is available: use it to load d3/LDAvis\n",
              "   require.config({paths: {d3: \"https://d3js.org/d3.v5\"}});\n",
              "   require([\"d3\"], function(d3){\n",
              "      window.d3 = d3;\n",
              "      LDAvis_load_lib(\"https://cdn.jsdelivr.net/gh/bmabey/pyLDAvis@3.2.2/pyLDAvis/js/ldavis.v3.0.0.js\", function(){\n",
              "        new LDAvis(\"#\" + \"ldavis_el581402583887751202607686492\", ldavis_el581402583887751202607686492_data);\n",
              "      });\n",
              "    });\n",
              "}else{\n",
              "    // require.js not available: dynamically load d3 & LDAvis\n",
              "    LDAvis_load_lib(\"https://d3js.org/d3.v5.js\", function(){\n",
              "         LDAvis_load_lib(\"https://cdn.jsdelivr.net/gh/bmabey/pyLDAvis@3.2.2/pyLDAvis/js/ldavis.v3.0.0.js\", function(){\n",
              "                 new LDAvis(\"#\" + \"ldavis_el581402583887751202607686492\", ldavis_el581402583887751202607686492_data);\n",
              "            })\n",
              "         });\n",
              "}\n",
              "</script>"
            ],
            "text/plain": [
              "PreparedData(topic_coordinates=              x         y  topics  cluster       Freq\n",
              "topic                                                \n",
              "7      0.076277  0.001369       1        1  19.670885\n",
              "5      0.042845  0.092465       2        1  14.933715\n",
              "1      0.032450 -0.077355       3        1  12.077949\n",
              "4      0.084761  0.014991       4        1  11.554794\n",
              "6     -0.114015  0.031550       5        1  10.741190\n",
              "3     -0.054361  0.063942       6        1  10.450058\n",
              "0     -0.032606 -0.088060       7        1  10.358800\n",
              "2     -0.035352 -0.038902       8        1  10.212609, topic_info=             Term       Freq      Total Category  logprob  loglift\n",
              "1157    familybiz  14.000000  14.000000  Default  30.0000  30.0000\n",
              "1164     takeover  14.000000  14.000000  Default  29.0000  29.0000\n",
              "255          plan  23.000000  23.000000  Default  28.0000  28.0000\n",
              "301   grandparent   7.000000   7.000000  Default  27.0000  27.0000\n",
              "199      hometown  40.000000  40.000000  Default  26.0000  26.0000\n",
              "...           ...        ...        ...      ...      ...      ...\n",
              "629       setback   2.905684  24.595500   Topic8  -5.6083   0.1457\n",
              "269      together   2.905720  25.003532   Topic8  -5.6083   0.1292\n",
              "205        parent   2.905625  50.157709   Topic8  -5.6083  -0.5670\n",
              "514        former   2.256138  10.267852   Topic8  -5.8613   0.7662\n",
              "147        school   2.267091  18.334178   Topic8  -5.8564   0.1913\n",
              "\n",
              "[609 rows x 6 columns], token_table=      Topic      Freq     Term\n",
              "term                          \n",
              "1684      6  0.350097       12\n",
              "1684      8  0.350097       12\n",
              "714       5  0.692412    aaron\n",
              "174       5  0.921093      act\n",
              "1556      6  0.350098  actress\n",
              "...     ...       ...      ...\n",
              "91        3  0.131372    young\n",
              "91        4  0.087581    young\n",
              "91        5  0.131372    young\n",
              "91        6  0.175162    young\n",
              "91        7  0.218953    young\n",
              "\n",
              "[1181 rows x 3 columns], R=30, lambda_step=0.01, plot_opts={'xlab': 'PC1', 'ylab': 'PC2'}, topic_order=[8, 6, 2, 5, 7, 4, 1, 3])"
            ]
          },
          "metadata": {
            "tags": []
          },
          "execution_count": 100
        }
      ]
    },
    {
      "cell_type": "code",
      "metadata": {
        "id": "qO4vQGY_gD1u"
      },
      "source": [
        "#fit model to matrix for 5 topics\n",
        "ldamodel = Lda(doc_term_matrix, num_topics=5, id2word=dictionary, passes=100)"
      ],
      "execution_count": null,
      "outputs": []
    },
    {
      "cell_type": "code",
      "metadata": {
        "colab": {
          "base_uri": "https://localhost:8080/"
        },
        "id": "Kq5DNlzPgk4P",
        "outputId": "acee049f-19f2-4bab-8acf-bdf1ef8159d2"
      },
      "source": [
        "for idx, topic in ldamodel.print_topics(num_words=5):\n",
        "  print('Topics: {}  Words: {}'.format(idx, topic))"
      ],
      "execution_count": null,
      "outputs": [
        {
          "output_type": "stream",
          "text": [
            "Topics: 0  Words: 0.011*\"love\" + 0.008*\"family\" + 0.008*\"help\" + 0.006*\"must\" + 0.005*\"santa\"\n",
            "Topics: 1  Words: 0.010*\"child\" + 0.009*\"parent\" + 0.007*\"help\" + 0.007*\"hometown\" + 0.007*\"family\"\n",
            "Topics: 2  Words: 0.013*\"town\" + 0.006*\"smalltown\" + 0.006*\"help\" + 0.005*\"hometown\" + 0.005*\"parent\"\n",
            "Topics: 3  Words: 0.010*\"life\" + 0.009*\"family\" + 0.008*\"love\" + 0.008*\"child\" + 0.008*\"spirit\"\n",
            "Topics: 4  Words: 0.012*\"family\" + 0.009*\"smalltown\" + 0.007*\"santa\" + 0.007*\"parent\" + 0.006*\"help\"\n"
          ],
          "name": "stdout"
        }
      ]
    },
    {
      "cell_type": "code",
      "metadata": {
        "id": "VPSF8fz_gy-H"
      },
      "source": [
        "#fit model to matrix for 3 topics\n",
        "ldamodel = Lda(doc_term_matrix, num_topics=3, id2word=dictionary, passes=100)"
      ],
      "execution_count": null,
      "outputs": []
    },
    {
      "cell_type": "code",
      "metadata": {
        "colab": {
          "base_uri": "https://localhost:8080/"
        },
        "id": "Wg90HT5whJWM",
        "outputId": "8cf6b958-de33-42b3-e038-fc10c783c958"
      },
      "source": [
        "for idx, topic in ldamodel.print_topics(num_words=5):\n",
        "  print('Topics: {}  Words: {}'.format(idx, topic))"
      ],
      "execution_count": null,
      "outputs": [
        {
          "output_type": "stream",
          "text": [
            "Topics: 0  Words: 0.008*\"life\" + 0.006*\"help\" + 0.006*\"town\" + 0.006*\"hometown\" + 0.006*\"love\"\n",
            "Topics: 1  Words: 0.009*\"parent\" + 0.008*\"child\" + 0.008*\"hometown\" + 0.007*\"help\" + 0.007*\"family\"\n",
            "Topics: 2  Words: 0.011*\"family\" + 0.008*\"child\" + 0.008*\"love\" + 0.007*\"parent\" + 0.006*\"time\"\n"
          ],
          "name": "stdout"
        }
      ]
    },
    {
      "cell_type": "code",
      "metadata": {
        "id": "FVOFvYlyhPDL"
      },
      "source": [
        "# 8 topics is the clearest - maybe there are 7? - let's stick w/ 8 from LDA grid search"
      ],
      "execution_count": null,
      "outputs": []
    },
    {
      "cell_type": "code",
      "metadata": {
        "id": "OKcGw6CNjumr"
      },
      "source": [
        "# topics:\n",
        "# 1 - RIVALS - have to work together for some goal\n",
        "# 2 - BOSS - cynical bizman hires spunky woman for some reason\n",
        "# 3 - ALTLIFE - wish on a spirit/santa granted - or time travel\n",
        "# 4 - TAKEOVER - bigcorp threatens familybiz in smalltown\n",
        "# 5 - MIXUP - travel mixup forces incompatible people together\n",
        "# 6 - IMPOSTER - dramatic irony - someone lies abt who they are/amnesia\n",
        "# 7 - SETBACK - disappointed moves away to smalltown to heal/inherit"
      ],
      "execution_count": null,
      "outputs": []
    },
    {
      "cell_type": "code",
      "metadata": {
        "colab": {
          "base_uri": "https://localhost:8080/"
        },
        "id": "GHR0I4sUXlpt",
        "outputId": "7b93c44d-d046-45dd-93df-f027b989d1ff"
      },
      "source": [
        "len(plots), type(plots)"
      ],
      "execution_count": null,
      "outputs": [
        {
          "output_type": "execute_result",
          "data": {
            "text/plain": [
              "(259, list)"
            ]
          },
          "metadata": {
            "tags": []
          },
          "execution_count": 120
        }
      ]
    },
    {
      "cell_type": "code",
      "metadata": {
        "colab": {
          "base_uri": "https://localhost:8080/"
        },
        "id": "9rUi6K49ZYSA",
        "outputId": "4dc74733-7cb5-427d-f7e0-6f8367be0c5b"
      },
      "source": [
        "plots[100:105]"
      ],
      "execution_count": null,
      "outputs": [
        {
          "output_type": "execute_result",
          "data": {
            "text/plain": [
              "['After starting her first job at a country club restaurant <WOMAN> passions for cooking and ice sculpting are met with romance and <CHRISTMAS> spirit when a childhood friend <MAN> enters her into the club annual <CHRISTMAS> ice sculpting competition without her knowledge.',\n",
              " 'An out-of-work <SETBACK> <BIGCITY> actress returns home to the quaint <HOMETOWN> she escapedyears before and finds a place far different than the hamlet she left. She suddenly finds performing possibilities and even romance that kind of blow her away.',\n",
              " 'At the height of her career investigative journalist <WOMAN> finds herself wondering what would have been had she stayed with the love of her life <MAN>years before. When <SANTA> hears her “what ifs?” as a <CHRISTMAS> wish he transports <WOMAN> to a version of her life <ALTLIFE> where she and <MAN> started a family.',\n",
              " 'A successful <BIGCORP> businesswoman <WOMAN> <INHERIT> her beloved aunts inn <FAMILYBIZ> and chooses to restore the hotel to its original grandeur only to sell it <TAKEOVER> right before <CHRISTMAS>. Unbeknownst to <WOMAN> she receives some unexpected help from a team of <SPIRIT> headed by the cheerful Clementine who helps her rediscover the true meaning of <CHRISTMAS>.',\n",
              " 'When two type-A single <PARENT> <MAN> and <WOMAN> battle it out for control of the <CHRISTMAS> holiday at their <CHILD> middle school they get more than they bargained for when they learn a little something about the true meaning of <CHRISTMAS> while opening themselves up for the possibility of a new romance.']"
            ]
          },
          "metadata": {
            "tags": []
          },
          "execution_count": 122
        }
      ]
    },
    {
      "cell_type": "code",
      "metadata": {
        "colab": {
          "base_uri": "https://localhost:8080/"
        },
        "id": "tgA0sDawZbPx",
        "outputId": "2de8e4e4-2026-4144-adee-c78311089bcc"
      },
      "source": [
        "# generation: markov chain - GPT-2\n",
        "!pip install markovify"
      ],
      "execution_count": null,
      "outputs": [
        {
          "output_type": "stream",
          "text": [
            "Collecting markovify\n",
            "  Downloading https://files.pythonhosted.org/packages/56/18/fdc3e6e0a55e10a4457846987e6b48587c0dbf616baae582501da7396b82/markovify-0.9.0.tar.gz\n",
            "Collecting unidecode\n",
            "\u001b[?25l  Downloading https://files.pythonhosted.org/packages/9e/25/723487ca2a52ebcee88a34d7d1f5a4b80b793f179ee0f62d5371938dfa01/Unidecode-1.2.0-py2.py3-none-any.whl (241kB)\n",
            "\u001b[K     |████████████████████████████████| 245kB 12.6MB/s \n",
            "\u001b[?25hBuilding wheels for collected packages: markovify\n",
            "  Building wheel for markovify (setup.py) ... \u001b[?25l\u001b[?25hdone\n",
            "  Created wheel for markovify: filename=markovify-0.9.0-cp37-none-any.whl size=18476 sha256=d3d25fa5ed13bdf4428623fe143907a978d49d5046c99a22243b4480c12e22ea\n",
            "  Stored in directory: /root/.cache/pip/wheels/03/59/5b/04c5f27d57977580c1122fa69a69c327dede5a30f9dac54c55\n",
            "Successfully built markovify\n",
            "Installing collected packages: unidecode, markovify\n",
            "Successfully installed markovify-0.9.0 unidecode-1.2.0\n"
          ],
          "name": "stdout"
        }
      ]
    },
    {
      "cell_type": "code",
      "metadata": {
        "id": "1ows49rOa4r-"
      },
      "source": [
        "import markovify"
      ],
      "execution_count": null,
      "outputs": []
    },
    {
      "cell_type": "code",
      "metadata": {
        "id": "86JbsexAbDGC"
      },
      "source": [
        "plots_newline = '\\n'.join(plots)"
      ],
      "execution_count": null,
      "outputs": []
    },
    {
      "cell_type": "code",
      "metadata": {
        "id": "rkyyhkERbNep"
      },
      "source": [
        "text_model = markovify.NewlineText(plots_newline)"
      ],
      "execution_count": null,
      "outputs": []
    },
    {
      "cell_type": "code",
      "metadata": {
        "id": "_CLpw16Nbqp9"
      },
      "source": [
        "from IPython.display import display, HTML\n",
        "def set_css():\n",
        "  display(HTML('''\n",
        "  <style>\n",
        "    pre {\n",
        "        white-space: pre-wrap;\n",
        "    }\n",
        "  </style>\n",
        "  '''))\n",
        "get_ipython().events.register('pre_run_cell', set_css)"
      ],
      "execution_count": null,
      "outputs": []
    },
    {
      "cell_type": "code",
      "metadata": {
        "colab": {
          "base_uri": "https://localhost:8080/",
          "height": 459
        },
        "id": "aIldCqSabiAj",
        "outputId": "82995217-2781-44e7-b55b-52be3da638ec"
      },
      "source": [
        "for i in range(5):\n",
        "  print(text_model.make_sentence(), '\\n')"
      ],
      "execution_count": null,
      "outputs": [
        {
          "output_type": "display_data",
          "data": {
            "text/html": [
              "\n",
              "  <style>\n",
              "    pre {\n",
              "        white-space: pre-wrap;\n",
              "    }\n",
              "  </style>\n",
              "  "
            ],
            "text/plain": [
              "<IPython.core.display.HTML object>"
            ]
          },
          "metadata": {
            "tags": []
          }
        },
        {
          "output_type": "stream",
          "text": [
            "When widowed <PARENT> <WOMAN> returns <HOMETOWN> to meet their <PARENT> are preoccupied with work and the friendly passerby a widower <MAN> is searching for a romance full of <CHRISTMAS> in the life she planned for give way to make ends meet. Stripped of power and position Drake discovers the importance of the Merry and Brights operation and find themselves falling for each other just in time to plan the event. One afternoon she meets the locals and even find time for the holidays. \n",
            "\n",
            "A workaholic television producer <WOMAN> receives a visit from the <BOSS> <MAN> who has lost <SETBACK> sight of the <BIGCITY> gallery world artist <WOMAN> returns back to <SMALLTOWN> Colorado to consider the location. On her way into town so she must complete the job of turning things around a determined young elf befriends a little boy with a cynical business owner <BOSS> <MAN> whose company commissioned the float. \n",
            "\n",
            "<WOMAN> is ending her tenure as the most unlikely of circumstances right before <CHRISTMAS>? \n",
            "\n",
            "<SINGLEPARENT> <WOMAN> is marooned <MIXUP> for several days in the town of <SMALLTOWN> Green River particularly for <WOMAN> is a passionate artist whose family has been home to her <HOMETOWN> for <CHRISTMAS>? \n",
            "\n",
            "When <WOMAN> offers a stranded <MIXUP> <PARENT> and losing touch with her ex <MAN> <RIVALS> disagree on a morning show producer <MAN> and <SMALLTOWN> girl <WOMAN> wished to find Wills family! \n",
            "\n"
          ],
          "name": "stdout"
        }
      ]
    },
    {
      "cell_type": "code",
      "metadata": {
        "colab": {
          "base_uri": "https://localhost:8080/",
          "height": 17
        },
        "id": "wyi1R8Dnboxn",
        "outputId": "73e7d9d0-d86c-4a41-f3bc-3ebd5816662d"
      },
      "source": [
        "text_model2 = markovify.Text(plots)"
      ],
      "execution_count": null,
      "outputs": [
        {
          "output_type": "display_data",
          "data": {
            "text/html": [
              "\n",
              "  <style>\n",
              "    pre {\n",
              "        white-space: pre-wrap;\n",
              "    }\n",
              "  </style>\n",
              "  "
            ],
            "text/plain": [
              "<IPython.core.display.HTML object>"
            ]
          },
          "metadata": {
            "tags": []
          }
        }
      ]
    },
    {
      "cell_type": "code",
      "metadata": {
        "colab": {
          "base_uri": "https://localhost:8080/",
          "height": 289
        },
        "id": "lKRTTOUKc6Bi",
        "outputId": "fe72b482-343b-48cf-c175-5ebb3339bb86"
      },
      "source": [
        "for i in range(5):\n",
        "  print(text_model2.make_sentence(), '\\n')"
      ],
      "execution_count": null,
      "outputs": [
        {
          "output_type": "display_data",
          "data": {
            "text/html": [
              "\n",
              "  <style>\n",
              "    pre {\n",
              "        white-space: pre-wrap;\n",
              "    }\n",
              "  </style>\n",
              "  "
            ],
            "text/plain": [
              "<IPython.core.display.HTML object>"
            ]
          },
          "metadata": {
            "tags": []
          }
        },
        {
          "output_type": "stream",
          "text": [
            "With a little guidance from a <BIGCORP> chain resort <TAKEOVER>. \n",
            "\n",
            "Could they both keep their news secret <IMPOSTER> in hopes that the <BIGCORP> buyer is her high school sweetheart <MAN> who also happens to be her date as she sees her former flame <MAN>. The two met and before long a friendship developed into romance. \n",
            "\n",
            "After moving back to <SMALLTOWN> Nilson Bay she meets a beautiful veterinary student who challenges his decision to remain a confirmed bachelor. \n",
            "\n",
            "The board assigns him what seems like an impossible mission: he must reconcile with their <CHILD> who soon shares her love of <CHRISTMAS> while opening themselves up for a holiday festival. \n",
            "\n",
            "<WOMAN> is so fed up with a variety of characters. \n",
            "\n"
          ],
          "name": "stdout"
        }
      ]
    },
    {
      "cell_type": "code",
      "metadata": {
        "colab": {
          "base_uri": "https://localhost:8080/",
          "height": 17
        },
        "id": "h0hvAVaQc_1s",
        "outputId": "098b10cc-ad70-4f00-b5aa-5790b7787687"
      },
      "source": [
        "# next step is to tag plot types and train GPT2 - try generating new for each"
      ],
      "execution_count": null,
      "outputs": [
        {
          "output_type": "display_data",
          "data": {
            "text/html": [
              "\n",
              "  <style>\n",
              "    pre {\n",
              "        white-space: pre-wrap;\n",
              "    }\n",
              "  </style>\n",
              "  "
            ],
            "text/plain": [
              "<IPython.core.display.HTML object>"
            ]
          },
          "metadata": {
            "tags": []
          }
        }
      ]
    },
    {
      "cell_type": "code",
      "metadata": {
        "colab": {
          "base_uri": "https://localhost:8080/",
          "height": 17
        },
        "id": "LvTn67TyeCac",
        "outputId": "2e32b40b-2230-40b5-8c9e-330ab70caa77"
      },
      "source": [
        "# code to use is in Copy of Copy of BuildMoviePlots"
      ],
      "execution_count": null,
      "outputs": [
        {
          "output_type": "display_data",
          "data": {
            "text/html": [
              "\n",
              "  <style>\n",
              "    pre {\n",
              "        white-space: pre-wrap;\n",
              "    }\n",
              "  </style>\n",
              "  "
            ],
            "text/plain": [
              "<IPython.core.display.HTML object>"
            ]
          },
          "metadata": {
            "tags": []
          }
        }
      ]
    },
    {
      "cell_type": "code",
      "metadata": {
        "colab": {
          "base_uri": "https://localhost:8080/",
          "height": 221
        },
        "id": "PgdQ0xa8eVP-",
        "outputId": "a2912786-2005-445e-ba5b-5534a07449b8"
      },
      "source": [
        "plots[145:148]"
      ],
      "execution_count": null,
      "outputs": [
        {
          "output_type": "display_data",
          "data": {
            "text/html": [
              "\n",
              "  <style>\n",
              "    pre {\n",
              "        white-space: pre-wrap;\n",
              "    }\n",
              "  </style>\n",
              "  "
            ],
            "text/plain": [
              "<IPython.core.display.HTML object>"
            ]
          },
          "metadata": {
            "tags": []
          }
        },
        {
          "output_type": "execute_result",
          "data": {
            "text/plain": [
              "['When <WOMAN> takes a rare break from work for her friend Avas <CHRISTMAS> wedding she reconnects with her former flame <MAN>. The two decorate the cottage where the newlyweds will spend their honeymoon – a cottage said to bring true love to anyone who stays there – and feel their chemistry return.',\n",
              " '<WOMAN> now 30 years old and considered a relic in the world of figure skating gets an improbable shot to reclaim skating glory when a young coach <MAN> sees greatness in her. Together they find their love of skating goes beyond the ice.',\n",
              " '<WOMAN> a veterinarian in <SMALLTOWN> reluctantly will spend <CHRISTMAS> with her long-distance <OTHERMAN>. Bound for the airport she has engine trouble <MIXUP> and <MAN> headed to Florida with his <CHILD> Zoe stops to help. Sure they won’t meet again they ignore their attraction and part ways. At the diner <WOMAN> wishes on a snow globe <ALTLIFE> and a storm <SPIRIT> seems to grant her wish.']"
            ]
          },
          "metadata": {
            "tags": []
          },
          "execution_count": 138
        }
      ]
    },
    {
      "cell_type": "code",
      "metadata": {
        "colab": {
          "base_uri": "https://localhost:8080/",
          "height": 17
        },
        "id": "mBFHWaN2e4cS",
        "outputId": "8e5ffcd5-7a9b-4f6e-dd0d-04b2f013fb3b"
      },
      "source": [
        "# need to revisit the stories - I think coach=boss; rivals=exes"
      ],
      "execution_count": null,
      "outputs": [
        {
          "output_type": "display_data",
          "data": {
            "text/html": [
              "\n",
              "  <style>\n",
              "    pre {\n",
              "        white-space: pre-wrap;\n",
              "    }\n",
              "  </style>\n",
              "  "
            ],
            "text/plain": [
              "<IPython.core.display.HTML object>"
            ]
          },
          "metadata": {
            "tags": []
          }
        }
      ]
    },
    {
      "cell_type": "code",
      "metadata": {
        "id": "OkWsghZifSuO"
      },
      "source": [
        ""
      ],
      "execution_count": null,
      "outputs": []
    }
  ]
}
