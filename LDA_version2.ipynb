{
  "nbformat": 4,
  "nbformat_minor": 0,
  "metadata": {
    "colab": {
      "name": "LDA_version2.ipynb",
      "provenance": [],
      "collapsed_sections": [],
      "authorship_tag": "ABX9TyNUks8N9MprhITC/OVEG2AY",
      "include_colab_link": true
    },
    "kernelspec": {
      "name": "python3",
      "display_name": "Python 3"
    }
  },
  "cells": [
    {
      "cell_type": "markdown",
      "metadata": {
        "id": "view-in-github",
        "colab_type": "text"
      },
      "source": [
        "<a href=\"https://colab.research.google.com/github/martykihn/xmas_movies_analysis/blob/main/LDA_version2.ipynb\" target=\"_parent\"><img src=\"https://colab.research.google.com/assets/colab-badge.svg\" alt=\"Open In Colab\"/></a>"
      ]
    },
    {
      "cell_type": "code",
      "metadata": {
        "colab": {
          "base_uri": "https://localhost:8080/"
        },
        "id": "aM8tIU2_1pBb",
        "outputId": "52b1597e-2d34-4e37-f8c3-d9e099868d56"
      },
      "source": [
        "# this code is just for Google Colab notebook word wrapping format\n",
        "\n",
        "from IPython.display import HTML, display\n",
        "def set_css():\n",
        "  display(HTML('''\n",
        "  <style>\n",
        "    pre {\n",
        "        white-space: pre-wrap;\n",
        "    }\n",
        "  </style>\n",
        "  '''))\n",
        "get_ipython().events.register('pre_run_cell', set_css)\n",
        "\n",
        "from google.colab import drive\n",
        "drive.mount('/content/drive')"
      ],
      "execution_count": 2,
      "outputs": [
        {
          "output_type": "stream",
          "text": [
            "Mounted at /content/drive\n"
          ],
          "name": "stdout"
        }
      ]
    },
    {
      "cell_type": "code",
      "metadata": {
        "colab": {
          "base_uri": "https://localhost:8080/",
          "height": 34
        },
        "id": "DU8ReKM12doO",
        "outputId": "122c46fc-442d-4d96-86fa-4925ac1d6b83"
      },
      "source": [
        "cd /content/drive/MyDrive/Colab Notebooks/TextFiles"
      ],
      "execution_count": 3,
      "outputs": [
        {
          "output_type": "display_data",
          "data": {
            "text/html": [
              "\n",
              "  <style>\n",
              "    pre {\n",
              "        white-space: pre-wrap;\n",
              "    }\n",
              "  </style>\n",
              "  "
            ],
            "text/plain": [
              "<IPython.core.display.HTML object>"
            ]
          },
          "metadata": {
            "tags": []
          }
        },
        {
          "output_type": "stream",
          "text": [
            "/content/drive/MyDrive/Colab Notebooks/TextFiles\n"
          ],
          "name": "stdout"
        }
      ]
    },
    {
      "cell_type": "code",
      "metadata": {
        "colab": {
          "base_uri": "https://localhost:8080/",
          "height": 425
        },
        "id": "uw5-9MeF2noH",
        "outputId": "b97dacfc-9a65-46f9-bba4-ceffb378c79d"
      },
      "source": [
        "ls"
      ],
      "execution_count": 4,
      "outputs": [
        {
          "output_type": "display_data",
          "data": {
            "text/html": [
              "\n",
              "  <style>\n",
              "    pre {\n",
              "        white-space: pre-wrap;\n",
              "    }\n",
              "  </style>\n",
              "  "
            ],
            "text/plain": [
              "<IPython.core.display.HTML object>"
            ]
          },
          "metadata": {
            "tags": []
          }
        },
        {
          "output_type": "stream",
          "text": [
            "cached_lm_GPT2Tokenizer_126_text_as_list_test.csv\n",
            "cached_lm_GPT2Tokenizer_126_text_as_list_test.csv.lock\n",
            "cached_lm_GPT2Tokenizer_126_text_as_list_train.csv\n",
            "cached_lm_GPT2Tokenizer_126_text_as_list_train.csv.lock\n",
            "cached_lm_GPT2Tokenizer_126_text_nopunc.txt\n",
            "cached_lm_GPT2Tokenizer_126_text_nopunc.txt.lock\n",
            "\u001b[0m\u001b[01;34mdata\u001b[0m/\n",
            "plots-finalformat.csv\n",
            "plots_test.txt\n",
            "plots_train.txt\n",
            "plots_valid.txt\n",
            "\u001b[01;34mruns\u001b[0m/\n",
            "\u001b[01;34mstory_generator_checkpoint\u001b[0m/\n",
            "text_as_list.csv\n",
            "text_as_list_test.csv\n",
            "text_as_list_test_TOKENS.txt\n",
            "text_as_list_train.csv\n",
            "text_as_list_train_TOKENS.txt\n",
            "text_as_string_test.csv\n",
            "text_as_string_train.csv\n",
            "text_newlines.txt\n",
            "text_nopunc.txt\n",
            "text.txt\n",
            "\u001b[01;34mtransformers\u001b[0m/\n"
          ],
          "name": "stdout"
        }
      ]
    },
    {
      "cell_type": "code",
      "metadata": {
        "colab": {
          "base_uri": "https://localhost:8080/",
          "height": 17
        },
        "id": "b2B2xlV32oVF",
        "outputId": "ddf9505d-0143-401f-901e-a1db1a582e47"
      },
      "source": [
        "from gensim.utils import simple_preprocess\n",
        "from gensim.parsing.preprocessing import STOPWORDS\n",
        "from nltk.stem import WordNetLemmatizer\n",
        "\n",
        "lemtzer = WordNetLemmatizer()\n",
        "\n",
        "def lemmatize_stemming(text):\n",
        "    return lemtzer.lemmatize(text, pos='v')\n",
        "\n",
        "# Write a function to perform the pre processing steps on the entire dataset\n",
        "def preprocess(text):\n",
        "    result=[]\n",
        "    for token in simple_preprocess(text) :\n",
        "        if token not in STOPWORDS:\n",
        "            result.append(lemmatize_stemming(token))\n",
        "            \n",
        "    return result"
      ],
      "execution_count": 5,
      "outputs": [
        {
          "output_type": "display_data",
          "data": {
            "text/html": [
              "\n",
              "  <style>\n",
              "    pre {\n",
              "        white-space: pre-wrap;\n",
              "    }\n",
              "  </style>\n",
              "  "
            ],
            "text/plain": [
              "<IPython.core.display.HTML object>"
            ]
          },
          "metadata": {
            "tags": []
          }
        }
      ]
    },
    {
      "cell_type": "code",
      "metadata": {
        "id": "JRdLW93C3MYk",
        "colab": {
          "base_uri": "https://localhost:8080/",
          "height": 68
        },
        "outputId": "76270ecb-ace8-4e7b-b7d0-eaddcf5fa697"
      },
      "source": [
        "import nltk\n",
        "nltk.download('wordnet')"
      ],
      "execution_count": 6,
      "outputs": [
        {
          "output_type": "display_data",
          "data": {
            "text/html": [
              "\n",
              "  <style>\n",
              "    pre {\n",
              "        white-space: pre-wrap;\n",
              "    }\n",
              "  </style>\n",
              "  "
            ],
            "text/plain": [
              "<IPython.core.display.HTML object>"
            ]
          },
          "metadata": {
            "tags": []
          }
        },
        {
          "output_type": "stream",
          "text": [
            "[nltk_data] Downloading package wordnet to /root/nltk_data...\n",
            "[nltk_data]   Unzipping corpora/wordnet.zip.\n"
          ],
          "name": "stdout"
        },
        {
          "output_type": "execute_result",
          "data": {
            "text/plain": [
              "True"
            ]
          },
          "metadata": {
            "tags": []
          },
          "execution_count": 6
        }
      ]
    },
    {
      "cell_type": "code",
      "metadata": {
        "colab": {
          "base_uri": "https://localhost:8080/",
          "height": 136
        },
        "id": "d1tNi2FvJeCo",
        "outputId": "c2632356-2d1a-4082-9db0-993de3eaf61f"
      },
      "source": [
        "doc_sample = 'This disk has failed many times. I would like to get it replaced.'\n",
        "\n",
        "print(\"Original document: \")\n",
        "words = []\n",
        "for word in doc_sample.split(' '):\n",
        "    words.append(word)\n",
        "print(words)\n",
        "print(\"\\n\\nTokenized and lemmatized document: \")\n",
        "print(preprocess(doc_sample))"
      ],
      "execution_count": 7,
      "outputs": [
        {
          "output_type": "display_data",
          "data": {
            "text/html": [
              "\n",
              "  <style>\n",
              "    pre {\n",
              "        white-space: pre-wrap;\n",
              "    }\n",
              "  </style>\n",
              "  "
            ],
            "text/plain": [
              "<IPython.core.display.HTML object>"
            ]
          },
          "metadata": {
            "tags": []
          }
        },
        {
          "output_type": "stream",
          "text": [
            "Original document: \n",
            "['This', 'disk', 'has', 'failed', 'many', 'times.', 'I', 'would', 'like', 'to', 'get', 'it', 'replaced.']\n",
            "\n",
            "\n",
            "Tokenized and lemmatized document: \n",
            "['disk', 'fail', 'time', 'like', 'replace']\n"
          ],
          "name": "stdout"
        }
      ]
    },
    {
      "cell_type": "code",
      "metadata": {
        "colab": {
          "base_uri": "https://localhost:8080/",
          "height": 17
        },
        "id": "oLZMZdPlJhpO",
        "outputId": "3c8865e1-5a14-4001-f067-f7950b91be2a"
      },
      "source": [
        "# plots = \"/content/drive/MyDrive/Colab Notebooks/TextFiles/text_newlines.txt\""
      ],
      "execution_count": 8,
      "outputs": [
        {
          "output_type": "display_data",
          "data": {
            "text/html": [
              "\n",
              "  <style>\n",
              "    pre {\n",
              "        white-space: pre-wrap;\n",
              "    }\n",
              "  </style>\n",
              "  "
            ],
            "text/plain": [
              "<IPython.core.display.HTML object>"
            ]
          },
          "metadata": {
            "tags": []
          }
        }
      ]
    },
    {
      "cell_type": "code",
      "metadata": {
        "colab": {
          "base_uri": "https://localhost:8080/",
          "height": 17
        },
        "id": "RjFFAFDwKRvh",
        "outputId": "8f05aa27-a8d3-4853-fb15-7e272a84d263"
      },
      "source": [
        "plots = []\n",
        "with open('/content/drive/MyDrive/Colab Notebooks/TextFiles/text_newlines.txt') as myfile:\n",
        "  for plot in myfile:\n",
        "    plot = plot.replace('\\n', '')\n",
        "    if plot == '':\n",
        "      continue\n",
        "    else:\n",
        "      plots.append(str(plot))\n",
        "myfile.close()"
      ],
      "execution_count": 9,
      "outputs": [
        {
          "output_type": "display_data",
          "data": {
            "text/html": [
              "\n",
              "  <style>\n",
              "    pre {\n",
              "        white-space: pre-wrap;\n",
              "    }\n",
              "  </style>\n",
              "  "
            ],
            "text/plain": [
              "<IPython.core.display.HTML object>"
            ]
          },
          "metadata": {
            "tags": []
          }
        }
      ]
    },
    {
      "cell_type": "code",
      "metadata": {
        "colab": {
          "base_uri": "https://localhost:8080/",
          "height": 34
        },
        "id": "Nu-SzML_L6g_",
        "outputId": "262669c0-6c18-4aa3-9996-8150a3928e37"
      },
      "source": [
        "type(plots)"
      ],
      "execution_count": 10,
      "outputs": [
        {
          "output_type": "display_data",
          "data": {
            "text/html": [
              "\n",
              "  <style>\n",
              "    pre {\n",
              "        white-space: pre-wrap;\n",
              "    }\n",
              "  </style>\n",
              "  "
            ],
            "text/plain": [
              "<IPython.core.display.HTML object>"
            ]
          },
          "metadata": {
            "tags": []
          }
        },
        {
          "output_type": "execute_result",
          "data": {
            "text/plain": [
              "list"
            ]
          },
          "metadata": {
            "tags": []
          },
          "execution_count": 10
        }
      ]
    },
    {
      "cell_type": "code",
      "metadata": {
        "colab": {
          "base_uri": "https://localhost:8080/",
          "height": 34
        },
        "id": "aCKILpg2L8bY",
        "outputId": "40203304-1585-420a-c9e9-ad977b45ec4e"
      },
      "source": [
        "len(plots)"
      ],
      "execution_count": 11,
      "outputs": [
        {
          "output_type": "display_data",
          "data": {
            "text/html": [
              "\n",
              "  <style>\n",
              "    pre {\n",
              "        white-space: pre-wrap;\n",
              "    }\n",
              "  </style>\n",
              "  "
            ],
            "text/plain": [
              "<IPython.core.display.HTML object>"
            ]
          },
          "metadata": {
            "tags": []
          }
        },
        {
          "output_type": "execute_result",
          "data": {
            "text/plain": [
              "249"
            ]
          },
          "metadata": {
            "tags": []
          },
          "execution_count": 11
        }
      ]
    },
    {
      "cell_type": "code",
      "metadata": {
        "colab": {
          "base_uri": "https://localhost:8080/",
          "height": 17
        },
        "id": "d-riulESL9cF",
        "outputId": "062db523-180a-4ecf-f015-f9e55761d3e1"
      },
      "source": [
        "# create train and test splits\n",
        "plots_train = plots[0:200]\n",
        "plots_test = plots[201:]"
      ],
      "execution_count": 12,
      "outputs": [
        {
          "output_type": "display_data",
          "data": {
            "text/html": [
              "\n",
              "  <style>\n",
              "    pre {\n",
              "        white-space: pre-wrap;\n",
              "    }\n",
              "  </style>\n",
              "  "
            ],
            "text/plain": [
              "<IPython.core.display.HTML object>"
            ]
          },
          "metadata": {
            "tags": []
          }
        }
      ]
    },
    {
      "cell_type": "code",
      "metadata": {
        "colab": {
          "base_uri": "https://localhost:8080/",
          "height": 34
        },
        "id": "uuMMTeeSMbln",
        "outputId": "9a2a6547-e401-4735-bad0-f3eaf435d4b1"
      },
      "source": [
        "len(plots_train)"
      ],
      "execution_count": 13,
      "outputs": [
        {
          "output_type": "display_data",
          "data": {
            "text/html": [
              "\n",
              "  <style>\n",
              "    pre {\n",
              "        white-space: pre-wrap;\n",
              "    }\n",
              "  </style>\n",
              "  "
            ],
            "text/plain": [
              "<IPython.core.display.HTML object>"
            ]
          },
          "metadata": {
            "tags": []
          }
        },
        {
          "output_type": "execute_result",
          "data": {
            "text/plain": [
              "200"
            ]
          },
          "metadata": {
            "tags": []
          },
          "execution_count": 13
        }
      ]
    },
    {
      "cell_type": "code",
      "metadata": {
        "colab": {
          "base_uri": "https://localhost:8080/",
          "height": 34
        },
        "id": "DbUnxChtMgbO",
        "outputId": "202700d5-300f-4688-81d9-09da12fad3c9"
      },
      "source": [
        "type(plots_train)"
      ],
      "execution_count": 14,
      "outputs": [
        {
          "output_type": "display_data",
          "data": {
            "text/html": [
              "\n",
              "  <style>\n",
              "    pre {\n",
              "        white-space: pre-wrap;\n",
              "    }\n",
              "  </style>\n",
              "  "
            ],
            "text/plain": [
              "<IPython.core.display.HTML object>"
            ]
          },
          "metadata": {
            "tags": []
          }
        },
        {
          "output_type": "execute_result",
          "data": {
            "text/plain": [
              "list"
            ]
          },
          "metadata": {
            "tags": []
          },
          "execution_count": 14
        }
      ]
    },
    {
      "cell_type": "code",
      "metadata": {
        "colab": {
          "base_uri": "https://localhost:8080/",
          "height": 17
        },
        "id": "pWgrhHm1MiMT",
        "outputId": "03dc6665-49f3-40a6-c003-59a1a6a2e802"
      },
      "source": [
        "processed_train = []\n",
        "for plot in plots_train:\n",
        "  processed_train.append(preprocess(plot))"
      ],
      "execution_count": 15,
      "outputs": [
        {
          "output_type": "display_data",
          "data": {
            "text/html": [
              "\n",
              "  <style>\n",
              "    pre {\n",
              "        white-space: pre-wrap;\n",
              "    }\n",
              "  </style>\n",
              "  "
            ],
            "text/plain": [
              "<IPython.core.display.HTML object>"
            ]
          },
          "metadata": {
            "tags": []
          }
        }
      ]
    },
    {
      "cell_type": "code",
      "metadata": {
        "colab": {
          "base_uri": "https://localhost:8080/",
          "height": 17
        },
        "id": "zOX4cLW4M0pd",
        "outputId": "3e881135-b0f6-4ce6-bf21-58567b9281e4"
      },
      "source": [
        "# each plot is now a list of words in a list of plots"
      ],
      "execution_count": 16,
      "outputs": [
        {
          "output_type": "display_data",
          "data": {
            "text/html": [
              "\n",
              "  <style>\n",
              "    pre {\n",
              "        white-space: pre-wrap;\n",
              "    }\n",
              "  </style>\n",
              "  "
            ],
            "text/plain": [
              "<IPython.core.display.HTML object>"
            ]
          },
          "metadata": {
            "tags": []
          }
        }
      ]
    },
    {
      "cell_type": "code",
      "metadata": {
        "colab": {
          "base_uri": "https://localhost:8080/",
          "height": 17
        },
        "id": "92LBaOVRM_87",
        "outputId": "673b21b6-8647-464b-9457-c39cbcf072c8"
      },
      "source": [
        "import gensim\n",
        "dictionary = gensim.corpora.Dictionary(processed_train)"
      ],
      "execution_count": 17,
      "outputs": [
        {
          "output_type": "display_data",
          "data": {
            "text/html": [
              "\n",
              "  <style>\n",
              "    pre {\n",
              "        white-space: pre-wrap;\n",
              "    }\n",
              "  </style>\n",
              "  "
            ],
            "text/plain": [
              "<IPython.core.display.HTML object>"
            ]
          },
          "metadata": {
            "tags": []
          }
        }
      ]
    },
    {
      "cell_type": "code",
      "metadata": {
        "colab": {
          "base_uri": "https://localhost:8080/",
          "height": 34
        },
        "id": "2WiSyPPQNGaZ",
        "outputId": "64c53487-b1c2-4814-c644-88fb24c8abf6"
      },
      "source": [
        "len(dictionary.keys())"
      ],
      "execution_count": 19,
      "outputs": [
        {
          "output_type": "display_data",
          "data": {
            "text/html": [
              "\n",
              "  <style>\n",
              "    pre {\n",
              "        white-space: pre-wrap;\n",
              "    }\n",
              "  </style>\n",
              "  "
            ],
            "text/plain": [
              "<IPython.core.display.HTML object>"
            ]
          },
          "metadata": {
            "tags": []
          }
        },
        {
          "output_type": "execute_result",
          "data": {
            "text/plain": [
              "2395"
            ]
          },
          "metadata": {
            "tags": []
          },
          "execution_count": 19
        }
      ]
    },
    {
      "cell_type": "code",
      "metadata": {
        "colab": {
          "base_uri": "https://localhost:8080/",
          "height": 204
        },
        "id": "51iW3hQbCQgA",
        "outputId": "4425b154-2c2c-4529-e577-f1b2f95e6bed"
      },
      "source": [
        "count = 0\n",
        "for k, v in dictionary.iteritems():\n",
        "  print(k, v)\n",
        "  count += 1\n",
        "  if count > 10:\n",
        "    break"
      ],
      "execution_count": 20,
      "outputs": [
        {
          "output_type": "display_data",
          "data": {
            "text/html": [
              "\n",
              "  <style>\n",
              "    pre {\n",
              "        white-space: pre-wrap;\n",
              "    }\n",
              "  </style>\n",
              "  "
            ],
            "text/plain": [
              "<IPython.core.display.HTML object>"
            ]
          },
          "metadata": {
            "tags": []
          }
        },
        {
          "output_type": "stream",
          "text": [
            "0 angel\n",
            "1 balance\n",
            "2 career\n",
            "3 daughter\n",
            "4 dream\n",
            "5 elderly\n",
            "6 estate\n",
            "7 family\n",
            "8 help\n",
            "9 life\n",
            "10 live\n"
          ],
          "name": "stdout"
        }
      ]
    },
    {
      "cell_type": "code",
      "metadata": {
        "colab": {
          "base_uri": "https://localhost:8080/",
          "height": 17
        },
        "id": "XRg_8gCeCz05",
        "outputId": "dc3114fb-0941-4c22-d051-79fb386c660c"
      },
      "source": [
        "bow_corpus = [dictionary.doc2bow(doc) for doc in processed_train]"
      ],
      "execution_count": 21,
      "outputs": [
        {
          "output_type": "display_data",
          "data": {
            "text/html": [
              "\n",
              "  <style>\n",
              "    pre {\n",
              "        white-space: pre-wrap;\n",
              "    }\n",
              "  </style>\n",
              "  "
            ],
            "text/plain": [
              "<IPython.core.display.HTML object>"
            ]
          },
          "metadata": {
            "tags": []
          }
        }
      ]
    },
    {
      "cell_type": "code",
      "metadata": {
        "colab": {
          "base_uri": "https://localhost:8080/",
          "height": 357
        },
        "id": "DssivosIDE2b",
        "outputId": "2d2b991a-aff2-4fcc-ca9f-f7f06f082e0f"
      },
      "source": [
        "bow_corpus[0]"
      ],
      "execution_count": 22,
      "outputs": [
        {
          "output_type": "display_data",
          "data": {
            "text/html": [
              "\n",
              "  <style>\n",
              "    pre {\n",
              "        white-space: pre-wrap;\n",
              "    }\n",
              "  </style>\n",
              "  "
            ],
            "text/plain": [
              "<IPython.core.display.HTML object>"
            ]
          },
          "metadata": {
            "tags": []
          }
        },
        {
          "output_type": "execute_result",
          "data": {
            "text/plain": [
              "[(0, 1),\n",
              " (1, 1),\n",
              " (2, 1),\n",
              " (3, 1),\n",
              " (4, 1),\n",
              " (5, 1),\n",
              " (6, 1),\n",
              " (7, 1),\n",
              " (8, 1),\n",
              " (9, 1),\n",
              " (10, 1),\n",
              " (11, 1),\n",
              " (12, 1),\n",
              " (13, 1),\n",
              " (14, 1),\n",
              " (15, 1),\n",
              " (16, 1),\n",
              " (17, 1),\n",
              " (18, 1),\n",
              " (19, 1)]"
            ]
          },
          "metadata": {
            "tags": []
          },
          "execution_count": 22
        }
      ]
    },
    {
      "cell_type": "code",
      "metadata": {
        "colab": {
          "base_uri": "https://localhost:8080/",
          "height": 17
        },
        "id": "vEzFHNseDGtU",
        "outputId": "e9d05198-9ef4-485e-c884-11f53848a6dd"
      },
      "source": [
        "# num_topics - number of topics from corpus\n",
        "# id2word - maps word ids (ints) to words (strs) - printing\n",
        "# passes - training passes"
      ],
      "execution_count": 23,
      "outputs": [
        {
          "output_type": "display_data",
          "data": {
            "text/html": [
              "\n",
              "  <style>\n",
              "    pre {\n",
              "        white-space: pre-wrap;\n",
              "    }\n",
              "  </style>\n",
              "  "
            ],
            "text/plain": [
              "<IPython.core.display.HTML object>"
            ]
          },
          "metadata": {
            "tags": []
          }
        }
      ]
    },
    {
      "cell_type": "code",
      "metadata": {
        "colab": {
          "base_uri": "https://localhost:8080/",
          "height": 51
        },
        "id": "ISTPAeIGDuts",
        "outputId": "614038e3-92ea-4ff3-e0fc-4a5467ee26ff"
      },
      "source": [
        "%%time\n",
        "lda_model = gensim.models.LdaMulticore(bow_corpus, num_topics=4, id2word=dictionary, passes=2)\n",
        "lda_model.save('lda.model')"
      ],
      "execution_count": 24,
      "outputs": [
        {
          "output_type": "display_data",
          "data": {
            "text/html": [
              "\n",
              "  <style>\n",
              "    pre {\n",
              "        white-space: pre-wrap;\n",
              "    }\n",
              "  </style>\n",
              "  "
            ],
            "text/plain": [
              "<IPython.core.display.HTML object>"
            ]
          },
          "metadata": {
            "tags": []
          }
        },
        {
          "output_type": "stream",
          "text": [
            "CPU times: user 610 ms, sys: 47.5 ms, total: 657 ms\n",
            "Wall time: 752 ms\n"
          ],
          "name": "stdout"
        }
      ]
    },
    {
      "cell_type": "code",
      "metadata": {
        "colab": {
          "base_uri": "https://localhost:8080/",
          "height": 289
        },
        "id": "w9Ns4bsMEBrN",
        "outputId": "90eb1413-0250-4c71-d2a4-6cb5ce8c0dd9"
      },
      "source": [
        "for idx, topic in lda_model.print_topics(-1):\n",
        "  print('Topic: {}   Word: {}\\n'.format(idx, topic))"
      ],
      "execution_count": 25,
      "outputs": [
        {
          "output_type": "display_data",
          "data": {
            "text/html": [
              "\n",
              "  <style>\n",
              "    pre {\n",
              "        white-space: pre-wrap;\n",
              "    }\n",
              "  </style>\n",
              "  "
            ],
            "text/plain": [
              "<IPython.core.display.HTML object>"
            ]
          },
          "metadata": {
            "tags": []
          }
        },
        {
          "output_type": "stream",
          "text": [
            "Topic: 0   Word: 0.032*\"christmas\" + 0.010*\"holiday\" + 0.009*\"town\" + 0.008*\"family\" + 0.007*\"new\" + 0.007*\"meet\" + 0.006*\"love\" + 0.005*\"time\" + 0.005*\"home\" + 0.005*\"find\"\n",
            "\n",
            "Topic: 1   Word: 0.023*\"christmas\" + 0.009*\"love\" + 0.008*\"new\" + 0.008*\"holiday\" + 0.007*\"find\" + 0.005*\"help\" + 0.005*\"plan\" + 0.005*\"young\" + 0.005*\"town\" + 0.005*\"family\"\n",
            "\n",
            "Topic: 2   Word: 0.027*\"christmas\" + 0.011*\"holiday\" + 0.010*\"family\" + 0.008*\"find\" + 0.007*\"help\" + 0.007*\"life\" + 0.006*\"love\" + 0.004*\"spirit\" + 0.004*\"angel\" + 0.004*\"town\"\n",
            "\n",
            "Topic: 3   Word: 0.025*\"christmas\" + 0.009*\"help\" + 0.007*\"town\" + 0.006*\"meet\" + 0.005*\"love\" + 0.005*\"new\" + 0.005*\"home\" + 0.005*\"santa\" + 0.005*\"life\" + 0.005*\"jack\"\n",
            "\n"
          ],
          "name": "stdout"
        }
      ]
    },
    {
      "cell_type": "code",
      "metadata": {
        "colab": {
          "base_uri": "https://localhost:8080/",
          "height": 51
        },
        "id": "PJ0-erZXEOYm",
        "outputId": "984d5323-67c3-4700-a36d-2f68083baf22"
      },
      "source": [
        "num = 100\n",
        "unseen_doc = plots_test[18]\n",
        "print(unseen_doc)"
      ],
      "execution_count": 33,
      "outputs": [
        {
          "output_type": "display_data",
          "data": {
            "text/html": [
              "\n",
              "  <style>\n",
              "    pre {\n",
              "        white-space: pre-wrap;\n",
              "    }\n",
              "  </style>\n",
              "  "
            ],
            "text/plain": [
              "<IPython.core.display.HTML object>"
            ]
          },
          "metadata": {
            "tags": []
          }
        },
        {
          "output_type": "stream",
          "text": [
            "Julia Crawley and Ryan Mason must unite their families during Crestridges Centennial Christmas celebration in order to save their family inns from a chain resort.\n"
          ],
          "name": "stdout"
        }
      ]
    },
    {
      "cell_type": "code",
      "metadata": {
        "colab": {
          "base_uri": "https://localhost:8080/",
          "height": 153
        },
        "id": "rFMHeiQ3Eb2Q",
        "outputId": "c7503115-3a2e-46c8-e25f-052617e3e1f7"
      },
      "source": [
        "bow_vector = dictionary.doc2bow(preprocess(unseen_doc))\n",
        "\n",
        "for index, score in sorted(lda_model[bow_vector], key=lambda tup: -1*tup[1]):\n",
        "  print(\"Score: {}\\t  Topic: {}\".format(score, lda_model.print_topic(index, 5)))"
      ],
      "execution_count": 34,
      "outputs": [
        {
          "output_type": "display_data",
          "data": {
            "text/html": [
              "\n",
              "  <style>\n",
              "    pre {\n",
              "        white-space: pre-wrap;\n",
              "    }\n",
              "  </style>\n",
              "  "
            ],
            "text/plain": [
              "<IPython.core.display.HTML object>"
            ]
          },
          "metadata": {
            "tags": []
          }
        },
        {
          "output_type": "stream",
          "text": [
            "Score: 0.537270724773407\t  Topic: 0.025*\"christmas\" + 0.009*\"help\" + 0.007*\"town\" + 0.006*\"meet\" + 0.005*\"love\"\n",
            "Score: 0.3163113594055176\t  Topic: 0.032*\"christmas\" + 0.010*\"holiday\" + 0.009*\"town\" + 0.008*\"family\" + 0.007*\"new\"\n",
            "Score: 0.1241937056183815\t  Topic: 0.027*\"christmas\" + 0.011*\"holiday\" + 0.010*\"family\" + 0.008*\"find\" + 0.007*\"help\"\n",
            "Score: 0.02222418785095215\t  Topic: 0.023*\"christmas\" + 0.009*\"love\" + 0.008*\"new\" + 0.008*\"holiday\" + 0.007*\"find\"\n"
          ],
          "name": "stdout"
        }
      ]
    },
    {
      "cell_type": "code",
      "metadata": {
        "colab": {
          "base_uri": "https://localhost:8080/",
          "height": 751
        },
        "id": "yIF49CgNGb72",
        "outputId": "4986f160-f5b4-4091-df36-ea65deb00a3d"
      },
      "source": [
        "!pip install pyLDAvis"
      ],
      "execution_count": 36,
      "outputs": [
        {
          "output_type": "display_data",
          "data": {
            "text/html": [
              "\n",
              "  <style>\n",
              "    pre {\n",
              "        white-space: pre-wrap;\n",
              "    }\n",
              "  </style>\n",
              "  "
            ],
            "text/plain": [
              "<IPython.core.display.HTML object>"
            ]
          },
          "metadata": {
            "tags": []
          }
        },
        {
          "output_type": "stream",
          "text": [
            "Collecting pyLDAvis\n",
            "\u001b[?25l  Downloading https://files.pythonhosted.org/packages/24/38/6d81eff34c84c9158d3b7c846bff978ac88b0c2665548941946d3d591158/pyLDAvis-3.2.2.tar.gz (1.7MB)\n",
            "\u001b[K     |████████████████████████████████| 1.7MB 8.6MB/s \n",
            "\u001b[?25hRequirement already satisfied: wheel>=0.23.0 in /usr/local/lib/python3.7/dist-packages (from pyLDAvis) (0.36.2)\n",
            "Requirement already satisfied: numpy>=1.9.2 in /usr/local/lib/python3.7/dist-packages (from pyLDAvis) (1.19.5)\n",
            "Requirement already satisfied: scipy>=0.18.0 in /usr/local/lib/python3.7/dist-packages (from pyLDAvis) (1.4.1)\n",
            "Requirement already satisfied: joblib>=0.8.4 in /usr/local/lib/python3.7/dist-packages (from pyLDAvis) (1.0.1)\n",
            "Requirement already satisfied: jinja2>=2.7.2 in /usr/local/lib/python3.7/dist-packages (from pyLDAvis) (2.11.3)\n",
            "Requirement already satisfied: numexpr in /usr/local/lib/python3.7/dist-packages (from pyLDAvis) (2.7.2)\n",
            "Requirement already satisfied: future in /usr/local/lib/python3.7/dist-packages (from pyLDAvis) (0.16.0)\n",
            "Collecting funcy\n",
            "  Downloading https://files.pythonhosted.org/packages/66/89/479de0afbbfb98d1c4b887936808764627300208bb771fcd823403645a36/funcy-1.15-py2.py3-none-any.whl\n",
            "Requirement already satisfied: pandas>=0.17.0 in /usr/local/lib/python3.7/dist-packages (from pyLDAvis) (1.1.5)\n",
            "Requirement already satisfied: MarkupSafe>=0.23 in /usr/local/lib/python3.7/dist-packages (from jinja2>=2.7.2->pyLDAvis) (1.1.1)\n",
            "Requirement already satisfied: python-dateutil>=2.7.3 in /usr/local/lib/python3.7/dist-packages (from pandas>=0.17.0->pyLDAvis) (2.8.1)\n",
            "Requirement already satisfied: pytz>=2017.2 in /usr/local/lib/python3.7/dist-packages (from pandas>=0.17.0->pyLDAvis) (2018.9)\n",
            "Requirement already satisfied: six>=1.5 in /usr/local/lib/python3.7/dist-packages (from python-dateutil>=2.7.3->pandas>=0.17.0->pyLDAvis) (1.15.0)\n",
            "Building wheels for collected packages: pyLDAvis\n",
            "  Building wheel for pyLDAvis (setup.py) ... \u001b[?25l\u001b[?25hdone\n",
            "  Created wheel for pyLDAvis: filename=pyLDAvis-3.2.2-py2.py3-none-any.whl size=135593 sha256=37efb361b74ffdbc808ad259d703bc69b82d70b7ff4eea06ae69e8048792a5a6\n",
            "  Stored in directory: /root/.cache/pip/wheels/74/df/b6/97234c8446a43be05c9a8687ee0db1f1b5ade5f27729187eae\n",
            "Successfully built pyLDAvis\n",
            "Installing collected packages: funcy, pyLDAvis\n",
            "Successfully installed funcy-1.15 pyLDAvis-3.2.2\n"
          ],
          "name": "stdout"
        }
      ]
    },
    {
      "cell_type": "code",
      "metadata": {
        "colab": {
          "base_uri": "https://localhost:8080/",
          "height": 881
        },
        "id": "7P7Yk7I8FOlJ",
        "outputId": "1e12ebfb-b16e-414b-f719-89c208db065b"
      },
      "source": [
        "import pyLDAvis.gensim\n",
        "pyLDAvis.enable_notebook()\n",
        "pyLDAvis.gensim.prepare(lda_model, bow_corpus, dictionary)"
      ],
      "execution_count": 38,
      "outputs": [
        {
          "output_type": "display_data",
          "data": {
            "text/html": [
              "\n",
              "  <style>\n",
              "    pre {\n",
              "        white-space: pre-wrap;\n",
              "    }\n",
              "  </style>\n",
              "  "
            ],
            "text/plain": [
              "<IPython.core.display.HTML object>"
            ]
          },
          "metadata": {
            "tags": []
          }
        },
        {
          "output_type": "execute_result",
          "data": {
            "text/html": [
              "\n",
              "<link rel=\"stylesheet\" type=\"text/css\" href=\"https://cdn.jsdelivr.net/gh/bmabey/pyLDAvis@3.2.2/pyLDAvis/js/ldavis.v1.0.0.css\">\n",
              "\n",
              "\n",
              "<div id=\"ldavis_el581397474423893281526042169\"></div>\n",
              "<script type=\"text/javascript\">\n",
              "\n",
              "var ldavis_el581397474423893281526042169_data = {\"mdsDat\": {\"x\": [0.0007721303252340698, 0.07446502101431247, -0.02917075525866666, -0.04606639608087992], \"y\": [-0.0757017027397688, 0.025747427819516455, 0.026183217658150102, 0.023771057262102276], \"topics\": [1, 2, 3, 4], \"cluster\": [1, 1, 1, 1], \"Freq\": [30.690634661396565, 26.2790066736526, 23.9275214479255, 19.102837217025332]}, \"tinfo\": {\"Term\": [\"find\", \"jack\", \"come\", \"michael\", \"family\", \"holiday\", \"angel\", \"term\", \"sydney\", \"old\", \"dance\", \"help\", \"float\", \"robert\", \"girl\", \"nick\", \"queen\", \"heather\", \"aunt\", \"real\", \"manager\", \"wish\", \"close\", \"shut\", \"realize\", \"kate\", \"train\", \"determine\", \"years\", \"despite\", \"grace\", \"property\", \"sculpt\", \"zoey\", \"alec\", \"heather\", \"festival\", \"rachel\", \"joe\", \"england\", \"stranger\", \"reindeer\", \"river\", \"holly\", \"fan\", \"rebecca\", \"hillary\", \"cynthia\", \"club\", \"news\", \"kim\", \"dump\", \"board\", \"joey\", \"charles\", \"retreat\", \"cancel\", \"evans\", \"remote\", \"klaus\", \"cross\", \"ideas\", \"state\", \"boston\", \"producer\", \"lucy\", \"learn\", \"emily\", \"hop\", \"couple\", \"christmas\", \"town\", \"romance\", \"meet\", \"holiday\", \"job\", \"new\", \"family\", \"true\", \"lose\", \"spirit\", \"home\", \"time\", \"take\", \"love\", \"work\", \"fall\", \"find\", \"life\", \"surprise\", \"long\", \"plan\", \"return\", \"help\", \"live\", \"local\", \"single\", \"sydney\", \"mac\", \"jules\", \"paula\", \"drake\", \"oliver\", \"proposal\", \"ride\", \"jonathan\", \"grant\", \"lisa\", \"madison\", \"seth\", \"question\", \"bookstore\", \"graham\", \"liz\", \"card\", \"zoe\", \"practice\", \"daniel\", \"gallery\", \"layla\", \"village\", \"george\", \"picturesque\", \"delay\", \"shane\", \"transform\", \"mitch\", \"girl\", \"developer\", \"cody\", \"jack\", \"aunt\", \"power\", \"father\", \"real\", \"mrs\", \"help\", \"accept\", \"flight\", \"date\", \"christmas\", \"spend\", \"santa\", \"town\", \"farm\", \"meet\", \"home\", \"daughter\", \"give\", \"eve\", \"plan\", \"work\", \"year\", \"perfect\", \"new\", \"discover\", \"life\", \"love\", \"time\", \"family\", \"young\", \"wish\", \"holiday\", \"small\", \"begin\", \"fall\", \"old\", \"close\", \"kate\", \"entire\", \"queen\", \"laura\", \"robert\", \"adelaide\", \"skate\", \"exchange\", \"include\", \"isobel\", \"stick\", \"noelle\", \"steven\", \"gretchen\", \"fate\", \"plot\", \"condition\", \"kathy\", \"singer\", \"fashion\", \"olivia\", \"mia\", \"studio\", \"salsa\", \"riley\", \"coach\", \"casey\", \"mexico\", \"dave\", \"snow\", \"manager\", \"lydia\", \"list\", \"emmett\", \"dance\", \"hand\", \"nick\", \"come\", \"old\", \"quickly\", \"son\", \"love\", \"young\", \"christmas\", \"new\", \"business\", \"find\", \"store\", \"plan\", \"high\", \"toy\", \"holiday\", \"turn\", \"man\", \"chris\", \"take\", \"school\", \"life\", \"help\", \"daughter\", \"town\", \"family\", \"season\", \"time\", \"work\", \"year\", \"owner\", \"home\", \"santa\", \"michael\", \"float\", \"child\", \"andy\", \"tragic\", \"passionate\", \"elise\", \"kylie\", \"tragedy\", \"decision\", \"lindsay\", \"bachelor\", \"shut\", \"cast\", \"ben\", \"eric\", \"network\", \"spot\", \"app\", \"design\", \"lie\", \"thing\", \"marie\", \"brady\", \"luke\", \"window\", \"neighbor\", \"term\", \"corrine\", \"hannah\", \"train\", \"lot\", \"angel\", \"despite\", \"susan\", \"family\", \"melanie\", \"christmas\", \"find\", \"holiday\", \"years\", \"determine\", \"joy\", \"realize\", \"life\", \"help\", \"set\", \"get\", \"tree\", \"darcy\", \"need\", \"season\", \"past\", \"love\", \"wish\", \"spirit\", \"approach\", \"force\", \"come\", \"time\", \"santa\", \"town\", \"small\", \"fall\", \"romance\", \"lose\", \"new\"], \"Freq\": [37.0, 15.0, 18.0, 4.0, 48.0, 59.0, 10.0, 6.0, 5.0, 17.0, 8.0, 45.0, 3.0, 5.0, 8.0, 15.0, 4.0, 7.0, 6.0, 14.0, 6.0, 14.0, 3.0, 3.0, 8.0, 3.0, 4.0, 7.0, 11.0, 5.0, 3.378691515532373, 3.239682472031956, 2.5832706664032052, 2.567671019628431, 2.56714546315966, 5.770686611864821, 3.8340053705346513, 3.830757714253056, 3.8064764914041693, 2.5165578903352763, 4.3855505424376515, 2.4893623347940346, 2.484611766908834, 4.867139136928552, 3.0524435354355206, 3.054296475357203, 3.6470871647318717, 1.812536322544075, 1.8120015142254866, 2.4146790901087605, 2.396678074314819, 2.3897636015557526, 1.7777354894574313, 1.7768483398583124, 3.5445224426397566, 2.9571011671047147, 1.7719467869240144, 2.361780353800925, 1.7691738019371972, 1.7646887107425784, 2.3502001217799804, 2.345133192030204, 2.3248567351729363, 2.8501328214955364, 3.8928738629369057, 5.252321400359691, 7.666340782177334, 4.674080786797224, 5.84741631433045, 4.181600966100917, 70.1263817517083, 19.748823862203885, 10.567076339251122, 14.666264654136317, 23.054123280092114, 6.889423889677993, 16.249649875433807, 17.099152669664075, 8.210233389302534, 7.10918924628106, 9.674331426959512, 11.417874392455767, 11.428082266753856, 8.339033016529893, 14.182931571963257, 10.04000873500979, 8.978082440997902, 11.142677091665805, 10.839839375555899, 6.05248099556596, 6.000899362877906, 7.934953849847532, 6.139244843149782, 8.648168672406893, 5.805821025536533, 5.874467181220386, 5.907713189546118, 4.570882547553932, 2.407760897106211, 2.4074301560340317, 2.3702223355486858, 2.968573425046452, 2.3322432260028014, 2.906633302109741, 2.31306134408609, 2.305690637357778, 2.8682354299155817, 2.273576845535029, 3.3775804219890353, 2.246500308458296, 2.2357634366061445, 1.6669455663739419, 1.666880430407631, 1.6667326641867604, 1.6667186907615552, 1.6645771258151474, 1.6618438358234362, 1.657851287158706, 2.207717561922658, 2.208405670593786, 1.6406939014921955, 2.168629380517968, 1.6218032609653907, 1.6191129915189963, 1.6180833591326171, 1.6208700122048363, 1.6202794974562045, 5.867863307116471, 3.6139889911207588, 2.113905266389581, 8.682859326838459, 4.0738251474494955, 3.621603077506976, 8.621060258477442, 7.208099629603949, 4.300925654963041, 17.39694166714958, 2.8315731231480883, 3.241980323312414, 3.2084856930146644, 47.399819416718366, 6.754374371195656, 9.494059130410179, 13.425239152286295, 4.293650231590852, 10.453101733623727, 9.498194384055154, 6.4817152162186265, 5.086996178775204, 5.478630577297722, 8.423093572327925, 8.451822054334034, 6.081174354518867, 4.9043910180859065, 9.805181073493738, 5.167821110809303, 8.939417575116066, 9.975161299523633, 7.748201340850697, 8.682605824699303, 6.272884026931621, 5.304581994020686, 8.247010810427318, 5.309481274946172, 4.744968099892929, 4.899459609285145, 4.833072416270141, 3.096526608247438, 3.0698490521291335, 3.029484887469188, 3.59303759112898, 2.944459569366208, 4.090960934074496, 2.3001412688348304, 2.8407207308695446, 1.6890984839772512, 1.6873547232116435, 1.6850192899720795, 1.6841597319249169, 2.2282918335247226, 2.2030516828680367, 2.194810344500695, 1.6513338312296342, 1.6479496970998957, 1.625551998712691, 2.146747625331161, 1.6081923323340837, 1.6090608065428078, 1.5787101925875364, 3.649054728590439, 1.5704498197179846, 1.5644113743458712, 1.554753869014113, 1.5591969225562652, 1.5530131136962224, 1.5509416589478329, 1.5512309833814233, 3.099181220034585, 4.419706823557534, 2.0190794121089395, 2.430389358377627, 2.004131316978736, 4.58310419997, 3.111900274774419, 7.423602527708461, 8.324424971304063, 8.061715179793051, 3.4418924232442527, 5.975551770274636, 16.18085925602199, 8.990790434837212, 39.66197185526324, 13.726387846174763, 4.7052536097304385, 11.67045883996655, 5.683146953137096, 9.068456814022666, 5.056863743268005, 5.024276274758299, 13.40808688932543, 5.803091967178447, 5.251488522916485, 4.318153947367291, 6.469979176435328, 5.923236142221868, 8.431144813209979, 9.22241588242356, 5.587322861022489, 8.714124947032264, 8.438518979729274, 5.594812036007768, 6.978483698977736, 6.4097471990950545, 5.3844687647975364, 5.0580458860368305, 6.0338402247576886, 5.682712165033986, 3.576937562780785, 2.8738801487297834, 2.1174589375205017, 1.5374513674561354, 1.5374364909471945, 1.5373299559476818, 1.5372192619241642, 1.5371165660237331, 1.53711720587358, 1.5361479933179538, 1.5355982023369854, 1.5157291050029553, 2.5335809664802382, 2.012014242147022, 2.466568852162173, 1.4810685987576122, 1.4788475199764817, 1.476409692059706, 1.4665142542145841, 1.4596112341410583, 1.451797867697823, 1.4513866042087133, 1.9320968363039104, 1.418281253016316, 1.4136783331800156, 1.4140464068044578, 1.4024102574507826, 4.150326845953506, 1.3675082078882264, 2.291387401859969, 2.7129252798865218, 2.1827922458027036, 5.398466905874291, 3.1439105409028882, 2.1285579329276856, 14.254220412929586, 2.715610729694056, 37.122631820205726, 11.04156376462347, 14.658596558286899, 4.520007773211282, 3.3416769312143857, 4.870871036395983, 3.701869525092144, 9.077422448173362, 9.934608173050806, 4.168228245045787, 4.334994230198801, 3.498878440855599, 2.765916364508969, 3.816715214341536, 4.974603493579098, 3.4532744227158743, 8.495400310865959, 4.323867241360815, 5.40248004411419, 3.6703063719932922, 3.6962829960786614, 4.316332689488377, 4.84523417257933, 4.377911198906374, 5.330070156487484, 4.02449205550814, 4.226390916055988, 4.117536460848257, 3.7522237884954226, 4.345401707883924], \"Total\": [37.0, 15.0, 18.0, 4.0, 48.0, 59.0, 10.0, 6.0, 5.0, 17.0, 8.0, 45.0, 3.0, 5.0, 8.0, 15.0, 4.0, 7.0, 6.0, 14.0, 6.0, 14.0, 3.0, 3.0, 8.0, 3.0, 4.0, 7.0, 11.0, 5.0, 3.965892848996599, 3.956545078419634, 3.160992664698239, 3.157767893817894, 3.1576792449076767, 7.112778413265755, 4.738803632592476, 4.74390111326618, 4.734901797796247, 3.155208348532479, 5.529674302291428, 3.145551376373546, 3.151922792278719, 6.259618689752148, 3.9293045154220163, 3.933213917483724, 4.735719534663989, 2.357815584877271, 2.35772973061171, 3.1428074545199634, 3.1460581890618577, 3.1463372053580474, 2.3550614217711665, 2.3549431068978217, 4.702685301194659, 3.927781922525481, 2.3545952085841275, 3.1436594470050623, 2.354908519440401, 2.3539617767436805, 3.1383277572926938, 3.1420410772815224, 3.1376002693687037, 3.91310543055329, 5.489587615450988, 7.83507644420013, 12.300517087500204, 7.021170093144091, 9.312837879851468, 6.273776492626708, 194.31080484389562, 47.218258118009935, 21.3265528420699, 32.81102027606144, 59.36781753813176, 13.167257739082766, 44.12662050298623, 48.47449788702224, 17.527527442564452, 14.359739683990579, 23.368190697902648, 30.36456528647346, 31.000001479161618, 19.132932221117734, 48.834352438374836, 27.373653388383666, 22.667641609646694, 37.19415005169597, 37.287824212055305, 13.106634131667398, 12.951105455944868, 26.60931826612871, 15.205070518923174, 45.20213439503084, 13.598590184494753, 15.068304602438214, 15.972287533205836, 5.189249762352747, 2.9689056088378454, 2.968887583791668, 2.9660088357635335, 3.723658490675935, 2.9639707865815543, 3.7100810287329105, 2.96870143086946, 2.965571610995362, 3.7107046521727978, 2.975960361583459, 4.458525778439588, 2.979777069396881, 2.979964564769688, 2.2278278637566533, 2.227834199487503, 2.2278187731500143, 2.227839026428368, 2.227853900326408, 2.228210409157067, 2.227175776898006, 2.968076265873274, 2.9835819203128504, 2.2258352223031963, 2.9567075409277583, 2.224414882987248, 2.225415203457947, 2.224710418037133, 2.231838081338743, 2.2318726462812832, 8.146340333620538, 5.166726225182812, 2.9706558179970193, 15.22782134311864, 6.552184044163466, 5.846957679412739, 17.1192006407304, 14.433424154877967, 7.480335731759257, 45.20213439503084, 4.401320965672233, 5.26404592428468, 5.202041831413945, 194.31080484389562, 14.324497646270254, 22.962610883287944, 47.218258118009935, 8.230391692320534, 32.81102027606144, 30.36456528647346, 16.572060582770657, 11.180382730133601, 12.66758460577957, 26.60931826612871, 27.373653388383666, 16.527293897341874, 11.444039743596516, 44.12662050298623, 12.894838814726677, 37.287824212055305, 48.834352438374836, 31.000001479161618, 48.47449788702224, 22.46408956603504, 14.617417909723379, 59.36781753813176, 17.950841208890424, 12.8302275146236, 22.667641609646694, 17.718091496449574, 3.745273248272684, 3.7622954791834133, 3.750389302077426, 4.505662504105164, 3.745823903960416, 5.292409615090958, 2.991662930334492, 3.7517049667650575, 2.2495047249956515, 2.2494809585638724, 2.249444201806283, 2.249934296891559, 3.005656854258596, 2.9845718410141022, 2.982837435026977, 2.245945188098228, 2.246498899577395, 2.25425900926556, 2.9975409562582347, 2.247558385639824, 2.255374934686126, 2.2482922990532757, 5.2173133940755205, 2.2464883520270753, 2.246648186869803, 2.2371656372971995, 2.247589369049181, 2.247537801254774, 2.2455069561280996, 2.2528095761494296, 4.501188206283994, 6.835351854866095, 3.0250001145597354, 3.7416678939085366, 3.0066661186934973, 8.21552933571504, 5.237635368288254, 15.657276460891541, 18.370928795576663, 17.718091496449574, 6.042094049978133, 12.764755341736684, 48.834352438374836, 22.46408956603504, 194.31080484389562, 44.12662050298623, 9.82850186292879, 37.19415005169597, 13.308162156550397, 26.60931826612871, 11.301116453044859, 11.341510941713128, 59.36781753813176, 14.883645062171508, 12.573016398480096, 9.172929678288103, 19.132932221117734, 17.39827995348261, 37.287824212055305, 45.20213439503084, 16.572060582770657, 47.218258118009935, 48.47449788702224, 16.964658604346248, 31.000001479161618, 27.373653388383666, 16.527293897341874, 13.426636061845059, 30.36456528647346, 22.962610883287944, 4.1651493446842895, 3.4858475325705127, 2.8086352578311278, 2.1131430663338264, 2.1131427797094, 2.1131538415758087, 2.1131710980533844, 2.1131685776865936, 2.1131791758858007, 2.1133715331121903, 2.1134868585167976, 2.115317423615407, 3.540516386068753, 2.8317740086586882, 3.520047746795944, 2.1187850529061025, 2.123491988026814, 2.122429583118298, 2.1196022742637903, 2.1246968684542784, 2.1216897182285477, 2.121155612461367, 2.836022809872827, 2.1245958015134554, 2.1243479466062167, 2.1314880967957457, 2.1300682639824093, 6.408392358563233, 2.1286349181196926, 3.5674956472528763, 4.254871120132308, 3.5700586371433722, 10.791466598144023, 5.774760783455825, 3.5997272124926223, 48.47449788702224, 5.054646041697541, 194.31080484389562, 37.19415005169597, 59.36781753813176, 11.030864753893335, 7.318297316615693, 13.210987317703225, 8.661702579571632, 37.287824212055305, 45.20213439503084, 11.111553769765191, 12.437803347461308, 8.791043914608867, 5.827143591166118, 10.279449860941334, 16.964658604346248, 8.83433606693094, 48.834352438374836, 14.617417909723379, 23.368190697902648, 10.405510575374791, 11.00347147477467, 18.370928795576663, 31.000001479161618, 22.962610883287944, 47.218258118009935, 17.950841208890424, 22.667641609646694, 21.3265528420699, 14.359739683990579, 44.12662050298623], \"Category\": [\"Default\", \"Default\", \"Default\", \"Default\", \"Default\", \"Default\", \"Default\", \"Default\", \"Default\", \"Default\", \"Default\", \"Default\", \"Default\", \"Default\", \"Default\", \"Default\", \"Default\", \"Default\", \"Default\", \"Default\", \"Default\", \"Default\", \"Default\", \"Default\", \"Default\", \"Default\", \"Default\", \"Default\", \"Default\", \"Default\", \"Topic1\", \"Topic1\", \"Topic1\", \"Topic1\", \"Topic1\", \"Topic1\", \"Topic1\", \"Topic1\", \"Topic1\", \"Topic1\", \"Topic1\", \"Topic1\", \"Topic1\", \"Topic1\", \"Topic1\", \"Topic1\", \"Topic1\", \"Topic1\", \"Topic1\", \"Topic1\", \"Topic1\", \"Topic1\", \"Topic1\", \"Topic1\", \"Topic1\", \"Topic1\", \"Topic1\", \"Topic1\", \"Topic1\", \"Topic1\", \"Topic1\", \"Topic1\", \"Topic1\", \"Topic1\", \"Topic1\", \"Topic1\", \"Topic1\", \"Topic1\", \"Topic1\", \"Topic1\", \"Topic1\", \"Topic1\", \"Topic1\", \"Topic1\", \"Topic1\", \"Topic1\", \"Topic1\", \"Topic1\", \"Topic1\", \"Topic1\", \"Topic1\", \"Topic1\", \"Topic1\", \"Topic1\", \"Topic1\", \"Topic1\", \"Topic1\", \"Topic1\", \"Topic1\", \"Topic1\", \"Topic1\", \"Topic1\", \"Topic1\", \"Topic1\", \"Topic1\", \"Topic1\", \"Topic1\", \"Topic2\", \"Topic2\", \"Topic2\", \"Topic2\", \"Topic2\", \"Topic2\", \"Topic2\", \"Topic2\", \"Topic2\", \"Topic2\", \"Topic2\", \"Topic2\", \"Topic2\", \"Topic2\", \"Topic2\", \"Topic2\", \"Topic2\", \"Topic2\", \"Topic2\", \"Topic2\", \"Topic2\", \"Topic2\", \"Topic2\", \"Topic2\", \"Topic2\", \"Topic2\", \"Topic2\", \"Topic2\", \"Topic2\", \"Topic2\", \"Topic2\", \"Topic2\", \"Topic2\", \"Topic2\", \"Topic2\", \"Topic2\", \"Topic2\", \"Topic2\", \"Topic2\", \"Topic2\", \"Topic2\", \"Topic2\", \"Topic2\", \"Topic2\", \"Topic2\", \"Topic2\", \"Topic2\", \"Topic2\", \"Topic2\", \"Topic2\", \"Topic2\", \"Topic2\", \"Topic2\", \"Topic2\", \"Topic2\", \"Topic2\", \"Topic2\", \"Topic2\", \"Topic2\", \"Topic2\", \"Topic2\", \"Topic2\", \"Topic2\", \"Topic2\", \"Topic2\", \"Topic2\", \"Topic2\", \"Topic2\", \"Topic2\", \"Topic2\", \"Topic3\", \"Topic3\", \"Topic3\", \"Topic3\", \"Topic3\", \"Topic3\", \"Topic3\", \"Topic3\", \"Topic3\", \"Topic3\", \"Topic3\", \"Topic3\", \"Topic3\", \"Topic3\", \"Topic3\", \"Topic3\", \"Topic3\", \"Topic3\", \"Topic3\", \"Topic3\", \"Topic3\", \"Topic3\", \"Topic3\", \"Topic3\", \"Topic3\", \"Topic3\", \"Topic3\", \"Topic3\", \"Topic3\", \"Topic3\", \"Topic3\", \"Topic3\", \"Topic3\", \"Topic3\", \"Topic3\", \"Topic3\", \"Topic3\", \"Topic3\", \"Topic3\", \"Topic3\", \"Topic3\", \"Topic3\", \"Topic3\", \"Topic3\", \"Topic3\", \"Topic3\", \"Topic3\", \"Topic3\", \"Topic3\", \"Topic3\", \"Topic3\", \"Topic3\", \"Topic3\", \"Topic3\", \"Topic3\", \"Topic3\", \"Topic3\", \"Topic3\", \"Topic3\", \"Topic3\", \"Topic3\", \"Topic3\", \"Topic3\", \"Topic3\", \"Topic3\", \"Topic3\", \"Topic3\", \"Topic3\", \"Topic3\", \"Topic3\", \"Topic4\", \"Topic4\", \"Topic4\", \"Topic4\", \"Topic4\", \"Topic4\", \"Topic4\", \"Topic4\", \"Topic4\", \"Topic4\", \"Topic4\", \"Topic4\", \"Topic4\", \"Topic4\", \"Topic4\", \"Topic4\", \"Topic4\", \"Topic4\", \"Topic4\", \"Topic4\", \"Topic4\", \"Topic4\", \"Topic4\", \"Topic4\", \"Topic4\", \"Topic4\", \"Topic4\", \"Topic4\", \"Topic4\", \"Topic4\", \"Topic4\", \"Topic4\", \"Topic4\", \"Topic4\", \"Topic4\", \"Topic4\", \"Topic4\", \"Topic4\", \"Topic4\", \"Topic4\", \"Topic4\", \"Topic4\", \"Topic4\", \"Topic4\", \"Topic4\", \"Topic4\", \"Topic4\", \"Topic4\", \"Topic4\", \"Topic4\", \"Topic4\", \"Topic4\", \"Topic4\", \"Topic4\", \"Topic4\", \"Topic4\", \"Topic4\", \"Topic4\", \"Topic4\", \"Topic4\", \"Topic4\", \"Topic4\", \"Topic4\", \"Topic4\", \"Topic4\", \"Topic4\", \"Topic4\"], \"logprob\": [30.0, 29.0, 28.0, 27.0, 26.0, 25.0, 24.0, 23.0, 22.0, 21.0, 20.0, 19.0, 18.0, 17.0, 16.0, 15.0, 14.0, 13.0, 12.0, 11.0, 10.0, 9.0, 8.0, 7.0, 6.0, 5.0, 4.0, 3.0, 2.0, 1.0, -6.4822, -6.5242, -6.7506, -6.7567, -6.7569, -5.9469, -6.3557, -6.3566, -6.3629, -6.7768, -6.2213, -6.7876, -6.7895, -6.1171, -6.5837, -6.5831, -6.4057, -7.1049, -7.1052, -6.8181, -6.8256, -6.8285, -7.1243, -7.1248, -6.4342, -6.6154, -7.1276, -6.8402, -7.1291, -7.1317, -6.8452, -6.8473, -6.856, -6.6523, -6.3405, -6.041, -5.6628, -6.1576, -5.9337, -6.269, -3.4494, -4.7166, -5.3419, -5.0141, -4.5618, -5.7697, -4.9116, -4.8606, -5.5943, -5.7383, -5.4302, -5.2645, -5.2636, -5.5787, -5.0476, -5.3931, -5.5049, -5.2889, -5.3164, -5.8992, -5.9077, -5.6284, -5.8849, -5.5423, -5.9408, -5.929, -5.9234, -6.0248, -6.6658, -6.6659, -6.6815, -6.4564, -6.6976, -6.4775, -6.7059, -6.7091, -6.4908, -6.7231, -6.3273, -6.7351, -6.7399, -7.0335, -7.0335, -7.0336, -7.0336, -7.0349, -7.0365, -7.0389, -6.7525, -6.7522, -7.0493, -6.7704, -7.0609, -7.0626, -7.0632, -7.0615, -7.0619, -5.775, -6.2597, -6.7959, -5.3831, -6.1399, -6.2575, -5.3903, -5.5693, -6.0856, -4.6882, -6.5036, -6.3683, -6.3787, -3.6858, -5.6343, -5.2938, -4.9473, -6.0873, -5.1976, -5.2934, -5.6755, -5.9178, -5.8436, -5.4135, -5.4101, -5.7393, -5.9543, -5.2616, -5.902, -5.354, -5.2444, -5.497, -5.3831, -5.7082, -5.8759, -5.4346, -5.875, -5.9874, -5.9553, -5.969, -6.3204, -6.3291, -6.3423, -6.1717, -6.3708, -6.0419, -6.6178, -6.4067, -6.9265, -6.9276, -6.9289, -6.9295, -6.6495, -6.6609, -6.6646, -6.9491, -6.9512, -6.9649, -6.6868, -6.9756, -6.9751, -6.9941, -6.1563, -6.9994, -7.0032, -7.0094, -7.0066, -7.0105, -7.0119, -7.0117, -6.3196, -5.9646, -6.7481, -6.5627, -6.7555, -5.9283, -6.3155, -5.4461, -5.3315, -5.3636, -6.2147, -5.663, -4.6669, -5.2545, -3.7703, -4.8314, -5.902, -4.9937, -5.7132, -5.2459, -5.83, -5.8364, -4.8549, -5.6923, -5.7922, -5.9879, -5.5835, -5.6718, -5.3188, -5.2291, -5.7302, -5.2858, -5.3179, -5.7289, -5.5079, -5.5929, -5.7672, -5.8297, -5.6533, -5.7133, -5.951, -6.1699, -6.4753, -6.7954, -6.7954, -6.7955, -6.7956, -6.7956, -6.7956, -6.7963, -6.7966, -6.8096, -6.2959, -6.5264, -6.3227, -6.8328, -6.8343, -6.8359, -6.8426, -6.8474, -6.8527, -6.853, -6.5669, -6.8761, -6.8793, -6.8791, -6.8873, -5.8023, -6.9125, -6.3964, -6.2275, -6.4449, -5.5394, -6.0801, -6.4701, -4.5685, -6.2265, -3.6113, -4.8239, -4.5405, -5.717, -6.0191, -5.6423, -5.9167, -5.0197, -4.9295, -5.798, -5.7588, -5.9731, -6.2082, -5.8861, -5.6212, -5.9862, -5.086, -5.7614, -5.5387, -5.9253, -5.9182, -5.7631, -5.6475, -5.749, -5.5522, -5.8331, -5.7842, -5.8103, -5.9032, -5.7564], \"loglift\": [30.0, 29.0, 28.0, 27.0, 26.0, 25.0, 24.0, 23.0, 22.0, 21.0, 20.0, 19.0, 18.0, 17.0, 16.0, 15.0, 14.0, 13.0, 12.0, 11.0, 10.0, 9.0, 8.0, 7.0, 6.0, 5.0, 4.0, 3.0, 2.0, 1.0, 1.021, 0.9813, 0.9794, 0.9743, 0.9742, 0.9721, 0.9693, 0.9674, 0.963, 0.9551, 0.9494, 0.9473, 0.9433, 0.9296, 0.9287, 0.9283, 0.92, 0.9182, 0.9179, 0.9177, 0.9091, 0.9062, 0.9, 0.8995, 0.8985, 0.8973, 0.8969, 0.8952, 0.8952, 0.8931, 0.892, 0.8887, 0.8814, 0.8642, 0.8375, 0.7813, 0.7084, 0.7743, 0.7158, 0.7755, 0.1621, 0.3095, 0.479, 0.376, 0.2353, 0.5335, 0.1822, 0.1392, 0.4228, 0.4782, 0.2993, 0.2031, 0.1833, 0.3507, -0.0552, 0.1782, 0.2551, -0.0242, -0.0542, 0.4086, 0.4119, -0.0288, 0.2743, -0.4726, 0.3301, 0.2392, 0.1866, 1.2095, 1.1269, 1.1268, 1.1122, 1.1098, 1.0967, 1.0923, 1.0868, 1.0847, 1.0789, 1.0672, 1.0587, 1.0539, 1.0491, 1.0464, 1.0463, 1.0462, 1.0462, 1.0449, 1.0431, 1.0412, 1.0404, 1.0355, 1.0314, 1.0264, 1.0204, 1.0183, 1.018, 1.0165, 1.0162, 1.0083, 0.979, 0.9962, 0.7746, 0.8612, 0.8574, 0.6504, 0.6421, 0.783, 0.3815, 0.8953, 0.8517, 0.8531, -0.0744, 0.5846, 0.4532, 0.0788, 0.6857, 0.1925, 0.1742, 0.3977, 0.5489, 0.4982, 0.1861, 0.1612, 0.3366, 0.4891, -0.1678, 0.422, -0.0918, -0.2519, -0.0501, -0.3833, 0.0607, 0.3228, -0.6375, 0.1183, 0.3417, -0.1954, 0.0373, 1.2399, 1.2267, 1.2167, 1.2038, 1.1894, 1.1726, 1.1673, 1.152, 1.1436, 1.1426, 1.1412, 1.1405, 1.1309, 1.1265, 1.1234, 1.1226, 1.1203, 1.1032, 1.0963, 1.0954, 1.0925, 1.0766, 1.0726, 1.0721, 1.0682, 1.0662, 1.0645, 1.0605, 1.0601, 1.057, 1.0569, 0.9941, 1.0259, 0.9987, 1.0245, 0.8465, 0.9095, 0.6839, 0.6386, 0.6427, 0.8674, 0.6711, 0.3255, 0.5144, -0.1589, 0.2624, 0.6935, 0.2711, 0.5793, 0.3537, 0.626, 0.616, -0.0578, 0.4883, 0.5571, 0.6767, 0.3459, 0.3527, -0.0566, -0.1594, 0.3429, -0.2597, -0.3181, 0.3208, -0.061, -0.0216, 0.3086, 0.4539, -0.1858, 0.0337, 1.5031, 1.4623, 1.3729, 1.3373, 1.3373, 1.3372, 1.3371, 1.3371, 1.337, 1.3363, 1.3359, 1.322, 1.3207, 1.3136, 1.2997, 1.2973, 1.2935, 1.2924, 1.287, 1.2799, 1.2759, 1.2759, 1.2715, 1.2512, 1.2481, 1.245, 1.2374, 1.2209, 1.2128, 1.2126, 1.2053, 1.1634, 0.9627, 1.0473, 1.1299, 0.4313, 1.034, 0.0001, 0.4408, 0.2566, 0.7631, 0.8714, 0.6576, 0.8053, 0.2425, 0.1402, 0.6748, 0.6013, 0.734, 0.9102, 0.6646, 0.4285, 0.716, -0.0936, 0.4373, 0.1908, 0.6133, 0.5645, 0.207, -0.2007, -0.002, -0.5261, 0.1601, -0.0243, 0.0106, 0.3133, -0.6626]}, \"token.table\": {\"Topic\": [2, 4, 3, 1, 4, 1, 2, 3, 4, 4, 1, 2, 4, 2, 4, 4, 1, 2, 3, 4, 4, 1, 2, 1, 4, 1, 3, 4, 1, 2, 3, 4, 1, 4, 1, 2, 3, 1, 2, 3, 4, 3, 1, 3, 2, 1, 2, 3, 4, 3, 4, 1, 3, 1, 1, 2, 3, 2, 1, 2, 3, 4, 1, 2, 3, 4, 1, 2, 3, 4, 3, 4, 2, 4, 1, 3, 4, 1, 3, 4, 2, 4, 1, 2, 4, 2, 1, 4, 1, 2, 3, 4, 3, 1, 3, 4, 1, 1, 2, 3, 4, 3, 1, 2, 3, 4, 1, 2, 3, 4, 1, 1, 2, 3, 3, 3, 1, 2, 3, 4, 1, 1, 2, 3, 4, 1, 2, 4, 1, 2, 3, 4, 2, 2, 1, 2, 3, 4, 1, 2, 3, 4, 1, 2, 3, 4, 1, 2, 2, 3, 1, 3, 4, 1, 3, 4, 1, 3, 1, 2, 3, 4, 1, 2, 3, 4, 1, 3, 1, 2, 3, 4, 1, 4, 1, 2, 3, 4, 1, 2, 3, 4, 1, 3, 3, 1, 2, 3, 1, 2, 3, 1, 1, 2, 1, 2, 3, 4, 2, 3, 3, 1, 1, 4, 3, 2, 1, 2, 3, 4, 4, 1, 2, 3, 4, 4, 2, 2, 3, 1, 2, 3, 4, 2, 1, 2, 3, 4, 1, 2, 3, 4, 1, 2, 3, 4, 1, 2, 4, 1, 2, 3, 4, 1, 3, 4, 1, 3, 2, 2, 3, 1, 2, 3, 4, 1, 3, 4, 1, 2, 3, 4, 1, 2, 4, 3, 3, 4, 4, 2, 1, 2, 3, 1, 2, 3, 4, 4, 4, 1, 2, 3, 4, 1, 1, 2, 3, 4, 3, 1, 2, 3, 4, 2, 3, 1, 2, 3, 4, 4, 1, 2, 3, 4, 2, 1, 2, 3, 4, 2, 1, 2, 3, 4, 3, 2, 4, 2, 1, 2, 1, 2, 3, 2, 1, 2, 3, 1, 2, 1, 2, 3, 4, 1, 2, 3, 4, 1, 1, 1, 1, 1, 2, 3, 4, 2, 3, 1, 1, 3, 1, 2, 3, 4, 3, 1, 2, 3, 4, 1, 2, 3, 4, 1, 1, 2, 3, 4, 1, 2, 3, 4, 2, 2, 1, 4, 3, 1, 2, 3, 4, 3, 1, 2, 3, 4, 2, 3, 1, 2, 3, 4, 1, 2, 3, 4, 1, 2, 3, 4, 4, 1, 3, 3, 1, 2, 3, 4, 1, 3, 1, 2, 3, 4, 1, 4, 2, 1, 2, 3, 4, 1, 2, 4, 4, 1, 2, 3, 4, 1, 2, 3, 4, 1, 2, 3, 4, 4, 4, 3, 4, 2, 1, 2, 3, 4, 1, 2, 3, 4, 1, 2, 3, 4, 2, 4, 1, 2, 3, 4, 1, 2, 3, 4, 1, 2, 3, 4, 1, 2, 3, 4, 1, 2, 3, 4, 2, 1], \"Freq\": [0.6816135481593528, 0.22720451605311762, 0.6685245118093515, 0.9500648315809902, 0.9464574509239818, 0.09266581061113469, 0.2779974318334041, 0.09266581061113469, 0.46332905305567346, 0.47178662343497146, 0.3844116990728181, 0.19220584953640904, 0.3844116990728181, 0.6104834621614617, 0.3052417310807308, 0.9454845772421656, 0.31176376221239194, 0.3897047027654899, 0.23382282165929394, 0.07794094055309798, 0.5681741112234803, 0.8492347509543355, 0.8977354276499259, 0.7666545287985808, 0.47067776340687967, 0.30523471856025386, 0.5087245309337564, 0.20348981237350255, 0.8494029006381297, 0.8977309295126069, 0.889862675005254, 0.7062710491319644, 0.8505778600545202, 0.7120896152049417, 0.32704927490078334, 0.21803284993385558, 0.43606569986771115, 0.3602475943436919, 0.2418805276307646, 0.2058557681963954, 0.19041658558166574, 0.8010096463278339, 0.8482736481764186, 0.8898422583508121, 0.6732520098368416, 0.05443382918346399, 0.27216914591731994, 0.4354706334677119, 0.21773531673385596, 0.8872094962377912, 0.4697846453084306, 0.6375745142819517, 0.31878725714097583, 0.6372820669710157, 0.8482427603022668, 0.3651621067139546, 0.6086035111899244, 0.8979982724064939, 0.34322133455437354, 0.17161066727718677, 0.17161066727718677, 0.5148320018315603, 0.19223221042961014, 0.5766966312888304, 0.19223221042961014, 0.19223221042961014, 0.1810275786174102, 0.3620551572348204, 0.3620551572348204, 0.0603425262058034, 0.8877803171533302, 0.9463551338059157, 0.8987086979959125, 0.47065537434876636, 0.17316734623274974, 0.17316734623274974, 0.5195020386982492, 0.2732876123328765, 0.2732876123328765, 0.4099314184993148, 0.7741846240088849, 0.19354615600222122, 0.38775203566637073, 0.38775203566637073, 0.1551008142665483, 0.8056592750146179, 0.6356597749898214, 0.9464448959397392, 0.7121320141328454, 0.1424264028265691, 0.1424264028265691, 0.1424264028265691, 0.665188591298947, 0.950808843224357, 0.7999169575111127, 0.47196859286335385, 0.6362012278096417, 0.23682494282542654, 0.39470823804237753, 0.07894164760847551, 0.23682494282542654, 0.8890845961676592, 0.39704174589428215, 0.22057874771904565, 0.22057874771904565, 0.17646299817523653, 0.3506998677865893, 0.18566463588701784, 0.16503523189957142, 0.28881165582425, 0.763493892678815, 0.12150090024671147, 0.48600360098684586, 0.24300180049342293, 0.886770518392027, 0.8904936819466712, 0.17524182717166886, 0.5257254815150066, 0.23365576956222517, 0.11682788478111258, 0.8440949045638559, 0.29574543267452413, 0.08065784527487023, 0.3226313810994809, 0.29574543267452413, 0.18996794754139382, 0.5699038426241814, 0.8606228390568069, 0.1817608201725225, 0.2726412302587838, 0.1817608201725225, 0.363521640345045, 0.6738371324874145, 0.6764280782983488, 0.16080009822700903, 0.32160019645401805, 0.24120014734051354, 0.32160019645401805, 0.12275450804245526, 0.7365270482547316, 0.12275450804245526, 0.12275450804245526, 0.2683271290806832, 0.44721188180113863, 0.17888475272045545, 0.17888475272045545, 0.7564500893560507, 0.8977328745828955, 0.8084717812945189, 0.6705025143222101, 0.19092585292488898, 0.572777558774667, 0.19092585292488898, 0.2803086811808846, 0.2803086811808846, 0.5606173623617692, 0.8435522170646624, 0.14059203617744376, 0.19910564225456992, 0.3760884353697432, 0.19910564225456992, 0.22122849139396655, 0.1769736652400516, 0.26546049786007736, 0.44243416310012895, 0.0884868326200258, 0.8446446143445042, 0.21116115358612605, 0.3874152858192433, 0.13475314289364984, 0.218973857202181, 0.25266214292559347, 0.798770699593201, 0.1597541399186402, 0.3622643662512825, 0.2963981178419584, 0.19759874522797227, 0.09879937261398614, 0.6442719262815831, 0.10737865438026385, 0.10737865438026385, 0.10737865438026385, 0.6365289156978143, 0.8890939896094308, 0.8891085177369674, 0.3283463791266155, 0.5910234824279079, 0.0656692758253231, 0.5316217042841619, 0.15189191550976053, 0.2278378732646408, 0.8447904879171327, 0.8492774174211835, 0.6744062401274207, 0.2270837090260382, 0.2270837090260382, 0.15138913935069212, 0.37847284837673034, 0.6736529907426577, 0.7973855367285332, 0.6672135691171862, 0.6357161501187593, 0.8496314680039841, 0.9464460247603692, 0.8008918937241377, 0.6703352056075891, 0.6503791623629878, 0.16259479059074694, 0.08129739529537347, 0.16259479059074694, 0.47132245182152516, 0.29500246347019776, 0.2413656519301618, 0.2145472461601438, 0.2413656519301618, 0.9463034945973402, 0.6720519620549762, 0.267260491404918, 0.534520982809836, 0.4412222089640777, 0.29414813930938516, 0.07353703482734629, 0.22061110448203886, 0.8977390908561692, 0.39818680059262507, 0.19909340029631253, 0.19909340029631253, 0.19909340029631253, 0.4632809160893564, 0.2316404580446782, 0.15442697202978548, 0.15442697202978548, 0.4874740179172034, 0.13927829083348667, 0.06963914541674333, 0.27855658166697334, 0.28010744406152466, 0.28010744406152466, 0.5602148881230493, 0.286683436985612, 0.20477388356115142, 0.3276382136978423, 0.16381910684892115, 0.6381558668392089, 0.25526234673568354, 0.47073267898395116, 0.33057849987736015, 0.6611569997547203, 0.6736489008092393, 0.6728681517346641, 0.22428938391155467, 0.07953540887140545, 0.23860622661421635, 0.3976770443570272, 0.23860622661421635, 0.2925964957570103, 0.5851929915140206, 0.7052129457624793, 0.45716347354622905, 0.3047756490308194, 0.12191025961232775, 0.12191025961232775, 0.19783778958024964, 0.19783778958024964, 0.593513368740749, 0.8906674702306759, 0.7666781153193076, 0.1916695288298269, 0.9603497183372166, 0.896108477933261, 0.1336838393167703, 0.5347353572670812, 0.2673676786335406, 0.19456294131064047, 0.19456294131064047, 0.19456294131064047, 0.38912588262128095, 0.4694685221638785, 0.4709224266625171, 0.3625929159682014, 0.2266205724801259, 0.31726880147217623, 0.09064822899205036, 0.6363736973843607, 0.1916042044408774, 0.12773613629391825, 0.4470764770287139, 0.1916042044408774, 0.6654119538517111, 0.05643948730033278, 0.2821974365016639, 0.45151589840266226, 0.16931846190099833, 0.6747704832498252, 0.889564048607991, 0.2234364576638228, 0.2234364576638228, 0.3723940961063713, 0.2234364576638228, 0.946452624816266, 0.3395840929382036, 0.22638939529213573, 0.11319469764606786, 0.3395840929382036, 0.6743068246744263, 0.34952692315125783, 0.4369086539390723, 0.17476346157562891, 0.08738173078781446, 0.8991128477409425, 0.30064655997531836, 0.30064655997531836, 0.3382273799722332, 0.037580819996914795, 0.8902741952716888, 0.6841164618112568, 0.1710291154528142, 0.8975813019187002, 0.7286521830422387, 0.18216304576055967, 0.7582372854445759, 0.8086076764271044, 0.887771775261807, 0.6711489202404571, 0.16550553363260195, 0.16550553363260195, 0.4965166008978058, 0.8431878963105107, 0.21079697407762768, 0.3464181434943962, 0.4849854008921547, 0.06928362869887925, 0.06928362869887925, 0.11545074317819112, 0.3463522295345734, 0.11545074317819112, 0.4618029727127645, 0.7627350210128545, 0.6358185769980228, 0.8492898910889591, 0.7637898587992541, 0.39460520702832763, 0.26307013801888507, 0.19730260351416382, 0.13153506900944253, 0.6736952322666713, 0.89398834250658, 0.6345333092864489, 0.18894984945015703, 0.7557993978006281, 0.5157889360488119, 0.09377980655432944, 0.2344495163858236, 0.18755961310865887, 0.8902150375340023, 0.13064716443822957, 0.3919414933146887, 0.26129432887645915, 0.17419621925097276, 0.3448616769038126, 0.1724308384519063, 0.3448616769038126, 0.11495389230127087, 0.9490689534030893, 0.17683821820212858, 0.17683821820212858, 0.35367643640425717, 0.2947303636702143, 0.3599856584309656, 0.0899964146077414, 0.1799928292154828, 0.3599856584309656, 0.6711911506872587, 0.8989934077643258, 0.28244467500130954, 0.8473340250039286, 0.8898545251498104, 0.37565063786425124, 0.31304219822020934, 0.25043375857616745, 0.06260843964404186, 0.7996364390526097, 0.334246174325714, 0.2785384786047617, 0.167123087162857, 0.22283078288380936, 0.2221635608579809, 0.6664906825739426, 0.23502213083481166, 0.23502213083481166, 0.4700442616696233, 0.07834071027827055, 0.2792419042381917, 0.48867333241683536, 0.13962095211909584, 0.06981047605954792, 0.4279321462785531, 0.17117285851142125, 0.21396607313927654, 0.21396607313927654, 0.4711581519377375, 0.637429827988384, 0.6701128692953282, 0.8889148464304666, 0.15028371133993, 0.22542556700989497, 0.45085113401978993, 0.22542556700989497, 0.7233699095699813, 0.8902783752229735, 0.45778343545145506, 0.15259447848381835, 0.3814861962095459, 0.07629723924190918, 0.27779882779160714, 0.5555976555832143, 0.963530419420987, 0.4181272325404519, 0.10453180813511298, 0.31359542440533894, 0.10453180813511298, 0.15604537675720603, 0.15604537675720603, 0.6241815070288241, 0.47144113054468945, 0.35483869274632984, 0.2580645038155126, 0.22580644083857354, 0.1612903148846954, 0.42356496823781864, 0.27531722935458214, 0.1906042357070184, 0.10589124205945466, 0.2645150205662855, 0.17634334704419033, 0.4408583676104758, 0.08817167352209516, 0.9464412780623023, 0.9464575793004582, 0.23502474499601395, 0.7050742349880419, 0.8961223561524331, 0.2275042667772846, 0.1137521333886423, 0.2275042667772846, 0.3412564001659269, 0.45642490226958793, 0.11410622556739698, 0.22821245113479396, 0.17115933835109545, 0.20156352744697226, 0.13437568496464816, 0.4031270548939445, 0.20156352744697226, 0.8985391101550132, 0.4691557984786753, 0.06841153520929362, 0.3420576760464681, 0.2736461408371745, 0.2736461408371745, 0.36531477395865686, 0.2922518191669255, 0.2191888643751941, 0.07306295479173137, 0.18151791930574293, 0.36303583861148586, 0.30252986550957156, 0.12101194620382863, 0.2719641720692072, 0.09065472402306907, 0.18130944804613813, 0.4532736201153454, 0.17806196811322672, 0.2670929521698401, 0.4006394282547601, 0.13354647608492004, 0.8977249359605561, 0.9500381601425604], \"Term\": [\"accept\", \"accept\", \"adelaide\", \"alec\", \"andy\", \"angel\", \"angel\", \"angel\", \"angel\", \"app\", \"approach\", \"approach\", \"approach\", \"aunt\", \"aunt\", \"bachelor\", \"begin\", \"begin\", \"begin\", \"begin\", \"ben\", \"board\", \"bookstore\", \"boston\", \"brady\", \"business\", \"business\", \"business\", \"cancel\", \"card\", \"casey\", \"cast\", \"charles\", \"child\", \"chris\", \"chris\", \"chris\", \"christmas\", \"christmas\", \"christmas\", \"christmas\", \"close\", \"club\", \"coach\", \"cody\", \"come\", \"come\", \"come\", \"come\", \"condition\", \"corrine\", \"couple\", \"couple\", \"cross\", \"cynthia\", \"dance\", \"dance\", \"daniel\", \"darcy\", \"darcy\", \"darcy\", \"darcy\", \"date\", \"date\", \"date\", \"date\", \"daughter\", \"daughter\", \"daughter\", \"daughter\", \"dave\", \"decision\", \"delay\", \"design\", \"despite\", \"despite\", \"despite\", \"determine\", \"determine\", \"determine\", \"developer\", \"developer\", \"discover\", \"discover\", \"discover\", \"drake\", \"dump\", \"elise\", \"emily\", \"emily\", \"emily\", \"emily\", \"emmett\", \"england\", \"entire\", \"eric\", \"evans\", \"eve\", \"eve\", \"eve\", \"eve\", \"exchange\", \"fall\", \"fall\", \"fall\", \"fall\", \"family\", \"family\", \"family\", \"family\", \"fan\", \"farm\", \"farm\", \"farm\", \"fashion\", \"fate\", \"father\", \"father\", \"father\", \"father\", \"festival\", \"find\", \"find\", \"find\", \"find\", \"flight\", \"flight\", \"float\", \"force\", \"force\", \"force\", \"force\", \"gallery\", \"george\", \"get\", \"get\", \"get\", \"get\", \"girl\", \"girl\", \"girl\", \"girl\", \"give\", \"give\", \"give\", \"give\", \"grace\", \"graham\", \"grant\", \"gretchen\", \"hand\", \"hand\", \"hand\", \"hannah\", \"hannah\", \"hannah\", \"heather\", \"heather\", \"help\", \"help\", \"help\", \"help\", \"high\", \"high\", \"high\", \"high\", \"hillary\", \"hillary\", \"holiday\", \"holiday\", \"holiday\", \"holiday\", \"holly\", \"holly\", \"home\", \"home\", \"home\", \"home\", \"hop\", \"hop\", \"hop\", \"hop\", \"ideas\", \"include\", \"isobel\", \"jack\", \"jack\", \"jack\", \"job\", \"job\", \"job\", \"joe\", \"joey\", \"jonathan\", \"joy\", \"joy\", \"joy\", \"joy\", \"jules\", \"kate\", \"kathy\", \"kim\", \"klaus\", \"kylie\", \"laura\", \"layla\", \"learn\", \"learn\", \"learn\", \"learn\", \"lie\", \"life\", \"life\", \"life\", \"life\", \"lindsay\", \"lisa\", \"list\", \"list\", \"live\", \"live\", \"live\", \"live\", \"liz\", \"local\", \"local\", \"local\", \"local\", \"long\", \"long\", \"long\", \"long\", \"lose\", \"lose\", \"lose\", \"lose\", \"lot\", \"lot\", \"lot\", \"love\", \"love\", \"love\", \"love\", \"lucy\", \"lucy\", \"luke\", \"lydia\", \"lydia\", \"mac\", \"madison\", \"madison\", \"man\", \"man\", \"man\", \"man\", \"manager\", \"manager\", \"marie\", \"meet\", \"meet\", \"meet\", \"meet\", \"melanie\", \"melanie\", \"melanie\", \"mexico\", \"mia\", \"mia\", \"michael\", \"mitch\", \"mrs\", \"mrs\", \"mrs\", \"need\", \"need\", \"need\", \"need\", \"neighbor\", \"network\", \"new\", \"new\", \"new\", \"new\", \"news\", \"nick\", \"nick\", \"nick\", \"nick\", \"noelle\", \"old\", \"old\", \"old\", \"old\", \"oliver\", \"olivia\", \"owner\", \"owner\", \"owner\", \"owner\", \"passionate\", \"past\", \"past\", \"past\", \"past\", \"paula\", \"perfect\", \"perfect\", \"perfect\", \"perfect\", \"picturesque\", \"plan\", \"plan\", \"plan\", \"plan\", \"plot\", \"power\", \"power\", \"practice\", \"producer\", \"producer\", \"property\", \"proposal\", \"queen\", \"question\", \"quickly\", \"quickly\", \"quickly\", \"rachel\", \"rachel\", \"real\", \"real\", \"real\", \"real\", \"realize\", \"realize\", \"realize\", \"realize\", \"rebecca\", \"reindeer\", \"remote\", \"retreat\", \"return\", \"return\", \"return\", \"return\", \"ride\", \"riley\", \"river\", \"robert\", \"robert\", \"romance\", \"romance\", \"romance\", \"romance\", \"salsa\", \"santa\", \"santa\", \"santa\", \"santa\", \"school\", \"school\", \"school\", \"school\", \"sculpt\", \"season\", \"season\", \"season\", \"season\", \"set\", \"set\", \"set\", \"set\", \"seth\", \"shane\", \"shut\", \"shut\", \"singer\", \"single\", \"single\", \"single\", \"single\", \"skate\", \"small\", \"small\", \"small\", \"small\", \"snow\", \"snow\", \"son\", \"son\", \"son\", \"son\", \"spend\", \"spend\", \"spend\", \"spend\", \"spirit\", \"spirit\", \"spirit\", \"spirit\", \"spot\", \"state\", \"steven\", \"stick\", \"store\", \"store\", \"store\", \"store\", \"stranger\", \"studio\", \"surprise\", \"surprise\", \"surprise\", \"surprise\", \"susan\", \"susan\", \"sydney\", \"take\", \"take\", \"take\", \"take\", \"term\", \"term\", \"term\", \"thing\", \"time\", \"time\", \"time\", \"time\", \"town\", \"town\", \"town\", \"town\", \"toy\", \"toy\", \"toy\", \"toy\", \"tragedy\", \"tragic\", \"train\", \"train\", \"transform\", \"tree\", \"tree\", \"tree\", \"tree\", \"true\", \"true\", \"true\", \"true\", \"turn\", \"turn\", \"turn\", \"turn\", \"village\", \"window\", \"wish\", \"wish\", \"wish\", \"wish\", \"work\", \"work\", \"work\", \"work\", \"year\", \"year\", \"year\", \"year\", \"years\", \"years\", \"years\", \"years\", \"young\", \"young\", \"young\", \"young\", \"zoe\", \"zoey\"]}, \"R\": 30, \"lambda.step\": 0.01, \"plot.opts\": {\"xlab\": \"PC1\", \"ylab\": \"PC2\"}, \"topic.order\": [1, 4, 2, 3]};\n",
              "\n",
              "function LDAvis_load_lib(url, callback){\n",
              "  var s = document.createElement('script');\n",
              "  s.src = url;\n",
              "  s.async = true;\n",
              "  s.onreadystatechange = s.onload = callback;\n",
              "  s.onerror = function(){console.warn(\"failed to load library \" + url);};\n",
              "  document.getElementsByTagName(\"head\")[0].appendChild(s);\n",
              "}\n",
              "\n",
              "if(typeof(LDAvis) !== \"undefined\"){\n",
              "   // already loaded: just create the visualization\n",
              "   !function(LDAvis){\n",
              "       new LDAvis(\"#\" + \"ldavis_el581397474423893281526042169\", ldavis_el581397474423893281526042169_data);\n",
              "   }(LDAvis);\n",
              "}else if(typeof define === \"function\" && define.amd){\n",
              "   // require.js is available: use it to load d3/LDAvis\n",
              "   require.config({paths: {d3: \"https://d3js.org/d3.v5\"}});\n",
              "   require([\"d3\"], function(d3){\n",
              "      window.d3 = d3;\n",
              "      LDAvis_load_lib(\"https://cdn.jsdelivr.net/gh/bmabey/pyLDAvis@3.2.2/pyLDAvis/js/ldavis.v3.0.0.js\", function(){\n",
              "        new LDAvis(\"#\" + \"ldavis_el581397474423893281526042169\", ldavis_el581397474423893281526042169_data);\n",
              "      });\n",
              "    });\n",
              "}else{\n",
              "    // require.js not available: dynamically load d3 & LDAvis\n",
              "    LDAvis_load_lib(\"https://d3js.org/d3.v5.js\", function(){\n",
              "         LDAvis_load_lib(\"https://cdn.jsdelivr.net/gh/bmabey/pyLDAvis@3.2.2/pyLDAvis/js/ldavis.v3.0.0.js\", function(){\n",
              "                 new LDAvis(\"#\" + \"ldavis_el581397474423893281526042169\", ldavis_el581397474423893281526042169_data);\n",
              "            })\n",
              "         });\n",
              "}\n",
              "</script>"
            ],
            "text/plain": [
              "PreparedData(topic_coordinates=              x         y  topics  cluster       Freq\n",
              "topic                                                \n",
              "0      0.000772 -0.075702       1        1  30.690635\n",
              "3      0.074465  0.025747       2        1  26.279007\n",
              "1     -0.029171  0.026183       3        1  23.927521\n",
              "2     -0.046066  0.023771       4        1  19.102837, topic_info=         Term       Freq      Total Category  logprob  loglift\n",
              "576      find  37.000000  37.000000  Default  30.0000  30.0000\n",
              "472      jack  15.000000  15.000000  Default  29.0000  29.0000\n",
              "148      come  18.000000  18.000000  Default  28.0000  28.0000\n",
              "1226  michael   4.000000   4.000000  Default  27.0000  27.0000\n",
              "7      family  48.000000  48.000000  Default  26.0000  26.0000\n",
              "...       ...        ...        ...      ...      ...      ...\n",
              "638     small   4.024492  17.950841   Topic4  -5.8331   0.1601\n",
              "337      fall   4.226391  22.667642   Topic4  -5.7842  -0.0243\n",
              "735   romance   4.117536  21.326553   Topic4  -5.8103   0.0106\n",
              "201      lose   3.752224  14.359740   Topic4  -5.9032   0.3133\n",
              "254       new   4.345402  44.126621   Topic4  -5.7564  -0.6626\n",
              "\n",
              "[304 rows x 6 columns], token_table=      Topic      Freq      Term\n",
              "term                           \n",
              "460       2  0.681614    accept\n",
              "460       4  0.227205    accept\n",
              "1835      3  0.668525  adelaide\n",
              "2133      1  0.950065      alec\n",
              "1999      4  0.946457      andy\n",
              "...     ...       ...       ...\n",
              "104       2  0.267093     young\n",
              "104       3  0.400639     young\n",
              "104       4  0.133546     young\n",
              "1949      2  0.897725       zoe\n",
              "2146      1  0.950038      zoey\n",
              "\n",
              "[478 rows x 3 columns], R=30, lambda_step=0.01, plot_opts={'xlab': 'PC1', 'ylab': 'PC2'}, topic_order=[1, 4, 2, 3])"
            ]
          },
          "metadata": {
            "tags": []
          },
          "execution_count": 38
        }
      ]
    },
    {
      "cell_type": "code",
      "metadata": {
        "colab": {
          "base_uri": "https://localhost:8080/",
          "height": 17
        },
        "id": "-PXM-XWEGYKP",
        "outputId": "44153429-8810-4f02-b1d0-bc3486c6c9a2"
      },
      "source": [
        "from gensim import models\n",
        "import warnings\n",
        "warnings.filterwarnings('ignore')"
      ],
      "execution_count": 39,
      "outputs": [
        {
          "output_type": "display_data",
          "data": {
            "text/html": [
              "\n",
              "  <style>\n",
              "    pre {\n",
              "        white-space: pre-wrap;\n",
              "    }\n",
              "  </style>\n",
              "  "
            ],
            "text/plain": [
              "<IPython.core.display.HTML object>"
            ]
          },
          "metadata": {
            "tags": []
          }
        }
      ]
    },
    {
      "cell_type": "code",
      "metadata": {
        "colab": {
          "base_uri": "https://localhost:8080/",
          "height": 17
        },
        "id": "B6ScBte7HoMk",
        "outputId": "c01e0c5e-74b3-4c9c-ed99-f630e37b59c6"
      },
      "source": [
        "tfidf = models.TfidfModel(bow_corpus)\n",
        "tfidf_corpus = tfidf[bow_corpus]"
      ],
      "execution_count": 40,
      "outputs": [
        {
          "output_type": "display_data",
          "data": {
            "text/html": [
              "\n",
              "  <style>\n",
              "    pre {\n",
              "        white-space: pre-wrap;\n",
              "    }\n",
              "  </style>\n",
              "  "
            ],
            "text/plain": [
              "<IPython.core.display.HTML object>"
            ]
          },
          "metadata": {
            "tags": []
          }
        }
      ]
    },
    {
      "cell_type": "code",
      "metadata": {
        "colab": {
          "base_uri": "https://localhost:8080/",
          "height": 51
        },
        "id": "5phOpigkHwr7",
        "outputId": "e8e51da3-7310-4e58-9791-5e49c2374bdd"
      },
      "source": [
        "%%time\n",
        "lda_model_tfidf = gensim.models.LdaMulticore(tfidf_corpus, num_topics=4, id2word=dictionary, passes=2)\n",
        "lda_model_tfidf.save('lda_tfidf.model')"
      ],
      "execution_count": 42,
      "outputs": [
        {
          "output_type": "display_data",
          "data": {
            "text/html": [
              "\n",
              "  <style>\n",
              "    pre {\n",
              "        white-space: pre-wrap;\n",
              "    }\n",
              "  </style>\n",
              "  "
            ],
            "text/plain": [
              "<IPython.core.display.HTML object>"
            ]
          },
          "metadata": {
            "tags": []
          }
        },
        {
          "output_type": "stream",
          "text": [
            "CPU times: user 574 ms, sys: 50.3 ms, total: 624 ms\n",
            "Wall time: 671 ms\n"
          ],
          "name": "stdout"
        }
      ]
    },
    {
      "cell_type": "code",
      "metadata": {
        "colab": {
          "base_uri": "https://localhost:8080/",
          "height": 221
        },
        "id": "tdOX00D2H9Zz",
        "outputId": "fb1d6da4-fbed-4e0d-daed-5486c5a28f2e"
      },
      "source": [
        "for idx, topic in lda_model_tfidf.print_topics(-1):\n",
        "  print('Topic: {}  Word: {}'.format(idx, topic))"
      ],
      "execution_count": 43,
      "outputs": [
        {
          "output_type": "display_data",
          "data": {
            "text/html": [
              "\n",
              "  <style>\n",
              "    pre {\n",
              "        white-space: pre-wrap;\n",
              "    }\n",
              "  </style>\n",
              "  "
            ],
            "text/plain": [
              "<IPython.core.display.HTML object>"
            ]
          },
          "metadata": {
            "tags": []
          }
        },
        {
          "output_type": "stream",
          "text": [
            "Topic: 0  Word: 0.002*\"old\" + 0.002*\"time\" + 0.002*\"home\" + 0.002*\"new\" + 0.002*\"family\" + 0.002*\"help\" + 0.002*\"love\" + 0.002*\"dad\" + 0.001*\"season\" + 0.001*\"meet\"\n",
            "Topic: 1  Word: 0.002*\"town\" + 0.002*\"nick\" + 0.002*\"help\" + 0.002*\"store\" + 0.002*\"santa\" + 0.001*\"life\" + 0.001*\"military\" + 0.001*\"angel\" + 0.001*\"come\" + 0.001*\"young\"\n",
            "Topic: 2  Word: 0.002*\"chris\" + 0.001*\"discover\" + 0.001*\"story\" + 0.001*\"family\" + 0.001*\"carol\" + 0.001*\"begin\" + 0.001*\"plan\" + 0.001*\"tree\" + 0.001*\"town\" + 0.001*\"young\"\n",
            "Topic: 3  Word: 0.002*\"find\" + 0.002*\"holiday\" + 0.002*\"life\" + 0.002*\"love\" + 0.002*\"home\" + 0.001*\"family\" + 0.001*\"new\" + 0.001*\"darcy\" + 0.001*\"fall\" + 0.001*\"town\"\n"
          ],
          "name": "stdout"
        }
      ]
    },
    {
      "cell_type": "code",
      "metadata": {
        "colab": {
          "base_uri": "https://localhost:8080/",
          "height": 881
        },
        "id": "z1pmghvcIOop",
        "outputId": "28ec0547-ccad-4b43-b965-e6d753b99ed0"
      },
      "source": [
        "pyLDAvis.gensim.prepare(lda_model_tfidf, tfidf_corpus, dictionary)"
      ],
      "execution_count": 44,
      "outputs": [
        {
          "output_type": "display_data",
          "data": {
            "text/html": [
              "\n",
              "  <style>\n",
              "    pre {\n",
              "        white-space: pre-wrap;\n",
              "    }\n",
              "  </style>\n",
              "  "
            ],
            "text/plain": [
              "<IPython.core.display.HTML object>"
            ]
          },
          "metadata": {
            "tags": []
          }
        },
        {
          "output_type": "execute_result",
          "data": {
            "text/html": [
              "\n",
              "<link rel=\"stylesheet\" type=\"text/css\" href=\"https://cdn.jsdelivr.net/gh/bmabey/pyLDAvis@3.2.2/pyLDAvis/js/ldavis.v1.0.0.css\">\n",
              "\n",
              "\n",
              "<div id=\"ldavis_el581397474135148327355290232\"></div>\n",
              "<script type=\"text/javascript\">\n",
              "\n",
              "var ldavis_el581397474135148327355290232_data = {\"mdsDat\": {\"x\": [-0.019300592240318916, -0.001411008031649104, 0.014983232584797081, 0.005728367687170939], \"y\": [0.008619947545771485, -0.020759181673285866, 0.007297861704785395, 0.004841372422728993], \"topics\": [1, 2, 3, 4], \"cluster\": [1, 1, 1, 1], \"Freq\": [28.90325320206792, 25.85484982142133, 23.03762221035047, 22.204274766160285]}, \"tinfo\": {\"Term\": [\"chris\", \"nick\", \"military\", \"emily\", \"melanie\", \"darcy\", \"practice\", \"carol\", \"evergreen\", \"close\", \"children\", \"old\", \"hear\", \"tree\", \"prince\", \"struggle\", \"steve\", \"heather\", \"stranger\", \"music\", \"cast\", \"entire\", \"drake\", \"challenge\", \"strand\", \"wife\", \"store\", \"maggie\", \"use\", \"skate\", \"deadline\", \"sculpt\", \"cookie\", \"lucy\", \"old\", \"samantha\", \"maddie\", \"hillary\", \"aunt\", \"noelle\", \"paula\", \"guardian\", \"corrine\", \"laura\", \"sara\", \"club\", \"jonathan\", \"kylie\", \"strange\", \"dad\", \"george\", \"sarah\", \"bake\", \"lindsay\", \"compete\", \"estrange\", \"carter\", \"trouble\", \"window\", \"ignite\", \"friend\", \"late\", \"struggle\", \"future\", \"time\", \"share\", \"season\", \"daughter\", \"wed\", \"home\", \"head\", \"boyfriend\", \"new\", \"angel\", \"start\", \"family\", \"meet\", \"help\", \"love\", \"year\", \"owner\", \"return\", \"christmas\", \"town\", \"holiday\", \"santa\", \"life\", \"work\", \"school\", \"spirit\", \"melanie\", \"evergreen\", \"prince\", \"cast\", \"darcy\", \"cowboy\", \"madison\", \"marie\", \"jules\", \"use\", \"steven\", \"gretchen\", \"secretly\", \"theater\", \"rebecca\", \"amelia\", \"sophie\", \"fox\", \"hard\", \"krissy\", \"buy\", \"process\", \"fiance\", \"historic\", \"architect\", \"rachel\", \"girlfriend\", \"mishaps\", \"moms\", \"card\", \"mackenzie\", \"towns\", \"find\", \"city\", \"sell\", \"holiday\", \"save\", \"fall\", \"important\", \"away\", \"home\", \"life\", \"love\", \"new\", \"family\", \"plan\", \"work\", \"decide\", \"romance\", \"receive\", \"town\", \"spirit\", \"help\", \"christmas\", \"learn\", \"start\", \"meet\", \"wish\", \"chris\", \"steve\", \"hear\", \"drake\", \"carol\", \"casey\", \"eric\", \"stranger\", \"farmer\", \"hanna\", \"mac\", \"challenge\", \"cynthia\", \"lie\", \"bachelor\", \"name\", \"soldier\", \"elise\", \"scientist\", \"commitment\", \"duncan\", \"charlotte\", \"adelaide\", \"julie\", \"kind\", \"lydia\", \"penchant\", \"journey\", \"happen\", \"ghost\", \"michael\", \"jordan\", \"story\", \"sydney\", \"heather\", \"drive\", \"tree\", \"tell\", \"discover\", \"death\", \"perfect\", \"begin\", \"gift\", \"try\", \"eve\", \"plan\", \"real\", \"jack\", \"young\", \"father\", \"family\", \"faith\", \"town\", \"time\", \"set\", \"christmas\", \"true\", \"life\", \"military\", \"emily\", \"practice\", \"close\", \"layla\", \"aaron\", \"ellie\", \"mitch\", \"entire\", \"strand\", \"fate\", \"paper\", \"children\", \"skate\", \"board\", \"music\", \"defend\", \"cancellation\", \"jeopardy\", \"olivia\", \"impossible\", \"condition\", \"anne\", \"riley\", \"fortune\", \"oliver\", \"list\", \"isobel\", \"nick\", \"shoot\", \"widow\", \"grace\", \"store\", \"maggie\", \"doctor\", \"wife\", \"santa\", \"town\", \"prove\", \"help\", \"angel\", \"come\", \"local\", \"single\", \"father\", \"young\", \"life\", \"claus\", \"move\", \"christmas\", \"holiday\", \"work\", \"struggle\", \"romance\", \"love\", \"true\", \"turn\", \"school\"], \"Freq\": [0.0, 0.0, 0.0, 0.0, 0.0, 0.0, 0.0, 0.0, 0.0, 0.0, 0.0, 0.0, 0.0, 0.0, 0.0, 0.0, 0.0, 0.0, 0.0, 0.0, 0.0, 0.0, 0.0, 0.0, 0.0, 0.0, 0.0, 0.0, 0.0, 0.0, 0.32604808605386626, 0.29424239805869723, 0.30165217485539075, 0.3530387181361468, 0.5538667125450017, 0.2829014867308454, 0.27883633209693215, 0.26602033585030926, 0.3191127616834108, 0.2579178007039263, 0.2547717336090973, 0.25325613368900995, 0.24075429066292534, 0.23852545063971553, 0.23591031444774424, 0.23327403204967387, 0.23061456025355617, 0.22916402686079795, 0.2311613549638173, 0.4282155240102163, 0.2241300836283751, 0.2842588970824479, 0.22180549597597843, 0.22040175666223122, 0.2197199783928492, 0.3191720308612281, 0.21851736890113446, 0.3104459401103312, 0.2149937930240533, 0.21445525413816866, 0.29214807647774205, 0.2945712689057899, 0.38331001881209414, 0.282323080684994, 0.5131745017027028, 0.2892340860878697, 0.3970146208317434, 0.38197463506637336, 0.3774672207378952, 0.4745066787982507, 0.32086768084251543, 0.3332575303717267, 0.460204866722299, 0.38007081206479276, 0.35530619608189107, 0.44967438831130535, 0.39599970260688894, 0.4438831517639968, 0.4360341717550025, 0.34963705271198076, 0.326326524943601, 0.3351005559543579, 0.37788479601591396, 0.37715821702551927, 0.3703008329527989, 0.3312232088665215, 0.34222681079842093, 0.3291895518139824, 0.32342804952348236, 0.323201271828538, 0.32672338392697603, 0.31702618245970726, 0.3000377731923123, 0.28957216583740114, 0.36038298539629976, 0.2770927323622739, 0.2740513238481449, 0.2712573529663067, 0.2554705883330752, 0.3082439890708195, 0.2371260716530119, 0.23682010310349838, 0.23186634286207383, 0.2255581097347376, 0.21590493647455974, 0.2146758615095526, 0.24303498989369485, 0.21373134279354666, 0.23226322081792625, 0.21285137302509485, 0.2116983481322751, 0.21690334999553318, 0.2549406747585644, 0.21067462916524166, 0.2079855503231789, 0.2267236016089105, 0.2061245524547109, 0.20427538261622752, 0.20421802558640273, 0.20178017350683936, 0.24407817458846676, 0.2725570989245384, 0.503521079001594, 0.3018304924203541, 0.28631865518759364, 0.47876260503170665, 0.3122363949706445, 0.35543488656118694, 0.24549308038637255, 0.270790710436613, 0.39026846458448405, 0.4102280274341397, 0.39523888213949243, 0.37454508987074286, 0.381632576199652, 0.33466774861906556, 0.3366598503927522, 0.30776733134990775, 0.3132684351648028, 0.2617731451947655, 0.3455020457729437, 0.31010940016153055, 0.3290478295682951, 0.31139755583912404, 0.28684417039919563, 0.285842502684043, 0.2879655151916044, 0.28272822399523506, 0.36984978804954854, 0.24331320194190875, 0.2558570065029212, 0.23475671409667065, 0.28015330103684777, 0.22230654432411706, 0.22173974403294985, 0.2570854864537646, 0.2103582845573465, 0.20788243087128028, 0.20727474480144212, 0.24344393580803467, 0.20618680971478004, 0.20538244027636782, 0.2033385617894331, 0.20050914144739898, 0.19970527513709216, 0.19365820491863622, 0.1933778698824316, 0.186924311875447, 0.18601856212379533, 0.18513468520451554, 0.18471982960118116, 0.18407108562989918, 0.2502160930676614, 0.18330462292216534, 0.18107366022129917, 0.1927779028569475, 0.2625316098709522, 0.19300922262351483, 0.24027420226354618, 0.20341712921515634, 0.30581855418473264, 0.229790707294174, 0.23456955044145936, 0.21578593787698036, 0.27433417433056767, 0.21090641614776043, 0.31142416921133415, 0.24895358576863652, 0.26298151231889216, 0.2775457999099379, 0.2459939479287952, 0.24630927684875217, 0.25924382658467937, 0.27653649845006556, 0.26025622625446393, 0.25313556010035, 0.26568942722347055, 0.25944910285168526, 0.28257761057253644, 0.22884045718562043, 0.271308361904652, 0.2502146101637718, 0.23810561420753712, 0.2449512811314064, 0.2392923345256318, 0.23944425273303802, 0.28755098956236963, 0.25739697458579786, 0.24827475885983, 0.24725087106380783, 0.21297277070178755, 0.20782889388822226, 0.20741347624203849, 0.20512807302766783, 0.22950905502097713, 0.22452108265196158, 0.1945968854000273, 0.19337817128371856, 0.2739639880449134, 0.22578554592384947, 0.19095281521321492, 0.23244253936954257, 0.19059997883870766, 0.19046737647451709, 0.19040719432173844, 0.1898403003919494, 0.18711920187219966, 0.18044634616698493, 0.179990347679869, 0.17971540610191827, 0.17820168969006597, 0.18017788731456677, 0.2054408772958845, 0.17687837143755575, 0.3667407488278739, 0.17241279444728191, 0.24334589669685147, 0.21150638584308534, 0.34347848363340655, 0.25005383313531226, 0.20914965988658585, 0.23752767605392208, 0.33197537210417016, 0.39564607346318426, 0.24940992493664726, 0.34591657545210214, 0.28092965110710555, 0.2774535830494982, 0.2556540147064911, 0.26779133586863507, 0.2750494362109534, 0.27552918342290417, 0.29602960336017003, 0.24809268104900611, 0.22724415916867502, 0.2696105315793031, 0.2689488086466943, 0.25106998760127, 0.23892000725855847, 0.2462936226235554, 0.25091297292616643, 0.23807439441468164, 0.23524961057022314, 0.2353730631032979], \"Total\": [0.0, 0.0, 0.0, 0.0, 0.0, 0.0, 0.0, 0.0, 0.0, 0.0, 0.0, 0.0, 0.0, 0.0, 0.0, 0.0, 0.0, 0.0, 0.0, 0.0, 0.0, 0.0, 0.0, 0.0, 0.0, 0.0, 0.0, 0.0, 0.0, 0.0, 0.5383434238015908, 0.5061882918203285, 0.5202215352410543, 0.6162073898745273, 0.9675281766004101, 0.49460187406860256, 0.49075785190024446, 0.4776757403721164, 0.5788274407822261, 0.46958963945098053, 0.46630160175721297, 0.46511569498598654, 0.45253811222154905, 0.4500651451476888, 0.44750864673598895, 0.445011419088341, 0.44220120186952316, 0.44076955444930704, 0.44489315291245224, 0.8278721188140924, 0.4366304571199926, 0.5548617217936784, 0.4332707334677853, 0.43220962640924526, 0.43137172265721513, 0.6275890643324098, 0.43013271028616396, 0.6160674442529372, 0.42664972205705215, 0.4260568681616516, 0.584062814668247, 0.5915587369882196, 0.8034423740086207, 0.5721230554086769, 1.1317500354470624, 0.5918113544616703, 0.8714087375626403, 0.8329213108900504, 0.8209001225379287, 1.1807932014008666, 0.6952323775877857, 0.7372132139055935, 1.226036232279287, 0.9329491568724431, 0.843930204085858, 1.2910169468537267, 1.0386400679963257, 1.3396257965274851, 1.3006599001203503, 0.8596852815448949, 0.7571751063831913, 0.838743499281959, 1.2038441645657474, 1.3896146981662993, 1.3554119721068514, 1.0402848503103503, 1.2879286943257688, 1.0293544602598663, 0.9379703372287672, 1.0199457416998807, 0.5438953164406004, 0.5346207017812269, 0.5175478402519662, 0.5070324097920731, 0.6391255447920628, 0.49455179304110836, 0.4911981502412653, 0.48860337075020077, 0.47269717640789516, 0.5742062401731501, 0.4544806405609033, 0.4544507156948743, 0.449732544664931, 0.44246759673261704, 0.4327065034240427, 0.43171338973099455, 0.48921754278338686, 0.430692853187583, 0.4692719874201746, 0.43016784945814673, 0.4287154277225084, 0.4394415018258799, 0.5173435471875111, 0.4276276302810219, 0.42487566668180105, 0.46542579974304227, 0.42368439422313314, 0.4216172263860968, 0.4216014072310452, 0.41865886102640243, 0.5150811858376236, 0.5818567803377381, 1.2648468684964531, 0.6982038010028412, 0.6563708586490308, 1.3554119721068514, 0.7488609357276712, 0.9151102061615907, 0.5344724272349677, 0.6334702915908786, 1.1807932014008666, 1.2879286943257688, 1.3006599001203503, 1.226036232279287, 1.2910169468537267, 0.9884122883123859, 1.0293544602598663, 0.8524521569584445, 1.0162427100473406, 0.6078608217122456, 1.3896146981662993, 1.0199457416998807, 1.3396257965274851, 1.2038441645657474, 0.8465777109422151, 0.843930204085858, 1.0386400679963257, 0.898068850714402, 0.6887626831367366, 0.46621353826004197, 0.4928312987446777, 0.4577545731612824, 0.5569853574667402, 0.44537668958145316, 0.444791900623123, 0.5167791931999045, 0.4334702732256977, 0.4310263199374766, 0.4302027637684182, 0.5061887415619277, 0.42905818442657007, 0.42810811403952664, 0.4263032920799511, 0.4233494683881343, 0.4231098155007117, 0.4166096931806875, 0.41643090805344113, 0.4100161984560249, 0.4087836661549412, 0.40777188664199904, 0.4074749974392594, 0.40733410659683894, 0.5538213190096329, 0.40590864695144196, 0.40389869778008136, 0.4304349257324242, 0.5867487177742731, 0.43230219677162207, 0.5497385727931078, 0.45881329392080794, 0.7633842199048947, 0.5397268821368273, 0.5548191561449217, 0.4987195664575288, 0.6929086347110371, 0.4861796769246654, 0.8450520604972518, 0.624317216237322, 0.6899145637167347, 0.7596248668347974, 0.6882326506981911, 0.7016273346054708, 0.8220653427568303, 0.9884122883123859, 0.8633130823777662, 0.7990586566071818, 0.9538687259896472, 0.9447881016667308, 1.2910169468537267, 0.6329824004325904, 1.3896146981662993, 1.1317500354470624, 0.7960662085182376, 1.2038441645657474, 0.9322383081903935, 1.2879286943257688, 0.5125275473267632, 0.4818711503611418, 0.4735904626473849, 0.5002717274821269, 0.4374928360013856, 0.43216547526505156, 0.4322080651035233, 0.42977483716037235, 0.4825708830396644, 0.4772738457194009, 0.4191688237891201, 0.4178282756858567, 0.5935872245739457, 0.4902949612113039, 0.41537732073883676, 0.5056851098424973, 0.4154732105208812, 0.41549132162169766, 0.4154937480198734, 0.41432752139923823, 0.41157589875568845, 0.4049330039769591, 0.4045896937338594, 0.4043430283694366, 0.40261273462646496, 0.40720050618346226, 0.46598337055332856, 0.4014357444720497, 0.8390254867139436, 0.3968036733972973, 0.5696017744082689, 0.49166831254543525, 0.9387424485289402, 0.63982270016095, 0.5021859404209594, 0.61256763682651, 1.0402848503103503, 1.3896146981662993, 0.6767449387258238, 1.3396257965274851, 0.9329491568724431, 0.9214602188981531, 0.7749581478443651, 0.8840892988363194, 0.9447881016667308, 0.9538687259896472, 1.2879286943257688, 0.7910747571429562, 0.6169768376102256, 1.2038441645657474, 1.3554119721068514, 1.0293544602598663, 0.8034423740086207, 1.0162427100473406, 1.3006599001203503, 0.9322383081903935, 0.8092308895242057, 0.9379703372287672], \"Category\": [\"Default\", \"Default\", \"Default\", \"Default\", \"Default\", \"Default\", \"Default\", \"Default\", \"Default\", \"Default\", \"Default\", \"Default\", \"Default\", \"Default\", \"Default\", \"Default\", \"Default\", \"Default\", \"Default\", \"Default\", \"Default\", \"Default\", \"Default\", \"Default\", \"Default\", \"Default\", \"Default\", \"Default\", \"Default\", \"Default\", \"Topic1\", \"Topic1\", \"Topic1\", \"Topic1\", \"Topic1\", \"Topic1\", \"Topic1\", \"Topic1\", \"Topic1\", \"Topic1\", \"Topic1\", \"Topic1\", \"Topic1\", \"Topic1\", \"Topic1\", \"Topic1\", \"Topic1\", \"Topic1\", \"Topic1\", \"Topic1\", \"Topic1\", \"Topic1\", \"Topic1\", \"Topic1\", \"Topic1\", \"Topic1\", \"Topic1\", \"Topic1\", \"Topic1\", \"Topic1\", \"Topic1\", \"Topic1\", \"Topic1\", \"Topic1\", \"Topic1\", \"Topic1\", \"Topic1\", \"Topic1\", \"Topic1\", \"Topic1\", \"Topic1\", \"Topic1\", \"Topic1\", \"Topic1\", \"Topic1\", \"Topic1\", \"Topic1\", \"Topic1\", \"Topic1\", \"Topic1\", \"Topic1\", \"Topic1\", \"Topic1\", \"Topic1\", \"Topic1\", \"Topic1\", \"Topic1\", \"Topic1\", \"Topic1\", \"Topic1\", \"Topic2\", \"Topic2\", \"Topic2\", \"Topic2\", \"Topic2\", \"Topic2\", \"Topic2\", \"Topic2\", \"Topic2\", \"Topic2\", \"Topic2\", \"Topic2\", \"Topic2\", \"Topic2\", \"Topic2\", \"Topic2\", \"Topic2\", \"Topic2\", \"Topic2\", \"Topic2\", \"Topic2\", \"Topic2\", \"Topic2\", \"Topic2\", \"Topic2\", \"Topic2\", \"Topic2\", \"Topic2\", \"Topic2\", \"Topic2\", \"Topic2\", \"Topic2\", \"Topic2\", \"Topic2\", \"Topic2\", \"Topic2\", \"Topic2\", \"Topic2\", \"Topic2\", \"Topic2\", \"Topic2\", \"Topic2\", \"Topic2\", \"Topic2\", \"Topic2\", \"Topic2\", \"Topic2\", \"Topic2\", \"Topic2\", \"Topic2\", \"Topic2\", \"Topic2\", \"Topic2\", \"Topic2\", \"Topic2\", \"Topic2\", \"Topic2\", \"Topic2\", \"Topic3\", \"Topic3\", \"Topic3\", \"Topic3\", \"Topic3\", \"Topic3\", \"Topic3\", \"Topic3\", \"Topic3\", \"Topic3\", \"Topic3\", \"Topic3\", \"Topic3\", \"Topic3\", \"Topic3\", \"Topic3\", \"Topic3\", \"Topic3\", \"Topic3\", \"Topic3\", \"Topic3\", \"Topic3\", \"Topic3\", \"Topic3\", \"Topic3\", \"Topic3\", \"Topic3\", \"Topic3\", \"Topic3\", \"Topic3\", \"Topic3\", \"Topic3\", \"Topic3\", \"Topic3\", \"Topic3\", \"Topic3\", \"Topic3\", \"Topic3\", \"Topic3\", \"Topic3\", \"Topic3\", \"Topic3\", \"Topic3\", \"Topic3\", \"Topic3\", \"Topic3\", \"Topic3\", \"Topic3\", \"Topic3\", \"Topic3\", \"Topic3\", \"Topic3\", \"Topic3\", \"Topic3\", \"Topic3\", \"Topic3\", \"Topic3\", \"Topic3\", \"Topic4\", \"Topic4\", \"Topic4\", \"Topic4\", \"Topic4\", \"Topic4\", \"Topic4\", \"Topic4\", \"Topic4\", \"Topic4\", \"Topic4\", \"Topic4\", \"Topic4\", \"Topic4\", \"Topic4\", \"Topic4\", \"Topic4\", \"Topic4\", \"Topic4\", \"Topic4\", \"Topic4\", \"Topic4\", \"Topic4\", \"Topic4\", \"Topic4\", \"Topic4\", \"Topic4\", \"Topic4\", \"Topic4\", \"Topic4\", \"Topic4\", \"Topic4\", \"Topic4\", \"Topic4\", \"Topic4\", \"Topic4\", \"Topic4\", \"Topic4\", \"Topic4\", \"Topic4\", \"Topic4\", \"Topic4\", \"Topic4\", \"Topic4\", \"Topic4\", \"Topic4\", \"Topic4\", \"Topic4\", \"Topic4\", \"Topic4\", \"Topic4\", \"Topic4\", \"Topic4\", \"Topic4\", \"Topic4\", \"Topic4\", \"Topic4\", \"Topic4\"], \"logprob\": [30.0, 29.0, 28.0, 27.0, 26.0, 25.0, 24.0, 23.0, 22.0, 21.0, 20.0, 19.0, 18.0, 17.0, 16.0, 15.0, 14.0, 13.0, 12.0, 11.0, 10.0, 9.0, 8.0, 7.0, 6.0, 5.0, 4.0, 3.0, 2.0, 1.0, -6.7745, -6.8772, -6.8523, -6.695, -6.2447, -6.9165, -6.931, -6.978, -6.796, -7.0089, -7.0212, -7.0272, -7.0778, -7.0871, -7.0981, -7.1094, -7.1208, -7.1271, -7.1185, -6.502, -7.1494, -6.9117, -7.1598, -7.1661, -7.1692, -6.7958, -7.1747, -6.8236, -7.191, -7.1935, -6.8843, -6.8761, -6.6127, -6.9185, -6.321, -6.8943, -6.5776, -6.6162, -6.6281, -6.3993, -6.7905, -6.7527, -6.4299, -6.6212, -6.6886, -6.4531, -6.5802, -6.466, -6.4839, -6.7047, -6.7737, -6.7471, -6.627, -6.6289, -6.6473, -6.7588, -6.7261, -6.7649, -6.7826, -6.7833, -6.661, -6.6911, -6.7462, -6.7817, -6.563, -6.8258, -6.8368, -6.8471, -6.907, -6.7192, -6.9815, -6.9828, -7.004, -7.0315, -7.0753, -7.081, -6.9569, -7.0854, -7.0023, -7.0895, -7.095, -7.0707, -6.9091, -7.0998, -7.1127, -7.0264, -7.1216, -7.1307, -7.1309, -7.1429, -6.9526, -6.8423, -6.2285, -6.7403, -6.793, -6.2789, -6.7064, -6.5768, -6.9469, -6.8488, -6.4833, -6.4334, -6.4706, -6.5244, -6.5057, -6.637, -6.631, -6.7208, -6.7031, -6.8826, -6.6051, -6.7132, -6.6539, -6.7091, -6.7912, -6.7947, -6.7873, -6.8056, -6.4217, -6.8404, -6.7901, -6.8762, -6.6994, -6.9307, -6.9332, -6.7853, -6.9859, -6.9978, -7.0007, -6.8399, -7.006, -7.0099, -7.0199, -7.0339, -7.0379, -7.0687, -7.0701, -7.104, -7.1089, -7.1137, -7.1159, -7.1194, -6.8124, -7.1236, -7.1358, -7.0732, -6.7644, -7.072, -6.853, -7.0195, -6.6118, -6.8976, -6.877, -6.9605, -6.7204, -6.9833, -6.5936, -6.8175, -6.7627, -6.7088, -6.8294, -6.8282, -6.777, -6.7124, -6.7731, -6.8008, -6.7524, -6.7762, -6.6908, -6.9017, -6.7315, -6.8124, -6.862, -6.8337, -6.8571, -6.8564, -6.6365, -6.7473, -6.7834, -6.7875, -6.9367, -6.9612, -6.9632, -6.9743, -6.862, -6.8839, -7.027, -7.0333, -6.6849, -6.8783, -7.0459, -6.8493, -7.0477, -7.0484, -7.0487, -7.0517, -7.0662, -7.1025, -7.105, -7.1065, -7.115, -7.104, -6.9728, -7.1224, -6.3933, -7.148, -6.8034, -6.9437, -6.4588, -6.7762, -6.9549, -6.8276, -6.4928, -6.3174, -6.7788, -6.4517, -6.6598, -6.6723, -6.7541, -6.7077, -6.681, -6.6792, -6.6074, -6.7841, -6.8719, -6.7009, -6.7034, -6.7722, -6.8218, -6.7914, -6.7728, -6.8253, -6.8373, -6.8367], \"loglift\": [30.0, 29.0, 28.0, 27.0, 26.0, 25.0, 24.0, 23.0, 22.0, 21.0, 20.0, 19.0, 18.0, 17.0, 16.0, 15.0, 14.0, 13.0, 12.0, 11.0, 10.0, 9.0, 8.0, 7.0, 6.0, 5.0, 4.0, 3.0, 2.0, 1.0, 0.7398, 0.6987, 0.6962, 0.6842, 0.6834, 0.6826, 0.6759, 0.6559, 0.6458, 0.642, 0.6368, 0.6333, 0.6101, 0.6063, 0.601, 0.5953, 0.5902, 0.5871, 0.5865, 0.582, 0.5744, 0.5724, 0.5717, 0.5678, 0.5666, 0.5651, 0.564, 0.5559, 0.5559, 0.5547, 0.5485, 0.544, 0.5012, 0.5349, 0.4503, 0.5253, 0.4551, 0.4616, 0.4643, 0.3296, 0.468, 0.4473, 0.2613, 0.3432, 0.3761, 0.1866, 0.277, 0.1366, 0.1483, 0.3415, 0.3995, 0.3237, 0.0825, -0.0629, -0.0563, 0.0968, -0.0841, 0.1012, 0.1765, 0.092, 0.843, 0.8301, 0.8075, 0.7925, 0.7797, 0.7734, 0.7691, 0.7642, 0.7373, 0.7306, 0.7021, 0.7009, 0.6902, 0.6789, 0.6575, 0.654, 0.6531, 0.652, 0.6494, 0.6491, 0.647, 0.6466, 0.645, 0.6447, 0.6383, 0.6335, 0.6322, 0.628, 0.6278, 0.6228, 0.6058, 0.5943, 0.4316, 0.514, 0.5231, 0.312, 0.4779, 0.407, 0.5747, 0.5028, 0.2456, 0.2086, 0.1615, 0.1668, 0.1339, 0.2697, 0.2351, 0.3339, 0.1759, 0.5102, -0.0391, 0.1621, -0.0513, 0.0005, 0.2704, 0.27, 0.0698, 0.1969, 0.8462, 0.8177, 0.8125, 0.8003, 0.7808, 0.7732, 0.7719, 0.7698, 0.745, 0.7388, 0.7378, 0.736, 0.7352, 0.7335, 0.7278, 0.7207, 0.7173, 0.702, 0.701, 0.6825, 0.6807, 0.6784, 0.6769, 0.6737, 0.6735, 0.6731, 0.6658, 0.6648, 0.6638, 0.6617, 0.6404, 0.6547, 0.5533, 0.6141, 0.6072, 0.6303, 0.5415, 0.6329, 0.4698, 0.5486, 0.5036, 0.4612, 0.4392, 0.4212, 0.314, 0.1943, 0.2689, 0.3185, 0.1898, 0.1756, -0.0512, 0.4506, -0.1655, -0.0412, 0.2611, -0.1242, 0.1081, -0.2144, 0.9269, 0.8778, 0.8591, 0.8001, 0.785, 0.7728, 0.7707, 0.7653, 0.7617, 0.7508, 0.7375, 0.7345, 0.7317, 0.7295, 0.7277, 0.7276, 0.7256, 0.7249, 0.7246, 0.7244, 0.7166, 0.6966, 0.6949, 0.694, 0.6898, 0.6895, 0.6859, 0.6853, 0.6773, 0.6713, 0.6544, 0.6613, 0.4995, 0.5654, 0.629, 0.5575, 0.3627, 0.2486, 0.5067, 0.1509, 0.3046, 0.3046, 0.3959, 0.3105, 0.2709, 0.2631, 0.0346, 0.3453, 0.5061, 0.0086, -0.1125, 0.0939, 0.2921, 0.0875, -0.1406, 0.1399, 0.2694, 0.1223]}, \"token.table\": {\"Topic\": [2, 1, 1], \"Freq\": [0.7906095393102555, 1.0335616307461821, 0.88358733702622], \"Term\": [\"find\", \"old\", \"time\"]}, \"R\": 30, \"lambda.step\": 0.01, \"plot.opts\": {\"xlab\": \"PC1\", \"ylab\": \"PC2\"}, \"topic.order\": [1, 4, 3, 2]};\n",
              "\n",
              "function LDAvis_load_lib(url, callback){\n",
              "  var s = document.createElement('script');\n",
              "  s.src = url;\n",
              "  s.async = true;\n",
              "  s.onreadystatechange = s.onload = callback;\n",
              "  s.onerror = function(){console.warn(\"failed to load library \" + url);};\n",
              "  document.getElementsByTagName(\"head\")[0].appendChild(s);\n",
              "}\n",
              "\n",
              "if(typeof(LDAvis) !== \"undefined\"){\n",
              "   // already loaded: just create the visualization\n",
              "   !function(LDAvis){\n",
              "       new LDAvis(\"#\" + \"ldavis_el581397474135148327355290232\", ldavis_el581397474135148327355290232_data);\n",
              "   }(LDAvis);\n",
              "}else if(typeof define === \"function\" && define.amd){\n",
              "   // require.js is available: use it to load d3/LDAvis\n",
              "   require.config({paths: {d3: \"https://d3js.org/d3.v5\"}});\n",
              "   require([\"d3\"], function(d3){\n",
              "      window.d3 = d3;\n",
              "      LDAvis_load_lib(\"https://cdn.jsdelivr.net/gh/bmabey/pyLDAvis@3.2.2/pyLDAvis/js/ldavis.v3.0.0.js\", function(){\n",
              "        new LDAvis(\"#\" + \"ldavis_el581397474135148327355290232\", ldavis_el581397474135148327355290232_data);\n",
              "      });\n",
              "    });\n",
              "}else{\n",
              "    // require.js not available: dynamically load d3 & LDAvis\n",
              "    LDAvis_load_lib(\"https://d3js.org/d3.v5.js\", function(){\n",
              "         LDAvis_load_lib(\"https://cdn.jsdelivr.net/gh/bmabey/pyLDAvis@3.2.2/pyLDAvis/js/ldavis.v3.0.0.js\", function(){\n",
              "                 new LDAvis(\"#\" + \"ldavis_el581397474135148327355290232\", ldavis_el581397474135148327355290232_data);\n",
              "            })\n",
              "         });\n",
              "}\n",
              "</script>"
            ],
            "text/plain": [
              "PreparedData(topic_coordinates=              x         y  topics  cluster       Freq\n",
              "topic                                                \n",
              "0     -0.019301  0.008620       1        1  28.903253\n",
              "3     -0.001411 -0.020759       2        1  25.854850\n",
              "2      0.014983  0.007298       3        1  23.037622\n",
              "1      0.005728  0.004841       4        1  22.204275, topic_info=          Term      Freq     Total Category  logprob  loglift\n",
              "997      chris  0.000000  0.000000  Default  30.0000  30.0000\n",
              "121       nick  0.000000  0.000000  Default  29.0000  29.0000\n",
              "1631  military  0.000000  0.000000  Default  28.0000  28.0000\n",
              "696      emily  0.000000  0.000000  Default  27.0000  27.0000\n",
              "1044   melanie  0.000000  0.000000  Default  26.0000  26.0000\n",
              "...        ...       ...       ...      ...      ...      ...\n",
              "735    romance  0.246294  1.016243   Topic4  -6.7914   0.0875\n",
              "132       love  0.250913  1.300660   Topic4  -6.7728  -0.1406\n",
              "113       true  0.238074  0.932238   Topic4  -6.8253   0.1399\n",
              "128       turn  0.235250  0.809231   Topic4  -6.8373   0.2694\n",
              "163     school  0.235373  0.937970   Topic4  -6.8367   0.1223\n",
              "\n",
              "[264 rows x 6 columns], token_table=      Topic      Freq  Term\n",
              "term                       \n",
              "576       2  0.790610  find\n",
              "182       1  1.033562   old\n",
              "57        1  0.883587  time, R=30, lambda_step=0.01, plot_opts={'xlab': 'PC1', 'ylab': 'PC2'}, topic_order=[1, 4, 3, 2])"
            ]
          },
          "metadata": {
            "tags": []
          },
          "execution_count": 44
        }
      ]
    },
    {
      "cell_type": "code",
      "metadata": {
        "colab": {
          "base_uri": "https://localhost:8080/",
          "height": 187
        },
        "id": "18lloDMkIVaZ",
        "outputId": "1a3abfb2-d7d2-4206-d3dc-2dc03035f39e"
      },
      "source": [
        "# back to the plots data set - which is a list\n",
        "plots[:2]"
      ],
      "execution_count": 47,
      "outputs": [
        {
          "output_type": "display_data",
          "data": {
            "text/html": [
              "\n",
              "  <style>\n",
              "    pre {\n",
              "        white-space: pre-wrap;\n",
              "    }\n",
              "  </style>\n",
              "  "
            ],
            "text/plain": [
              "<IPython.core.display.HTML object>"
            ]
          },
          "metadata": {
            "tags": []
          }
        },
        {
          "output_type": "execute_result",
          "data": {
            "text/plain": [
              "['A ski-shop owner reluctantly moves himself, his wife, and his daughter in to an estate as live-in help for an elderly widow. While struggling to balance his career and family life, he has recurring dreams about an angel.',\n",
              " 'Television movie updating Charles Dickens story, \"A Christmas Carol.\" Businesswoman Ebenita Scrooge treats her employees and customers poorly. She has no time for Christmas or the holiday spirit. On Christmas Eve, she is visited by the ghost of her dead partner Maude Marley and then by other spirits who remind her of her happy past and chronicle the bitterness and greed that have taken over her life. At last, she is shown her own death and funeral. No one is there to mourn her. This revelation shocks her into opening her heart and her checkbook.']"
            ]
          },
          "metadata": {
            "tags": []
          },
          "execution_count": 47
        }
      ]
    },
    {
      "cell_type": "code",
      "metadata": {
        "colab": {
          "base_uri": "https://localhost:8080/",
          "height": 17
        },
        "id": "Y7XMzFYjLEyB",
        "outputId": "41a90aa9-5ca8-42f9-d48e-a8dc4c879383"
      },
      "source": [
        "plots_list = [plot.split() for plot in plots]"
      ],
      "execution_count": 58,
      "outputs": [
        {
          "output_type": "display_data",
          "data": {
            "text/html": [
              "\n",
              "  <style>\n",
              "    pre {\n",
              "        white-space: pre-wrap;\n",
              "    }\n",
              "  </style>\n",
              "  "
            ],
            "text/plain": [
              "<IPython.core.display.HTML object>"
            ]
          },
          "metadata": {
            "tags": []
          }
        }
      ]
    },
    {
      "cell_type": "code",
      "metadata": {
        "colab": {
          "base_uri": "https://localhost:8080/",
          "height": 1000
        },
        "id": "QhiyIeSLLWW8",
        "outputId": "f1bed4a6-610f-4c73-f320-ad738954e9df"
      },
      "source": [
        "plots_list[:2]"
      ],
      "execution_count": 59,
      "outputs": [
        {
          "output_type": "display_data",
          "data": {
            "text/html": [
              "\n",
              "  <style>\n",
              "    pre {\n",
              "        white-space: pre-wrap;\n",
              "    }\n",
              "  </style>\n",
              "  "
            ],
            "text/plain": [
              "<IPython.core.display.HTML object>"
            ]
          },
          "metadata": {
            "tags": []
          }
        },
        {
          "output_type": "execute_result",
          "data": {
            "text/plain": [
              "[['A',\n",
              "  'ski-shop',\n",
              "  'owner',\n",
              "  'reluctantly',\n",
              "  'moves',\n",
              "  'himself,',\n",
              "  'his',\n",
              "  'wife,',\n",
              "  'and',\n",
              "  'his',\n",
              "  'daughter',\n",
              "  'in',\n",
              "  'to',\n",
              "  'an',\n",
              "  'estate',\n",
              "  'as',\n",
              "  'live-in',\n",
              "  'help',\n",
              "  'for',\n",
              "  'an',\n",
              "  'elderly',\n",
              "  'widow.',\n",
              "  'While',\n",
              "  'struggling',\n",
              "  'to',\n",
              "  'balance',\n",
              "  'his',\n",
              "  'career',\n",
              "  'and',\n",
              "  'family',\n",
              "  'life,',\n",
              "  'he',\n",
              "  'has',\n",
              "  'recurring',\n",
              "  'dreams',\n",
              "  'about',\n",
              "  'an',\n",
              "  'angel.'],\n",
              " ['Television',\n",
              "  'movie',\n",
              "  'updating',\n",
              "  'Charles',\n",
              "  'Dickens',\n",
              "  'story,',\n",
              "  '\"A',\n",
              "  'Christmas',\n",
              "  'Carol.\"',\n",
              "  'Businesswoman',\n",
              "  'Ebenita',\n",
              "  'Scrooge',\n",
              "  'treats',\n",
              "  'her',\n",
              "  'employees',\n",
              "  'and',\n",
              "  'customers',\n",
              "  'poorly.',\n",
              "  'She',\n",
              "  'has',\n",
              "  'no',\n",
              "  'time',\n",
              "  'for',\n",
              "  'Christmas',\n",
              "  'or',\n",
              "  'the',\n",
              "  'holiday',\n",
              "  'spirit.',\n",
              "  'On',\n",
              "  'Christmas',\n",
              "  'Eve,',\n",
              "  'she',\n",
              "  'is',\n",
              "  'visited',\n",
              "  'by',\n",
              "  'the',\n",
              "  'ghost',\n",
              "  'of',\n",
              "  'her',\n",
              "  'dead',\n",
              "  'partner',\n",
              "  'Maude',\n",
              "  'Marley',\n",
              "  'and',\n",
              "  'then',\n",
              "  'by',\n",
              "  'other',\n",
              "  'spirits',\n",
              "  'who',\n",
              "  'remind',\n",
              "  'her',\n",
              "  'of',\n",
              "  'her',\n",
              "  'happy',\n",
              "  'past',\n",
              "  'and',\n",
              "  'chronicle',\n",
              "  'the',\n",
              "  'bitterness',\n",
              "  'and',\n",
              "  'greed',\n",
              "  'that',\n",
              "  'have',\n",
              "  'taken',\n",
              "  'over',\n",
              "  'her',\n",
              "  'life.',\n",
              "  'At',\n",
              "  'last,',\n",
              "  'she',\n",
              "  'is',\n",
              "  'shown',\n",
              "  'her',\n",
              "  'own',\n",
              "  'death',\n",
              "  'and',\n",
              "  'funeral.',\n",
              "  'No',\n",
              "  'one',\n",
              "  'is',\n",
              "  'there',\n",
              "  'to',\n",
              "  'mourn',\n",
              "  'her.',\n",
              "  'This',\n",
              "  'revelation',\n",
              "  'shocks',\n",
              "  'her',\n",
              "  'into',\n",
              "  'opening',\n",
              "  'her',\n",
              "  'heart',\n",
              "  'and',\n",
              "  'her',\n",
              "  'checkbook.']]"
            ]
          },
          "metadata": {
            "tags": []
          },
          "execution_count": 59
        }
      ]
    },
    {
      "cell_type": "code",
      "metadata": {
        "colab": {
          "base_uri": "https://localhost:8080/",
          "height": 17
        },
        "id": "0i952PS6MPbl",
        "outputId": "8b2c385c-ab51-4770-80fe-6555fcf10b4e"
      },
      "source": [
        "from gensim.models import Word2Vec\n",
        "word2vec_model = Word2Vec(plots_list, min_count=1)"
      ],
      "execution_count": 61,
      "outputs": [
        {
          "output_type": "display_data",
          "data": {
            "text/html": [
              "\n",
              "  <style>\n",
              "    pre {\n",
              "        white-space: pre-wrap;\n",
              "    }\n",
              "  </style>\n",
              "  "
            ],
            "text/plain": [
              "<IPython.core.display.HTML object>"
            ]
          },
          "metadata": {
            "tags": []
          }
        }
      ]
    },
    {
      "cell_type": "code",
      "metadata": {
        "colab": {
          "base_uri": "https://localhost:8080/",
          "height": 34
        },
        "id": "bYcEBzwJMwy4",
        "outputId": "653f6214-93ee-4f81-c4d5-5c789f31a06c"
      },
      "source": [
        "word2vec_model"
      ],
      "execution_count": 62,
      "outputs": [
        {
          "output_type": "display_data",
          "data": {
            "text/html": [
              "\n",
              "  <style>\n",
              "    pre {\n",
              "        white-space: pre-wrap;\n",
              "    }\n",
              "  </style>\n",
              "  "
            ],
            "text/plain": [
              "<IPython.core.display.HTML object>"
            ]
          },
          "metadata": {
            "tags": []
          }
        },
        {
          "output_type": "execute_result",
          "data": {
            "text/plain": [
              "<gensim.models.word2vec.Word2Vec at 0x7f197a6563d0>"
            ]
          },
          "metadata": {
            "tags": []
          },
          "execution_count": 62
        }
      ]
    },
    {
      "cell_type": "code",
      "metadata": {
        "colab": {
          "base_uri": "https://localhost:8080/",
          "height": 17
        },
        "id": "1nRalOzTM8cB",
        "outputId": "bca58bae-affa-4c93-befc-2592777dd73d"
      },
      "source": [
        "# my version of 'sentences' is 'plots_list'\n",
        "# going to use full memory version not iterator\n",
        "assert gensim.models.doc2vec.FAST_VERSION > -1"
      ],
      "execution_count": 63,
      "outputs": [
        {
          "output_type": "display_data",
          "data": {
            "text/html": [
              "\n",
              "  <style>\n",
              "    pre {\n",
              "        white-space: pre-wrap;\n",
              "    }\n",
              "  </style>\n",
              "  "
            ],
            "text/plain": [
              "<IPython.core.display.HTML object>"
            ]
          },
          "metadata": {
            "tags": []
          }
        }
      ]
    },
    {
      "cell_type": "code",
      "metadata": {
        "colab": {
          "base_uri": "https://localhost:8080/",
          "height": 51
        },
        "id": "wCUzHoZMNgDR",
        "outputId": "4f610cbe-6ee1-46f8-ab57-e92f2f079108"
      },
      "source": [
        "%%time\n",
        "import multiprocessing\n",
        "import os\n",
        "cores = multiprocessing.cpu_count()"
      ],
      "execution_count": 64,
      "outputs": [
        {
          "output_type": "display_data",
          "data": {
            "text/html": [
              "\n",
              "  <style>\n",
              "    pre {\n",
              "        white-space: pre-wrap;\n",
              "    }\n",
              "  </style>\n",
              "  "
            ],
            "text/plain": [
              "<IPython.core.display.HTML object>"
            ]
          },
          "metadata": {
            "tags": []
          }
        },
        {
          "output_type": "stream",
          "text": [
            "CPU times: user 71 µs, sys: 7 µs, total: 78 µs\n",
            "Wall time: 451 µs\n"
          ],
          "name": "stdout"
        }
      ]
    },
    {
      "cell_type": "code",
      "metadata": {
        "colab": {
          "base_uri": "https://localhost:8080/",
          "height": 34
        },
        "id": "ZihPKUI6Nnlw",
        "outputId": "967a5e62-8260-4076-dd2b-7bd5a8a88e15"
      },
      "source": [
        "if not os.path.exists('models/word2vec.model'):\n",
        "  print('start training word2vec.model')\n",
        "  sentences = plots_list\n",
        "  word2vec_model = gensim.models.Word2Vec(sentences, min_count=2, size=100, workers=cores)\n",
        "  if not os.path.exists('models'):\n",
        "    os.makedirs('models')\n",
        "    word2vec_model.save('models/word2vec.model')\n",
        "  else:\n",
        "    word2vec_model.save('models/word2vec.model')\n",
        "else:\n",
        "  word2vec_model = Word2Vec.load('models/word2vec.model')"
      ],
      "execution_count": 67,
      "outputs": [
        {
          "output_type": "display_data",
          "data": {
            "text/html": [
              "\n",
              "  <style>\n",
              "    pre {\n",
              "        white-space: pre-wrap;\n",
              "    }\n",
              "  </style>\n",
              "  "
            ],
            "text/plain": [
              "<IPython.core.display.HTML object>"
            ]
          },
          "metadata": {
            "tags": []
          }
        },
        {
          "output_type": "stream",
          "text": [
            "start training word2vec.model\n"
          ],
          "name": "stdout"
        }
      ]
    },
    {
      "cell_type": "code",
      "metadata": {
        "colab": {
          "base_uri": "https://localhost:8080/",
          "height": 374
        },
        "id": "hqZ05cLXOGNZ",
        "outputId": "e6ff3d87-9783-4cb3-ae54-37a344735308"
      },
      "source": [
        "word2vec_model.wv.word_vec('Christmas')"
      ],
      "execution_count": 69,
      "outputs": [
        {
          "output_type": "display_data",
          "data": {
            "text/html": [
              "\n",
              "  <style>\n",
              "    pre {\n",
              "        white-space: pre-wrap;\n",
              "    }\n",
              "  </style>\n",
              "  "
            ],
            "text/plain": [
              "<IPython.core.display.HTML object>"
            ]
          },
          "metadata": {
            "tags": []
          }
        },
        {
          "output_type": "execute_result",
          "data": {
            "text/plain": [
              "array([ 0.1970382 , -0.21689399, -0.00390408, -0.2369994 ,  0.02496545,\n",
              "        0.06454246,  0.487685  ,  0.18095753,  0.01666983, -0.2974786 ,\n",
              "        0.09059469,  0.15560105,  0.10792081,  0.31166247, -0.26600683,\n",
              "       -0.262913  ,  0.05723181, -0.07101402, -0.11714032, -0.19389135,\n",
              "        0.16362998, -0.7988008 ,  0.32564405, -0.27396655, -0.01914163,\n",
              "        0.0913619 , -0.11726357, -0.48127845,  0.21724996,  0.24758317,\n",
              "       -0.59108377, -0.26935256, -0.29871213, -0.07328557, -0.0928225 ,\n",
              "       -0.23772073,  0.45015377, -0.21111883,  0.35377714,  0.12653787,\n",
              "       -0.30799347, -0.18911698, -0.670812  ,  0.00102891, -0.19020279,\n",
              "        0.12648304, -0.14020555,  0.08863872, -0.02151071,  0.37601885,\n",
              "        0.12073237,  0.06452664, -0.04083474, -0.9545262 , -0.11062787,\n",
              "        0.01797774,  0.0299483 , -0.57229155, -0.1631023 ,  0.6230042 ,\n",
              "        0.36177853,  0.6602794 , -0.12961468, -0.08078633,  0.5503976 ,\n",
              "        0.10455938, -0.03992677,  0.13605063,  0.15475224,  0.16301264,\n",
              "       -0.06365604, -0.28397217, -0.04094116,  0.42016673, -0.17610653,\n",
              "       -0.22815421, -0.36484846,  0.31867224,  0.3973786 ,  0.20287049,\n",
              "        0.08198481,  0.21937743, -0.39798024, -0.04313363, -0.02303562,\n",
              "       -0.24790393, -0.47466615, -0.07051711,  0.17643438, -0.07897141,\n",
              "       -0.2850286 , -0.259615  ,  0.380331  , -0.1664867 , -0.11908562,\n",
              "        0.31909856, -0.0260333 , -0.30180266, -0.38921   ,  0.02407674],\n",
              "      dtype=float32)"
            ]
          },
          "metadata": {
            "tags": []
          },
          "execution_count": 69
        }
      ]
    },
    {
      "cell_type": "code",
      "metadata": {
        "colab": {
          "base_uri": "https://localhost:8080/",
          "height": 187
        },
        "id": "VpPPQ_3JOwHG",
        "outputId": "82d38fd8-b1cd-4fbf-cc97-6fd361723069"
      },
      "source": [
        "word2vec_model.wv.most_similar(positive=['family', 'town'], negative=['death'], topn=10)"
      ],
      "execution_count": 72,
      "outputs": [
        {
          "output_type": "display_data",
          "data": {
            "text/html": [
              "\n",
              "  <style>\n",
              "    pre {\n",
              "        white-space: pre-wrap;\n",
              "    }\n",
              "  </style>\n",
              "  "
            ],
            "text/plain": [
              "<IPython.core.display.HTML object>"
            ]
          },
          "metadata": {
            "tags": []
          }
        },
        {
          "output_type": "execute_result",
          "data": {
            "text/plain": [
              "[('they', 0.9957637190818787),\n",
              " ('She', 0.9957614541053772),\n",
              " ('find', 0.9956477284431458),\n",
              " ('for', 0.9956398606300354),\n",
              " ('time', 0.9956284761428833),\n",
              " ('Christmas', 0.9956049919128418),\n",
              " ('has', 0.9956027865409851),\n",
              " ('his', 0.9955979585647583),\n",
              " ('their', 0.9955976009368896),\n",
              " ('the', 0.9955816864967346)]"
            ]
          },
          "metadata": {
            "tags": []
          },
          "execution_count": 72
        }
      ]
    },
    {
      "cell_type": "code",
      "metadata": {
        "colab": {
          "base_uri": "https://localhost:8080/",
          "height": 17
        },
        "id": "ZYi1XRb0Pysa",
        "outputId": "0ae0f526-0ed6-41b3-d596-575443f5ce15"
      },
      "source": [
        "from gensim.models.doc2vec import Doc2Vec, TaggedDocument"
      ],
      "execution_count": 78,
      "outputs": [
        {
          "output_type": "display_data",
          "data": {
            "text/html": [
              "\n",
              "  <style>\n",
              "    pre {\n",
              "        white-space: pre-wrap;\n",
              "    }\n",
              "  </style>\n",
              "  "
            ],
            "text/plain": [
              "<IPython.core.display.HTML object>"
            ]
          },
          "metadata": {
            "tags": []
          }
        }
      ]
    },
    {
      "cell_type": "code",
      "metadata": {
        "colab": {
          "base_uri": "https://localhost:8080/",
          "height": 17
        },
        "id": "khOYmGluREde",
        "outputId": "f7ccf3af-922c-49c5-b998-e7e99feb6f5e"
      },
      "source": [
        "# label each of my stories into one of the 4 topic types\n",
        "# so create data frame w/ plot sum in one column and topic num in next col"
      ],
      "execution_count": 79,
      "outputs": [
        {
          "output_type": "display_data",
          "data": {
            "text/html": [
              "\n",
              "  <style>\n",
              "    pre {\n",
              "        white-space: pre-wrap;\n",
              "    }\n",
              "  </style>\n",
              "  "
            ],
            "text/plain": [
              "<IPython.core.display.HTML object>"
            ]
          },
          "metadata": {
            "tags": []
          }
        }
      ]
    },
    {
      "cell_type": "code",
      "metadata": {
        "colab": {
          "base_uri": "https://localhost:8080/",
          "height": 17
        },
        "id": "jiLV6IWvTIn8",
        "outputId": "a7e4eced-5301-47e2-89bb-0ed1da9ad612"
      },
      "source": [
        "# to iterate\n",
        "class MyDocs(object):\n",
        "  def __iter__(self):\n",
        "    for i in range(len(plots_list)):\n",
        "      yield TaggedDocument(plots_list[i]) ##there are no tags here - need to add\n",
        "      ## create df and read in df using tags"
      ],
      "execution_count": 81,
      "outputs": [
        {
          "output_type": "display_data",
          "data": {
            "text/html": [
              "\n",
              "  <style>\n",
              "    pre {\n",
              "        white-space: pre-wrap;\n",
              "    }\n",
              "  </style>\n",
              "  "
            ],
            "text/plain": [
              "<IPython.core.display.HTML object>"
            ]
          },
          "metadata": {
            "tags": []
          }
        }
      ]
    },
    {
      "cell_type": "code",
      "metadata": {
        "colab": {
          "base_uri": "https://localhost:8080/",
          "height": 511
        },
        "id": "cFtrtp-wUbLj",
        "outputId": "f93f2363-918a-4774-81de-9701a0bc0fad"
      },
      "source": [
        "%%time\n",
        "\n",
        "if not os.path.exists('models/doc2vec.model'):\n",
        "    print(\"start traing doc2vec model...\")\n",
        "    documents = MyDocs()\n",
        "    doc2vec_model = Doc2Vec(dm=1, dbow_words=1, vector_size=100, window=5, min_count=10, workers=cores)\n",
        "    doc2vec_model.build_vocab(documents)\n",
        "    doc2vec_model.train(documents, total_examples=doc2vec_model.corpus_count, epochs=doc2vec_model.epochs)\n",
        "    if not os.path.exists('models'):\n",
        "        os.makedirs('models')\n",
        "        doc2vec_model.save('models/doc2vec.model')\n",
        "    else:\n",
        "        doc2vec_model.save('models/doc2vec.model')\n",
        "else:\n",
        "    doc2vec_model = Doc2Vec.load('models/doc2vec.model')"
      ],
      "execution_count": 82,
      "outputs": [
        {
          "output_type": "display_data",
          "data": {
            "text/html": [
              "\n",
              "  <style>\n",
              "    pre {\n",
              "        white-space: pre-wrap;\n",
              "    }\n",
              "  </style>\n",
              "  "
            ],
            "text/plain": [
              "<IPython.core.display.HTML object>"
            ]
          },
          "metadata": {
            "tags": []
          }
        },
        {
          "output_type": "stream",
          "text": [
            "start traing doc2vec model...\n"
          ],
          "name": "stdout"
        },
        {
          "output_type": "error",
          "ename": "TypeError",
          "evalue": "ignored",
          "traceback": [
            "\u001b[0;31m---------------------------------------------------------------------------\u001b[0m",
            "\u001b[0;31mTypeError\u001b[0m                                 Traceback (most recent call last)",
            "\u001b[0;32m<ipython-input-82-8a724498c9f1>\u001b[0m in \u001b[0;36m<module>\u001b[0;34m()\u001b[0m\n\u001b[0;32m----> 1\u001b[0;31m \u001b[0mget_ipython\u001b[0m\u001b[0;34m(\u001b[0m\u001b[0;34m)\u001b[0m\u001b[0;34m.\u001b[0m\u001b[0mrun_cell_magic\u001b[0m\u001b[0;34m(\u001b[0m\u001b[0;34m'time'\u001b[0m\u001b[0;34m,\u001b[0m \u001b[0;34m''\u001b[0m\u001b[0;34m,\u001b[0m \u001b[0;34m'\\nif not os.path.exists(\\'models/doc2vec.model\\'):\\n    print(\"start traing doc2vec model...\")\\n    documents = MyDocs()\\n    doc2vec_model = Doc2Vec(dm=1, dbow_words=1, vector_size=200, window=8, min_count=20, workers=cores)\\n    doc2vec_model.build_vocab(documents)\\n    doc2vec_model.train(documents, total_examples=doc2vec_model.corpus_count, epochs=doc2vec_model.epochs)\\n    if not os.path.exists(\\'models\\'):\\n        os.makedirs(\\'models\\')\\n        doc2vec_model.save(\\'models/doc2vec.model\\')\\n    else:\\n        doc2vec_model.save(\\'models/doc2vec.model\\')\\nelse:\\n    doc2vec_model = Doc2Vec.load(\\'models/doc2vec.model\\')'\u001b[0m\u001b[0;34m)\u001b[0m\u001b[0;34m\u001b[0m\u001b[0;34m\u001b[0m\u001b[0m\n\u001b[0m",
            "\u001b[0;32m/usr/local/lib/python3.7/dist-packages/IPython/core/interactiveshell.py\u001b[0m in \u001b[0;36mrun_cell_magic\u001b[0;34m(self, magic_name, line, cell)\u001b[0m\n\u001b[1;32m   2115\u001b[0m             \u001b[0mmagic_arg_s\u001b[0m \u001b[0;34m=\u001b[0m \u001b[0mself\u001b[0m\u001b[0;34m.\u001b[0m\u001b[0mvar_expand\u001b[0m\u001b[0;34m(\u001b[0m\u001b[0mline\u001b[0m\u001b[0;34m,\u001b[0m \u001b[0mstack_depth\u001b[0m\u001b[0;34m)\u001b[0m\u001b[0;34m\u001b[0m\u001b[0;34m\u001b[0m\u001b[0m\n\u001b[1;32m   2116\u001b[0m             \u001b[0;32mwith\u001b[0m \u001b[0mself\u001b[0m\u001b[0;34m.\u001b[0m\u001b[0mbuiltin_trap\u001b[0m\u001b[0;34m:\u001b[0m\u001b[0;34m\u001b[0m\u001b[0;34m\u001b[0m\u001b[0m\n\u001b[0;32m-> 2117\u001b[0;31m                 \u001b[0mresult\u001b[0m \u001b[0;34m=\u001b[0m \u001b[0mfn\u001b[0m\u001b[0;34m(\u001b[0m\u001b[0mmagic_arg_s\u001b[0m\u001b[0;34m,\u001b[0m \u001b[0mcell\u001b[0m\u001b[0;34m)\u001b[0m\u001b[0;34m\u001b[0m\u001b[0;34m\u001b[0m\u001b[0m\n\u001b[0m\u001b[1;32m   2118\u001b[0m             \u001b[0;32mreturn\u001b[0m \u001b[0mresult\u001b[0m\u001b[0;34m\u001b[0m\u001b[0;34m\u001b[0m\u001b[0m\n\u001b[1;32m   2119\u001b[0m \u001b[0;34m\u001b[0m\u001b[0m\n",
            "\u001b[0;32m<decorator-gen-60>\u001b[0m in \u001b[0;36mtime\u001b[0;34m(self, line, cell, local_ns)\u001b[0m\n",
            "\u001b[0;32m/usr/local/lib/python3.7/dist-packages/IPython/core/magic.py\u001b[0m in \u001b[0;36m<lambda>\u001b[0;34m(f, *a, **k)\u001b[0m\n\u001b[1;32m    186\u001b[0m     \u001b[0;31m# but it's overkill for just that one bit of state.\u001b[0m\u001b[0;34m\u001b[0m\u001b[0;34m\u001b[0m\u001b[0;34m\u001b[0m\u001b[0m\n\u001b[1;32m    187\u001b[0m     \u001b[0;32mdef\u001b[0m \u001b[0mmagic_deco\u001b[0m\u001b[0;34m(\u001b[0m\u001b[0marg\u001b[0m\u001b[0;34m)\u001b[0m\u001b[0;34m:\u001b[0m\u001b[0;34m\u001b[0m\u001b[0;34m\u001b[0m\u001b[0m\n\u001b[0;32m--> 188\u001b[0;31m         \u001b[0mcall\u001b[0m \u001b[0;34m=\u001b[0m \u001b[0;32mlambda\u001b[0m \u001b[0mf\u001b[0m\u001b[0;34m,\u001b[0m \u001b[0;34m*\u001b[0m\u001b[0ma\u001b[0m\u001b[0;34m,\u001b[0m \u001b[0;34m**\u001b[0m\u001b[0mk\u001b[0m\u001b[0;34m:\u001b[0m \u001b[0mf\u001b[0m\u001b[0;34m(\u001b[0m\u001b[0;34m*\u001b[0m\u001b[0ma\u001b[0m\u001b[0;34m,\u001b[0m \u001b[0;34m**\u001b[0m\u001b[0mk\u001b[0m\u001b[0;34m)\u001b[0m\u001b[0;34m\u001b[0m\u001b[0;34m\u001b[0m\u001b[0m\n\u001b[0m\u001b[1;32m    189\u001b[0m \u001b[0;34m\u001b[0m\u001b[0m\n\u001b[1;32m    190\u001b[0m         \u001b[0;32mif\u001b[0m \u001b[0mcallable\u001b[0m\u001b[0;34m(\u001b[0m\u001b[0marg\u001b[0m\u001b[0;34m)\u001b[0m\u001b[0;34m:\u001b[0m\u001b[0;34m\u001b[0m\u001b[0;34m\u001b[0m\u001b[0m\n",
            "\u001b[0;32m/usr/local/lib/python3.7/dist-packages/IPython/core/magics/execution.py\u001b[0m in \u001b[0;36mtime\u001b[0;34m(self, line, cell, local_ns)\u001b[0m\n\u001b[1;32m   1191\u001b[0m         \u001b[0;32melse\u001b[0m\u001b[0;34m:\u001b[0m\u001b[0;34m\u001b[0m\u001b[0;34m\u001b[0m\u001b[0m\n\u001b[1;32m   1192\u001b[0m             \u001b[0mst\u001b[0m \u001b[0;34m=\u001b[0m \u001b[0mclock2\u001b[0m\u001b[0;34m(\u001b[0m\u001b[0;34m)\u001b[0m\u001b[0;34m\u001b[0m\u001b[0;34m\u001b[0m\u001b[0m\n\u001b[0;32m-> 1193\u001b[0;31m             \u001b[0mexec\u001b[0m\u001b[0;34m(\u001b[0m\u001b[0mcode\u001b[0m\u001b[0;34m,\u001b[0m \u001b[0mglob\u001b[0m\u001b[0;34m,\u001b[0m \u001b[0mlocal_ns\u001b[0m\u001b[0;34m)\u001b[0m\u001b[0;34m\u001b[0m\u001b[0;34m\u001b[0m\u001b[0m\n\u001b[0m\u001b[1;32m   1194\u001b[0m             \u001b[0mend\u001b[0m \u001b[0;34m=\u001b[0m \u001b[0mclock2\u001b[0m\u001b[0;34m(\u001b[0m\u001b[0;34m)\u001b[0m\u001b[0;34m\u001b[0m\u001b[0;34m\u001b[0m\u001b[0m\n\u001b[1;32m   1195\u001b[0m             \u001b[0mout\u001b[0m \u001b[0;34m=\u001b[0m \u001b[0;32mNone\u001b[0m\u001b[0;34m\u001b[0m\u001b[0;34m\u001b[0m\u001b[0m\n",
            "\u001b[0;32m<timed exec>\u001b[0m in \u001b[0;36m<module>\u001b[0;34m()\u001b[0m\n",
            "\u001b[0;32m/usr/local/lib/python3.7/dist-packages/gensim/models/doc2vec.py\u001b[0m in \u001b[0;36mbuild_vocab\u001b[0;34m(self, documents, corpus_file, update, progress_per, keep_raw_vocab, trim_rule, **kwargs)\u001b[0m\n\u001b[1;32m   1160\u001b[0m         total_words, corpus_count = self.vocabulary.scan_vocab(\n\u001b[1;32m   1161\u001b[0m             \u001b[0mdocuments\u001b[0m\u001b[0;34m=\u001b[0m\u001b[0mdocuments\u001b[0m\u001b[0;34m,\u001b[0m \u001b[0mcorpus_file\u001b[0m\u001b[0;34m=\u001b[0m\u001b[0mcorpus_file\u001b[0m\u001b[0;34m,\u001b[0m \u001b[0mdocvecs\u001b[0m\u001b[0;34m=\u001b[0m\u001b[0mself\u001b[0m\u001b[0;34m.\u001b[0m\u001b[0mdocvecs\u001b[0m\u001b[0;34m,\u001b[0m\u001b[0;34m\u001b[0m\u001b[0;34m\u001b[0m\u001b[0m\n\u001b[0;32m-> 1162\u001b[0;31m             \u001b[0mprogress_per\u001b[0m\u001b[0;34m=\u001b[0m\u001b[0mprogress_per\u001b[0m\u001b[0;34m,\u001b[0m \u001b[0mtrim_rule\u001b[0m\u001b[0;34m=\u001b[0m\u001b[0mtrim_rule\u001b[0m\u001b[0;34m\u001b[0m\u001b[0;34m\u001b[0m\u001b[0m\n\u001b[0m\u001b[1;32m   1163\u001b[0m         )\n\u001b[1;32m   1164\u001b[0m         \u001b[0mself\u001b[0m\u001b[0;34m.\u001b[0m\u001b[0mcorpus_count\u001b[0m \u001b[0;34m=\u001b[0m \u001b[0mcorpus_count\u001b[0m\u001b[0;34m\u001b[0m\u001b[0;34m\u001b[0m\u001b[0m\n",
            "\u001b[0;32m/usr/local/lib/python3.7/dist-packages/gensim/models/doc2vec.py\u001b[0m in \u001b[0;36mscan_vocab\u001b[0;34m(self, documents, corpus_file, docvecs, progress_per, trim_rule)\u001b[0m\n\u001b[1;32m   1357\u001b[0m             \u001b[0mdocuments\u001b[0m \u001b[0;34m=\u001b[0m \u001b[0mTaggedLineDocument\u001b[0m\u001b[0;34m(\u001b[0m\u001b[0mcorpus_file\u001b[0m\u001b[0;34m)\u001b[0m\u001b[0;34m\u001b[0m\u001b[0;34m\u001b[0m\u001b[0m\n\u001b[1;32m   1358\u001b[0m \u001b[0;34m\u001b[0m\u001b[0m\n\u001b[0;32m-> 1359\u001b[0;31m         \u001b[0mtotal_words\u001b[0m\u001b[0;34m,\u001b[0m \u001b[0mcorpus_count\u001b[0m \u001b[0;34m=\u001b[0m \u001b[0mself\u001b[0m\u001b[0;34m.\u001b[0m\u001b[0m_scan_vocab\u001b[0m\u001b[0;34m(\u001b[0m\u001b[0mdocuments\u001b[0m\u001b[0;34m,\u001b[0m \u001b[0mdocvecs\u001b[0m\u001b[0;34m,\u001b[0m \u001b[0mprogress_per\u001b[0m\u001b[0;34m,\u001b[0m \u001b[0mtrim_rule\u001b[0m\u001b[0;34m)\u001b[0m\u001b[0;34m\u001b[0m\u001b[0;34m\u001b[0m\u001b[0m\n\u001b[0m\u001b[1;32m   1360\u001b[0m \u001b[0;34m\u001b[0m\u001b[0m\n\u001b[1;32m   1361\u001b[0m         logger.info(\n",
            "\u001b[0;32m/usr/local/lib/python3.7/dist-packages/gensim/models/doc2vec.py\u001b[0m in \u001b[0;36m_scan_vocab\u001b[0;34m(self, documents, docvecs, progress_per, trim_rule)\u001b[0m\n\u001b[1;32m   1284\u001b[0m         \u001b[0mchecked_string_types\u001b[0m \u001b[0;34m=\u001b[0m \u001b[0;36m0\u001b[0m\u001b[0;34m\u001b[0m\u001b[0;34m\u001b[0m\u001b[0m\n\u001b[1;32m   1285\u001b[0m         \u001b[0mvocab\u001b[0m \u001b[0;34m=\u001b[0m \u001b[0mdefaultdict\u001b[0m\u001b[0;34m(\u001b[0m\u001b[0mint\u001b[0m\u001b[0;34m)\u001b[0m\u001b[0;34m\u001b[0m\u001b[0;34m\u001b[0m\u001b[0m\n\u001b[0;32m-> 1286\u001b[0;31m         \u001b[0;32mfor\u001b[0m \u001b[0mdocument_no\u001b[0m\u001b[0;34m,\u001b[0m \u001b[0mdocument\u001b[0m \u001b[0;32min\u001b[0m \u001b[0menumerate\u001b[0m\u001b[0;34m(\u001b[0m\u001b[0mdocuments\u001b[0m\u001b[0;34m)\u001b[0m\u001b[0;34m:\u001b[0m\u001b[0;34m\u001b[0m\u001b[0;34m\u001b[0m\u001b[0m\n\u001b[0m\u001b[1;32m   1287\u001b[0m             \u001b[0;32mif\u001b[0m \u001b[0;32mnot\u001b[0m \u001b[0mchecked_string_types\u001b[0m\u001b[0;34m:\u001b[0m\u001b[0;34m\u001b[0m\u001b[0;34m\u001b[0m\u001b[0m\n\u001b[1;32m   1288\u001b[0m                 \u001b[0;32mif\u001b[0m \u001b[0misinstance\u001b[0m\u001b[0;34m(\u001b[0m\u001b[0mdocument\u001b[0m\u001b[0;34m.\u001b[0m\u001b[0mwords\u001b[0m\u001b[0;34m,\u001b[0m \u001b[0mstring_types\u001b[0m\u001b[0;34m)\u001b[0m\u001b[0;34m:\u001b[0m\u001b[0;34m\u001b[0m\u001b[0;34m\u001b[0m\u001b[0m\n",
            "\u001b[0;32m<ipython-input-81-894e6e72af77>\u001b[0m in \u001b[0;36m__iter__\u001b[0;34m(self)\u001b[0m\n\u001b[1;32m      3\u001b[0m   \u001b[0;32mdef\u001b[0m \u001b[0m__iter__\u001b[0m\u001b[0;34m(\u001b[0m\u001b[0mself\u001b[0m\u001b[0;34m)\u001b[0m\u001b[0;34m:\u001b[0m\u001b[0;34m\u001b[0m\u001b[0;34m\u001b[0m\u001b[0m\n\u001b[1;32m      4\u001b[0m     \u001b[0;32mfor\u001b[0m \u001b[0mi\u001b[0m \u001b[0;32min\u001b[0m \u001b[0mrange\u001b[0m\u001b[0;34m(\u001b[0m\u001b[0mlen\u001b[0m\u001b[0;34m(\u001b[0m\u001b[0mplots_list\u001b[0m\u001b[0;34m)\u001b[0m\u001b[0;34m)\u001b[0m\u001b[0;34m:\u001b[0m\u001b[0;34m\u001b[0m\u001b[0;34m\u001b[0m\u001b[0m\n\u001b[0;32m----> 5\u001b[0;31m       \u001b[0;32myield\u001b[0m \u001b[0mTaggedDocument\u001b[0m\u001b[0;34m(\u001b[0m\u001b[0mplots_list\u001b[0m\u001b[0;34m[\u001b[0m\u001b[0mi\u001b[0m\u001b[0;34m]\u001b[0m\u001b[0;34m)\u001b[0m\u001b[0;34m\u001b[0m\u001b[0;34m\u001b[0m\u001b[0m\n\u001b[0m",
            "\u001b[0;31mTypeError\u001b[0m: __new__() missing 1 required positional argument: 'tags'"
          ]
        }
      ]
    },
    {
      "cell_type": "code",
      "metadata": {
        "id": "jvB6pKrjUn_S"
      },
      "source": [
        ""
      ],
      "execution_count": null,
      "outputs": []
    }
  ]
}