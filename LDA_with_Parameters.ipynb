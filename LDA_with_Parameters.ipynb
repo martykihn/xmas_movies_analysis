{
  "nbformat": 4,
  "nbformat_minor": 0,
  "metadata": {
    "colab": {
      "name": "LDA_with_Parameters.ipynb",
      "provenance": [],
      "collapsed_sections": [],
      "authorship_tag": "ABX9TyMNL8nFnNodqQp7TeeCjvc8",
      "include_colab_link": true
    },
    "kernelspec": {
      "name": "python3",
      "display_name": "Python 3"
    }
  },
  "cells": [
    {
      "cell_type": "markdown",
      "metadata": {
        "id": "view-in-github",
        "colab_type": "text"
      },
      "source": [
        "<a href=\"https://colab.research.google.com/github/martykihn/xmas_movies_analysis/blob/main/LDA_with_Parameters.ipynb\" target=\"_parent\"><img src=\"https://colab.research.google.com/assets/colab-badge.svg\" alt=\"Open In Colab\"/></a>"
      ]
    },
    {
      "cell_type": "code",
      "metadata": {
        "id": "6s6mPgaigaMh"
      },
      "source": [
        "import spacy"
      ],
      "execution_count": null,
      "outputs": []
    },
    {
      "cell_type": "code",
      "metadata": {
        "colab": {
          "base_uri": "https://localhost:8080/",
          "height": 51
        },
        "id": "Kf8anFiIgevo",
        "outputId": "53c3ce83-7b22-41c9-fee9-3db4e30f7e9c"
      },
      "source": [
        "# this code is just for Google Colab notebook word wrapping format\n",
        "\n",
        "from IPython.display import HTML, display\n",
        "def set_css():\n",
        "  display(HTML('''\n",
        "  <style>\n",
        "    pre {\n",
        "        white-space: pre-wrap;\n",
        "    }\n",
        "  </style>\n",
        "  '''))\n",
        "get_ipython().events.register('pre_run_cell', set_css)\n",
        "from google.colab import drive\n",
        "drive.mount('/content/drive')"
      ],
      "execution_count": null,
      "outputs": [
        {
          "output_type": "display_data",
          "data": {
            "text/html": [
              "\n",
              "  <style>\n",
              "    pre {\n",
              "        white-space: pre-wrap;\n",
              "    }\n",
              "  </style>\n",
              "  "
            ],
            "text/plain": [
              "<IPython.core.display.HTML object>"
            ]
          },
          "metadata": {
            "tags": []
          }
        },
        {
          "output_type": "stream",
          "text": [
            "Drive already mounted at /content/drive; to attempt to forcibly remount, call drive.mount(\"/content/drive\", force_remount=True).\n"
          ],
          "name": "stdout"
        }
      ]
    },
    {
      "cell_type": "code",
      "metadata": {
        "colab": {
          "base_uri": "https://localhost:8080/",
          "height": 34
        },
        "id": "jD40X2Dwgyeb",
        "outputId": "8608a349-6c7e-4bed-e826-d1b2588cd0c8"
      },
      "source": [
        "cd '/content/drive/MyDrive'"
      ],
      "execution_count": null,
      "outputs": [
        {
          "output_type": "display_data",
          "data": {
            "text/html": [
              "\n",
              "  <style>\n",
              "    pre {\n",
              "        white-space: pre-wrap;\n",
              "    }\n",
              "  </style>\n",
              "  "
            ],
            "text/plain": [
              "<IPython.core.display.HTML object>"
            ]
          },
          "metadata": {
            "tags": []
          }
        },
        {
          "output_type": "display_data",
          "data": {
            "text/html": [
              "\n",
              "  <style>\n",
              "    pre {\n",
              "        white-space: pre-wrap;\n",
              "    }\n",
              "  </style>\n",
              "  "
            ],
            "text/plain": [
              "<IPython.core.display.HTML object>"
            ]
          },
          "metadata": {
            "tags": []
          }
        },
        {
          "output_type": "stream",
          "text": [
            "/content/drive/MyDrive\n"
          ],
          "name": "stdout"
        }
      ]
    },
    {
      "cell_type": "code",
      "metadata": {
        "colab": {
          "base_uri": "https://localhost:8080/",
          "height": 34
        },
        "id": "NZ6aUHvtg9N1",
        "outputId": "99df59e5-3296-416f-f31b-ab7d961fcfc4"
      },
      "source": [
        "cd 'Colab Notebooks/TextFiles'"
      ],
      "execution_count": null,
      "outputs": [
        {
          "output_type": "display_data",
          "data": {
            "text/html": [
              "\n",
              "  <style>\n",
              "    pre {\n",
              "        white-space: pre-wrap;\n",
              "    }\n",
              "  </style>\n",
              "  "
            ],
            "text/plain": [
              "<IPython.core.display.HTML object>"
            ]
          },
          "metadata": {
            "tags": []
          }
        },
        {
          "output_type": "display_data",
          "data": {
            "text/html": [
              "\n",
              "  <style>\n",
              "    pre {\n",
              "        white-space: pre-wrap;\n",
              "    }\n",
              "  </style>\n",
              "  "
            ],
            "text/plain": [
              "<IPython.core.display.HTML object>"
            ]
          },
          "metadata": {
            "tags": []
          }
        },
        {
          "output_type": "stream",
          "text": [
            "/content/drive/MyDrive/Colab Notebooks/TextFiles\n"
          ],
          "name": "stdout"
        }
      ]
    },
    {
      "cell_type": "code",
      "metadata": {
        "colab": {
          "base_uri": "https://localhost:8080/",
          "height": 17
        },
        "id": "bPgUPKgzhBa2",
        "outputId": "62372a90-0c27-40d9-9f5c-b36bf730db67"
      },
      "source": [
        "plots = []\n",
        "with open('/content/drive/MyDrive/Colab Notebooks/TextFiles/doclist_minus_xmas.txt') as myfile:\n",
        "  for plot in myfile:\n",
        "    plot = plot.replace('\\n', '')\n",
        "    if plot == '':\n",
        "      continue\n",
        "    else:\n",
        "      plots.append(str(plot))\n",
        "myfile.close()"
      ],
      "execution_count": null,
      "outputs": [
        {
          "output_type": "display_data",
          "data": {
            "text/html": [
              "\n",
              "  <style>\n",
              "    pre {\n",
              "        white-space: pre-wrap;\n",
              "    }\n",
              "  </style>\n",
              "  "
            ],
            "text/plain": [
              "<IPython.core.display.HTML object>"
            ]
          },
          "metadata": {
            "tags": []
          }
        },
        {
          "output_type": "display_data",
          "data": {
            "text/html": [
              "\n",
              "  <style>\n",
              "    pre {\n",
              "        white-space: pre-wrap;\n",
              "    }\n",
              "  </style>\n",
              "  "
            ],
            "text/plain": [
              "<IPython.core.display.HTML object>"
            ]
          },
          "metadata": {
            "tags": []
          }
        }
      ]
    },
    {
      "cell_type": "code",
      "metadata": {
        "colab": {
          "base_uri": "https://localhost:8080/",
          "height": 34
        },
        "id": "eTRmqFwahtnW",
        "outputId": "bb731aee-5d0a-453e-bf66-9c0f9b4e21b4"
      },
      "source": [
        "len(plots)"
      ],
      "execution_count": null,
      "outputs": [
        {
          "output_type": "display_data",
          "data": {
            "text/html": [
              "\n",
              "  <style>\n",
              "    pre {\n",
              "        white-space: pre-wrap;\n",
              "    }\n",
              "  </style>\n",
              "  "
            ],
            "text/plain": [
              "<IPython.core.display.HTML object>"
            ]
          },
          "metadata": {
            "tags": []
          }
        },
        {
          "output_type": "display_data",
          "data": {
            "text/html": [
              "\n",
              "  <style>\n",
              "    pre {\n",
              "        white-space: pre-wrap;\n",
              "    }\n",
              "  </style>\n",
              "  "
            ],
            "text/plain": [
              "<IPython.core.display.HTML object>"
            ]
          },
          "metadata": {
            "tags": []
          }
        },
        {
          "output_type": "execute_result",
          "data": {
            "text/plain": [
              "260"
            ]
          },
          "metadata": {
            "tags": []
          },
          "execution_count": 9
        }
      ]
    },
    {
      "cell_type": "code",
      "metadata": {
        "colab": {
          "base_uri": "https://localhost:8080/",
          "height": 17
        },
        "id": "5lrYAToThurc",
        "outputId": "68d430b5-8fc7-4112-cccf-08851a863fbc"
      },
      "source": [
        "# turn list of strings into list of lists(words)\n",
        "temp2 = [plot.split() for plot in plots]"
      ],
      "execution_count": null,
      "outputs": [
        {
          "output_type": "display_data",
          "data": {
            "text/html": [
              "\n",
              "  <style>\n",
              "    pre {\n",
              "        white-space: pre-wrap;\n",
              "    }\n",
              "  </style>\n",
              "  "
            ],
            "text/plain": [
              "<IPython.core.display.HTML object>"
            ]
          },
          "metadata": {
            "tags": []
          }
        },
        {
          "output_type": "display_data",
          "data": {
            "text/html": [
              "\n",
              "  <style>\n",
              "    pre {\n",
              "        white-space: pre-wrap;\n",
              "    }\n",
              "  </style>\n",
              "  "
            ],
            "text/plain": [
              "<IPython.core.display.HTML object>"
            ]
          },
          "metadata": {
            "tags": []
          }
        }
      ]
    },
    {
      "cell_type": "code",
      "metadata": {
        "colab": {
          "base_uri": "https://localhost:8080/",
          "height": 17
        },
        "id": "MzTJNxFdiY5J",
        "outputId": "2c33f058-8017-403b-f504-dd3c7e8dc852"
      },
      "source": [
        "#temp2 is list of lists of words in plots"
      ],
      "execution_count": null,
      "outputs": [
        {
          "output_type": "display_data",
          "data": {
            "text/html": [
              "\n",
              "  <style>\n",
              "    pre {\n",
              "        white-space: pre-wrap;\n",
              "    }\n",
              "  </style>\n",
              "  "
            ],
            "text/plain": [
              "<IPython.core.display.HTML object>"
            ]
          },
          "metadata": {
            "tags": []
          }
        },
        {
          "output_type": "display_data",
          "data": {
            "text/html": [
              "\n",
              "  <style>\n",
              "    pre {\n",
              "        white-space: pre-wrap;\n",
              "    }\n",
              "  </style>\n",
              "  "
            ],
            "text/plain": [
              "<IPython.core.display.HTML object>"
            ]
          },
          "metadata": {
            "tags": []
          }
        }
      ]
    },
    {
      "cell_type": "code",
      "metadata": {
        "colab": {
          "base_uri": "https://localhost:8080/",
          "height": 17
        },
        "id": "k1rnRfzTiwx2",
        "outputId": "a6449032-4627-4cf4-eae5-c4c53f82c8d3"
      },
      "source": [
        "def lemmatization(texts, allowed_postags=['NOUN', 'ADJ', 'VERB', 'ADV']):\n",
        "    texts_out = []\n",
        "    for sent in temp2:\n",
        "        doc = nlp(' '.join(sent))\n",
        "        texts_out.append([token.lemma_ for token in doc if token.pos_ in allowed_postags])\n",
        "    return texts_out"
      ],
      "execution_count": null,
      "outputs": [
        {
          "output_type": "display_data",
          "data": {
            "text/html": [
              "\n",
              "  <style>\n",
              "    pre {\n",
              "        white-space: pre-wrap;\n",
              "    }\n",
              "  </style>\n",
              "  "
            ],
            "text/plain": [
              "<IPython.core.display.HTML object>"
            ]
          },
          "metadata": {
            "tags": []
          }
        },
        {
          "output_type": "display_data",
          "data": {
            "text/html": [
              "\n",
              "  <style>\n",
              "    pre {\n",
              "        white-space: pre-wrap;\n",
              "    }\n",
              "  </style>\n",
              "  "
            ],
            "text/plain": [
              "<IPython.core.display.HTML object>"
            ]
          },
          "metadata": {
            "tags": []
          }
        }
      ]
    },
    {
      "cell_type": "code",
      "metadata": {
        "colab": {
          "base_uri": "https://localhost:8080/",
          "height": 17
        },
        "id": "l3jVVaHEizLo",
        "outputId": "4ed07722-b623-4c05-e77b-67c422408441"
      },
      "source": [
        "nlp = spacy.load('en_core_web_sm', disable=['parser', 'ner'])"
      ],
      "execution_count": null,
      "outputs": [
        {
          "output_type": "display_data",
          "data": {
            "text/html": [
              "\n",
              "  <style>\n",
              "    pre {\n",
              "        white-space: pre-wrap;\n",
              "    }\n",
              "  </style>\n",
              "  "
            ],
            "text/plain": [
              "<IPython.core.display.HTML object>"
            ]
          },
          "metadata": {
            "tags": []
          }
        },
        {
          "output_type": "display_data",
          "data": {
            "text/html": [
              "\n",
              "  <style>\n",
              "    pre {\n",
              "        white-space: pre-wrap;\n",
              "    }\n",
              "  </style>\n",
              "  "
            ],
            "text/plain": [
              "<IPython.core.display.HTML object>"
            ]
          },
          "metadata": {
            "tags": []
          }
        }
      ]
    },
    {
      "cell_type": "code",
      "metadata": {
        "colab": {
          "base_uri": "https://localhost:8080/",
          "height": 17
        },
        "id": "Xn7KV4kZi1wP",
        "outputId": "5dbb6aec-7498-4a47-e042-e1fb6b6d4e81"
      },
      "source": [
        "#make bigrams\n",
        "import gensim\n",
        "from gensim import models\n",
        "\n",
        "bigram = gensim.models.Phrases(temp2, min_count=2, threshold=20)"
      ],
      "execution_count": null,
      "outputs": [
        {
          "output_type": "display_data",
          "data": {
            "text/html": [
              "\n",
              "  <style>\n",
              "    pre {\n",
              "        white-space: pre-wrap;\n",
              "    }\n",
              "  </style>\n",
              "  "
            ],
            "text/plain": [
              "<IPython.core.display.HTML object>"
            ]
          },
          "metadata": {
            "tags": []
          }
        },
        {
          "output_type": "display_data",
          "data": {
            "text/html": [
              "\n",
              "  <style>\n",
              "    pre {\n",
              "        white-space: pre-wrap;\n",
              "    }\n",
              "  </style>\n",
              "  "
            ],
            "text/plain": [
              "<IPython.core.display.HTML object>"
            ]
          },
          "metadata": {
            "tags": []
          }
        }
      ]
    },
    {
      "cell_type": "code",
      "metadata": {
        "colab": {
          "base_uri": "https://localhost:8080/",
          "height": 17
        },
        "id": "SPJ9mULLi4ky",
        "outputId": "291fef03-5a6f-4725-df30-64c51b58886d"
      },
      "source": [
        "bigram_mod = gensim.models.phrases.Phraser(bigram)"
      ],
      "execution_count": null,
      "outputs": [
        {
          "output_type": "display_data",
          "data": {
            "text/html": [
              "\n",
              "  <style>\n",
              "    pre {\n",
              "        white-space: pre-wrap;\n",
              "    }\n",
              "  </style>\n",
              "  "
            ],
            "text/plain": [
              "<IPython.core.display.HTML object>"
            ]
          },
          "metadata": {
            "tags": []
          }
        },
        {
          "output_type": "display_data",
          "data": {
            "text/html": [
              "\n",
              "  <style>\n",
              "    pre {\n",
              "        white-space: pre-wrap;\n",
              "    }\n",
              "  </style>\n",
              "  "
            ],
            "text/plain": [
              "<IPython.core.display.HTML object>"
            ]
          },
          "metadata": {
            "tags": []
          }
        }
      ]
    },
    {
      "cell_type": "code",
      "metadata": {
        "colab": {
          "base_uri": "https://localhost:8080/",
          "height": 68
        },
        "id": "tv1DA-57jW7q",
        "outputId": "8f23d8c2-79f7-4e41-8955-1a5d7ad54a37"
      },
      "source": [
        "import nltk\n",
        "from nltk.corpus import stopwords\n",
        "nltk.download('stopwords')"
      ],
      "execution_count": null,
      "outputs": [
        {
          "output_type": "display_data",
          "data": {
            "text/html": [
              "\n",
              "  <style>\n",
              "    pre {\n",
              "        white-space: pre-wrap;\n",
              "    }\n",
              "  </style>\n",
              "  "
            ],
            "text/plain": [
              "<IPython.core.display.HTML object>"
            ]
          },
          "metadata": {
            "tags": []
          }
        },
        {
          "output_type": "display_data",
          "data": {
            "text/html": [
              "\n",
              "  <style>\n",
              "    pre {\n",
              "        white-space: pre-wrap;\n",
              "    }\n",
              "  </style>\n",
              "  "
            ],
            "text/plain": [
              "<IPython.core.display.HTML object>"
            ]
          },
          "metadata": {
            "tags": []
          }
        },
        {
          "output_type": "stream",
          "text": [
            "[nltk_data] Downloading package stopwords to /root/nltk_data...\n",
            "[nltk_data]   Unzipping corpora/stopwords.zip.\n"
          ],
          "name": "stdout"
        },
        {
          "output_type": "execute_result",
          "data": {
            "text/plain": [
              "True"
            ]
          },
          "metadata": {
            "tags": []
          },
          "execution_count": 16
        }
      ]
    },
    {
      "cell_type": "code",
      "metadata": {
        "colab": {
          "base_uri": "https://localhost:8080/",
          "height": 17
        },
        "id": "IoLBr0I4jZ-X",
        "outputId": "4545f139-7ed8-4a84-d643-efd26e5fbb7e"
      },
      "source": [
        "stop_words = stopwords.words('english')\n",
        "\n",
        "def remove_stopwords(texts):\n",
        "    return[[word for word in doc if word not in stop_words] for doc in temp2]\n",
        "\n",
        "def make_bigrams(texts):\n",
        "    return [bigram_mod[doc] for doc in temp2]\n",
        "\n",
        "def lemmatization(texts, allowed_postags=['NOUN', 'ADJ', 'VERB', 'ADV']):\n",
        "    texts_out = []\n",
        "    for sent in texts:\n",
        "        doc = nlp(\" \".join(sent))\n",
        "        texts_out.append([token.lemma_ for token in doc if token.pos_ in allowed_postags])\n",
        "    return texts_out"
      ],
      "execution_count": null,
      "outputs": [
        {
          "output_type": "display_data",
          "data": {
            "text/html": [
              "\n",
              "  <style>\n",
              "    pre {\n",
              "        white-space: pre-wrap;\n",
              "    }\n",
              "  </style>\n",
              "  "
            ],
            "text/plain": [
              "<IPython.core.display.HTML object>"
            ]
          },
          "metadata": {
            "tags": []
          }
        },
        {
          "output_type": "display_data",
          "data": {
            "text/html": [
              "\n",
              "  <style>\n",
              "    pre {\n",
              "        white-space: pre-wrap;\n",
              "    }\n",
              "  </style>\n",
              "  "
            ],
            "text/plain": [
              "<IPython.core.display.HTML object>"
            ]
          },
          "metadata": {
            "tags": []
          }
        }
      ]
    },
    {
      "cell_type": "code",
      "metadata": {
        "colab": {
          "base_uri": "https://localhost:8080/",
          "height": 17
        },
        "id": "7hMcUzuijgQv",
        "outputId": "2aa0945a-b52f-45db-869c-976d4f282f67"
      },
      "source": [
        "data_words_nostops = remove_stopwords(temp2)\n",
        "data_words_bigrams = make_bigrams(data_words_nostops)\n",
        "nlp = spacy.load(\"en_core_web_sm\", disable=['parser', 'ner'])\n",
        "data_lemmatized = lemmatization(data_words_nostops, allowed_postags=['NOUN', 'ADJ', 'VERB', 'ADV'])"
      ],
      "execution_count": null,
      "outputs": [
        {
          "output_type": "display_data",
          "data": {
            "text/html": [
              "\n",
              "  <style>\n",
              "    pre {\n",
              "        white-space: pre-wrap;\n",
              "    }\n",
              "  </style>\n",
              "  "
            ],
            "text/plain": [
              "<IPython.core.display.HTML object>"
            ]
          },
          "metadata": {
            "tags": []
          }
        },
        {
          "output_type": "display_data",
          "data": {
            "text/html": [
              "\n",
              "  <style>\n",
              "    pre {\n",
              "        white-space: pre-wrap;\n",
              "    }\n",
              "  </style>\n",
              "  "
            ],
            "text/plain": [
              "<IPython.core.display.HTML object>"
            ]
          },
          "metadata": {
            "tags": []
          }
        }
      ]
    },
    {
      "cell_type": "code",
      "metadata": {
        "colab": {
          "base_uri": "https://localhost:8080/",
          "height": 17
        },
        "id": "Uv1wNCjXj28x",
        "outputId": "d9ffc90c-e795-4bdf-c4d4-2774000a89f3"
      },
      "source": [
        "import gensim.corpora as corpora\n",
        "id2word = corpora.Dictionary(data_lemmatized)\n",
        "texts = data_lemmatized\n",
        "corpus = [id2word.doc2bow(text) for text in texts]\n",
        "\n",
        "lda_model = gensim.models.LdaMulticore(corpus=corpus,\n",
        "                                      id2word=id2word,\n",
        "                                      num_topics=10,\n",
        "                                      random_state=100,\n",
        "                                      chunksize=20,\n",
        "                                      passes=10,\n",
        "                                      per_word_topics=True)"
      ],
      "execution_count": null,
      "outputs": [
        {
          "output_type": "display_data",
          "data": {
            "text/html": [
              "\n",
              "  <style>\n",
              "    pre {\n",
              "        white-space: pre-wrap;\n",
              "    }\n",
              "  </style>\n",
              "  "
            ],
            "text/plain": [
              "<IPython.core.display.HTML object>"
            ]
          },
          "metadata": {
            "tags": []
          }
        },
        {
          "output_type": "display_data",
          "data": {
            "text/html": [
              "\n",
              "  <style>\n",
              "    pre {\n",
              "        white-space: pre-wrap;\n",
              "    }\n",
              "  </style>\n",
              "  "
            ],
            "text/plain": [
              "<IPython.core.display.HTML object>"
            ]
          },
          "metadata": {
            "tags": []
          }
        }
      ]
    },
    {
      "cell_type": "code",
      "metadata": {
        "colab": {
          "base_uri": "https://localhost:8080/",
          "height": 17
        },
        "id": "D9SvtWk3kAe1",
        "outputId": "2de9cbcc-e7f3-4899-c6a0-ae5e92b87528"
      },
      "source": [
        "from gensim.models import CoherenceModel\n",
        "coherence_model_lda = CoherenceModel(model=lda_model, texts=data_lemmatized, dictionary=id2word, coherence='c_v')\n",
        "coherence_lda = coherence_model_lda.get_coherence()"
      ],
      "execution_count": null,
      "outputs": [
        {
          "output_type": "display_data",
          "data": {
            "text/html": [
              "\n",
              "  <style>\n",
              "    pre {\n",
              "        white-space: pre-wrap;\n",
              "    }\n",
              "  </style>\n",
              "  "
            ],
            "text/plain": [
              "<IPython.core.display.HTML object>"
            ]
          },
          "metadata": {
            "tags": []
          }
        },
        {
          "output_type": "display_data",
          "data": {
            "text/html": [
              "\n",
              "  <style>\n",
              "    pre {\n",
              "        white-space: pre-wrap;\n",
              "    }\n",
              "  </style>\n",
              "  "
            ],
            "text/plain": [
              "<IPython.core.display.HTML object>"
            ]
          },
          "metadata": {
            "tags": []
          }
        }
      ]
    },
    {
      "cell_type": "code",
      "metadata": {
        "colab": {
          "base_uri": "https://localhost:8080/",
          "height": 51
        },
        "id": "pULvIzWGkFJS",
        "outputId": "27d6c571-5e50-486b-af20-95e7e3a27cb3"
      },
      "source": [
        "print('\\nCoherence Score: ', coherence_lda)"
      ],
      "execution_count": null,
      "outputs": [
        {
          "output_type": "display_data",
          "data": {
            "text/html": [
              "\n",
              "  <style>\n",
              "    pre {\n",
              "        white-space: pre-wrap;\n",
              "    }\n",
              "  </style>\n",
              "  "
            ],
            "text/plain": [
              "<IPython.core.display.HTML object>"
            ]
          },
          "metadata": {
            "tags": []
          }
        },
        {
          "output_type": "display_data",
          "data": {
            "text/html": [
              "\n",
              "  <style>\n",
              "    pre {\n",
              "        white-space: pre-wrap;\n",
              "    }\n",
              "  </style>\n",
              "  "
            ],
            "text/plain": [
              "<IPython.core.display.HTML object>"
            ]
          },
          "metadata": {
            "tags": []
          }
        },
        {
          "output_type": "stream",
          "text": [
            "\n",
            "Coherence Score:  0.30744280738131186\n"
          ],
          "name": "stdout"
        }
      ]
    },
    {
      "cell_type": "code",
      "metadata": {
        "colab": {
          "base_uri": "https://localhost:8080/",
          "height": 17
        },
        "id": "O0CGts9OkHQm",
        "outputId": "7eeb1ca8-c5e8-4bbe-ba0c-bbba91ae0c18"
      },
      "source": [
        "def compute_coherence_values(corpus, dictionary, k, a, b):\n",
        "    \n",
        "    lda_model = gensim.models.LdaMulticore(corpus=corpus,\n",
        "                                          id2word=dictionary,\n",
        "                                          num_topics=k,\n",
        "                                          random_state=100,\n",
        "                                          chunksize=20,\n",
        "                                          passes=10,\n",
        "                                          alpha=a,\n",
        "                                          eta=b)\n",
        "    \n",
        "    coherence_model_lda = CoherenceModel(model=lda_model, texts=data_lemmatized, dictionary=id2word, coherence='c_v')\n",
        "    \n",
        "    return coherence_model_lda.get_coherence()"
      ],
      "execution_count": null,
      "outputs": [
        {
          "output_type": "display_data",
          "data": {
            "text/html": [
              "\n",
              "  <style>\n",
              "    pre {\n",
              "        white-space: pre-wrap;\n",
              "    }\n",
              "  </style>\n",
              "  "
            ],
            "text/plain": [
              "<IPython.core.display.HTML object>"
            ]
          },
          "metadata": {
            "tags": []
          }
        },
        {
          "output_type": "display_data",
          "data": {
            "text/html": [
              "\n",
              "  <style>\n",
              "    pre {\n",
              "        white-space: pre-wrap;\n",
              "    }\n",
              "  </style>\n",
              "  "
            ],
            "text/plain": [
              "<IPython.core.display.HTML object>"
            ]
          },
          "metadata": {
            "tags": []
          }
        }
      ]
    },
    {
      "cell_type": "code",
      "metadata": {
        "colab": {
          "base_uri": "https://localhost:8080/",
          "height": 17
        },
        "id": "j48XZzGAkL_s",
        "outputId": "b4b3dae8-6bba-417c-c168-408051b734c3"
      },
      "source": [
        "import numpy as np\n",
        "import tqdm\n",
        "grid = {}\n",
        "grid['Validation_Set'] = {}\n",
        "\n",
        "min_topics = 2\n",
        "max_topics = 11\n",
        "step_size = 1\n",
        "topics_range = range(min_topics, max_topics, step_size)\n",
        "\n",
        "#alpha parameter\n",
        "alpha = list(np.arange(0.01, 1, 0.3))\n",
        "alpha.append('symmetric')\n",
        "alpha.append('asymmetric')\n",
        "\n",
        "#beta parameter\n",
        "beta = list(np.arange(0.01, 1, 0.3))\n",
        "beta.append('symmetric')"
      ],
      "execution_count": null,
      "outputs": [
        {
          "output_type": "display_data",
          "data": {
            "text/html": [
              "\n",
              "  <style>\n",
              "    pre {\n",
              "        white-space: pre-wrap;\n",
              "    }\n",
              "  </style>\n",
              "  "
            ],
            "text/plain": [
              "<IPython.core.display.HTML object>"
            ]
          },
          "metadata": {
            "tags": []
          }
        },
        {
          "output_type": "display_data",
          "data": {
            "text/html": [
              "\n",
              "  <style>\n",
              "    pre {\n",
              "        white-space: pre-wrap;\n",
              "    }\n",
              "  </style>\n",
              "  "
            ],
            "text/plain": [
              "<IPython.core.display.HTML object>"
            ]
          },
          "metadata": {
            "tags": []
          }
        }
      ]
    },
    {
      "cell_type": "code",
      "metadata": {
        "colab": {
          "base_uri": "https://localhost:8080/",
          "height": 17
        },
        "id": "bVQhPBmZkPIa",
        "outputId": "eec7e114-cac5-4289-d0b0-8069fb3498a5"
      },
      "source": [
        "#validation sets\n",
        "num_of_docs = len(corpus)\n",
        "corpus_sets = [\n",
        "    # gensim.utils.ClippedCorpus(corpus, num_of_docs*0.25), \n",
        "    # gensim.utils.ClippedCorpus(corpus, num_of_docs*0.5),\n",
        "    # gensim.utils.ClippedCorpus(corpus, num_of_docs*0.75),\n",
        "    corpus\n",
        "    ]\n",
        "\n",
        "corpus_title = ['100% Corpus']\n",
        "\n",
        "model_results = {'Validation_Set': [],\n",
        "                'Topics': [],\n",
        "                'Alpha': [],\n",
        "                'Beta': [],\n",
        "                'Coherence': []\n",
        "                }"
      ],
      "execution_count": null,
      "outputs": [
        {
          "output_type": "display_data",
          "data": {
            "text/html": [
              "\n",
              "  <style>\n",
              "    pre {\n",
              "        white-space: pre-wrap;\n",
              "    }\n",
              "  </style>\n",
              "  "
            ],
            "text/plain": [
              "<IPython.core.display.HTML object>"
            ]
          },
          "metadata": {
            "tags": []
          }
        },
        {
          "output_type": "display_data",
          "data": {
            "text/html": [
              "\n",
              "  <style>\n",
              "    pre {\n",
              "        white-space: pre-wrap;\n",
              "    }\n",
              "  </style>\n",
              "  "
            ],
            "text/plain": [
              "<IPython.core.display.HTML object>"
            ]
          },
          "metadata": {
            "tags": []
          }
        }
      ]
    },
    {
      "cell_type": "code",
      "metadata": {
        "colab": {
          "base_uri": "https://localhost:8080/",
          "height": 17
        },
        "id": "vY_Ts8qskcK_",
        "outputId": "ae20c092-a9ad-4dd0-8a23-e637e50fa91b"
      },
      "source": [
        "import pandas as pd"
      ],
      "execution_count": null,
      "outputs": [
        {
          "output_type": "display_data",
          "data": {
            "text/html": [
              "\n",
              "  <style>\n",
              "    pre {\n",
              "        white-space: pre-wrap;\n",
              "    }\n",
              "  </style>\n",
              "  "
            ],
            "text/plain": [
              "<IPython.core.display.HTML object>"
            ]
          },
          "metadata": {
            "tags": []
          }
        },
        {
          "output_type": "display_data",
          "data": {
            "text/html": [
              "\n",
              "  <style>\n",
              "    pre {\n",
              "        white-space: pre-wrap;\n",
              "    }\n",
              "  </style>\n",
              "  "
            ],
            "text/plain": [
              "<IPython.core.display.HTML object>"
            ]
          },
          "metadata": {
            "tags": []
          }
        }
      ]
    },
    {
      "cell_type": "code",
      "metadata": {
        "colab": {
          "base_uri": "https://localhost:8080/",
          "height": 85
        },
        "id": "zuilNiU3kSH-",
        "outputId": "af825f4a-a29b-45c5-9a87-0ca9937cde20"
      },
      "source": [
        "if 1 == 1:\n",
        "    pbar = tqdm.tqdm()\n",
        "    \n",
        "    # iterate through validation corpuses\n",
        "    for i in range(len(corpus_sets)):\n",
        "        # through topics\n",
        "        for k in topics_range:\n",
        "            # through alpha values\n",
        "            for a in alpha:\n",
        "                # through beta values\n",
        "                for b in beta:\n",
        "                    #get coherence score\n",
        "                    cv = compute_coherence_values(corpus=corpus_sets[i], dictionary=id2word, k=k, a=a, b=b)\n",
        "                    \n",
        "# same model results\n",
        "                    model_results['Validation_Set'].append(corpus_title[i])\n",
        "                    model_results['Topics'].append(k)\n",
        "                    model_results['Alpha'].append(a)\n",
        "                    model_results['Beta'].append(b)\n",
        "                    model_results['Coherence'].append(cv)\n",
        "\n",
        "                    pbar.update(1)\n",
        "\n",
        "    pd.DataFrame(model_results).to_csv('lda_tuning_results.csv', index=False)\n",
        "    pbar.close()"
      ],
      "execution_count": null,
      "outputs": [
        {
          "output_type": "display_data",
          "data": {
            "text/html": [
              "\n",
              "  <style>\n",
              "    pre {\n",
              "        white-space: pre-wrap;\n",
              "    }\n",
              "  </style>\n",
              "  "
            ],
            "text/plain": [
              "<IPython.core.display.HTML object>"
            ]
          },
          "metadata": {
            "tags": []
          }
        },
        {
          "output_type": "display_data",
          "data": {
            "text/html": [
              "\n",
              "  <style>\n",
              "    pre {\n",
              "        white-space: pre-wrap;\n",
              "    }\n",
              "  </style>\n",
              "  "
            ],
            "text/plain": [
              "<IPython.core.display.HTML object>"
            ]
          },
          "metadata": {
            "tags": []
          }
        },
        {
          "output_type": "stream",
          "text": [
            "\r0it [00:00, ?it/s]/usr/local/lib/python3.7/dist-packages/gensim/models/ldamodel.py:1023: RuntimeWarning: divide by zero encountered in log\n",
            "  diff = np.log(self.expElogbeta)\n",
            "270it [11:44,  2.61s/it]\n"
          ],
          "name": "stderr"
        }
      ]
    },
    {
      "cell_type": "code",
      "metadata": {
        "colab": {
          "base_uri": "https://localhost:8080/",
          "height": 17
        },
        "id": "JRBeZMLonF-8",
        "outputId": "ff381500-e0a3-458c-82c0-35fe200a2c9f"
      },
      "source": [
        "df_lda_tuning = pd.read_csv(\"lda_tuning_results.csv\")"
      ],
      "execution_count": null,
      "outputs": [
        {
          "output_type": "display_data",
          "data": {
            "text/html": [
              "\n",
              "  <style>\n",
              "    pre {\n",
              "        white-space: pre-wrap;\n",
              "    }\n",
              "  </style>\n",
              "  "
            ],
            "text/plain": [
              "<IPython.core.display.HTML object>"
            ]
          },
          "metadata": {
            "tags": []
          }
        },
        {
          "output_type": "display_data",
          "data": {
            "text/html": [
              "\n",
              "  <style>\n",
              "    pre {\n",
              "        white-space: pre-wrap;\n",
              "    }\n",
              "  </style>\n",
              "  "
            ],
            "text/plain": [
              "<IPython.core.display.HTML object>"
            ]
          },
          "metadata": {
            "tags": []
          }
        }
      ]
    },
    {
      "cell_type": "code",
      "metadata": {
        "colab": {
          "base_uri": "https://localhost:8080/",
          "height": 419
        },
        "id": "koClzOz_nJOH",
        "outputId": "2d6f17b4-56ae-49bb-9b5d-e9ccd8de068a"
      },
      "source": [
        "df_lda_tuning"
      ],
      "execution_count": null,
      "outputs": [
        {
          "output_type": "display_data",
          "data": {
            "text/html": [
              "\n",
              "  <style>\n",
              "    pre {\n",
              "        white-space: pre-wrap;\n",
              "    }\n",
              "  </style>\n",
              "  "
            ],
            "text/plain": [
              "<IPython.core.display.HTML object>"
            ]
          },
          "metadata": {
            "tags": []
          }
        },
        {
          "output_type": "display_data",
          "data": {
            "text/html": [
              "\n",
              "  <style>\n",
              "    pre {\n",
              "        white-space: pre-wrap;\n",
              "    }\n",
              "  </style>\n",
              "  "
            ],
            "text/plain": [
              "<IPython.core.display.HTML object>"
            ]
          },
          "metadata": {
            "tags": []
          }
        },
        {
          "output_type": "execute_result",
          "data": {
            "text/html": [
              "<div>\n",
              "<style scoped>\n",
              "    .dataframe tbody tr th:only-of-type {\n",
              "        vertical-align: middle;\n",
              "    }\n",
              "\n",
              "    .dataframe tbody tr th {\n",
              "        vertical-align: top;\n",
              "    }\n",
              "\n",
              "    .dataframe thead th {\n",
              "        text-align: right;\n",
              "    }\n",
              "</style>\n",
              "<table border=\"1\" class=\"dataframe\">\n",
              "  <thead>\n",
              "    <tr style=\"text-align: right;\">\n",
              "      <th></th>\n",
              "      <th>Validation_Set</th>\n",
              "      <th>Topics</th>\n",
              "      <th>Alpha</th>\n",
              "      <th>Beta</th>\n",
              "      <th>Coherence</th>\n",
              "    </tr>\n",
              "  </thead>\n",
              "  <tbody>\n",
              "    <tr>\n",
              "      <th>0</th>\n",
              "      <td>100% Corpus</td>\n",
              "      <td>2</td>\n",
              "      <td>0.01</td>\n",
              "      <td>0.01</td>\n",
              "      <td>0.267088</td>\n",
              "    </tr>\n",
              "    <tr>\n",
              "      <th>1</th>\n",
              "      <td>100% Corpus</td>\n",
              "      <td>2</td>\n",
              "      <td>0.01</td>\n",
              "      <td>0.31</td>\n",
              "      <td>0.328469</td>\n",
              "    </tr>\n",
              "    <tr>\n",
              "      <th>2</th>\n",
              "      <td>100% Corpus</td>\n",
              "      <td>2</td>\n",
              "      <td>0.01</td>\n",
              "      <td>0.61</td>\n",
              "      <td>0.305459</td>\n",
              "    </tr>\n",
              "    <tr>\n",
              "      <th>3</th>\n",
              "      <td>100% Corpus</td>\n",
              "      <td>2</td>\n",
              "      <td>0.01</td>\n",
              "      <td>0.9099999999999999</td>\n",
              "      <td>0.343533</td>\n",
              "    </tr>\n",
              "    <tr>\n",
              "      <th>4</th>\n",
              "      <td>100% Corpus</td>\n",
              "      <td>2</td>\n",
              "      <td>0.01</td>\n",
              "      <td>symmetric</td>\n",
              "      <td>0.316129</td>\n",
              "    </tr>\n",
              "    <tr>\n",
              "      <th>...</th>\n",
              "      <td>...</td>\n",
              "      <td>...</td>\n",
              "      <td>...</td>\n",
              "      <td>...</td>\n",
              "      <td>...</td>\n",
              "    </tr>\n",
              "    <tr>\n",
              "      <th>265</th>\n",
              "      <td>100% Corpus</td>\n",
              "      <td>10</td>\n",
              "      <td>asymmetric</td>\n",
              "      <td>0.01</td>\n",
              "      <td>0.327373</td>\n",
              "    </tr>\n",
              "    <tr>\n",
              "      <th>266</th>\n",
              "      <td>100% Corpus</td>\n",
              "      <td>10</td>\n",
              "      <td>asymmetric</td>\n",
              "      <td>0.31</td>\n",
              "      <td>0.401871</td>\n",
              "    </tr>\n",
              "    <tr>\n",
              "      <th>267</th>\n",
              "      <td>100% Corpus</td>\n",
              "      <td>10</td>\n",
              "      <td>asymmetric</td>\n",
              "      <td>0.61</td>\n",
              "      <td>0.370544</td>\n",
              "    </tr>\n",
              "    <tr>\n",
              "      <th>268</th>\n",
              "      <td>100% Corpus</td>\n",
              "      <td>10</td>\n",
              "      <td>asymmetric</td>\n",
              "      <td>0.9099999999999999</td>\n",
              "      <td>0.392762</td>\n",
              "    </tr>\n",
              "    <tr>\n",
              "      <th>269</th>\n",
              "      <td>100% Corpus</td>\n",
              "      <td>10</td>\n",
              "      <td>asymmetric</td>\n",
              "      <td>symmetric</td>\n",
              "      <td>0.365306</td>\n",
              "    </tr>\n",
              "  </tbody>\n",
              "</table>\n",
              "<p>270 rows × 5 columns</p>\n",
              "</div>"
            ],
            "text/plain": [
              "    Validation_Set  Topics       Alpha                Beta  Coherence\n",
              "0      100% Corpus       2        0.01                0.01   0.267088\n",
              "1      100% Corpus       2        0.01                0.31   0.328469\n",
              "2      100% Corpus       2        0.01                0.61   0.305459\n",
              "3      100% Corpus       2        0.01  0.9099999999999999   0.343533\n",
              "4      100% Corpus       2        0.01           symmetric   0.316129\n",
              "..             ...     ...         ...                 ...        ...\n",
              "265    100% Corpus      10  asymmetric                0.01   0.327373\n",
              "266    100% Corpus      10  asymmetric                0.31   0.401871\n",
              "267    100% Corpus      10  asymmetric                0.61   0.370544\n",
              "268    100% Corpus      10  asymmetric  0.9099999999999999   0.392762\n",
              "269    100% Corpus      10  asymmetric           symmetric   0.365306\n",
              "\n",
              "[270 rows x 5 columns]"
            ]
          },
          "metadata": {
            "tags": []
          },
          "execution_count": 28
        }
      ]
    },
    {
      "cell_type": "code",
      "metadata": {
        "colab": {
          "base_uri": "https://localhost:8080/",
          "height": 17
        },
        "id": "kbTMqTmboBBy",
        "outputId": "452c02f3-4326-426b-bb34-3c2621e24772"
      },
      "source": [
        "# visualize coherence by topic for alpha=0.01 and beta=0.1\n",
        "\n",
        "temp = df_lda_tuning[(df_lda_tuning['Alpha'] == '0.01') & (df_lda_tuning['Beta'] == '0.01')]"
      ],
      "execution_count": null,
      "outputs": [
        {
          "output_type": "display_data",
          "data": {
            "text/html": [
              "\n",
              "  <style>\n",
              "    pre {\n",
              "        white-space: pre-wrap;\n",
              "    }\n",
              "  </style>\n",
              "  "
            ],
            "text/plain": [
              "<IPython.core.display.HTML object>"
            ]
          },
          "metadata": {
            "tags": []
          }
        },
        {
          "output_type": "display_data",
          "data": {
            "text/html": [
              "\n",
              "  <style>\n",
              "    pre {\n",
              "        white-space: pre-wrap;\n",
              "    }\n",
              "  </style>\n",
              "  "
            ],
            "text/plain": [
              "<IPython.core.display.HTML object>"
            ]
          },
          "metadata": {
            "tags": []
          }
        }
      ]
    },
    {
      "cell_type": "code",
      "metadata": {
        "colab": {
          "base_uri": "https://localhost:8080/",
          "height": 272
        },
        "id": "u46sNOa8ul25",
        "outputId": "4b929d6c-bb9f-4eaa-9b61-4bbf26f916c3"
      },
      "source": [
        "df_lda_tuning.describe"
      ],
      "execution_count": null,
      "outputs": [
        {
          "output_type": "display_data",
          "data": {
            "text/html": [
              "\n",
              "  <style>\n",
              "    pre {\n",
              "        white-space: pre-wrap;\n",
              "    }\n",
              "  </style>\n",
              "  "
            ],
            "text/plain": [
              "<IPython.core.display.HTML object>"
            ]
          },
          "metadata": {
            "tags": []
          }
        },
        {
          "output_type": "display_data",
          "data": {
            "text/html": [
              "\n",
              "  <style>\n",
              "    pre {\n",
              "        white-space: pre-wrap;\n",
              "    }\n",
              "  </style>\n",
              "  "
            ],
            "text/plain": [
              "<IPython.core.display.HTML object>"
            ]
          },
          "metadata": {
            "tags": []
          }
        },
        {
          "output_type": "execute_result",
          "data": {
            "text/plain": [
              "<bound method NDFrame.describe of     Validation_Set  Topics       Alpha                Beta  Coherence\n",
              "0      100% Corpus       2        0.01                0.01   0.267088\n",
              "1      100% Corpus       2        0.01                0.31   0.328469\n",
              "2      100% Corpus       2        0.01                0.61   0.305459\n",
              "3      100% Corpus       2        0.01  0.9099999999999999   0.343533\n",
              "4      100% Corpus       2        0.01           symmetric   0.316129\n",
              "..             ...     ...         ...                 ...        ...\n",
              "265    100% Corpus      10  asymmetric                0.01   0.327373\n",
              "266    100% Corpus      10  asymmetric                0.31   0.401871\n",
              "267    100% Corpus      10  asymmetric                0.61   0.370544\n",
              "268    100% Corpus      10  asymmetric  0.9099999999999999   0.392762\n",
              "269    100% Corpus      10  asymmetric           symmetric   0.365306\n",
              "\n",
              "[270 rows x 5 columns]>"
            ]
          },
          "metadata": {
            "tags": []
          },
          "execution_count": 30
        }
      ]
    },
    {
      "cell_type": "code",
      "metadata": {
        "colab": {
          "base_uri": "https://localhost:8080/",
          "height": 328
        },
        "id": "ybYpdTdHw4Z7",
        "outputId": "e3ebf476-fa35-4a21-93ed-e2c0e0ddb890"
      },
      "source": [
        "temp"
      ],
      "execution_count": null,
      "outputs": [
        {
          "output_type": "display_data",
          "data": {
            "text/html": [
              "\n",
              "  <style>\n",
              "    pre {\n",
              "        white-space: pre-wrap;\n",
              "    }\n",
              "  </style>\n",
              "  "
            ],
            "text/plain": [
              "<IPython.core.display.HTML object>"
            ]
          },
          "metadata": {
            "tags": []
          }
        },
        {
          "output_type": "display_data",
          "data": {
            "text/html": [
              "\n",
              "  <style>\n",
              "    pre {\n",
              "        white-space: pre-wrap;\n",
              "    }\n",
              "  </style>\n",
              "  "
            ],
            "text/plain": [
              "<IPython.core.display.HTML object>"
            ]
          },
          "metadata": {
            "tags": []
          }
        },
        {
          "output_type": "execute_result",
          "data": {
            "text/html": [
              "<div>\n",
              "<style scoped>\n",
              "    .dataframe tbody tr th:only-of-type {\n",
              "        vertical-align: middle;\n",
              "    }\n",
              "\n",
              "    .dataframe tbody tr th {\n",
              "        vertical-align: top;\n",
              "    }\n",
              "\n",
              "    .dataframe thead th {\n",
              "        text-align: right;\n",
              "    }\n",
              "</style>\n",
              "<table border=\"1\" class=\"dataframe\">\n",
              "  <thead>\n",
              "    <tr style=\"text-align: right;\">\n",
              "      <th></th>\n",
              "      <th>Validation_Set</th>\n",
              "      <th>Topics</th>\n",
              "      <th>Alpha</th>\n",
              "      <th>Beta</th>\n",
              "      <th>Coherence</th>\n",
              "    </tr>\n",
              "  </thead>\n",
              "  <tbody>\n",
              "    <tr>\n",
              "      <th>0</th>\n",
              "      <td>100% Corpus</td>\n",
              "      <td>2</td>\n",
              "      <td>0.01</td>\n",
              "      <td>0.01</td>\n",
              "      <td>0.267088</td>\n",
              "    </tr>\n",
              "    <tr>\n",
              "      <th>30</th>\n",
              "      <td>100% Corpus</td>\n",
              "      <td>3</td>\n",
              "      <td>0.01</td>\n",
              "      <td>0.01</td>\n",
              "      <td>0.330309</td>\n",
              "    </tr>\n",
              "    <tr>\n",
              "      <th>60</th>\n",
              "      <td>100% Corpus</td>\n",
              "      <td>4</td>\n",
              "      <td>0.01</td>\n",
              "      <td>0.01</td>\n",
              "      <td>0.280666</td>\n",
              "    </tr>\n",
              "    <tr>\n",
              "      <th>90</th>\n",
              "      <td>100% Corpus</td>\n",
              "      <td>5</td>\n",
              "      <td>0.01</td>\n",
              "      <td>0.01</td>\n",
              "      <td>0.292461</td>\n",
              "    </tr>\n",
              "    <tr>\n",
              "      <th>120</th>\n",
              "      <td>100% Corpus</td>\n",
              "      <td>6</td>\n",
              "      <td>0.01</td>\n",
              "      <td>0.01</td>\n",
              "      <td>0.296803</td>\n",
              "    </tr>\n",
              "    <tr>\n",
              "      <th>150</th>\n",
              "      <td>100% Corpus</td>\n",
              "      <td>7</td>\n",
              "      <td>0.01</td>\n",
              "      <td>0.01</td>\n",
              "      <td>0.290028</td>\n",
              "    </tr>\n",
              "    <tr>\n",
              "      <th>180</th>\n",
              "      <td>100% Corpus</td>\n",
              "      <td>8</td>\n",
              "      <td>0.01</td>\n",
              "      <td>0.01</td>\n",
              "      <td>0.279136</td>\n",
              "    </tr>\n",
              "    <tr>\n",
              "      <th>210</th>\n",
              "      <td>100% Corpus</td>\n",
              "      <td>9</td>\n",
              "      <td>0.01</td>\n",
              "      <td>0.01</td>\n",
              "      <td>0.290939</td>\n",
              "    </tr>\n",
              "    <tr>\n",
              "      <th>240</th>\n",
              "      <td>100% Corpus</td>\n",
              "      <td>10</td>\n",
              "      <td>0.01</td>\n",
              "      <td>0.01</td>\n",
              "      <td>0.292030</td>\n",
              "    </tr>\n",
              "  </tbody>\n",
              "</table>\n",
              "</div>"
            ],
            "text/plain": [
              "    Validation_Set  Topics Alpha  Beta  Coherence\n",
              "0      100% Corpus       2  0.01  0.01   0.267088\n",
              "30     100% Corpus       3  0.01  0.01   0.330309\n",
              "60     100% Corpus       4  0.01  0.01   0.280666\n",
              "90     100% Corpus       5  0.01  0.01   0.292461\n",
              "120    100% Corpus       6  0.01  0.01   0.296803\n",
              "150    100% Corpus       7  0.01  0.01   0.290028\n",
              "180    100% Corpus       8  0.01  0.01   0.279136\n",
              "210    100% Corpus       9  0.01  0.01   0.290939\n",
              "240    100% Corpus      10  0.01  0.01   0.292030"
            ]
          },
          "metadata": {
            "tags": []
          },
          "execution_count": 31
        }
      ]
    },
    {
      "cell_type": "code",
      "metadata": {
        "colab": {
          "base_uri": "https://localhost:8080/",
          "height": 296
        },
        "id": "DTrMMGcGxHGb",
        "outputId": "0788f4f2-0b2d-46c3-b565-8170dc174b46"
      },
      "source": [
        "temp.plot(x = 'Topics', y = 'Coherence')"
      ],
      "execution_count": null,
      "outputs": [
        {
          "output_type": "display_data",
          "data": {
            "text/html": [
              "\n",
              "  <style>\n",
              "    pre {\n",
              "        white-space: pre-wrap;\n",
              "    }\n",
              "  </style>\n",
              "  "
            ],
            "text/plain": [
              "<IPython.core.display.HTML object>"
            ]
          },
          "metadata": {
            "tags": []
          }
        },
        {
          "output_type": "display_data",
          "data": {
            "text/html": [
              "\n",
              "  <style>\n",
              "    pre {\n",
              "        white-space: pre-wrap;\n",
              "    }\n",
              "  </style>\n",
              "  "
            ],
            "text/plain": [
              "<IPython.core.display.HTML object>"
            ]
          },
          "metadata": {
            "tags": []
          }
        },
        {
          "output_type": "execute_result",
          "data": {
            "text/plain": [
              "<matplotlib.axes._subplots.AxesSubplot at 0x7fb47419c6d0>"
            ]
          },
          "metadata": {
            "tags": []
          },
          "execution_count": 32
        },
        {
          "output_type": "display_data",
          "data": {
            "image/png": "[encoded data removed]",
            "text/plain": [
              "<Figure size 432x288 with 1 Axes>"
            ]
          },
          "metadata": {
            "tags": [],
            "needs_background": "light"
          }
        }
      ]
    },
    {
      "cell_type": "code",
      "metadata": {
        "colab": {
          "base_uri": "https://localhost:8080/",
          "height": 17
        },
        "id": "JbevIEi7xM4X",
        "outputId": "2ae7ca5e-44bb-46ab-b3ab-e2884fea304b"
      },
      "source": [
        "# seems to peak at 3 topics - we will use that number\n",
        "\n",
        "lda_3_topics = df_lda_tuning[df_lda_tuning['Topics'] == 3]"
      ],
      "execution_count": null,
      "outputs": [
        {
          "output_type": "display_data",
          "data": {
            "text/html": [
              "\n",
              "  <style>\n",
              "    pre {\n",
              "        white-space: pre-wrap;\n",
              "    }\n",
              "  </style>\n",
              "  "
            ],
            "text/plain": [
              "<IPython.core.display.HTML object>"
            ]
          },
          "metadata": {
            "tags": []
          }
        },
        {
          "output_type": "display_data",
          "data": {
            "text/html": [
              "\n",
              "  <style>\n",
              "    pre {\n",
              "        white-space: pre-wrap;\n",
              "    }\n",
              "  </style>\n",
              "  "
            ],
            "text/plain": [
              "<IPython.core.display.HTML object>"
            ]
          },
          "metadata": {
            "tags": []
          }
        }
      ]
    },
    {
      "cell_type": "code",
      "metadata": {
        "colab": {
          "base_uri": "https://localhost:8080/",
          "height": 979
        },
        "id": "BgABLSXMx-4m",
        "outputId": "33b8ff00-21c5-4d9b-9d48-f0396ef0708c"
      },
      "source": [
        "lda_3_topics.sort_values(by='Coherence', ascending=False)"
      ],
      "execution_count": null,
      "outputs": [
        {
          "output_type": "display_data",
          "data": {
            "text/html": [
              "\n",
              "  <style>\n",
              "    pre {\n",
              "        white-space: pre-wrap;\n",
              "    }\n",
              "  </style>\n",
              "  "
            ],
            "text/plain": [
              "<IPython.core.display.HTML object>"
            ]
          },
          "metadata": {
            "tags": []
          }
        },
        {
          "output_type": "display_data",
          "data": {
            "text/html": [
              "\n",
              "  <style>\n",
              "    pre {\n",
              "        white-space: pre-wrap;\n",
              "    }\n",
              "  </style>\n",
              "  "
            ],
            "text/plain": [
              "<IPython.core.display.HTML object>"
            ]
          },
          "metadata": {
            "tags": []
          }
        },
        {
          "output_type": "execute_result",
          "data": {
            "text/html": [
              "<div>\n",
              "<style scoped>\n",
              "    .dataframe tbody tr th:only-of-type {\n",
              "        vertical-align: middle;\n",
              "    }\n",
              "\n",
              "    .dataframe tbody tr th {\n",
              "        vertical-align: top;\n",
              "    }\n",
              "\n",
              "    .dataframe thead th {\n",
              "        text-align: right;\n",
              "    }\n",
              "</style>\n",
              "<table border=\"1\" class=\"dataframe\">\n",
              "  <thead>\n",
              "    <tr style=\"text-align: right;\">\n",
              "      <th></th>\n",
              "      <th>Validation_Set</th>\n",
              "      <th>Topics</th>\n",
              "      <th>Alpha</th>\n",
              "      <th>Beta</th>\n",
              "      <th>Coherence</th>\n",
              "    </tr>\n",
              "  </thead>\n",
              "  <tbody>\n",
              "    <tr>\n",
              "      <th>57</th>\n",
              "      <td>100% Corpus</td>\n",
              "      <td>3</td>\n",
              "      <td>asymmetric</td>\n",
              "      <td>0.61</td>\n",
              "      <td>0.457634</td>\n",
              "    </tr>\n",
              "    <tr>\n",
              "      <th>52</th>\n",
              "      <td>100% Corpus</td>\n",
              "      <td>3</td>\n",
              "      <td>symmetric</td>\n",
              "      <td>0.61</td>\n",
              "      <td>0.398292</td>\n",
              "    </tr>\n",
              "    <tr>\n",
              "      <th>37</th>\n",
              "      <td>100% Corpus</td>\n",
              "      <td>3</td>\n",
              "      <td>0.31</td>\n",
              "      <td>0.61</td>\n",
              "      <td>0.398292</td>\n",
              "    </tr>\n",
              "    <tr>\n",
              "      <th>58</th>\n",
              "      <td>100% Corpus</td>\n",
              "      <td>3</td>\n",
              "      <td>asymmetric</td>\n",
              "      <td>0.9099999999999999</td>\n",
              "      <td>0.394118</td>\n",
              "    </tr>\n",
              "    <tr>\n",
              "      <th>32</th>\n",
              "      <td>100% Corpus</td>\n",
              "      <td>3</td>\n",
              "      <td>0.01</td>\n",
              "      <td>0.61</td>\n",
              "      <td>0.389386</td>\n",
              "    </tr>\n",
              "    <tr>\n",
              "      <th>38</th>\n",
              "      <td>100% Corpus</td>\n",
              "      <td>3</td>\n",
              "      <td>0.31</td>\n",
              "      <td>0.9099999999999999</td>\n",
              "      <td>0.373962</td>\n",
              "    </tr>\n",
              "    <tr>\n",
              "      <th>53</th>\n",
              "      <td>100% Corpus</td>\n",
              "      <td>3</td>\n",
              "      <td>symmetric</td>\n",
              "      <td>0.9099999999999999</td>\n",
              "      <td>0.370122</td>\n",
              "    </tr>\n",
              "    <tr>\n",
              "      <th>48</th>\n",
              "      <td>100% Corpus</td>\n",
              "      <td>3</td>\n",
              "      <td>0.9099999999999999</td>\n",
              "      <td>0.9099999999999999</td>\n",
              "      <td>0.354788</td>\n",
              "    </tr>\n",
              "    <tr>\n",
              "      <th>55</th>\n",
              "      <td>100% Corpus</td>\n",
              "      <td>3</td>\n",
              "      <td>asymmetric</td>\n",
              "      <td>0.01</td>\n",
              "      <td>0.349766</td>\n",
              "    </tr>\n",
              "    <tr>\n",
              "      <th>31</th>\n",
              "      <td>100% Corpus</td>\n",
              "      <td>3</td>\n",
              "      <td>0.01</td>\n",
              "      <td>0.31</td>\n",
              "      <td>0.348468</td>\n",
              "    </tr>\n",
              "    <tr>\n",
              "      <th>43</th>\n",
              "      <td>100% Corpus</td>\n",
              "      <td>3</td>\n",
              "      <td>0.61</td>\n",
              "      <td>0.9099999999999999</td>\n",
              "      <td>0.348079</td>\n",
              "    </tr>\n",
              "    <tr>\n",
              "      <th>54</th>\n",
              "      <td>100% Corpus</td>\n",
              "      <td>3</td>\n",
              "      <td>symmetric</td>\n",
              "      <td>symmetric</td>\n",
              "      <td>0.338527</td>\n",
              "    </tr>\n",
              "    <tr>\n",
              "      <th>39</th>\n",
              "      <td>100% Corpus</td>\n",
              "      <td>3</td>\n",
              "      <td>0.31</td>\n",
              "      <td>symmetric</td>\n",
              "      <td>0.336561</td>\n",
              "    </tr>\n",
              "    <tr>\n",
              "      <th>33</th>\n",
              "      <td>100% Corpus</td>\n",
              "      <td>3</td>\n",
              "      <td>0.01</td>\n",
              "      <td>0.9099999999999999</td>\n",
              "      <td>0.336204</td>\n",
              "    </tr>\n",
              "    <tr>\n",
              "      <th>42</th>\n",
              "      <td>100% Corpus</td>\n",
              "      <td>3</td>\n",
              "      <td>0.61</td>\n",
              "      <td>0.61</td>\n",
              "      <td>0.332274</td>\n",
              "    </tr>\n",
              "    <tr>\n",
              "      <th>34</th>\n",
              "      <td>100% Corpus</td>\n",
              "      <td>3</td>\n",
              "      <td>0.01</td>\n",
              "      <td>symmetric</td>\n",
              "      <td>0.332117</td>\n",
              "    </tr>\n",
              "    <tr>\n",
              "      <th>30</th>\n",
              "      <td>100% Corpus</td>\n",
              "      <td>3</td>\n",
              "      <td>0.01</td>\n",
              "      <td>0.01</td>\n",
              "      <td>0.330309</td>\n",
              "    </tr>\n",
              "    <tr>\n",
              "      <th>59</th>\n",
              "      <td>100% Corpus</td>\n",
              "      <td>3</td>\n",
              "      <td>asymmetric</td>\n",
              "      <td>symmetric</td>\n",
              "      <td>0.325850</td>\n",
              "    </tr>\n",
              "    <tr>\n",
              "      <th>51</th>\n",
              "      <td>100% Corpus</td>\n",
              "      <td>3</td>\n",
              "      <td>symmetric</td>\n",
              "      <td>0.31</td>\n",
              "      <td>0.324543</td>\n",
              "    </tr>\n",
              "    <tr>\n",
              "      <th>56</th>\n",
              "      <td>100% Corpus</td>\n",
              "      <td>3</td>\n",
              "      <td>asymmetric</td>\n",
              "      <td>0.31</td>\n",
              "      <td>0.319907</td>\n",
              "    </tr>\n",
              "    <tr>\n",
              "      <th>47</th>\n",
              "      <td>100% Corpus</td>\n",
              "      <td>3</td>\n",
              "      <td>0.9099999999999999</td>\n",
              "      <td>0.61</td>\n",
              "      <td>0.315857</td>\n",
              "    </tr>\n",
              "    <tr>\n",
              "      <th>50</th>\n",
              "      <td>100% Corpus</td>\n",
              "      <td>3</td>\n",
              "      <td>symmetric</td>\n",
              "      <td>0.01</td>\n",
              "      <td>0.313751</td>\n",
              "    </tr>\n",
              "    <tr>\n",
              "      <th>36</th>\n",
              "      <td>100% Corpus</td>\n",
              "      <td>3</td>\n",
              "      <td>0.31</td>\n",
              "      <td>0.31</td>\n",
              "      <td>0.311940</td>\n",
              "    </tr>\n",
              "    <tr>\n",
              "      <th>35</th>\n",
              "      <td>100% Corpus</td>\n",
              "      <td>3</td>\n",
              "      <td>0.31</td>\n",
              "      <td>0.01</td>\n",
              "      <td>0.298473</td>\n",
              "    </tr>\n",
              "    <tr>\n",
              "      <th>41</th>\n",
              "      <td>100% Corpus</td>\n",
              "      <td>3</td>\n",
              "      <td>0.61</td>\n",
              "      <td>0.31</td>\n",
              "      <td>0.281293</td>\n",
              "    </tr>\n",
              "    <tr>\n",
              "      <th>49</th>\n",
              "      <td>100% Corpus</td>\n",
              "      <td>3</td>\n",
              "      <td>0.9099999999999999</td>\n",
              "      <td>symmetric</td>\n",
              "      <td>0.280076</td>\n",
              "    </tr>\n",
              "    <tr>\n",
              "      <th>44</th>\n",
              "      <td>100% Corpus</td>\n",
              "      <td>3</td>\n",
              "      <td>0.61</td>\n",
              "      <td>symmetric</td>\n",
              "      <td>0.273886</td>\n",
              "    </tr>\n",
              "    <tr>\n",
              "      <th>45</th>\n",
              "      <td>100% Corpus</td>\n",
              "      <td>3</td>\n",
              "      <td>0.9099999999999999</td>\n",
              "      <td>0.01</td>\n",
              "      <td>0.269395</td>\n",
              "    </tr>\n",
              "    <tr>\n",
              "      <th>46</th>\n",
              "      <td>100% Corpus</td>\n",
              "      <td>3</td>\n",
              "      <td>0.9099999999999999</td>\n",
              "      <td>0.31</td>\n",
              "      <td>0.263765</td>\n",
              "    </tr>\n",
              "    <tr>\n",
              "      <th>40</th>\n",
              "      <td>100% Corpus</td>\n",
              "      <td>3</td>\n",
              "      <td>0.61</td>\n",
              "      <td>0.01</td>\n",
              "      <td>0.255103</td>\n",
              "    </tr>\n",
              "  </tbody>\n",
              "</table>\n",
              "</div>"
            ],
            "text/plain": [
              "   Validation_Set  Topics               Alpha                Beta  Coherence\n",
              "57    100% Corpus       3          asymmetric                0.61   0.457634\n",
              "52    100% Corpus       3           symmetric                0.61   0.398292\n",
              "37    100% Corpus       3                0.31                0.61   0.398292\n",
              "58    100% Corpus       3          asymmetric  0.9099999999999999   0.394118\n",
              "32    100% Corpus       3                0.01                0.61   0.389386\n",
              "38    100% Corpus       3                0.31  0.9099999999999999   0.373962\n",
              "53    100% Corpus       3           symmetric  0.9099999999999999   0.370122\n",
              "48    100% Corpus       3  0.9099999999999999  0.9099999999999999   0.354788\n",
              "55    100% Corpus       3          asymmetric                0.01   0.349766\n",
              "31    100% Corpus       3                0.01                0.31   0.348468\n",
              "43    100% Corpus       3                0.61  0.9099999999999999   0.348079\n",
              "54    100% Corpus       3           symmetric           symmetric   0.338527\n",
              "39    100% Corpus       3                0.31           symmetric   0.336561\n",
              "33    100% Corpus       3                0.01  0.9099999999999999   0.336204\n",
              "42    100% Corpus       3                0.61                0.61   0.332274\n",
              "34    100% Corpus       3                0.01           symmetric   0.332117\n",
              "30    100% Corpus       3                0.01                0.01   0.330309\n",
              "59    100% Corpus       3          asymmetric           symmetric   0.325850\n",
              "51    100% Corpus       3           symmetric                0.31   0.324543\n",
              "56    100% Corpus       3          asymmetric                0.31   0.319907\n",
              "47    100% Corpus       3  0.9099999999999999                0.61   0.315857\n",
              "50    100% Corpus       3           symmetric                0.01   0.313751\n",
              "36    100% Corpus       3                0.31                0.31   0.311940\n",
              "35    100% Corpus       3                0.31                0.01   0.298473\n",
              "41    100% Corpus       3                0.61                0.31   0.281293\n",
              "49    100% Corpus       3  0.9099999999999999           symmetric   0.280076\n",
              "44    100% Corpus       3                0.61           symmetric   0.273886\n",
              "45    100% Corpus       3  0.9099999999999999                0.01   0.269395\n",
              "46    100% Corpus       3  0.9099999999999999                0.31   0.263765\n",
              "40    100% Corpus       3                0.61                0.01   0.255103"
            ]
          },
          "metadata": {
            "tags": []
          },
          "execution_count": 34
        }
      ]
    },
    {
      "cell_type": "code",
      "metadata": {
        "colab": {
          "base_uri": "https://localhost:8080/",
          "height": 17
        },
        "id": "cfHjPIx9yAlK",
        "outputId": "f7645c47-5e56-430e-9442-5f2aa39da15e"
      },
      "source": [
        "# so optimal model parameters are Topics = 3, Alpha='asymmetric' Beta = 0.6"
      ],
      "execution_count": null,
      "outputs": [
        {
          "output_type": "display_data",
          "data": {
            "text/html": [
              "\n",
              "  <style>\n",
              "    pre {\n",
              "        white-space: pre-wrap;\n",
              "    }\n",
              "  </style>\n",
              "  "
            ],
            "text/plain": [
              "<IPython.core.display.HTML object>"
            ]
          },
          "metadata": {
            "tags": []
          }
        }
      ]
    },
    {
      "cell_type": "code",
      "metadata": {
        "colab": {
          "base_uri": "https://localhost:8080/",
          "height": 17
        },
        "id": "iA7n8Hw6yYTl",
        "outputId": "071411e7-b32d-4f74-917a-33ac112d6a2d"
      },
      "source": [
        "# final model with these parameters\n",
        "\n",
        "lda_model = gensim.models.LdaMulticore(corpus=corpus,\n",
        "                                       id2word=id2word,\n",
        "                                       num_topics=3,\n",
        "                                       random_state=100,\n",
        "                                       chunksize=20,\n",
        "                                       passes=10,\n",
        "                                       alpha='asymmetric',\n",
        "                                       eta=0.6)"
      ],
      "execution_count": null,
      "outputs": [
        {
          "output_type": "display_data",
          "data": {
            "text/html": [
              "\n",
              "  <style>\n",
              "    pre {\n",
              "        white-space: pre-wrap;\n",
              "    }\n",
              "  </style>\n",
              "  "
            ],
            "text/plain": [
              "<IPython.core.display.HTML object>"
            ]
          },
          "metadata": {
            "tags": []
          }
        },
        {
          "output_type": "display_data",
          "data": {
            "text/html": [
              "\n",
              "  <style>\n",
              "    pre {\n",
              "        white-space: pre-wrap;\n",
              "    }\n",
              "  </style>\n",
              "  "
            ],
            "text/plain": [
              "<IPython.core.display.HTML object>"
            ]
          },
          "metadata": {
            "tags": []
          }
        }
      ]
    },
    {
      "cell_type": "code",
      "metadata": {
        "colab": {
          "base_uri": "https://localhost:8080/",
          "height": 751
        },
        "id": "N4u0blnhzNan",
        "outputId": "090d27d3-e797-4945-cb6a-c9840cf4f4b5"
      },
      "source": [
        "!pip install pyLDAvis"
      ],
      "execution_count": null,
      "outputs": [
        {
          "output_type": "display_data",
          "data": {
            "text/html": [
              "\n",
              "  <style>\n",
              "    pre {\n",
              "        white-space: pre-wrap;\n",
              "    }\n",
              "  </style>\n",
              "  "
            ],
            "text/plain": [
              "<IPython.core.display.HTML object>"
            ]
          },
          "metadata": {
            "tags": []
          }
        },
        {
          "output_type": "display_data",
          "data": {
            "text/html": [
              "\n",
              "  <style>\n",
              "    pre {\n",
              "        white-space: pre-wrap;\n",
              "    }\n",
              "  </style>\n",
              "  "
            ],
            "text/plain": [
              "<IPython.core.display.HTML object>"
            ]
          },
          "metadata": {
            "tags": []
          }
        },
        {
          "output_type": "stream",
          "text": [
            "Collecting pyLDAvis\n",
            "\u001b[?25l  Downloading https://files.pythonhosted.org/packages/24/38/6d81eff34c84c9158d3b7c846bff978ac88b0c2665548941946d3d591158/pyLDAvis-3.2.2.tar.gz (1.7MB)\n",
            "\u001b[K     |████████████████████████████████| 1.7MB 5.5MB/s \n",
            "\u001b[?25hRequirement already satisfied: wheel>=0.23.0 in /usr/local/lib/python3.7/dist-packages (from pyLDAvis) (0.36.2)\n",
            "Requirement already satisfied: numpy>=1.9.2 in /usr/local/lib/python3.7/dist-packages (from pyLDAvis) (1.19.5)\n",
            "Requirement already satisfied: scipy>=0.18.0 in /usr/local/lib/python3.7/dist-packages (from pyLDAvis) (1.4.1)\n",
            "Requirement already satisfied: joblib>=0.8.4 in /usr/local/lib/python3.7/dist-packages (from pyLDAvis) (1.0.1)\n",
            "Requirement already satisfied: jinja2>=2.7.2 in /usr/local/lib/python3.7/dist-packages (from pyLDAvis) (2.11.3)\n",
            "Requirement already satisfied: numexpr in /usr/local/lib/python3.7/dist-packages (from pyLDAvis) (2.7.2)\n",
            "Requirement already satisfied: future in /usr/local/lib/python3.7/dist-packages (from pyLDAvis) (0.16.0)\n",
            "Collecting funcy\n",
            "  Downloading https://files.pythonhosted.org/packages/66/89/479de0afbbfb98d1c4b887936808764627300208bb771fcd823403645a36/funcy-1.15-py2.py3-none-any.whl\n",
            "Requirement already satisfied: pandas>=0.17.0 in /usr/local/lib/python3.7/dist-packages (from pyLDAvis) (1.1.5)\n",
            "Requirement already satisfied: MarkupSafe>=0.23 in /usr/local/lib/python3.7/dist-packages (from jinja2>=2.7.2->pyLDAvis) (1.1.1)\n",
            "Requirement already satisfied: pytz>=2017.2 in /usr/local/lib/python3.7/dist-packages (from pandas>=0.17.0->pyLDAvis) (2018.9)\n",
            "Requirement already satisfied: python-dateutil>=2.7.3 in /usr/local/lib/python3.7/dist-packages (from pandas>=0.17.0->pyLDAvis) (2.8.1)\n",
            "Requirement already satisfied: six>=1.5 in /usr/local/lib/python3.7/dist-packages (from python-dateutil>=2.7.3->pandas>=0.17.0->pyLDAvis) (1.15.0)\n",
            "Building wheels for collected packages: pyLDAvis\n",
            "  Building wheel for pyLDAvis (setup.py) ... \u001b[?25l\u001b[?25hdone\n",
            "  Created wheel for pyLDAvis: filename=pyLDAvis-3.2.2-py2.py3-none-any.whl size=135593 sha256=21cc8c1c2baef9404b70c912e02967879ca117e617c433ff178225fd55a41584\n",
            "  Stored in directory: /root/.cache/pip/wheels/74/df/b6/97234c8446a43be05c9a8687ee0db1f1b5ade5f27729187eae\n",
            "Successfully built pyLDAvis\n",
            "Installing collected packages: funcy, pyLDAvis\n",
            "Successfully installed funcy-1.15 pyLDAvis-3.2.2\n"
          ],
          "name": "stdout"
        }
      ]
    },
    {
      "cell_type": "code",
      "metadata": {
        "colab": {
          "base_uri": "https://localhost:8080/",
          "height": 949
        },
        "id": "ifz8tbAsyy9c",
        "outputId": "ef2f199f-7826-4dc3-8daf-feb9a371dceb"
      },
      "source": [
        "# visualize topics\n",
        "import pyLDAvis.gensim\n",
        "import pickle\n",
        "import pyLDAvis\n",
        "\n",
        "pyLDAvis.enable_notebook()\n",
        "\n",
        "LDAvis_prepared = pyLDAvis.gensim.prepare(lda_model, corpus, id2word)\n",
        "\n",
        "LDAvis_prepared"
      ],
      "execution_count": null,
      "outputs": [
        {
          "output_type": "display_data",
          "data": {
            "text/html": [
              "\n",
              "  <style>\n",
              "    pre {\n",
              "        white-space: pre-wrap;\n",
              "    }\n",
              "  </style>\n",
              "  "
            ],
            "text/plain": [
              "<IPython.core.display.HTML object>"
            ]
          },
          "metadata": {
            "tags": []
          }
        },
        {
          "output_type": "display_data",
          "data": {
            "text/html": [
              "\n",
              "  <style>\n",
              "    pre {\n",
              "        white-space: pre-wrap;\n",
              "    }\n",
              "  </style>\n",
              "  "
            ],
            "text/plain": [
              "<IPython.core.display.HTML object>"
            ]
          },
          "metadata": {
            "tags": []
          }
        },
        {
          "output_type": "stream",
          "text": [
            "/usr/local/lib/python3.7/dist-packages/past/types/oldstr.py:5: DeprecationWarning: Using or importing the ABCs from 'collections' instead of from 'collections.abc' is deprecated since Python 3.3,and in 3.9 it will stop working\n",
            "  from collections import Iterable\n"
          ],
          "name": "stderr"
        },
        {
          "output_type": "execute_result",
          "data": {
            "text/html": [
              "\n",
              "<link rel=\"stylesheet\" type=\"text/css\" href=\"https://cdn.jsdelivr.net/gh/bmabey/pyLDAvis@3.2.2/pyLDAvis/js/ldavis.v1.0.0.css\">\n",
              "\n",
              "\n",
              "<div id=\"ldavis_el641404125811606561172265587\"></div>\n",
              "<script type=\"text/javascript\">\n",
              "\n",
              "var ldavis_el641404125811606561172265587_data = {\"mdsDat\": {\"x\": [0.11379414183687472, -0.05698176804389791, -0.056812373792976816], \"y\": [-3.389864832512616e-05, -0.03414124295166326, 0.034175141599988405], \"topics\": [1, 2, 3], \"cluster\": [1, 1, 1], \"Freq\": [79.8688292051705, 13.231277072726877, 6.899893722102628]}, \"tinfo\": {\"Term\": [\"show\", \"celebration\", \"real\", \"travel\", \"offer\", \"come\", \"boyfriend\", \"order\", \"ranch\", \"create\", \"write\", \"win\", \"help\", \"will\", \"look\", \"tv\", \"famous\", \"laurel\", \"designer\", \"critic\", \"soul\", \"know\", \"close\", \"guide\", \"ceramic\", \"christmastime\", \"beautiful\", \"tree\", \"unlikely\", \"fill\", \"help\", \"town\", \"holiday\", \"family\", \"love\", \"time\", \"find\", \"life\", \"fall\", \"together\", \"home\", \"return\", \"year\", \"plan\", \"make\", \"meet\", \"small\", \"spend\", \"work\", \"new\", \"true\", \"way\", \"single\", \"job\", \"\\u2019\", \"back\", \"get\", \"joy\", \"unexpected\", \"wedding\", \"event\", \"must\", \"take\", \"young\", \"romance\", \"local\", \"go\", \"boyfriend\", \"tv\", \"travel\", \"storm\", \"hit\", \"song\", \"pretend\", \"spruce\", \"firefighter\", \"obtain\", \"citywide\", \"game\", \"incompatible\", \"attraction\", \"romantic\", \"train\", \"designer\", \"tear\", \"retreat\", \"feature\", \"seemingly\", \"join\", \"famous\", \"include\", \"talk\", \"complicate\", \"challenge\", \"distract\", \"ignore\", \"hand\", \"order\", \"beautiful\", \"celebration\", \"show\", \"create\", \"write\", \"come\", \"close\", \"win\", \"take\", \"tree\", \"must\", \"big\", \"however\", \"partner\", \"property\", \"ranch\", \"soul\", \"ceramic\", \"guide\", \"responsible\", \"clay\", \"memphis\", \"skate\", \"paula\", \"development\", \"employee\", \"bride\", \"background\", \"notsojolly\", \"revelation\", \"american\", \"eternal\", \"independentminde\", \"italian\", \"ceo\", \"critic\", \"costly\", \"counsel\", \"demolition\", \"heir\", \"legal\", \"mistake\", \"proposition\", \"slate\", \"spare\", \"win\", \"degree\", \"earn\", \"orphan\", \"tenure\", \"real\", \"laurel\", \"offer\", \"bakery\", \"wake\", \"will\", \"christmastime\", \"aspire\", \"assistant\"], \"Freq\": [12.0, 9.0, 7.0, 6.0, 7.0, 15.0, 5.0, 5.0, 3.0, 7.0, 7.0, 3.0, 65.0, 4.0, 6.0, 3.0, 3.0, 3.0, 3.0, 2.0, 2.0, 6.0, 7.0, 2.0, 2.0, 4.0, 3.0, 8.0, 6.0, 4.0, 64.83514565920217, 56.09847154689879, 53.69641263881013, 55.92088665177159, 44.06031933963112, 36.82886706180732, 80.70670896492082, 34.74882793892233, 33.57145497169126, 34.37908433914469, 34.743703471190614, 24.54991125641691, 22.631756719763825, 24.720173905625725, 26.60304692371035, 23.029070839467064, 20.33694717836216, 20.006202545080768, 34.96659572929761, 20.172054176160163, 16.575598907388535, 17.884612161534005, 16.93621454901905, 18.18653829029134, 25.843711246983823, 16.80082920389813, 26.16714026081372, 13.938290484845838, 17.845461890710325, 17.5785665791906, 17.53532888270418, 33.8724246803935, 34.429021393661415, 19.336693044753382, 23.282961709706388, 18.317629684864645, 18.043371264214016, 4.146001271217792, 2.6045855770531916, 4.73112440288705, 2.1922828005818356, 2.049416044004207, 1.8217253696542648, 2.177372324130656, 1.7012746416464073, 1.5969049656803673, 1.5969049656803673, 1.595589303118273, 1.595589303118273, 1.595589303118273, 1.632001376003868, 1.8476013474260615, 1.4571477906498602, 2.4312597044503295, 1.4267764952378668, 1.2458540481099822, 1.361616253128516, 1.5802003872845491, 2.014697262317636, 2.3380421486080407, 1.296513002937966, 1.2129931297924543, 1.6475154362114584, 1.4472217743586604, 1.251459107270188, 1.171233787838434, 1.23628919409073, 3.0156963716594327, 2.1395053564190603, 4.446182373008614, 4.250482918465712, 2.2800620649492687, 2.2666527721056515, 3.0909913869760377, 1.8847072031562484, 1.576547049773786, 2.472813674241097, 1.817396911179223, 1.9652288256778803, 1.7770147976963702, 1.664993201923006, 1.6428141060493704, 1.597634425649088, 1.9485140281227045, 1.4254342498807884, 1.3657368008308597, 1.3657368008308597, 0.9968169062849972, 0.944811732551083, 0.944811732551083, 0.896711517006939, 0.7978513769913363, 0.8733479827086156, 0.8921175046721698, 0.8316198483231402, 0.7560373732164261, 0.6724277798801175, 0.7046251753217764, 0.7464046882252637, 0.7464046882252637, 0.7464046882252637, 0.7464046882252637, 0.7059021485531066, 1.1855394100494787, 0.7342925246141676, 0.7342925246141676, 0.7342925246141676, 0.7342925246141676, 0.7342925246141676, 0.7342925246141676, 0.7342925246141676, 0.7342925246141676, 0.7342925246141676, 1.4351870089015104, 0.8282861123939778, 0.8282861123939778, 0.8282861123939778, 0.8282861123939778, 1.5675705108472964, 0.9796879667118139, 1.2849736823438866, 0.8568702193386473, 0.8462472217612184, 0.9128478064382544, 0.8182844275543271, 0.7648909366141153, 0.7537708983875072], \"Total\": [12.0, 9.0, 7.0, 6.0, 7.0, 15.0, 5.0, 5.0, 3.0, 7.0, 7.0, 3.0, 65.0, 4.0, 6.0, 3.0, 3.0, 3.0, 3.0, 2.0, 2.0, 6.0, 7.0, 2.0, 2.0, 4.0, 3.0, 8.0, 6.0, 4.0, 65.33452017946755, 56.583054010324574, 54.219336060189235, 56.48358102993656, 44.58379021564619, 37.345063942060655, 81.8640977262449, 35.27620967739604, 34.13007660461487, 34.958775308359655, 35.394121555199234, 25.02250265699818, 23.090774174554454, 25.261953888231563, 27.220178939255415, 23.600424959568926, 20.860310456739484, 20.524657428232988, 35.883431598848794, 20.731907927963164, 17.06203501223676, 18.416852207588196, 17.441640746920765, 18.734046341664737, 26.638993987294526, 17.320674313140323, 26.980190521327795, 14.390817314687267, 18.429737771034663, 18.156885327886137, 18.16522823192665, 36.034327706118404, 37.09336490438631, 20.111485039805334, 25.016203493175613, 19.155215559364642, 18.923914801002283, 5.445417946318457, 3.494942802169132, 6.413221860178874, 3.042148311003865, 2.887751229221801, 2.5677965313394253, 3.078398939805094, 2.4064996091011936, 2.3081571741188824, 2.3081571741188824, 2.30926423821124, 2.30926423821124, 2.30926423821124, 2.427663958332189, 2.7624471849482846, 2.1968379087555245, 3.7023041096592455, 2.213136413833912, 1.9750208606198272, 2.1963528730934887, 2.563335530013213, 3.268606767126733, 3.813306232190637, 2.125791604321938, 1.9899288663865176, 2.7125797329143087, 2.4104073629918563, 2.0926052566148323, 1.9593569164067053, 2.0778073730363102, 5.354165140159525, 3.7238600058126683, 9.190231848072772, 12.189084175231, 7.297604116066189, 7.356020596022215, 15.54910629296242, 7.607645299681378, 3.640315048177597, 37.09336490438631, 8.528328443696305, 36.034327706118404, 10.812893010730608, 8.096163994899682, 5.499701736922747, 4.932316811651648, 3.131093431742336, 2.492771926722467, 2.465238695019914, 2.465238695019914, 1.8636117010858575, 1.8562487707472728, 1.8562487707472728, 1.8046447425631498, 1.6416919527458997, 1.8089685550566204, 1.8739980155023788, 1.7704113115054365, 1.6386440432657388, 1.5040792346226777, 1.5901233557707246, 1.7669692842274565, 1.7669692842274565, 1.7669692842274565, 1.7669692842274565, 1.6769692106491236, 2.8343181728743208, 1.7915694352562899, 1.7915694352562899, 1.7915694352562899, 1.7915694352562899, 1.7915694352562899, 1.7915694352562899, 1.7915694352562899, 1.7915694352562899, 1.7915694352562899, 3.640315048177597, 2.1176077044838073, 2.1176077044838073, 2.1176077044838073, 2.1176077044838073, 7.8666830666505945, 3.507577752438576, 7.664779238721536, 3.005798488139405, 3.042133072743849, 4.626202961977175, 4.096721087815198, 2.555227169873284, 2.512909348372714], \"Category\": [\"Default\", \"Default\", \"Default\", \"Default\", \"Default\", \"Default\", \"Default\", \"Default\", \"Default\", \"Default\", \"Default\", \"Default\", \"Default\", \"Default\", \"Default\", \"Default\", \"Default\", \"Default\", \"Default\", \"Default\", \"Default\", \"Default\", \"Default\", \"Default\", \"Default\", \"Default\", \"Default\", \"Default\", \"Default\", \"Default\", \"Topic1\", \"Topic1\", \"Topic1\", \"Topic1\", \"Topic1\", \"Topic1\", \"Topic1\", \"Topic1\", \"Topic1\", \"Topic1\", \"Topic1\", \"Topic1\", \"Topic1\", \"Topic1\", \"Topic1\", \"Topic1\", \"Topic1\", \"Topic1\", \"Topic1\", \"Topic1\", \"Topic1\", \"Topic1\", \"Topic1\", \"Topic1\", \"Topic1\", \"Topic1\", \"Topic1\", \"Topic1\", \"Topic1\", \"Topic1\", \"Topic1\", \"Topic1\", \"Topic1\", \"Topic1\", \"Topic1\", \"Topic1\", \"Topic1\", \"Topic2\", \"Topic2\", \"Topic2\", \"Topic2\", \"Topic2\", \"Topic2\", \"Topic2\", \"Topic2\", \"Topic2\", \"Topic2\", \"Topic2\", \"Topic2\", \"Topic2\", \"Topic2\", \"Topic2\", \"Topic2\", \"Topic2\", \"Topic2\", \"Topic2\", \"Topic2\", \"Topic2\", \"Topic2\", \"Topic2\", \"Topic2\", \"Topic2\", \"Topic2\", \"Topic2\", \"Topic2\", \"Topic2\", \"Topic2\", \"Topic2\", \"Topic2\", \"Topic2\", \"Topic2\", \"Topic2\", \"Topic2\", \"Topic2\", \"Topic2\", \"Topic2\", \"Topic2\", \"Topic2\", \"Topic2\", \"Topic2\", \"Topic2\", \"Topic2\", \"Topic2\", \"Topic3\", \"Topic3\", \"Topic3\", \"Topic3\", \"Topic3\", \"Topic3\", \"Topic3\", \"Topic3\", \"Topic3\", \"Topic3\", \"Topic3\", \"Topic3\", \"Topic3\", \"Topic3\", \"Topic3\", \"Topic3\", \"Topic3\", \"Topic3\", \"Topic3\", \"Topic3\", \"Topic3\", \"Topic3\", \"Topic3\", \"Topic3\", \"Topic3\", \"Topic3\", \"Topic3\", \"Topic3\", \"Topic3\", \"Topic3\", \"Topic3\", \"Topic3\", \"Topic3\", \"Topic3\", \"Topic3\", \"Topic3\", \"Topic3\", \"Topic3\", \"Topic3\", \"Topic3\", \"Topic3\", \"Topic3\", \"Topic3\", \"Topic3\"], \"logprob\": [30.0, 29.0, 28.0, 27.0, 26.0, 25.0, 24.0, 23.0, 22.0, 21.0, 20.0, 19.0, 18.0, 17.0, 16.0, 15.0, 14.0, 13.0, 12.0, 11.0, 10.0, 9.0, 8.0, 7.0, 6.0, 5.0, 4.0, 3.0, 2.0, 1.0, -4.2927, -4.4374, -4.4812, -4.4406, -4.679, -4.8582, -4.0737, -4.9164, -4.9508, -4.9271, -4.9165, -5.2638, -5.3452, -5.2569, -5.1835, -5.3278, -5.4521, -5.4685, -4.9101, -5.4602, -5.6566, -5.5806, -5.6351, -5.5638, -5.2124, -5.6431, -5.2, -5.8299, -5.5828, -5.5978, -5.6003, -4.9419, -4.9256, -5.5025, -5.3168, -5.5566, -5.5717, -5.2446, -5.7094, -5.1125, -5.8818, -5.9492, -6.0669, -5.8886, -6.1353, -6.1986, -6.1986, -6.1995, -6.1995, -6.1995, -6.1769, -6.0528, -6.2902, -5.7783, -6.3113, -6.4469, -6.358, -6.2092, -5.9662, -5.8174, -6.407, -6.4736, -6.1674, -6.2971, -6.4424, -6.5087, -6.4546, -5.5629, -5.9061, -5.1747, -5.2197, -5.8425, -5.8484, -5.5382, -6.0329, -6.2115, -5.7614, -6.0693, -5.9911, -6.0918, -6.1569, -6.1703, -6.1982, -5.3486, -5.6612, -5.7039, -5.7039, -6.0188, -6.0724, -6.0724, -6.1247, -6.2415, -6.1511, -6.1298, -6.2, -6.2953, -6.4125, -6.3657, -6.3081, -6.3081, -6.3081, -6.3081, -6.3639, -5.8454, -6.3245, -6.3245, -6.3245, -6.3245, -6.3245, -6.3245, -6.3245, -6.3245, -6.3245, -5.6543, -6.204, -6.204, -6.204, -6.204, -5.5661, -6.0362, -5.7649, -6.1701, -6.1826, -6.1068, -6.2162, -6.2837, -6.2983], \"loglift\": [30.0, 29.0, 28.0, 27.0, 26.0, 25.0, 24.0, 23.0, 22.0, 21.0, 20.0, 19.0, 18.0, 17.0, 16.0, 15.0, 14.0, 13.0, 12.0, 11.0, 10.0, 9.0, 8.0, 7.0, 6.0, 5.0, 4.0, 3.0, 2.0, 1.0, 0.2171, 0.2162, 0.2151, 0.2148, 0.213, 0.2109, 0.2105, 0.2097, 0.2083, 0.2081, 0.2062, 0.2057, 0.2047, 0.2031, 0.2019, 0.2003, 0.1994, 0.1992, 0.1989, 0.1974, 0.1959, 0.1955, 0.1954, 0.1951, 0.1945, 0.1943, 0.1942, 0.1928, 0.1926, 0.1924, 0.1895, 0.1629, 0.1502, 0.1855, 0.153, 0.1801, 0.1771, 1.75, 1.7285, 1.7184, 1.695, 1.6797, 1.6793, 1.6763, 1.6758, 1.6542, 1.6542, 1.6529, 1.6529, 1.6529, 1.6255, 1.6204, 1.612, 1.602, 1.5836, 1.5618, 1.5445, 1.5388, 1.5387, 1.5334, 1.5281, 1.5276, 1.524, 1.5124, 1.5085, 1.508, 1.5034, 1.4485, 1.4684, 1.2965, 0.9691, 0.8592, 0.8454, 0.4071, 0.6272, 1.1858, -0.6855, 0.4766, -0.8863, 0.2168, 0.441, 0.8143, 0.8953, 2.1993, 2.1147, 2.0831, 2.0831, 2.048, 1.9983, 1.9983, 1.9743, 1.9521, 1.9455, 1.9314, 1.9181, 1.9001, 1.8686, 1.8598, 1.8119, 1.8119, 1.8119, 1.8119, 1.8084, 1.8021, 1.7817, 1.7817, 1.7817, 1.7817, 1.7817, 1.7817, 1.7817, 1.7817, 1.7817, 1.7429, 1.735, 1.735, 1.735, 1.735, 1.0606, 1.3982, 0.8878, 1.4187, 1.3942, 1.0507, 1.0629, 1.4675, 1.4696]}, \"token.table\": {\"Topic\": [1, 3, 1, 2, 3, 1, 3, 1, 2, 1, 1, 3, 1, 3, 1, 2, 1, 2, 1, 2, 1, 3, 1, 2, 1, 3, 1, 3, 1, 2, 1, 3, 1, 2, 1, 3, 1, 2, 1, 2, 1, 2, 1, 3, 1, 3, 1, 2, 1, 3, 1, 3, 1, 3, 1, 2, 1, 3, 1, 2, 1, 3, 1, 3, 1, 3, 1, 1, 1, 1, 2, 3, 1, 2, 1, 3, 1, 2, 1, 2, 1, 2, 1, 2, 1, 2, 1, 3, 1, 2, 1, 3, 1, 1, 2, 1, 1, 1, 2, 1, 2, 1, 2, 1, 2, 1, 3, 1, 3, 1, 1, 2, 1, 1, 2, 3, 1, 3, 1, 3, 1, 1, 2, 1, 2, 3, 1, 1, 1, 1, 3, 1, 3, 1, 2, 1, 1, 3, 1, 2, 1, 3, 1, 2, 1, 3, 1, 2, 1, 3, 1, 1, 2, 1, 2, 1, 3, 1, 3, 1, 3, 1, 3, 1, 2, 1, 1, 3, 1, 2, 1, 2, 1, 2, 1, 2, 1, 1, 3, 1, 3, 1, 1, 2, 1, 3, 1, 3, 1, 1, 2, 1, 2, 1, 2, 1, 2, 1, 2, 1, 3, 1, 1, 1, 1, 2, 1, 2, 1, 2, 1, 1, 2, 1, 1, 3, 1, 2, 3, 1, 1, 1, 3, 1, 2, 3, 1, 2, 1, 2, 1, 1, 2, 1, 2], \"Freq\": [0.5659407941758388, 0.5659407941758388, 0.3913546364058077, 0.3913546364058077, 0.3913546364058077, 0.39794511515012293, 0.39794511515012293, 0.41191862513253374, 0.8238372502650675, 0.9814860375905201, 0.6102606628386773, 0.6102606628386773, 0.6653805994952123, 0.33269029974760617, 0.26853855903258295, 0.5370771180651659, 0.8323396884689869, 0.1849643752153304, 0.18364063325498842, 0.7345625330199537, 0.5648404941276999, 0.5648404941276999, 0.5440559153084391, 0.4352447322467513, 0.5963138700757175, 0.5963138700757175, 0.4056402335482253, 0.4056402335482253, 0.4148676341408017, 0.4148676341408017, 0.7322929571463492, 0.2440976523821164, 0.4330383606401846, 0.8660767212803692, 0.5387208954742788, 0.5387208954742788, 0.7886803029908993, 0.26289343433029977, 0.7717485348615336, 0.1929371337153834, 0.3686527580612836, 0.7373055161225672, 0.5581698260313013, 0.5581698260313013, 0.5581698260313013, 0.5581698260313013, 0.6851563774187405, 0.2740625509674962, 0.35281854012384445, 0.35281854012384445, 0.4722309981601442, 0.4722309981601442, 0.5581698260313013, 0.5581698260313013, 0.2701020689767266, 0.5402041379534532, 0.5528012066349601, 0.5528012066349601, 0.4778732141854986, 0.4778732141854986, 0.4722309981601442, 0.4722309981601442, 0.5336184946449484, 0.5336184946449484, 0.5659407941758388, 0.5659407941758388, 0.9909041477587245, 0.9961887983398994, 0.9914385557516218, 0.2622396259598402, 0.5244792519196804, 0.2622396259598402, 0.45530024444183864, 0.45530024444183864, 0.6764003876196716, 0.22546679587322388, 0.9894447291273586, 0.012215367026263685, 0.4332460593294478, 0.8664921186588956, 0.4330383606401846, 0.8660767212803692, 0.9636699925987195, 0.037064230484566134, 0.9511773958656087, 0.052843188659200485, 0.4056402335482253, 0.4056402335482253, 0.48127656729733087, 0.48127656729733087, 0.5581698260313013, 0.5581698260313013, 0.9948798861834655, 0.34629021706606034, 0.6925804341321207, 0.9959546524150398, 0.9888647736437086, 0.7410917076012545, 0.2470305692004182, 0.510371536511028, 0.510371536511028, 0.4704129971945059, 0.4704129971945059, 0.4330383606401846, 0.8660767212803692, 0.5659407941758388, 0.5659407941758388, 0.5659407941758388, 0.5659407941758388, 0.9608175229057585, 0.3059407482286557, 0.6118814964573114, 0.9728425907895865, 0.7662637113700433, 0.15325274227400865, 0.15325274227400865, 0.5701940601628969, 0.28509703008144843, 0.5581698260313013, 0.5581698260313013, 0.9921700863011644, 0.9396918528123858, 0.05220510293402143, 0.6187975250326462, 0.15469938125816154, 0.15469938125816154, 0.9869057742102574, 0.9919111869269204, 0.9745587225400584, 0.5387208954742788, 0.5387208954742788, 0.5581698260313013, 0.5581698260313013, 0.9435447298279138, 0.05550263116634788, 0.9646965474424104, 0.6648585905455081, 0.6648585905455081, 0.4332460593294478, 0.8664921186588956, 0.7828014105988502, 0.13046690176647505, 0.3735409625300446, 0.5603114437950669, 0.4722309981601442, 0.4722309981601442, 0.7273121691573994, 0.3636560845786997, 0.609127673634141, 0.609127673634141, 0.9896304977283014, 0.3248441867197739, 0.6496883734395478, 0.608233435636794, 0.40548895709119603, 0.5581698260313013, 0.5581698260313013, 0.3193772468947174, 0.6387544937894348, 0.7627102743513253, 0.25423675811710844, 0.5365924668842426, 0.5365924668842426, 0.5063237659607134, 0.5063237659607134, 0.9991007031827854, 0.6288820275300624, 0.6288820275300624, 0.919404097679105, 0.0799481824068787, 0.3619978711081569, 0.7239957422163138, 0.39011670079525074, 0.7802334015905015, 0.6563249449254368, 0.3281624724627184, 0.9746789448694078, 0.5541256826979103, 0.5541256826979103, 0.5581698260313013, 0.5581698260313013, 0.9587585017718881, 0.3894389558499698, 0.7788779116999396, 0.40115984510256203, 0.40115984510256203, 0.5581698260313013, 0.5581698260313013, 0.9744377010886774, 0.41554130996659133, 0.8310826199331827, 0.32871507164291225, 0.6574301432858245, 0.9166059775822463, 0.0539179986813086, 0.5025305260362825, 0.5025305260362825, 0.4518474296248448, 0.4518474296248448, 0.4722309981601442, 0.4722309981601442, 0.9907601191258901, 0.9725741162296843, 0.9896956072710712, 0.45519971956715044, 0.45519971956715044, 0.1559278661805267, 0.7796393309026335, 0.8207939042467384, 0.23451254407049668, 0.9963641492827633, 0.2861277155607099, 0.8583831466821299, 0.9766823719157813, 0.8994040690499258, 0.14990067817498762, 0.3287167181999869, 0.3287167181999869, 0.3287167181999869, 0.9773657190224699, 0.9913594581310052, 0.6484799790793964, 0.21615999302646544, 0.27470149884434225, 0.5494029976886845, 0.27470149884434225, 0.9753805151991891, 0.02786801471997683, 0.6797153344980793, 0.2718861337992317, 0.9960688119909602, 0.9447338156478527, 0.04972283240251856, 0.9760128333825484, 0.037538955130098015], \"Term\": [\"american\", \"american\", \"aspire\", \"aspire\", \"aspire\", \"assistant\", \"assistant\", \"attraction\", \"attraction\", \"back\", \"background\", \"background\", \"bakery\", \"bakery\", \"beautiful\", \"beautiful\", \"big\", \"big\", \"boyfriend\", \"boyfriend\", \"bride\", \"bride\", \"celebration\", \"celebration\", \"ceo\", \"ceo\", \"ceramic\", \"ceramic\", \"challenge\", \"challenge\", \"christmastime\", \"christmastime\", \"citywide\", \"citywide\", \"clay\", \"clay\", \"close\", \"close\", \"come\", \"come\", \"complicate\", \"complicate\", \"costly\", \"costly\", \"counsel\", \"counsel\", \"create\", \"create\", \"critic\", \"critic\", \"degree\", \"degree\", \"demolition\", \"demolition\", \"designer\", \"designer\", \"development\", \"development\", \"distract\", \"distract\", \"earn\", \"earn\", \"employee\", \"employee\", \"eternal\", \"eternal\", \"event\", \"fall\", \"family\", \"famous\", \"famous\", \"famous\", \"feature\", \"feature\", \"fill\", \"fill\", \"find\", \"find\", \"firefighter\", \"firefighter\", \"game\", \"game\", \"get\", \"get\", \"go\", \"go\", \"guide\", \"guide\", \"hand\", \"hand\", \"heir\", \"heir\", \"help\", \"hit\", \"hit\", \"holiday\", \"home\", \"however\", \"however\", \"ignore\", \"ignore\", \"include\", \"include\", \"incompatible\", \"incompatible\", \"independentminde\", \"independentminde\", \"italian\", \"italian\", \"job\", \"join\", \"join\", \"joy\", \"know\", \"know\", \"know\", \"laurel\", \"laurel\", \"legal\", \"legal\", \"life\", \"local\", \"local\", \"look\", \"look\", \"look\", \"love\", \"make\", \"meet\", \"memphis\", \"memphis\", \"mistake\", \"mistake\", \"must\", \"must\", \"new\", \"notsojolly\", \"notsojolly\", \"obtain\", \"obtain\", \"offer\", \"offer\", \"order\", \"order\", \"orphan\", \"orphan\", \"partner\", \"partner\", \"paula\", \"paula\", \"plan\", \"pretend\", \"pretend\", \"property\", \"property\", \"proposition\", \"proposition\", \"ranch\", \"ranch\", \"real\", \"real\", \"responsible\", \"responsible\", \"retreat\", \"retreat\", \"return\", \"revelation\", \"revelation\", \"romance\", \"romance\", \"romantic\", \"romantic\", \"seemingly\", \"seemingly\", \"show\", \"show\", \"single\", \"skate\", \"skate\", \"slate\", \"slate\", \"small\", \"song\", \"song\", \"soul\", \"soul\", \"spare\", \"spare\", \"spend\", \"spruce\", \"spruce\", \"storm\", \"storm\", \"take\", \"take\", \"talk\", \"talk\", \"tear\", \"tear\", \"tenure\", \"tenure\", \"time\", \"together\", \"town\", \"train\", \"train\", \"travel\", \"travel\", \"tree\", \"tree\", \"true\", \"tv\", \"tv\", \"unexpected\", \"unlikely\", \"unlikely\", \"wake\", \"wake\", \"wake\", \"way\", \"wedding\", \"will\", \"will\", \"win\", \"win\", \"win\", \"work\", \"work\", \"write\", \"write\", \"year\", \"young\", \"young\", \"\\u2019\", \"\\u2019\"]}, \"R\": 30, \"lambda.step\": 0.01, \"plot.opts\": {\"xlab\": \"PC1\", \"ylab\": \"PC2\"}, \"topic.order\": [1, 2, 3]};\n",
              "\n",
              "function LDAvis_load_lib(url, callback){\n",
              "  var s = document.createElement('script');\n",
              "  s.src = url;\n",
              "  s.async = true;\n",
              "  s.onreadystatechange = s.onload = callback;\n",
              "  s.onerror = function(){console.warn(\"failed to load library \" + url);};\n",
              "  document.getElementsByTagName(\"head\")[0].appendChild(s);\n",
              "}\n",
              "\n",
              "if(typeof(LDAvis) !== \"undefined\"){\n",
              "   // already loaded: just create the visualization\n",
              "   !function(LDAvis){\n",
              "       new LDAvis(\"#\" + \"ldavis_el641404125811606561172265587\", ldavis_el641404125811606561172265587_data);\n",
              "   }(LDAvis);\n",
              "}else if(typeof define === \"function\" && define.amd){\n",
              "   // require.js is available: use it to load d3/LDAvis\n",
              "   require.config({paths: {d3: \"https://d3js.org/d3.v5\"}});\n",
              "   require([\"d3\"], function(d3){\n",
              "      window.d3 = d3;\n",
              "      LDAvis_load_lib(\"https://cdn.jsdelivr.net/gh/bmabey/pyLDAvis@3.2.2/pyLDAvis/js/ldavis.v3.0.0.js\", function(){\n",
              "        new LDAvis(\"#\" + \"ldavis_el641404125811606561172265587\", ldavis_el641404125811606561172265587_data);\n",
              "      });\n",
              "    });\n",
              "}else{\n",
              "    // require.js not available: dynamically load d3 & LDAvis\n",
              "    LDAvis_load_lib(\"https://d3js.org/d3.v5.js\", function(){\n",
              "         LDAvis_load_lib(\"https://cdn.jsdelivr.net/gh/bmabey/pyLDAvis@3.2.2/pyLDAvis/js/ldavis.v3.0.0.js\", function(){\n",
              "                 new LDAvis(\"#\" + \"ldavis_el641404125811606561172265587\", ldavis_el641404125811606561172265587_data);\n",
              "            })\n",
              "         });\n",
              "}\n",
              "</script>"
            ],
            "text/plain": [
              "PreparedData(topic_coordinates=              x         y  topics  cluster       Freq\n",
              "topic                                                \n",
              "0      0.113794 -0.000034       1        1  79.868829\n",
              "1     -0.056982 -0.034141       2        1  13.231277\n",
              "2     -0.056812  0.034175       3        1   6.899894, topic_info=               Term       Freq      Total Category  logprob  loglift\n",
              "34             show  12.000000  12.000000  Default  30.0000  30.0000\n",
              "1102    celebration   9.000000   9.000000  Default  29.0000  29.0000\n",
              "336            real   7.000000   7.000000  Default  28.0000  28.0000\n",
              "922          travel   6.000000   6.000000  Default  27.0000  27.0000\n",
              "810           offer   7.000000   7.000000  Default  26.0000  26.0000\n",
              "...             ...        ...        ...      ...      ...      ...\n",
              "816            wake   0.846247   3.042133   Topic3  -6.1826   1.3942\n",
              "272            will   0.912848   4.626203   Topic3  -6.1068   1.0507\n",
              "1040  christmastime   0.818284   4.096721   Topic3  -6.2162   1.0629\n",
              "915          aspire   0.764891   2.555227   Topic3  -6.2837   1.4675\n",
              "697       assistant   0.753771   2.512909   Topic3  -6.2983   1.4696\n",
              "\n",
              "[157 rows x 6 columns], token_table=      Topic      Freq      Term\n",
              "term                           \n",
              "1764      1  0.565941  american\n",
              "1764      3  0.565941  american\n",
              "915       1  0.391355    aspire\n",
              "915       2  0.391355    aspire\n",
              "915       3  0.391355    aspire\n",
              "...     ...       ...       ...\n",
              "147       1  0.996069      year\n",
              "79        1  0.944734     young\n",
              "79        2  0.049723     young\n",
              "553       1  0.976013         ’\n",
              "553       2  0.037539         ’\n",
              "\n",
              "[235 rows x 3 columns], R=30, lambda_step=0.01, plot_opts={'xlab': 'PC1', 'ylab': 'PC2'}, topic_order=[1, 2, 3])"
            ]
          },
          "metadata": {
            "tags": []
          },
          "execution_count": 37
        }
      ]
    },
    {
      "cell_type": "code",
      "metadata": {
        "id": "zLGNcAoczFoD"
      },
      "source": [
        ""
      ],
      "execution_count": null,
      "outputs": []
    }
  ]
}